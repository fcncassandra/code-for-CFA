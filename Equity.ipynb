{
 "cells": [
  {
   "cell_type": "markdown",
   "metadata": {},
   "source": [
    "# Equity Portfolio Management"
   ]
  },
  {
   "cell_type": "markdown",
   "metadata": {},
   "source": [
    "[回到code-for-CFA首页](./README.md)  "
   ]
  },
  {
   "cell_type": "markdown",
   "metadata": {},
   "source": [
    "Equity先大概介绍下组合管理的概念，然后讲了如何被动和主动投资"
   ]
  },
  {
   "cell_type": "markdown",
   "metadata": {},
   "source": [
    "[R22 Overview of Equity Portfolio Management](#R22-Overview-of-Equity-Portfolio-Management)  \n",
    "[R23 Passive Equity Investing](#R23-Passive-Equity-Investing)  \n",
    "[R24 Active Equity Investing: Strategies](#R24-Active-Equity-Investing:-Strategies)  \n",
    "[R25 Active Equity Investing: Portfolio Construction](#R25-Active-Equity-Investing:-Portfolio-Construction)"
   ]
  },
  {
   "cell_type": "markdown",
   "metadata": {},
   "source": [
    "___"
   ]
  },
  {
   "cell_type": "markdown",
   "metadata": {},
   "source": [
    "## R22 Overview of Equity Portfolio Management"
   ]
  },
  {
   "cell_type": "markdown",
   "metadata": {},
   "source": [
    "Equity在组合中的好处：①capital appreciation，资本利得；②divdend；③diversification；④inflation hedge，抗通胀。  \n",
    "IPS的考量：①negative/exclusionary screening，负面筛选；②Positive/best-in-class，正面筛选；③Thematic，主题投资。"
   ]
  },
  {
   "cell_type": "markdown",
   "metadata": {},
   "source": [
    "### 22.1 Equity Segmentation"
   ]
  },
  {
   "cell_type": "markdown",
   "metadata": {},
   "source": [
    "有三种分类方式：①size、style；②geograph，地理；③economic activity。  \n",
    "分类的作用是能够编制细分的equity market indices（top-down 宏观-市场-个股），还能够理解企业的economic activity（属于某个行业）"
   ]
  },
  {
   "cell_type": "markdown",
   "metadata": {},
   "source": [
    "#### 22.1.1 Segmentation by size and style"
   ]
  },
  {
   "cell_type": "markdown",
   "metadata": {},
   "source": [
    "size按large、mid、small分；style按value、core、growth分  \n",
    "这种分法的好处是：① 考虑了收益和风险水平；②分散化不错；③construct relevent benchmarks，可以构建细分指数；④可以研究公司的特征随时间的变化，比如从小盘晋升为大盘。"
   ]
  },
  {
   "cell_type": "markdown",
   "metadata": {},
   "source": [
    "![](./pics/Equity/size_style_segmentation.png)"
   ]
  },
  {
   "cell_type": "markdown",
   "metadata": {},
   "source": [
    "#### 22.1.2 Segmentation by Geography"
   ]
  },
  {
   "cell_type": "markdown",
   "metadata": {},
   "source": [
    "好处是能够在国际市场上分散化，但是坏处是有汇率风险，并且**高估了分散化效果**（比如美国注册，但是业务在中国，还是和中国市场相关性比较高）"
   ]
  },
  {
   "cell_type": "markdown",
   "metadata": {},
   "source": [
    "#### 22.1.3 Segmentation by Economic Activity"
   ]
  },
  {
   "cell_type": "markdown",
   "metadata": {},
   "source": [
    "好处是能够分散化，也能编制细分sector/industries板块的指数  \n",
    "坏处是多元化的大公司not easily assigned to one specific sector（无法准确分类）"
   ]
  },
  {
   "cell_type": "markdown",
   "metadata": {},
   "source": [
    "好处是能够在国际市场上分散化，但是坏处是有汇率风险，并且**高估了分散化效果**（比如美国注册，但是业务在中国，还是和中国市场相关性比较高）"
   ]
  },
  {
   "cell_type": "markdown",
   "metadata": {},
   "source": [
    "### 22.2 Income/Costs in an Equity Portfolio"
   ]
  },
  {
   "cell_type": "markdown",
   "metadata": {},
   "source": [
    "股票的收入来自于：\n",
    "- ①dividend；\n",
    "- ②lending income（借人融券）；\n",
    "- ③dividend capture，发放股利后股价下跌 小于 股利发放部分的收益；\n",
    "- ④writing options，做covered call和cash-secured put;"
   ]
  },
  {
   "cell_type": "markdown",
   "metadata": {},
   "source": [
    "股票的成本来自于：\n",
    "- ①management fees;\n",
    "- ②incentive/performanc fees;\n",
    "- ③administration fees，包括custody fees（托管费）、depository fee（账户费，包括杠杆等）、registration fees（注册登记费）；\n",
    "- ④trading costs，交易成本，包括explicit cost（显性成本，如税收佣金）、implicit cost（隐形成本，大单交易对股价产生的影响）"
   ]
  },
  {
   "cell_type": "markdown",
   "metadata": {},
   "source": [
    "### 22.3 Shareholder Engagement"
   ]
  },
  {
   "cell_type": "markdown",
   "metadata": {},
   "source": [
    "股东直接参与经营，一般只有积极的大股东才会参与，小股东可以 free-riders（搭便车），但是也有不少缺点：\n",
    "- ①focus on short-term goal，只关注短期发展；\n",
    "- ②non-public material information，可能会获得重大非公开消息；\n",
    "- ③insider trading，有内部交易风险；\n",
    "- ④potential conflicts of interest，大小股东利益冲突。"
   ]
  },
  {
   "cell_type": "markdown",
   "metadata": {},
   "source": [
    "股东参与有两种方式：①activist investing，先不投票，积极投资提出发展方案；②voting，不行再去投票。"
   ]
  },
  {
   "cell_type": "markdown",
   "metadata": {},
   "source": [
    "### 22.4 Active/Passive Management"
   ]
  },
  {
   "cell_type": "markdown",
   "metadata": {},
   "source": [
    "消极投资是跟踪指数，主动投资是获取α  \n",
    "主动投资的原因是：①confidence，对自己能力自信；②client preference / mandates from client，客户要求。  \n",
    "消极投资的原因是：①IPS限制不要和指数偏差不要太多；②防止reputation和key-person risk；③tax，交易少省税收。"
   ]
  },
  {
   "cell_type": "markdown",
   "metadata": {},
   "source": [
    "[回到Equity首页](#Equity-Portfolio-Management)  "
   ]
  },
  {
   "cell_type": "markdown",
   "metadata": {},
   "source": [
    "___"
   ]
  },
  {
   "cell_type": "markdown",
   "metadata": {},
   "source": [
    "## R23 Passive Equity Investing"
   ]
  },
  {
   "cell_type": "markdown",
   "metadata": {},
   "source": [
    "第一步：指数要求；  \n",
    "第二步：构建指数，这里用的风险因子的构建方法；  \n",
    "第三步：如何基于指数做被动投资；  \n",
    "第四步：投资工具注意。  \n",
    "\n",
    "但是最后还介绍了传统的被动投资方法。"
   ]
  },
  {
   "cell_type": "markdown",
   "metadata": {},
   "source": [
    "### 23.1 Indexes"
   ]
  },
  {
   "cell_type": "markdown",
   "metadata": {},
   "source": [
    "指数要有三个条件：  \n",
    "- ①rule-based，要有清晰的规则；\n",
    "- ②transparent，成分股权重要公开透明；\n",
    "- ③investable，成分股可投资"
   ]
  },
  {
   "cell_type": "markdown",
   "metadata": {},
   "source": [
    "关于可投资有注意buffering的指数是指隔了一个范围，比如500亿-1000亿能进指数  \n",
    "而Packeting困可能介于两个标准间的两个都放  \n",
    "所以在index rebalance的时候，buffering可能会大于也可能小于原始的股票个数，而packing因为新满足标准的也放进去，所以会大于原来的股票数"
   ]
  },
  {
   "cell_type": "markdown",
   "metadata": {},
   "source": [
    "### 23.2 Index Construction"
   ]
  },
  {
   "cell_type": "markdown",
   "metadata": {},
   "source": [
    "指数构建先确定板块，再选股，然后给权重，接着跟踪调整，还有一些注意事项"
   ]
  },
  {
   "cell_type": "markdown",
   "metadata": {},
   "source": [
    "#### 23.2.1 Detemine Market Exposure"
   ]
  },
  {
   "cell_type": "markdown",
   "metadata": {},
   "source": [
    "先根据IPS来确定板块：\n",
    "- ①market segment，属于国际市场中哪种市场，比如新兴市场；\n",
    "- ②capitalization，size factor规模因子；\n",
    "- ③growth vs value，style factor风格因子；\n",
    "- ④other risk factors，如momentum、liquidity等。"
   ]
  },
  {
   "cell_type": "markdown",
   "metadata": {},
   "source": [
    "#### 23.2.2 Stock Inclusion Method"
   ]
  },
  {
   "cell_type": "markdown",
   "metadata": {},
   "source": [
    "选股两种方法：exhaustive（穷尽法，一般不用）；selective，有选择的，比如就要S&P500的。"
   ]
  },
  {
   "cell_type": "markdown",
   "metadata": {},
   "source": [
    "#### 23.2.3 Weighting"
   ]
  },
  {
   "cell_type": "markdown",
   "metadata": {},
   "source": [
    "给权重的集几种式：\n",
    "- ☆①market-cap weighting，根据市值来决定，这是最合理的，也可以进一步用liquidity-weighted（流动性选股，大盘股流动性更好），进一步的有free-float weighting（排除限售股）；\n",
    "- ②price weighting，股票价格加权，会受到小盘股的影响，DJIA（道琼斯工业指数）是这样的；\n",
    "- ③equal weighting，全部一样，不能体现大盘股的波动，虽然分散化了但是要经常rebalance；\n",
    "- ④fundamental weighting，基本面指标，如EPS等。"
   ]
  },
  {
   "cell_type": "markdown",
   "metadata": {},
   "source": [
    "其他注意点：\n",
    "- ①tax-exempt，equal 会比 market-cap加权的税收少，因为大盘股盘子大，股票不好涨，所得税就少；\n",
    "- ②cap和fundamental的有成本低、rule-based、透明和可投资性的共同特点，但是cap基于[EMH](./CME.ipynb/#-7.7-EMH（Effecient-Market-Hypothesis）)会更好，而fundamental是想发掘市场价格的无效性来赚取收益"
   ]
  },
  {
   "cell_type": "markdown",
   "metadata": {},
   "source": [
    "#### 23.2.4 Rebalancing and Reconsititution"
   ]
  },
  {
   "cell_type": "markdown",
   "metadata": {},
   "source": [
    "rebalancing：reweighting调权重，股票不变  \n",
    "reconstitution：addition/deletion会调成分股"
   ]
  },
  {
   "cell_type": "markdown",
   "metadata": {},
   "source": [
    "会有一定的turnover和transaction cost  \n",
    "一般投资于成熟市场、大盘股指数的周转会更低"
   ]
  },
  {
   "cell_type": "markdown",
   "metadata": {},
   "source": [
    "#### 23.2.5 Attention：Concentration"
   ]
  },
  {
   "cell_type": "markdown",
   "metadata": {},
   "source": [
    "组合的集中度问题，可以用HHI来计算，如果组合集中度太高不满足被动投资的要求"
   ]
  },
  {
   "cell_type": "markdown",
   "metadata": {},
   "source": [
    "Effective number of stocks = 1 / HHI = $\\frac{1}{\\sum_{i=1}^n\\omega_i^2}$，这个值越大证明分散性越好"
   ]
  },
  {
   "cell_type": "markdown",
   "metadata": {},
   "source": [
    "### 23.3 Passive Factor-Based Strategies"
   ]
  },
  {
   "cell_type": "markdown",
   "metadata": {},
   "source": [
    "基于指数的投资可以分为：①stock-based；②factor-based（smart beta）。"
   ]
  },
  {
   "cell_type": "markdown",
   "metadata": {},
   "source": [
    "先找到和股价相关的因子，然后有侧重点的投资，下面有三种方法：\n",
    "- ①return-oriented，关注收益，侧重value（dividend）、momentum（股价），使用fundamentally weighted策略；\n",
    "- ②risk-oriented，关注风险，侧重volatility，要最小化方差投资；\n",
    "- ③diversification-oriented，关注分散化，可用equally-weighted策略。"
   ]
  },
  {
   "cell_type": "markdown",
   "metadata": {},
   "source": [
    "使用factor-based的优点有：①less costly，成本低，股票买不到可以买factor类似的；②investor'view，投资者可以对facotr投资有侧重，以此来表达市场的观点；  \n",
    "缺点有：①concentrate risk exposure，风险敞口集中；②increase tracking error，有跟踪误差；③higher management fee、trading commisions，有主动投资的工作在，交易成本会更高。"
   ]
  },
  {
   "cell_type": "markdown",
   "metadata": {},
   "source": [
    "![](./pics/Equity/factor_based.png)"
   ]
  },
  {
   "cell_type": "markdown",
   "metadata": {},
   "source": [
    "### 23.4 Tools to Passive Equity Investing"
   ]
  },
  {
   "cell_type": "markdown",
   "metadata": {},
   "source": [
    "不能直接投资index的情况下有这些金融工具可以：①pooled investments；②derivatives-based strategies；③separately-managed index-based portfolio（专户）。"
   ]
  },
  {
   "cell_type": "markdown",
   "metadata": {},
   "source": [
    "#### 23.4.1 Pooled Investments"
   ]
  },
  {
   "cell_type": "markdown",
   "metadata": {},
   "source": [
    "open-end mutual funds（开放式基金） and exchange traded funds(ETF)"
   ]
  },
  {
   "cell_type": "markdown",
   "metadata": {},
   "source": [
    "开放式基金的交易成本低；ETF节约了subscription（申购）和redemption（赎回）的成本，不申购而直接从二级市场买卖可能因为流动性较差而产生较高的交易成本。  "
   ]
  },
  {
   "cell_type": "markdown",
   "metadata": {},
   "source": [
    "#### 23.4.2 Derivatives Base Strategies"
   ]
  },
  {
   "cell_type": "markdown",
   "metadata": {},
   "source": [
    "用衍生品来投资，其头寸称为overlay：\n",
    "- ①completion overlay，完全匹配指数；\n",
    "- ②rebalancing overlay，组合已经配置好，但是因为index调整成分股，所以买一点微调；\n",
    "- ③currency overlay，货币去overlay。"
   ]
  },
  {
   "cell_type": "markdown",
   "metadata": {},
   "source": [
    "优点：①效率高、便宜；②流动性好；③容易加杠杆。\n",
    "缺点：\n",
    "- ①rolled over，衍生品到期要调仓；\n",
    "- ②position limit，因为有杠杆，头寸可能受到IPS的限制；\n",
    "- ③不是每个股票都有期货；\n",
    "- ④OTC 有counterparty risk（对手方风险）；\n",
    "- ⑤basis risk，基差风险，期货现货不一定一致"
   ]
  },
  {
   "cell_type": "markdown",
   "metadata": {},
   "source": [
    "#### 23.4.3 Separately Managed Equity Index-based Portfolios"
   ]
  },
  {
   "cell_type": "markdown",
   "metadata": {},
   "source": [
    "专户投资，需要regularly updated，并且最好用program trading"
   ]
  },
  {
   "cell_type": "markdown",
   "metadata": {},
   "source": [
    "### 23.5 Portfolio Construction"
   ]
  },
  {
   "cell_type": "markdown",
   "metadata": {},
   "source": [
    "真正传统的复制指数方法：①full replication，完全复制；②stratified，分层抽样；③optimization，有点像factor-based；④blended approach，前三种混合。"
   ]
  },
  {
   "cell_type": "markdown",
   "metadata": {},
   "source": [
    "#### 23.5.1 Full Replication "
   ]
  },
  {
   "cell_type": "markdown",
   "metadata": {},
   "source": [
    "完全复制法"
   ]
  },
  {
   "cell_type": "markdown",
   "metadata": {},
   "source": [
    "好处是closely matches the index return，和指数匹配度高  \n",
    "坏处是：①因为有的股票流动性差costly，所以不可能100%一样；②regularly reconstitute/rebalance，频繁调整，成本也高，tracking error也因此上升。"
   ]
  },
  {
   "cell_type": "markdown",
   "metadata": {},
   "source": [
    "#### 23.5.2 Stratified Sampling"
   ]
  },
  {
   "cell_type": "markdown",
   "metadata": {},
   "source": [
    "分层抽样法，FM creates strata（如何分层很难），需要mutually exclusive（互斥）并且exhaustive（穷尽）  "
   ]
  },
  {
   "cell_type": "markdown",
   "metadata": {},
   "source": [
    "优点是：①相对复制，所以交易成本低；②直观，技术不是很复杂。  \n",
    "缺点是：①FM有主观判断的成分；②交易成本相对index高，也有tracking error。"
   ]
  },
  {
   "cell_type": "markdown",
   "metadata": {},
   "source": [
    "#### 23.5.3 Optimization"
   ]
  },
  {
   "cell_type": "markdown",
   "metadata": {},
   "source": [
    "这种方法很像factor-based"
   ]
  },
  {
   "cell_type": "markdown",
   "metadata": {},
   "source": [
    "$R_b = b_0 + b_1F_1 + b_2F_2 +  + b_kF_k + \\epsilon$"
   ]
  },
  {
   "cell_type": "markdown",
   "metadata": {},
   "source": [
    "从指数找到几个因子，然后回归，得到系数；然后根据因子的系数调整自己的组合，**让组合和指数的因子的系数完全一样**，成分股不一样也没事。  "
   ]
  },
  {
   "cell_type": "markdown",
   "metadata": {},
   "source": [
    "优点是：①量化，所以更加精确，tracking error更低；②account for covariance，利用了回归考虑了不同股票的相关性。  \n",
    "缺点是：①历史的相关性未来可能改变；②数据更新成本高；③可能不在有效前沿上，inefficient mean-variance。"
   ]
  },
  {
   "cell_type": "markdown",
   "metadata": {},
   "source": [
    "#### 23.5.4 Blended Approach"
   ]
  },
  {
   "cell_type": "markdown",
   "metadata": {},
   "source": [
    "**完全复制对股票少、流动性好的指数很适用**  \n",
    "**分层抽样和最优化对股票差异性大、流动性差的指数很适用**  \n",
    "所以这里可以混合"
   ]
  },
  {
   "cell_type": "markdown",
   "metadata": {},
   "source": [
    "### 23.6 Tracking Error"
   ]
  },
  {
   "cell_type": "markdown",
   "metadata": {},
   "source": [
    "**tracking error的产生**：①fees、trading costs；②cash drag（组合可能有多余现金，index一定没有）；②intra-day，日内交易，有一小段头寸可能不一样。"
   ]
  },
  {
   "cell_type": "markdown",
   "metadata": {},
   "source": [
    "完全复制时tracking error一定最低，但是现实中要权衡，注意下面3个因素来控制tracking error：  \n",
    "①trading costs；②netting cash inflow and redemption，申购和赎回的资金对冲；③derivatives to compensate for cash drag，用衍生品来补偿cash drag。"
   ]
  },
  {
   "cell_type": "markdown",
   "metadata": {},
   "source": [
    "### 23.7 Sources of Return and Risk"
   ]
  },
  {
   "cell_type": "markdown",
   "metadata": {},
   "source": [
    "- ①Attribution（归因分析）：后面trading performance会具体介绍，选股和择时\n",
    "- ②security lending：被动投资时股票是闲置的，可以借出去；\n",
    "- ③investor activism and engagement，股东参与经营，提升股价，从而提升index。"
   ]
  },
  {
   "cell_type": "markdown",
   "metadata": {},
   "source": [
    "[回到Equity首页](#Equity-Portfolio-Management)  "
   ]
  },
  {
   "cell_type": "markdown",
   "metadata": {},
   "source": [
    "___"
   ]
  },
  {
   "cell_type": "markdown",
   "metadata": {},
   "source": [
    "## R24 Active Equity Investing: Strategies"
   ]
  },
  {
   "cell_type": "markdown",
   "metadata": {},
   "source": [
    "### 24.1 Fundamental and Quantitative Approaches"
   ]
  },
  {
   "cell_type": "markdown",
   "metadata": {},
   "source": [
    "基本面分析和量化分析是两种常见的流派"
   ]
  },
  {
   "cell_type": "markdown",
   "metadata": {},
   "source": [
    "#### 24.1.1 Fundamental Approach"
   ]
  },
  {
   "cell_type": "markdown",
   "metadata": {},
   "source": [
    "基本面分析方法更加的subjective（主观），依赖discretion和judgment不同人做结论可能不同，基本流程是：\n",
    "- ①define market opportunity，确认市场的投资机会；\n",
    "- ②obtain a set of securities，初步筛选一些股票；\n",
    "- ③Understand the industry and business，了解行业和业务；\n",
    "- ④Forecast company performance，预测未来表现；\n",
    "- ⑤Convert forecasts to valuations，然后估值，其中最容易犯look-ahead bias的错误（财报数据滞后）；\n",
    "- ⑥Construct a portfolio with the desired risk profile，再去按风险要求构建组合；\n",
    "- ⑦Construct a portfolio with the desired risk profile，跟踪并调整。"
   ]
  },
  {
   "cell_type": "markdown",
   "metadata": {},
   "source": [
    "#### 24.1.2 Quantitative Approach"
   ]
  },
  {
   "cell_type": "markdown",
   "metadata": {},
   "source": [
    "量化分析更加的objective（客观），依赖model去产生systematic rule（系统规则）去选股，基本流程是：\n",
    "- ①Define the market opportunity，确认市场投资机会；\n",
    "- ②Acquire and process data，获取处理数据；\n",
    "- ③Back-test the strategy，回测；\n",
    "- ④Evaluate the strategy，评估策略结果；\n",
    "- ⑤Construct the portfolio，构建市场组合。"
   ]
  },
  {
   "cell_type": "markdown",
   "metadata": {},
   "source": [
    "每个步骤细分来看：  \n",
    "①确认市场投资机会  \n",
    "利用factor去构建预测模型；  \n",
    "\n",
    "②获取处理数据  \n",
    "数据源可以有company mapping（数据公司的）、company fundamentals（基本面的）、survay（报告数据）；  \n",
    "\n",
    "③回测  \n",
    "用的是information coefficient（IC），IC体现了因子和下一期收益率的相关性越接近1越好，一般用spearman rank；  \n",
    "\n",
    "④评估策略结果  \n",
    "用out-of-sample testing；  \n",
    "\n",
    "⑤构建组合  \n",
    "要maximize α或者IR（Information Ratio） \n",
    "构建组合时也要考虑控制风险（用risk model中variance-covariance）和交易成本  \n",
    "\n",
    "⑥**automatically rebalances**，量化方法是自动调整的，只要设定好predetermined invtervals就好"
   ]
  },
  {
   "cell_type": "markdown",
   "metadata": {},
   "source": [
    "#### 24.1.3 Comparison"
   ]
  },
  {
   "cell_type": "markdown",
   "metadata": {},
   "source": [
    "注意基本面的风险是单个公司的，而量化的风险是整个组合的"
   ]
  },
  {
   "cell_type": "markdown",
   "metadata": {},
   "source": [
    "![](./pics/Equity/active_approach_comparison.png)"
   ]
  },
  {
   "cell_type": "markdown",
   "metadata": {},
   "source": [
    "#### 24.1.4 Pitfalls（Bias） in Investing"
   ]
  },
  {
   "cell_type": "markdown",
   "metadata": {},
   "source": [
    "基本面分析法存在的问题：  \n",
    "**Behavioral Bias**：Confirmation bias, the illusion of control, availability bias, loss aversion\n",
    "**Trap**：value trap和growth trap，估值指标和真实情况有偏差，比如成长股的P/E可能是人为炒高的，而价值股下跌时其实很值得投资P/E不应当那么低"
   ]
  },
  {
   "cell_type": "markdown",
   "metadata": {},
   "source": [
    "量化分析法存在的问题：\n",
    "- ①survivorship bias，只要用历史数据就会有幸存者偏差；\n",
    "- ②look-ahead bias，建模数据偏差；\n",
    "- ③data-mining/overfitting，过拟合；\n",
    "- ④constraints on turnover，真实世界有一些限制条件可能未考虑，如交易次数；\n",
    "- ⑤Lack of availability of stock to borrow，做空可能也比较困难；\n",
    "- ⑥Transaction costs，交易成本，在回测的时候看不出来，实际会很快erode（侵蚀）收益；\n",
    "- ⑦Quant overcrowding，可能很多FM在用相同的策略。"
   ]
  },
  {
   "cell_type": "markdown",
   "metadata": {},
   "source": [
    "### 24.2 Acitve Strategies"
   ]
  },
  {
   "cell_type": "markdown",
   "metadata": {},
   "source": [
    "策略分为5大类，主要是前面的bottom-up（研究个股）和top-down（宏观经济），基本面和量化都可以用这两个策略，也可以Blend混着来用"
   ]
  },
  {
   "cell_type": "markdown",
   "metadata": {},
   "source": [
    "![](./pics/Equity/active_strategies.png)"
   ]
  },
  {
   "cell_type": "markdown",
   "metadata": {},
   "source": [
    "#### 24.2.1 Bottom-up Strategies"
   ]
  },
  {
   "cell_type": "markdown",
   "metadata": {},
   "source": [
    "量化分析师会用定量的指标进行分析，而**基本面分析师既会用定量又会用定性指标**  \n",
    "主要由两种思路：value-based（估值水平合理），growth-based（未来业绩增速）"
   ]
  },
  {
   "cell_type": "markdown",
   "metadata": {},
   "source": [
    "##### 24.2.1.1 Value-based approaches"
   ]
  },
  {
   "cell_type": "markdown",
   "metadata": {},
   "source": [
    "- ①relative value，相对估值法，投资远低于行业平均水平估值的公司；\n",
    "- ②Contrarian investing，和市场prevailing（盛行）情绪反向投资；\n",
    "- ③Income investing，投资高股利和高股利增长率的股票（前提是股价稳定）；\n",
    "- ④High-quality value，全方位分析，Warren Buffet approach，中小投资者无法效仿；\n",
    "- ⑤Deep-value investing，财务差估值严重低估的公司，往往在金融危机时；\n",
    "- ⑥Restructuring and distressed debt investing，在破产重组之前投资；\n",
    "- ⑦Special situations，特殊事件的，如divestures（剥离）, spin-offs（分拆）, mergers（合并。）\n"
   ]
  },
  {
   "cell_type": "markdown",
   "metadata": {},
   "source": [
    "##### 24.2.1.2 Growth-based approaches"
   ]
  },
  {
   "cell_type": "markdown",
   "metadata": {},
   "source": [
    "其实不是很在乎高P/E，而是在乎source and persistence of the growth rates（增长的来源和可持续性）  "
   ]
  },
  {
   "cell_type": "markdown",
   "metadata": {},
   "source": [
    "长期看：Consistent long-term growth  \n",
    "短期看：Shorter-term earnings momentum  \n",
    "综合看：GARP (growth at a reasonable price)，一般采用PEG（P/E / g，这个值越小越好）"
   ]
  },
  {
   "cell_type": "markdown",
   "metadata": {},
   "source": [
    "![](./pics/Equity/bottom_up_case1_1.png)\n",
    "![](./pics/Equity/bottom_up_case1_2.png)"
   ]
  },
  {
   "cell_type": "markdown",
   "metadata": {},
   "source": [
    "#### 24.2.2 Top-Down Strategies"
   ]
  },
  {
   "cell_type": "markdown",
   "metadata": {},
   "source": [
    "FM可以用全球市场的ETF和衍生品来配置他们认为最好市场的资产    \n",
    "有四个主要的top-down方法：①country/geograph；②industry sector；③volatility；④thematic invsetment（找好主题），"
   ]
  },
  {
   "cell_type": "markdown",
   "metadata": {},
   "source": [
    "#### 24.2.3 Factor-Based Strategies"
   ]
  },
  {
   "cell_type": "markdown",
   "metadata": {},
   "source": [
    "使用因子和资产收益进行回归  \n",
    "因子和收益的关系主要分为两类：①rewarded factors，长期有关系的；②unrewarded factors，只是短期有关系，长期没法获得超额收益。"
   ]
  },
  {
   "cell_type": "markdown",
   "metadata": {},
   "source": [
    "和被动投资的[optimization](#23.5.3-Optimization)流程一样，只是组合对因子的系数要和指数的系数不同（对reward要调高），才能超过benchmark"
   ]
  },
  {
   "cell_type": "markdown",
   "metadata": {},
   "source": [
    "##### 24.2.3.1 Hedged Portfolio approach（Fama French）"
   ]
  },
  {
   "cell_type": "markdown",
   "metadata": {},
   "source": [
    "考虑了size和value的特性，构建因子的股票是排序后取前10%和后10%：  \n",
    "$R = RF + \\beta_i^{MKT} \\times (R_{mkt} - R_F) + \\beta_i^{size} \\times (R_{small} - R_{big}) + \\beta_i^{value} \\times (R_{HBM} - R_{LBM})$"
   ]
  },
  {
   "cell_type": "markdown",
   "metadata": {},
   "source": [
    "有以下问题：\n",
    "- ①middle quantiles is lost，中间部分被忽略；\n",
    "- ②nonlinear relationship not be captured，非线性不会被捕捉；\n",
    "- ③appear diversified，组合被充分分散（因子集中但组合被分散）；\n",
    "- ④Assume no short limitations，假设没有做空限制；\n",
    "- ⑤not a “pure” factor portfolio，factor之间可能不独立。"
   ]
  },
  {
   "cell_type": "markdown",
   "metadata": {},
   "source": [
    "##### 24.2.3.2 Factor Tilting Portfolio"
   ]
  },
  {
   "cell_type": "markdown",
   "metadata": {},
   "source": [
    " long-only portfolio，只做多，只关注个别因素，交易更加简单"
   ]
  },
  {
   "cell_type": "markdown",
   "metadata": {},
   "source": [
    "##### 24.2.3.3 Factor-mimicking Portfolio"
   ]
  },
  {
   "cell_type": "markdown",
   "metadata": {},
   "source": [
    "FMP，纯factor的组合，dollar neutral，仅对选择的因子才有敞口，对其他因子都没有，理论上才存在"
   ]
  },
  {
   "cell_type": "markdown",
   "metadata": {},
   "source": [
    "##### 24.2.3.4 Factor Timing"
   ]
  },
  {
   "cell_type": "markdown",
   "metadata": {},
   "source": [
    "在不同市场环境下可能要用不同的factor，equity style rotation是指不同factor轮动，用factor来择时"
   ]
  },
  {
   "cell_type": "markdown",
   "metadata": {},
   "source": [
    "#### 24.2.4 Acitvist Strategies"
   ]
  },
  {
   "cell_type": "markdown",
   "metadata": {},
   "source": [
    "等同于[Shareholder Engagement](#22.3-Shareholder-Engagement)"
   ]
  },
  {
   "cell_type": "markdown",
   "metadata": {},
   "source": [
    "#### 24.2.5 Other Strategies"
   ]
  },
  {
   "cell_type": "markdown",
   "metadata": {},
   "source": [
    "##### 24.2.5.1 Statistical Arbitrage"
   ]
  },
  {
   "cell_type": "markdown",
   "metadata": {},
   "source": [
    "统计数据套利，基于mean reversion，有两种方法：  \n",
    "- ①Market microstructure-based arbitrage strategies，发现市场微观供需不匹配时的高频交易；\n",
    "- ②Pairs trading。"
   ]
  },
  {
   "cell_type": "markdown",
   "metadata": {},
   "source": [
    "##### 24.2.5.2 Event-driven strategies"
   ]
  },
  {
   "cell_type": "markdown",
   "metadata": {},
   "source": [
    "事件驱动"
   ]
  },
  {
   "cell_type": "markdown",
   "metadata": {},
   "source": [
    "### 24.3 Style Classifications"
   ]
  },
  {
   "cell_type": "markdown",
   "metadata": {},
   "source": [
    "风格分类，有holding-based（看持仓）和return-based（看收益）两种形式，还有FM自己看"
   ]
  },
  {
   "cell_type": "markdown",
   "metadata": {},
   "source": [
    "[1] Hoding-based approach\n",
    "size按large、mid、small分；style按value、blend、growth分构建9宫格，然后看权重  \n",
    "每家机构的策略不同，其中Morningstar and Thomson Reuters Lipper要求1只股票必须仅能在1个风格里面，而MSCI and FTSE Russell可以让1个股票在2个风格里面都能找到\n",
    "优点是更加准确、能够快速捕捉风格；缺点是数据要求很高，并且对有衍生品的组合失效\n",
    "\n",
    "[2] Return-based approach：让收益和风格指数做回归，看相关性\n",
    "优点是信息获取少、用的人比较多；缺点是可能无法识别当年的style（回归的系数结果受到过去很多数据的影响），对激进的头寸可能不好识别\n",
    "\n",
    "[3] Manager self-indentification：FM自己说"
   ]
  },
  {
   "cell_type": "markdown",
   "metadata": {},
   "source": [
    "[回到Equity首页](#Equity-Portfolio-Management)  "
   ]
  },
  {
   "cell_type": "markdown",
   "metadata": {},
   "source": [
    "___"
   ]
  },
  {
   "cell_type": "markdown",
   "metadata": {},
   "source": [
    "## R25 Active Equity Investing: Portfolio Construction"
   ]
  },
  {
   "cell_type": "markdown",
   "metadata": {},
   "source": [
    "[回到Equity首页](#Equity-Portfolio-Management)  "
   ]
  },
  {
   "cell_type": "markdown",
   "metadata": {},
   "source": [
    "___"
   ]
  },
  {
   "cell_type": "code",
   "execution_count": null,
   "metadata": {},
   "outputs": [],
   "source": []
  }
 ],
 "metadata": {
  "kernelspec": {
   "display_name": "Python 3",
   "language": "python",
   "name": "python3"
  },
  "language_info": {
   "codemirror_mode": {
    "name": "ipython",
    "version": 3
   },
   "file_extension": ".py",
   "mimetype": "text/x-python",
   "name": "python",
   "nbconvert_exporter": "python",
   "pygments_lexer": "ipython3",
   "version": "3.7.3"
  }
 },
 "nbformat": 4,
 "nbformat_minor": 4
}
