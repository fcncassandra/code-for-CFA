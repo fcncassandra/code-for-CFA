{
 "cells": [
  {
   "cell_type": "markdown",
   "metadata": {},
   "source": [
    "# Equity Portfolio Management"
   ]
  },
  {
   "cell_type": "markdown",
   "metadata": {},
   "source": [
    "[回到code-for-CFA首页](./README.md)  "
   ]
  },
  {
   "cell_type": "markdown",
   "metadata": {},
   "source": [
    "Equity先大概介绍下组合管理的概念，然后讲了如何被动和主动投资"
   ]
  },
  {
   "cell_type": "markdown",
   "metadata": {},
   "source": [
    "[R22 Overview of Equity Portfolio Management](#R22-Overview-of-Equity-Portfolio-Management)  \n",
    "[R23 Passive Equity Investing](#R23-Passive-Equity-Investing)  \n",
    "[R24 Active Equity Investing: Strategies](#R24-Active-Equity-Investing:-Strategies)  \n",
    "[R25 Active Equity Investing: Portfolio Construction](#R25-Active-Equity-Investing:-Portfolio-Construction)"
   ]
  },
  {
   "cell_type": "markdown",
   "metadata": {},
   "source": [
    "___"
   ]
  },
  {
   "cell_type": "markdown",
   "metadata": {},
   "source": [
    "## R22 Overview of Equity Portfolio Management"
   ]
  },
  {
   "cell_type": "markdown",
   "metadata": {},
   "source": [
    "Equity在组合中的好处：①capital appreciation，资本利得；②divdend；③diversification；④inflation hedge，抗通胀。  \n",
    "IPS的考量：①negative/exclusionary screening，负面筛选；②Positive/best-in-class，正面筛选；③Thematic，主题投资。"
   ]
  },
  {
   "cell_type": "markdown",
   "metadata": {},
   "source": [
    "### 22.1 Equity Segmentation"
   ]
  },
  {
   "cell_type": "markdown",
   "metadata": {},
   "source": [
    "有三种分类方式：①size、style；②geograph，地理；③economic activity。  \n",
    "分类的作用是能够编制细分的equity market indices（top-down 宏观-市场-个股），还能够理解企业的economic activity（属于某个行业）"
   ]
  },
  {
   "cell_type": "markdown",
   "metadata": {},
   "source": [
    "#### 22.1.1 Segmentation by size and style"
   ]
  },
  {
   "cell_type": "markdown",
   "metadata": {},
   "source": [
    "size按large、mid、small分；style按value、core、growth分  \n",
    "这种分法的好处是：① 考虑了收益和风险水平；②分散化不错；③construct relevent benchmarks，可以构建细分指数；④可以研究公司的特征随时间的变化，比如从小盘晋升为大盘。"
   ]
  },
  {
   "cell_type": "markdown",
   "metadata": {},
   "source": [
    "![](./pics/Equity/size_style_segmentation.png)"
   ]
  },
  {
   "cell_type": "markdown",
   "metadata": {},
   "source": [
    "#### 22.1.2 Segmentation by Geography"
   ]
  },
  {
   "cell_type": "markdown",
   "metadata": {},
   "source": [
    "好处是能够在国际市场上分散化，但是坏处是有汇率风险，并且**高估了分散化效果**（比如美国注册，但是业务在中国，还是和中国市场相关性比较高）"
   ]
  },
  {
   "cell_type": "markdown",
   "metadata": {},
   "source": [
    "#### 22.1.3 Segmentation by Economic Activity"
   ]
  },
  {
   "cell_type": "markdown",
   "metadata": {},
   "source": [
    "好处是能够分散化，也能编制细分sector/industries板块的指数  \n",
    "坏处是多元化的大公司not easily assigned to one specific sector（无法准确分类）"
   ]
  },
  {
   "cell_type": "markdown",
   "metadata": {},
   "source": [
    "好处是能够在国际市场上分散化，但是坏处是有汇率风险，并且**高估了分散化效果**（比如美国注册，但是业务在中国，还是和中国市场相关性比较高）"
   ]
  },
  {
   "cell_type": "markdown",
   "metadata": {},
   "source": [
    "### 22.2 Income/Costs in an Equity Portfolio"
   ]
  },
  {
   "cell_type": "markdown",
   "metadata": {},
   "source": [
    "股票的收入来自于：\n",
    "- ①dividend；\n",
    "- ②lending income（借人融券）；\n",
    "- ③dividend capture，发放股利后股价下跌 小于 股利发放部分的收益；\n",
    "- ④writing options，做covered call和cash-secured put;"
   ]
  },
  {
   "cell_type": "markdown",
   "metadata": {},
   "source": [
    "股票的成本来自于：\n",
    "- ①management fees;\n",
    "- ②incentive/performanc fees;\n",
    "- ③administration fees，包括custody fees（托管费）、depository fee（账户费，包括杠杆等）、registration fees（注册登记费）；\n",
    "- ④trading costs，交易成本，包括explicit cost（显性成本，如税收佣金）、implicit cost（隐形成本，大单交易对股价产生的影响）"
   ]
  },
  {
   "cell_type": "markdown",
   "metadata": {},
   "source": [
    "### 22.3 Shareholder Engagement"
   ]
  },
  {
   "cell_type": "markdown",
   "metadata": {},
   "source": [
    "股东直接参与经营，一般只有积极的大股东才会参与，小股东可以 free-riders（搭便车），但是也有不少缺点：\n",
    "- ①focus on short-term goal，只关注短期发展；\n",
    "- ②non-public material information，可能会获得重大非公开消息；\n",
    "- ③insider trading，有内部交易风险；\n",
    "- ④potential conflicts of interest，大小股东利益冲突。"
   ]
  },
  {
   "cell_type": "markdown",
   "metadata": {},
   "source": [
    "股东参与有两种方式：①activist investing，先不投票，积极投资提出发展方案；②voting，不行再去投票。"
   ]
  },
  {
   "cell_type": "markdown",
   "metadata": {},
   "source": [
    "### 22.4 Active/Passive Management"
   ]
  },
  {
   "cell_type": "markdown",
   "metadata": {},
   "source": [
    "消极投资是跟踪指数，主动投资是获取α  \n",
    "主动投资的原因是：①confidence，对自己能力自信；②client preference / mandates from client，客户要求。  \n",
    "消极投资的原因是：①IPS限制不要和指数偏差不要太多；②防止reputation和key-person risk；③tax，交易少省税收。"
   ]
  },
  {
   "cell_type": "markdown",
   "metadata": {},
   "source": [
    "[回到Equity首页](#Equity-Portfolio-Management)  "
   ]
  },
  {
   "cell_type": "markdown",
   "metadata": {},
   "source": [
    "___"
   ]
  },
  {
   "cell_type": "markdown",
   "metadata": {},
   "source": [
    "## R23 Passive Equity Investing"
   ]
  },
  {
   "cell_type": "markdown",
   "metadata": {},
   "source": [
    "第一步：指数要求；  \n",
    "第二步：构建指数，这里用的风险因子的构建方法；  \n",
    "第三步：如何基于指数做被动投资；  \n",
    "第四步：投资工具注意。  \n",
    "\n",
    "但是最后还介绍了传统的被动投资方法。"
   ]
  },
  {
   "cell_type": "markdown",
   "metadata": {},
   "source": [
    "### 23.1 Indexes"
   ]
  },
  {
   "cell_type": "markdown",
   "metadata": {},
   "source": [
    "指数要有三个条件：  \n",
    "- ①rule-based，要有清晰的规则；\n",
    "- ②transparent，成分股权重要公开透明；\n",
    "- ③investable，成分股可投资"
   ]
  },
  {
   "cell_type": "markdown",
   "metadata": {},
   "source": [
    "关于可投资有注意buffering的指数是指隔了一个范围，比如500亿-1000亿能进指数  \n",
    "而Packeting困可能介于两个标准间的两个都放  \n",
    "所以在index rebalance的时候，buffering可能会大于也可能小于原始的股票个数，而packing因为新满足标准的也放进去，所以会大于原来的股票数"
   ]
  },
  {
   "cell_type": "markdown",
   "metadata": {},
   "source": [
    "### 23.2 Index Construction"
   ]
  },
  {
   "cell_type": "markdown",
   "metadata": {},
   "source": [
    "指数构建先确定板块，再选股，然后给权重，接着跟踪调整，还有一些注意事项"
   ]
  },
  {
   "cell_type": "markdown",
   "metadata": {},
   "source": [
    "#### 23.2.1 Detemine Market Exposure"
   ]
  },
  {
   "cell_type": "markdown",
   "metadata": {},
   "source": [
    "先根据IPS来确定板块：\n",
    "- ①market segment，属于国际市场中哪种市场，比如新兴市场；\n",
    "- ②capitalization，size factor规模因子；\n",
    "- ③growth vs value，style factor风格因子；\n",
    "- ④other risk factors，如momentum、liquidity等。"
   ]
  },
  {
   "cell_type": "markdown",
   "metadata": {},
   "source": [
    "#### 23.2.2 Stock Inclusion Method"
   ]
  },
  {
   "cell_type": "markdown",
   "metadata": {},
   "source": [
    "选股两种方法：exhaustive（穷尽法，一般不用）；selective，有选择的，比如就要S&P500的。"
   ]
  },
  {
   "cell_type": "markdown",
   "metadata": {},
   "source": [
    "#### 23.2.3 Weighting"
   ]
  },
  {
   "cell_type": "markdown",
   "metadata": {},
   "source": [
    "给权重的集几种式：\n",
    "- ☆①market-cap weighting，根据市值来决定，这是最合理的，也可以进一步用liquidity-weighted（流动性选股，大盘股流动性更好），进一步的有free-float weighting（排除限售股）；\n",
    "- ②price weighting，股票价格加权，会受到小盘股的影响，DJIA（道琼斯工业指数）是这样的；\n",
    "- ③equal weighting，全部一样，不能体现大盘股的波动，虽然分散化了但是要经常rebalance；\n",
    "- ④fundamental weighting，基本面指标，如EPS等。"
   ]
  },
  {
   "cell_type": "markdown",
   "metadata": {},
   "source": [
    "其他注意点：\n",
    "- ①tax-exempt，equal 会比 market-cap加权的税收少，因为大盘股盘子大，股票不好涨，所得税就少；\n",
    "- ②cap和fundamental的有成本低、rule-based、透明和可投资性的共同特点，但是cap基于[EMH](./CME.ipynb/#-7.7-EMH（Effecient-Market-Hypothesis）)会更好，而fundamental是想发掘市场价格的无效性来赚取收益"
   ]
  },
  {
   "cell_type": "markdown",
   "metadata": {},
   "source": [
    "#### 23.2.4 Rebalancing and Reconsititution"
   ]
  },
  {
   "cell_type": "markdown",
   "metadata": {},
   "source": [
    "rebalancing：reweighting调权重，股票不变  \n",
    "reconstitution：addition/deletion会调成分股"
   ]
  },
  {
   "cell_type": "markdown",
   "metadata": {},
   "source": [
    "会有一定的turnover和transaction cost  \n",
    "一般投资于成熟市场、大盘股指数的周转会更低"
   ]
  },
  {
   "cell_type": "markdown",
   "metadata": {},
   "source": [
    "#### 23.2.5 Attention：Concentration"
   ]
  },
  {
   "cell_type": "markdown",
   "metadata": {},
   "source": [
    "组合的集中度问题，可以用HHI来计算，如果组合集中度太高不满足被动投资的要求"
   ]
  },
  {
   "cell_type": "markdown",
   "metadata": {},
   "source": [
    "Effective number of stocks = 1 / HHI = $\\frac{1}{\\sum_{i=1}^n\\omega_i^2}$，这个值越大证明分散性越好"
   ]
  },
  {
   "cell_type": "markdown",
   "metadata": {},
   "source": [
    "### 23.3 Passive Factor-Based Strategies"
   ]
  },
  {
   "cell_type": "markdown",
   "metadata": {},
   "source": [
    "基于指数的投资可以分为：①stock-based；②factor-based（smart beta）。"
   ]
  },
  {
   "cell_type": "markdown",
   "metadata": {},
   "source": [
    "先找到和股价相关的因子，然后有侧重点的投资，下面有三种方法：\n",
    "- ①return-oriented，关注收益，侧重value（dividend）、momentum（股价），使用fundamentally weighted策略；\n",
    "- ②risk-oriented，关注风险，侧重volatility，要最小化方差投资；\n",
    "- ③diversification-oriented，关注分散化，可用equally-weighted策略。"
   ]
  },
  {
   "cell_type": "markdown",
   "metadata": {},
   "source": [
    "使用factor-based的优点有：①less costly，成本低，股票买不到可以买factor类似的；②investor'view，投资者可以对facotr投资有侧重，以此来表达市场的观点；  \n",
    "缺点有：①concentrate risk exposure，风险敞口集中；②increase tracking error，有跟踪误差；③higher management fee、trading commisions，有主动投资的工作在，交易成本会更高。"
   ]
  },
  {
   "cell_type": "markdown",
   "metadata": {},
   "source": [
    "![](./pics/Equity/factor_based.png)"
   ]
  },
  {
   "cell_type": "markdown",
   "metadata": {},
   "source": [
    "### 23.4 Tools to Passive Equity Investing"
   ]
  },
  {
   "cell_type": "markdown",
   "metadata": {},
   "source": [
    "不能直接投资index的情况下有这些金融工具可以：①pooled investments；②derivatives-based strategies；③separately-managed index-based portfolio（专户）。"
   ]
  },
  {
   "cell_type": "markdown",
   "metadata": {},
   "source": [
    "#### 23.4.1 Pooled Investments"
   ]
  },
  {
   "cell_type": "markdown",
   "metadata": {},
   "source": [
    "open-end mutual funds（开放式基金） and exchange traded funds(ETF)"
   ]
  },
  {
   "cell_type": "markdown",
   "metadata": {},
   "source": [
    "开放式基金的交易成本低；ETF节约了subscription（申购）和redemption（赎回）的成本，不申购而直接从二级市场买卖可能因为流动性较差而产生较高的交易成本。  "
   ]
  },
  {
   "cell_type": "markdown",
   "metadata": {},
   "source": [
    "#### 23.4.2 Derivatives Base Strategies"
   ]
  },
  {
   "cell_type": "markdown",
   "metadata": {},
   "source": [
    "用衍生品来投资，其头寸称为overlay：\n",
    "- ①completion overlay，完全匹配指数；\n",
    "- ②rebalancing overlay，组合已经配置好，但是因为index调整成分股，所以买一点微调；\n",
    "- ③currency overlay，货币去overlay。"
   ]
  },
  {
   "cell_type": "markdown",
   "metadata": {},
   "source": [
    "优点：①效率高、便宜；②流动性好；③容易加杠杆。\n",
    "缺点：\n",
    "- ①rolled over，衍生品到期要调仓；\n",
    "- ②position limit，因为有杠杆，头寸可能受到IPS的限制；\n",
    "- ③不是每个股票都有期货；\n",
    "- ④OTC 有counterparty risk（对手方风险）；\n",
    "- ⑤basis risk，基差风险，期货现货不一定一致"
   ]
  },
  {
   "cell_type": "markdown",
   "metadata": {},
   "source": [
    "#### 23.4.3 Separately Managed Equity Index-based Portfolios"
   ]
  },
  {
   "cell_type": "markdown",
   "metadata": {},
   "source": [
    "专户投资，需要regularly updated，并且最好用program trading"
   ]
  },
  {
   "cell_type": "markdown",
   "metadata": {},
   "source": [
    "### 23.5 Portfolio Construction"
   ]
  },
  {
   "cell_type": "markdown",
   "metadata": {},
   "source": [
    "真正传统的复制指数方法：①full replication，完全复制；②stratified，分层抽样；③optimization，有点像factor-based；④blended approach，前三种混合。"
   ]
  },
  {
   "cell_type": "markdown",
   "metadata": {},
   "source": [
    "#### 23.5.1 Full Replication "
   ]
  },
  {
   "cell_type": "markdown",
   "metadata": {},
   "source": [
    "完全复制法"
   ]
  },
  {
   "cell_type": "markdown",
   "metadata": {},
   "source": [
    "好处是closely matches the index return，和指数匹配度高  \n",
    "坏处是：①因为有的股票流动性差costly，所以不可能100%一样；②regularly reconstitute/rebalance，频繁调整，成本也高，tracking error也因此上升。"
   ]
  },
  {
   "cell_type": "markdown",
   "metadata": {},
   "source": [
    "#### 23.5.2 Stratified Sampling"
   ]
  },
  {
   "cell_type": "markdown",
   "metadata": {},
   "source": [
    "分层抽样法，FM creates strata（如何分层很难），需要mutually exclusive（互斥）并且exhaustive（穷尽）  "
   ]
  },
  {
   "cell_type": "markdown",
   "metadata": {},
   "source": [
    "优点是：①相对复制，所以交易成本低；②直观，技术不是很复杂。  \n",
    "缺点是：①FM有主观判断的成分；②交易成本相对index高，也有tracking error。"
   ]
  },
  {
   "cell_type": "markdown",
   "metadata": {},
   "source": [
    "#### 23.5.3 Optimization"
   ]
  },
  {
   "cell_type": "markdown",
   "metadata": {},
   "source": [
    "从指数找到几个因子，然后回归，得到系数；  \n",
    "然后根据因子的系数调整自己的组合，成分股不一样也没事。  "
   ]
  },
  {
   "cell_type": "markdown",
   "metadata": {},
   "source": [
    "优点是：①量化，所以更加精确，tracking error更低；②account for covariance，利用了回归考虑了不同股票的相关性。  \n",
    "缺点是：①历史的相关性未来可能改变；②数据更新成本高；③可能不在有效前沿上，inefficient mean-variance。"
   ]
  },
  {
   "cell_type": "markdown",
   "metadata": {},
   "source": [
    "#### 23.5.4 Blended Approach"
   ]
  },
  {
   "cell_type": "markdown",
   "metadata": {},
   "source": [
    "**完全复制对股票少、流动性好的指数很适用**  \n",
    "**分层抽样和最优化对股票差异性大、流动性差的指数很适用**  \n",
    "所以这里可以混合"
   ]
  },
  {
   "cell_type": "markdown",
   "metadata": {},
   "source": [
    "### 23.6 Tracking Error"
   ]
  },
  {
   "cell_type": "markdown",
   "metadata": {},
   "source": [
    "**tracking error的产生**：①fees、trading costs；②cash drag（组合可能有多余现金，index一定没有）；②intra-day，日内交易，有一小段头寸可能不一样。"
   ]
  },
  {
   "cell_type": "markdown",
   "metadata": {},
   "source": [
    "完全复制时tracking error一定最低，但是现实中要权衡，注意下面3个因素来控制tracking error：  \n",
    "①trading costs；②netting cash inflow and redemption，申购和赎回的资金对冲；③derivatives to compensate for cash drag，用衍生品来补偿cash drag。"
   ]
  },
  {
   "cell_type": "markdown",
   "metadata": {},
   "source": [
    "### 23.7 Sources of Return and Risk"
   ]
  },
  {
   "cell_type": "markdown",
   "metadata": {},
   "source": [
    "- ①Attribution（归因分析）：后面trading performance会具体介绍，选股和择时\n",
    "- ②security lending：被动投资时股票是闲置的，可以借出去；\n",
    "- ③investor activism and engagement，股东参与经营，提升股价，从而提升index。"
   ]
  },
  {
   "cell_type": "markdown",
   "metadata": {},
   "source": [
    "[回到Equity首页](#Equity-Portfolio-Management)  "
   ]
  },
  {
   "cell_type": "markdown",
   "metadata": {},
   "source": [
    "___"
   ]
  },
  {
   "cell_type": "markdown",
   "metadata": {},
   "source": [
    "## R24 Active Equity Investing: Strategies"
   ]
  },
  {
   "cell_type": "markdown",
   "metadata": {},
   "source": [
    "[回到Equity首页](#Equity-Portfolio-Management)  "
   ]
  },
  {
   "cell_type": "markdown",
   "metadata": {},
   "source": [
    "___"
   ]
  },
  {
   "cell_type": "markdown",
   "metadata": {},
   "source": [
    "## R25 Active Equity Investing: Portfolio Construction"
   ]
  },
  {
   "cell_type": "markdown",
   "metadata": {},
   "source": [
    "[回到Equity首页](#Equity-Portfolio-Management)  "
   ]
  },
  {
   "cell_type": "markdown",
   "metadata": {},
   "source": [
    "___"
   ]
  },
  {
   "cell_type": "code",
   "execution_count": null,
   "metadata": {},
   "outputs": [],
   "source": []
  }
 ],
 "metadata": {
  "kernelspec": {
   "display_name": "Python 3",
   "language": "python",
   "name": "python3"
  },
  "language_info": {
   "codemirror_mode": {
    "name": "ipython",
    "version": 3
   },
   "file_extension": ".py",
   "mimetype": "text/x-python",
   "name": "python",
   "nbconvert_exporter": "python",
   "pygments_lexer": "ipython3",
   "version": "3.7.3"
  }
 },
 "nbformat": 4,
 "nbformat_minor": 4
}
