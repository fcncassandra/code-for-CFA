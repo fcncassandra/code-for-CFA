{
 "cells": [
  {
   "cell_type": "markdown",
   "metadata": {},
   "source": [
    "# Private Wealth Management"
   ]
  },
  {
   "cell_type": "markdown",
   "metadata": {},
   "source": [
    "[回到code-for-CFA首页](./README.md)  "
   ]
  },
  {
   "cell_type": "markdown",
   "metadata": {},
   "source": [
    "私人财富管理其实就是个人的IPS，先介绍总体的内容，然后介绍税收制度的计算、财富传承、过度集中的资产、寿命的管理等问题"
   ]
  },
  {
   "cell_type": "markdown",
   "metadata": {},
   "source": [
    "[R28 Overview of Private Wealth Management](#R28-Overview-of-Private-Wealth-Management)  \n",
    "[R29 Taxes and Private Wealth Management in a Global Context](#R29-Taxes-and-Private-Wealth-Management-in-a-Global-Context)  \n",
    "[R30 Estate Planning in a Global Context](#R30-Estate-Planning-in-a-Global-Context)  \n",
    "[R31 Concentrated Single-Asset Positions](#R31-Concentrated-Single-Asset-Positions)  \n",
    "[R32 Risk Management for Individuals](#R32-Risk-Management-for-Individuals)  "
   ]
  },
  {
   "cell_type": "markdown",
   "metadata": {},
   "source": [
    "## R28 Overview of Private Wealth Management"
   ]
  },
  {
   "cell_type": "markdown",
   "metadata": {},
   "source": [
    "### 28.1 Private Clients versus Institutional Clients"
   ]
  },
  {
   "cell_type": "markdown",
   "metadata": {},
   "source": [
    "个人客户和机构客户有三大点不同：\n",
    "\n",
    "[1] Investment Objectives，投资目标（RR）   \n",
    "**个人的目标**围绕在retirement、support family members、philanthropic goals（chartible）  \n",
    "有三大特点：①目标间相互竞争：compete with one another；②随着时间变化不断改变：may change over time；③定性难量化：not clearly defined    \n",
    "**机构的目标**：①清晰好量化：clearly defined；②有共性；③负债确定：sepecific liablity stream\n",
    "\n",
    "[2] Constraints，限制条件（TTLLU）  \n",
    "Time Horizon：个人短，机构长  \n",
    "Scale：机构规模大，分散化效果更好  \n",
    "Taxes：个人税收复杂（progressive），机构简单（统一公司税），E&F政府还有免税政策\n",
    "\n",
    "[3] Other Distinctions  \n",
    "Investment Governance：投资治理方面机构更加formal正式  \n",
    "Investment Sophistication：机构更加rational，个人更加emotional  \n",
    "Regulation：机构和个人的监管不同  \n",
    "Uniqueness and Complexity：个人相同目标可能有不同策略，机构则类似：similar objectives may nevertheless pursue different investment strategies."
   ]
  },
  {
   "cell_type": "markdown",
   "metadata": {},
   "source": [
    "![](./pics/PWM/private_vs_institutional_clients.png)"
   ]
  },
  {
   "cell_type": "markdown",
   "metadata": {},
   "source": [
    "### 28.2 Understanding Private Clients "
   ]
  },
  {
   "cell_type": "markdown",
   "metadata": {},
   "source": [
    "接着我们去了解个人投资者，主要有3点：\n",
    "- ①Information Needed in Advising Private Clients，个人基本情况，包括信息、财务、税务；\n",
    "- ②Client Goals，Return的目标；\n",
    "- ③Client Risk Tolerance，风险容忍度；\n",
    "\n",
    "然后我们作为FM的自身素质：Technical and Soft Skills for Wealth Managers"
   ]
  },
  {
   "cell_type": "markdown",
   "metadata": {},
   "source": [
    "#### 28.2.1 Information Needed in Advising Private Clients"
   ]
  },
  {
   "cell_type": "markdown",
   "metadata": {},
   "source": [
    "[1] Personal Information，个人信息6个  \n",
    "family situation：①marital status（婚姻）；②number (grand)children；③ages of family members。  \n",
    "④proof of identification（身份证明） ；⑤career information（职业工作，老师医生RT比较高，创始人RT比较低）；⑥sources of wealth（财富来源，看其是否可持续）"
   ]
  },
  {
   "cell_type": "markdown",
   "metadata": {},
   "source": [
    "[2] Financial Information，个人的资产负债表   \n",
    "其中资产端需要注意的是：\n",
    "①brokerage account（股票账户）比retirement account（养老账户）流动性更高，可以随时取；  \n",
    "②cash-value life insurance是指寿险的现金价值，因为为了平滑保费，会把未来更高的保费分摊，年轻时会多交的部分组成了寿险的现金价值；  \n",
    "\n",
    "![](./pics/PWM/private_client_financial_information.png)"
   ]
  },
  {
   "cell_type": "markdown",
   "metadata": {},
   "source": [
    "[3] Private Client Tax Considerations，个人税收考虑  \n",
    "①taxes on income，所得税，收入征税；  \n",
    "②wealth-based taxes，财产税，本金+收入；  \n",
    "③taxes on consumption，消费税，包括sales taxes（整体价格）和value-added（增值税）  \n",
    "关于税务规划详细见[R29 Taxes and Private Wealth Management in a Global Context](#R29-Taxes-and-Private-Wealth-Management-in-a-Global-Context)"
   ]
  },
  {
   "cell_type": "markdown",
   "metadata": {},
   "source": [
    "[4] 其他信息，①②后面会详细介绍：  \n",
    "①estate plan，遗产计划；  \n",
    "②life/disablity insurance，保险；  \n",
    "☆③authorize，给FM的授权力度；  \n",
    "④needs and expectations，季度报告看是否满足期望；  \n",
    "⑤other service professionals，保密条款"
   ]
  },
  {
   "cell_type": "markdown",
   "metadata": {},
   "source": [
    "#### 28.2.2 Client Goals"
   ]
  },
  {
   "cell_type": "markdown",
   "metadata": {},
   "source": [
    "金融目标可能并不明确，可能只是人的愿望：not always apparent, defined, or measurable: they may be expressed by clients as wishes, desires, or aspirations"
   ]
  },
  {
   "cell_type": "markdown",
   "metadata": {},
   "source": [
    "Planned Goals，计划内可量化的：retirement、specific purchases、education、family events、wealth transfer、philanthropy"
   ]
  },
  {
   "cell_type": "markdown",
   "metadata": {},
   "source": [
    "Unplanned Goals，非计划内的主要两个：①property repairs（国外房屋一般要自己维修，要买保险）；②medical expenses"
   ]
  },
  {
   "cell_type": "markdown",
   "metadata": {},
   "source": [
    "FM的工作就是对目标量化、排序和更新：goal quantification, goal prioritization, and goal changes"
   ]
  },
  {
   "cell_type": "markdown",
   "metadata": {},
   "source": [
    "#### 28.2.3 Client Risk Tolerance"
   ]
  },
  {
   "cell_type": "markdown",
   "metadata": {},
   "source": [
    "risk tolerance是willingness（意愿）和ability（能力）的结合  \n",
    "有两个新的名词：risk capacity（偏向ability）、risk perception（认知偏向willingness）"
   ]
  },
  {
   "cell_type": "markdown",
   "metadata": {},
   "source": [
    "willingness主要受3个影响：①investment style，投资风格；②psychological profile，心理因素；③self-statement，胆大胆小   \n",
    "ability主要受2个影响：①time horizon，投资期限；②relative portfolio size，spending/wealth 开支占财富总体水平，5%以下认为是富人"
   ]
  },
  {
   "cell_type": "markdown",
   "metadata": {},
   "source": [
    "对于意愿大于能力的人，要教育，如果意愿小于能力，则和他的收益目标进行比较，最终取和收益目标一样的"
   ]
  },
  {
   "cell_type": "markdown",
   "metadata": {},
   "source": [
    "FM要用：①questionnaires问卷调查，要问爱好而不是直接问性格，防止framing bias；  \n",
    "②risk tolerance conversation，教育，保证客户愿意承担风险；  \n",
    "③multiple goals or objectives，客户针对不同目标可能有不同承受能力，比如mental accounting"
   ]
  },
  {
   "cell_type": "markdown",
   "metadata": {},
   "source": [
    "![](./pics/PWM/risk_tolerance.png)"
   ]
  },
  {
   "cell_type": "markdown",
   "metadata": {},
   "source": [
    "#### 28.2.4 Technical and Soft Skills for Wealth Managers"
   ]
  },
  {
   "cell_type": "markdown",
   "metadata": {},
   "source": [
    "硬实力：\n",
    "- ①Capital markets proficiency，用CME来分析\n",
    "- ②Portfolio construction ability，组合构建MVO\n",
    "- ③Financial planning knowledge，税务遗产规划\n",
    "- ④Quantitative skills，数学能力\n",
    "- ⑤Technology skills，计算机能力\n",
    "- ⑥Language fluency，多门语言，不是母语流利  \n",
    "\n",
    "软实力：\n",
    "- ①communication skills，同一种语言更会说话  \n",
    "- ②social skills，社交  \n",
    "- ③education and coaching skills，教育、能把模型讲清楚  \n",
    "- ④business development and sales skills，销售业务拓展技巧"
   ]
  },
  {
   "cell_type": "markdown",
   "metadata": {},
   "source": [
    "### 28.3 Investment Planning"
   ]
  },
  {
   "cell_type": "markdown",
   "metadata": {},
   "source": [
    "看现在的资本充足性：Capital Sufficiency Analysis (Capital needs analysis)  \n",
    "看退休未来的计划：retirement planning"
   ]
  },
  {
   "cell_type": "markdown",
   "metadata": {},
   "source": [
    "[回到PWM首页](#Private-Wealth-Management)  "
   ]
  },
  {
   "cell_type": "markdown",
   "metadata": {},
   "source": [
    "___"
   ]
  },
  {
   "cell_type": "markdown",
   "metadata": {},
   "source": [
    "## R29 Taxes and Private Wealth Management in a Global Context"
   ]
  },
  {
   "cell_type": "markdown",
   "metadata": {},
   "source": [
    "[回到PWM首页](#Private-Wealth-Management)  "
   ]
  },
  {
   "cell_type": "markdown",
   "metadata": {},
   "source": [
    "___"
   ]
  },
  {
   "cell_type": "markdown",
   "metadata": {},
   "source": [
    "## R30 Estate Planning in a Global Context"
   ]
  },
  {
   "cell_type": "markdown",
   "metadata": {},
   "source": [
    "[回到PWM首页](#Private-Wealth-Management)  "
   ]
  },
  {
   "cell_type": "markdown",
   "metadata": {},
   "source": [
    "___"
   ]
  },
  {
   "cell_type": "markdown",
   "metadata": {},
   "source": [
    "## R31 Concentrated Single-Asset Positions"
   ]
  },
  {
   "cell_type": "markdown",
   "metadata": {},
   "source": [
    "[回到PWM首页](#Private-Wealth-Management)  "
   ]
  },
  {
   "cell_type": "markdown",
   "metadata": {},
   "source": [
    "___"
   ]
  },
  {
   "cell_type": "markdown",
   "metadata": {},
   "source": [
    "## R32 Risk Management for Individuals"
   ]
  },
  {
   "cell_type": "markdown",
   "metadata": {},
   "source": [
    "[回到PWM首页](#Private-Wealth-Management)  "
   ]
  },
  {
   "cell_type": "markdown",
   "metadata": {},
   "source": [
    "___"
   ]
  }
 ],
 "metadata": {
  "kernelspec": {
   "display_name": "Python 3",
   "language": "python",
   "name": "python3"
  },
  "language_info": {
   "codemirror_mode": {
    "name": "ipython",
    "version": 3
   },
   "file_extension": ".py",
   "mimetype": "text/x-python",
   "name": "python",
   "nbconvert_exporter": "python",
   "pygments_lexer": "ipython3",
   "version": "3.7.3"
  }
 },
 "nbformat": 4,
 "nbformat_minor": 4
}
