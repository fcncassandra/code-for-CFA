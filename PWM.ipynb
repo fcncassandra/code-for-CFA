{
 "cells": [
  {
   "cell_type": "markdown",
   "metadata": {},
   "source": [
    "# Private Wealth Management"
   ]
  },
  {
   "cell_type": "markdown",
   "metadata": {},
   "source": [
    "[回到code-for-CFA首页](./README.md)  "
   ]
  },
  {
   "cell_type": "markdown",
   "metadata": {},
   "source": [
    "私人财富管理其实就是个人的IPS，先介绍总体的内容，然后介绍税收制度的计算、财富传承、过度集中的资产、寿命的管理等问题"
   ]
  },
  {
   "cell_type": "markdown",
   "metadata": {},
   "source": [
    "[R28 Overview of Private Wealth Management](#R28-Overview-of-Private-Wealth-Management)  \n",
    "[R29 Taxes and Private Wealth Management in a Global Context](#R29-Taxes-and-Private-Wealth-Management-in-a-Global-Context)  \n",
    "[R30 Estate Planning in a Global Context](#R30-Estate-Planning-in-a-Global-Context)  \n",
    "[R31 Concentrated Single-Asset Positions](#R31-Concentrated-Single-Asset-Positions)  \n",
    "[R32 Risk Management for Individuals](#R32-Risk-Management-for-Individuals)  "
   ]
  },
  {
   "cell_type": "markdown",
   "metadata": {},
   "source": [
    "## R28 Overview of Private Wealth Management"
   ]
  },
  {
   "cell_type": "markdown",
   "metadata": {},
   "source": [
    "### 28.1 Private Clients versus Institutional Clients"
   ]
  },
  {
   "cell_type": "markdown",
   "metadata": {},
   "source": [
    "个人客户和机构客户有三大点不同：\n",
    "\n",
    "[1] Investment Objectives，投资目标（RR）   \n",
    "**个人的目标**围绕在retirement、support family members、philanthropic goals（chartible）  \n",
    "有三大特点：①目标间相互竞争：compete with one another；②随着时间变化不断改变：may change over time；③定性难量化：not clearly defined    \n",
    "**机构的目标**：①清晰好量化：clearly defined；②有共性；③负债确定：sepecific liablity stream\n",
    "\n",
    "[2] Constraints，限制条件（TTLLU）  \n",
    "Time Horizon：个人短，机构长  \n",
    "Scale：机构规模大，分散化效果更好  \n",
    "Taxes：个人税收复杂（progressive），机构简单（统一公司税），E&F政府还有免税政策\n",
    "\n",
    "[3] Other Distinctions  \n",
    "Investment Governance：投资治理方面机构更加formal正式  \n",
    "Investment Sophistication：机构更加rational，个人更加emotional  \n",
    "Regulation：机构和个人的监管不同  \n",
    "Uniqueness and Complexity：个人相同目标可能有不同策略，机构则类似：similar objectives may nevertheless pursue different investment strategies."
   ]
  },
  {
   "cell_type": "markdown",
   "metadata": {},
   "source": [
    "![](./pics/PWM/private_vs_institutional_clients.png)"
   ]
  },
  {
   "cell_type": "markdown",
   "metadata": {},
   "source": [
    "### 28.2 Understanding Private Clients "
   ]
  },
  {
   "cell_type": "markdown",
   "metadata": {},
   "source": [
    "接着我们去了解个人投资者，主要有3点：\n",
    "- ①Information Needed in Advising Private Clients，个人基本情况，包括信息、财务、税务；\n",
    "- ②Client Goals，Return的目标；\n",
    "- ③Client Risk Tolerance，风险容忍度；\n",
    "\n",
    "然后我们作为FM的自身素质：Technical and Soft Skills for Wealth Managers"
   ]
  },
  {
   "cell_type": "markdown",
   "metadata": {},
   "source": [
    "#### 28.2.1 Information Needed in Advising Private Clients"
   ]
  },
  {
   "cell_type": "markdown",
   "metadata": {},
   "source": [
    "[1] Personal Information，个人信息6个  \n",
    "family situation：①marital status（婚姻）；②number (grand)children；③ages of family members。  \n",
    "④proof of identification（身份证明） ；⑤career information（职业工作，老师医生RT比较高，创始人RT比较低）；⑥sources of wealth（财富来源，看其是否可持续）"
   ]
  },
  {
   "cell_type": "markdown",
   "metadata": {},
   "source": [
    "[2] Financial Information，个人的资产负债表   \n",
    "其中资产端需要注意的是：\n",
    "①brokerage account（股票账户）比retirement account（养老账户）流动性更高，可以随时取；  \n",
    "②cash-value life insurance是指寿险的现金价值，因为为了平滑保费，会把未来更高的保费分摊，年轻时会多交的部分组成了寿险的现金价值；  \n",
    "\n",
    "![](./pics/PWM/private_client_financial_information.png)"
   ]
  },
  {
   "cell_type": "markdown",
   "metadata": {},
   "source": [
    "[3] Private Client Tax Considerations，个人税收考虑  \n",
    "①taxes on income，所得税，收入征税；  \n",
    "②wealth-based taxes，财产税，本金+收入；  \n",
    "③taxes on consumption，消费税，包括sales taxes（整体价格）和value-added（增值税）  \n",
    "关于税务规划详细见[R29 Taxes and Private Wealth Management in a Global Context](#R29-Taxes-and-Private-Wealth-Management-in-a-Global-Context)"
   ]
  },
  {
   "cell_type": "markdown",
   "metadata": {},
   "source": [
    "[4] 其他信息，①②后面会详细介绍：  \n",
    "①estate plan，遗产计划；  \n",
    "②life/disablity insurance，保险；  \n",
    "☆③authorize，给FM的授权力度；  \n",
    "④needs and expectations，季度报告看是否满足期望；  \n",
    "⑤other service professionals，保密条款"
   ]
  },
  {
   "cell_type": "markdown",
   "metadata": {},
   "source": [
    "#### 28.2.2 Client Goals"
   ]
  },
  {
   "cell_type": "markdown",
   "metadata": {},
   "source": [
    "金融目标可能并不明确，可能只是人的愿望：not always apparent, defined, or measurable: they may be expressed by clients as wishes, desires, or aspirations"
   ]
  },
  {
   "cell_type": "markdown",
   "metadata": {},
   "source": [
    "Planned Goals，计划内可量化的：retirement、specific purchases、education、family events、wealth transfer、philanthropy"
   ]
  },
  {
   "cell_type": "markdown",
   "metadata": {},
   "source": [
    "Unplanned Goals，非计划内的主要两个：①property repairs（国外房屋一般要自己维修，要买保险）；②medical expenses"
   ]
  },
  {
   "cell_type": "markdown",
   "metadata": {},
   "source": [
    "FM的工作就是对目标量化、排序和更新：goal quantification, goal prioritization, and goal changes"
   ]
  },
  {
   "cell_type": "markdown",
   "metadata": {},
   "source": [
    "#### 28.2.3 Client Risk Tolerance"
   ]
  },
  {
   "cell_type": "markdown",
   "metadata": {},
   "source": [
    "risk tolerance是willingness（意愿）和ability（能力）的结合  \n",
    "有两个新的名词：risk capacity（偏向ability）、risk perception（认知偏向willingness）"
   ]
  },
  {
   "cell_type": "markdown",
   "metadata": {},
   "source": [
    "willingness主要受3个影响：①investment style，投资风格；②psychological profile，心理因素；③self-statement，胆大胆小   \n",
    "ability主要受2个影响：①time horizon，投资期限；②relative portfolio size，spending/wealth 开支占财富总体水平，5%以下认为是富人"
   ]
  },
  {
   "cell_type": "markdown",
   "metadata": {},
   "source": [
    "对于意愿大于能力的人，要教育，如果意愿小于能力，则和他的收益目标进行比较，最终取和收益目标一样的"
   ]
  },
  {
   "cell_type": "markdown",
   "metadata": {},
   "source": [
    "FM要用：①questionnaires问卷调查，要问爱好而不是直接问性格，防止framing bias；  \n",
    "②risk tolerance conversation，教育，保证客户愿意承担风险；  \n",
    "③multiple goals or objectives，客户针对不同目标可能有不同承受能力，比如mental accounting"
   ]
  },
  {
   "cell_type": "markdown",
   "metadata": {},
   "source": [
    "![](./pics/PWM/risk_tolerance.png)"
   ]
  },
  {
   "cell_type": "markdown",
   "metadata": {},
   "source": [
    "#### 28.2.4 Technical and Soft Skills for Wealth Managers"
   ]
  },
  {
   "cell_type": "markdown",
   "metadata": {},
   "source": [
    "硬实力：\n",
    "- ①Capital markets proficiency，用CME来分析\n",
    "- ②Portfolio construction ability，组合构建MVO\n",
    "- ③Financial planning knowledge，税务遗产规划\n",
    "- ④Quantitative skills，数学能力\n",
    "- ⑤Technology skills，计算机能力\n",
    "- ⑥Language fluency，多门语言，不是母语流利  \n",
    "\n",
    "软实力：\n",
    "- ①communication skills，同一种语言更会说话  \n",
    "- ②social skills，社交  \n",
    "- ③education and coaching skills，教育、能把模型讲清楚  \n",
    "- ④business development and sales skills，销售业务拓展技巧"
   ]
  },
  {
   "cell_type": "markdown",
   "metadata": {},
   "source": [
    "### 28.3 Investment Planning"
   ]
  },
  {
   "cell_type": "markdown",
   "metadata": {},
   "source": [
    "看现在的资本充足性：Capital Sufficiency Analysis (Capital needs analysis)  \n",
    "看退休未来的计划：retirement planning"
   ]
  },
  {
   "cell_type": "markdown",
   "metadata": {},
   "source": [
    "#### 28.3.1 Capital Sufficiency Analysis"
   ]
  },
  {
   "cell_type": "markdown",
   "metadata": {},
   "source": [
    "有2种方法：\n",
    "\n",
    "[1] Deterministic Forecasting Method，确定性预测法  \n",
    "又叫直线法：a straight-line manner，假设组合增长率固定，有未来的收入和支出，计算未来目标时间点上的FV  \n",
    "优点：简单好理解；缺点：有点不现实，Unrealistic to the variability    "
   ]
  },
  {
   "cell_type": "markdown",
   "metadata": {},
   "source": [
    "[2] Monte Carlo simulation，蒙特卡洛模拟  \n",
    "优点：①路径依赖，path independent；②情景假设灵活，scenarios flexible；③可以多个资产比直线法更灵活，multi-stage；④实验很多，异常情况很少，aggregating the results of many trials   \n",
    "缺点：①无法预估准确，cannot predict the future；②对输入影响很敏感，highly sensitive to small changes in input assumptions；③不能保证达标：not necessarily the “shortfall magnitude.”"
   ]
  },
  {
   "cell_type": "markdown",
   "metadata": {},
   "source": [
    "如果蒙特卡洛模拟发现达不到标准，可以：①increase contribution (+CF)；②reduce goal amount（-FV）；③delay goal（+N）；④换策略带来更多收益（不是很推荐，影响了RT）"
   ]
  },
  {
   "cell_type": "markdown",
   "metadata": {},
   "source": [
    "![](./pics/PWM/mcs.png)"
   ]
  },
  {
   "cell_type": "markdown",
   "metadata": {},
   "source": [
    "#### 28.3.2 Retirement Planning"
   ]
  },
  {
   "cell_type": "markdown",
   "metadata": {},
   "source": [
    "养老有3种方法：  "
   ]
  },
  {
   "cell_type": "markdown",
   "metadata": {},
   "source": [
    "[1] Mortality Tables，寿命表格法  \n",
    "未来现金开支 x 存活概率：probabilities based on life expectancy to annual expected cash outflows  \n",
    "注意：①折现率用无风险收益率，因为开支确定，并且可以高估负债更加保守；②如果real-spending用rf，如果是nominal-spending用nominal rf；③**存活概率是夫妻双方活一个**：P(A) + P(B) - P(A)P(B)  \n",
    "优点：简单、考虑了存活概率；缺点：不真实（只是全球人平均寿命，general population）、考虑不到其他场景（Cannot model difference scenarios）"
   ]
  },
  {
   "cell_type": "markdown",
   "metadata": {},
   "source": [
    "![](./pics/PWM/mortality_tables.png)"
   ]
  },
  {
   "cell_type": "markdown",
   "metadata": {},
   "source": [
    "[2] Annuitie，年金法  \n",
    "直接买年金，别人都算好报价了  \n",
    "优点：简单；缺点：不真实（固定开支）、考虑不到其他场景"
   ]
  },
  {
   "cell_type": "markdown",
   "metadata": {},
   "source": [
    "[3] Monte Carlo simulation，蒙特卡洛模拟  \n",
    "同Capital Sufficiency Analysis中的MCS"
   ]
  },
  {
   "cell_type": "markdown",
   "metadata": {},
   "source": [
    "#### 28.3.3 Behavioral Considerations in Retirement Planning"
   ]
  },
  {
   "cell_type": "markdown",
   "metadata": {},
   "source": [
    "退休人员更容易受到BF的影响：\n",
    "- ①Heightened loss aversion，损失更加厌恶；\n",
    "- ②Consumption gaps，消费差异，真实的开支可能小于预期；\n",
    "- ③annuity puzzle，年金谜团，虽然年金好，但是买的人不多，可能也是自信自己投资的收益率大于年金；\n",
    "- ④Preference for investment income over capital appreciation，更加喜欢确定性的收益，一鸟在手。"
   ]
  },
  {
   "cell_type": "markdown",
   "metadata": {},
   "source": [
    "### 28.4 Investment Policy Statement"
   ]
  },
  {
   "cell_type": "markdown",
   "metadata": {},
   "source": [
    "了解完客户后就可以开始起草IPS了，IPS主要包括6个部分：\n",
    "- ①Background and Investment Objectives\n",
    "- ②Investment Parameters\n",
    "- ③Portfolio Asset Allocation\n",
    "- ④Portfolio Management\n",
    "- ⑤Duties and Responsibilities\n",
    "- ⑥IPS Appendix"
   ]
  },
  {
   "cell_type": "markdown",
   "metadata": {},
   "source": [
    "#### 28.4.1 Background and Investment Objectives"
   ]
  },
  {
   "cell_type": "markdown",
   "metadata": {},
   "source": [
    "先是投资目标，应当是详细并且最好量化的：detailed and quantified    \n",
    "并且需要告诉什么是首要目标：which of the objectives is primary  \n",
    "需要进行资本充足率的分析：capital sufficiency analysis  \n",
    "对于账户要要包括所有外部的资产和现金流：any other investment assets，any cash flows from external sources"
   ]
  },
  {
   "cell_type": "markdown",
   "metadata": {},
   "source": [
    "#### 28.4.2 Investment Parameters\n"
   ]
  },
  {
   "cell_type": "markdown",
   "metadata": {},
   "source": [
    "6个考虑因素：\n",
    "- ①Risk Tolerance，讨论ability和willingness  \n",
    "- ②Investment Time Horizon，要一个范围不要太精确：a range rather than a specific number of years \n",
    "- ③Asset Class Preferences，资产类别确定，要有一个short narrative（总体简介），告诉那些做那些不做，FM这时候也要参与教育  \n",
    "- ④Other Investment Preferences，Unique的部分，比如ESG以及对legacy遗产有感情  \n",
    "- ⑤Liquidity Preferences，如cash reserve（应急储备）以及对资产选取的考虑，新考纲不计算流动性  \n",
    "- ⑥Constraints. 其他限制"
   ]
  },
  {
   "cell_type": "markdown",
   "metadata": {},
   "source": [
    "#### 28.4.3 Portfolio Asset Allocation"
   ]
  },
  {
   "cell_type": "markdown",
   "metadata": {},
   "source": [
    "开始做资产配置了：   \n",
    "strategic asset allocation，战略型资产配置，长期，要符合IPS    \n",
    "tactical asset allocation，战术型资产配资会，短期，可以偏离IPS，可以主动投资但是要在SAA的Range里面偏移  "
   ]
  },
  {
   "cell_type": "markdown",
   "metadata": {},
   "source": [
    "#### 28.4.4 Portfolio Management"
   ]
  },
  {
   "cell_type": "markdown",
   "metadata": {},
   "source": [
    "开始正式的落地实施了，有4个要考虑的事情：   \n",
    "\n",
    "[1] Discretionary Authority，客户给定授权  \n",
    "Full discretion（完全授权不需要同意）  \n",
    "partial可以分为SAA（IPS允许的情况下）和TAA（短期可以自己做）    \n",
    "No Advice是什么都需要客户同意  \n",
    "\n",
    "[2] Rebalancing，调整  \n",
    "有time-based（时间调整）和threshold-based（事先边界的调整）  \n",
    " \n",
    "[3] Tactical Change，战术型改变  \n",
    "需要知道是否是TAA（Whether），在何种情况下做（under what circumstances），做到什么程度（to what degree）\n",
    "\n",
    "[4] Implementation，具体的做"
   ]
  },
  {
   "cell_type": "markdown",
   "metadata": {},
   "source": [
    "#### 28.4.5 Duties and Responsibilities"
   ]
  },
  {
   "cell_type": "markdown",
   "metadata": {},
   "source": [
    "一堆权利和义务以及IPS总体的review"
   ]
  },
  {
   "cell_type": "markdown",
   "metadata": {},
   "source": [
    "#### 28.4.6 IPS Appendix"
   ]
  },
  {
   "cell_type": "markdown",
   "metadata": {},
   "source": [
    "附录有：组合的预计表现（Modeled Portfolio Behavior）和资本市场预期（Capital Market Expectations）"
   ]
  },
  {
   "cell_type": "markdown",
   "metadata": {},
   "source": [
    "### 28.5 Portfolio Construction and Monitoring"
   ]
  },
  {
   "cell_type": "markdown",
   "metadata": {},
   "source": [
    "开始构建组合并跟踪，都是概念为主，其他课程也有介绍：    \n",
    "- ①Portfolio Construction：Traditional Approach、Goals-Based Investing Approach  \n",
    "- ②Portfolio Reporting and Review：Portfolio Reporting、Portfolio Review  \n",
    "- ③Evaluating the Success of an Investment Program：Goal Achievement、Process Consistency、Portfolio Performance、Definitions of Success  "
   ]
  },
  {
   "cell_type": "markdown",
   "metadata": {},
   "source": [
    "对于Portfolio Reporting and Review需要注意：reporting是FM单向和客户汇报，而review是FM和客户双向交流评价  \n",
    "[1] ☆reporting披露的内容有：  \n",
    "重要：需要披露IPS的SAA，以及要有组合整体收益风险的简报summary，还要有个体持仓detailed performance，以及有历史业绩historical performance report保证可比   \n",
    "次要：还要披露流入和取出contribution and withdrawal，大的交易purchase and sale，以及外汇、衍生品等等  \n",
    "[2] review需要交流的内容有：rebalance以及客户信息的更新，FM要更加积极主动的去review"
   ]
  },
  {
   "cell_type": "markdown",
   "metadata": {},
   "source": [
    "Evaluating the Success of an Investment Program需要注意：看是否成功有4个层面：  \n",
    "- ①goal achievement，目标是否达成，比如到期和期中\n",
    "- ②process consistency，流程一致性，包括：  \n",
    "1)第三方和自己的FM业绩可比；2)换FM是否业绩提升；3)言行是否一致，followed the prescribed process；4)节省交易成本，reduce costs；  \n",
    "5)税务管理是否合适，taxation issues；6)ESG目标是否成；7)TAA偏离是是否产生了abnormal return；8)是否定期沟通，ongoing dialogue；9)额外的慈善遗产是否完成    \n",
    "- ③portfolio performance，return和absolute以及relative比，risk如何   \n",
    "- ④definition of success，也可以定义一个成功，哄得开心也行"
   ]
  },
  {
   "cell_type": "markdown",
   "metadata": {},
   "source": [
    "### 28.6 Ethical and Compliance Considerations"
   ]
  },
  {
   "cell_type": "markdown",
   "metadata": {},
   "source": [
    "### 28.7 Client Segments"
   ]
  },
  {
   "cell_type": "markdown",
   "metadata": {},
   "source": [
    "☆客户分类\n",
    "- ①25万以下资产，穷人，用机器人，投资特点成本低、被动投资  \n",
    "- ②25万到100万，大众，开始有FM，但是不定制  \n",
    "- ③100万到5000万，高净值，专业的投资专家，更加定制  \n",
    "- ④5000万以上，VIP，任何投资需求，管家服务   "
   ]
  },
  {
   "cell_type": "markdown",
   "metadata": {},
   "source": [
    "![](./pics/PWM/client_segments.png)"
   ]
  },
  {
   "cell_type": "markdown",
   "metadata": {},
   "source": [
    "[回到PWM首页](#Private-Wealth-Management)  "
   ]
  },
  {
   "cell_type": "markdown",
   "metadata": {},
   "source": [
    "___"
   ]
  },
  {
   "cell_type": "markdown",
   "metadata": {},
   "source": [
    "## R29 Taxes and Private Wealth Management in a Global Context"
   ]
  },
  {
   "cell_type": "markdown",
   "metadata": {},
   "source": [
    "先说全球7个税制，然后说单一税收制度（☆☆）和混合税收制度，然后介绍3类税收账户（☆☆），最后介绍如何降低税收"
   ]
  },
  {
   "cell_type": "markdown",
   "metadata": {},
   "source": [
    "### 29.1 Global taxation regimes"
   ]
  },
  {
   "cell_type": "markdown",
   "metadata": {},
   "source": [
    "有2类收税方式：flat和progressive（累进税制）"
   ]
  },
  {
   "cell_type": "markdown",
   "metadata": {},
   "source": [
    "![](./pics/PWM/progressive_tax_case.png)"
   ]
  },
  {
   "cell_type": "markdown",
   "metadata": {},
   "source": [
    "针对工资、利息、股利、资本利得的组合共有7中税收制度：  \n",
    "记忆上不加flat都是progressive的，然后对什么有没有优惠就heavy什么，都有优惠就common，仅对资本利得优惠有个light    \n",
    "flat这边的light针对所有都有优惠，heavy仅仅对利息有优惠  "
   ]
  },
  {
   "cell_type": "markdown",
   "metadata": {},
   "source": [
    "![](./pics/PWM/tax_regime.png)"
   ]
  },
  {
   "cell_type": "markdown",
   "metadata": {},
   "source": [
    "### 29.2 Simple Tax Environments"
   ]
  },
  {
   "cell_type": "markdown",
   "metadata": {},
   "source": [
    "#### 29.2.1 Simple：Accrual Tax"
   ]
  },
  {
   "cell_type": "markdown",
   "metadata": {},
   "source": [
    "仅对每年赚的部分收税：  \n",
    "一年：$FV_{at} = FV_{pt} - tax_1 = 1+R - RT = 1+R(1-T)$  \n",
    "N年：$FV_{at} = [1+R(1-T)]^N$"
   ]
  },
  {
   "cell_type": "markdown",
   "metadata": {},
   "source": [
    "Tax drag是因为交税导致收益减少的部分，分为$和\\%:  \\%Tax drag = $Tax drag / $FV_{pt}$"
   ]
  },
  {
   "cell_type": "markdown",
   "metadata": {},
   "source": [
    "投资期限N上升：tax drag $和 \\% 都上升 \n",
    "\n",
    "投资收益率R上升：tax drag \\$和\\%都上升  "
   ]
  },
  {
   "cell_type": "markdown",
   "metadata": {},
   "source": [
    "#### 29.2.2 Simple：Tax-deferred Capital Gain Tax"
   ]
  },
  {
   "cell_type": "markdown",
   "metadata": {},
   "source": [
    "递延到期末，对赚的部分进行交税  \n",
    "一年：$FV_{at} = FV_{pt} - tax_1 = 1+R - RT_{CG} = (1+R)(1-T_{CG})+1·T_{CG}$  \n",
    "N年：$FV_{at} = (1+R)^N - [(1+R)^N-1]\\times T_{CG} = (1+R)^N(1-T_{CG})+1·T_{CG}$"
   ]
  },
  {
   "cell_type": "markdown",
   "metadata": {},
   "source": [
    "从公式可以从另一个角度记忆：本金+收益部分一起交税，然后再补你本金的税"
   ]
  },
  {
   "cell_type": "markdown",
   "metadata": {},
   "source": [
    "投资期限N上升：tax drag $上升，\\%不变（消掉了）\n",
    "\n",
    "投资收益率R上升：tax drag $上升，\\%不变（消掉了）"
   ]
  },
  {
   "cell_type": "markdown",
   "metadata": {},
   "source": [
    "**特殊情况**：如果之前就买入股票了，那么要按照之前的价格交税，所以可以分成两个阶段，第一阶段一次性交（1-B）x TCG，第二阶段再按1递延扣税  \n",
    "如果是二阶段，则公式为$FV_{at} =  (1+R)^N(1-T_{CG})+B·T_{CG}$，B是basis第一阶段的价格"
   ]
  },
  {
   "cell_type": "markdown",
   "metadata": {},
   "source": [
    "#### 29.2.3 Simple：Wealth-Based Tax"
   ]
  },
  {
   "cell_type": "markdown",
   "metadata": {},
   "source": [
    "财产税，税基不同，对赚的和本金部分都交税  "
   ]
  },
  {
   "cell_type": "markdown",
   "metadata": {},
   "source": [
    "N年：$FV_{at} =  [(1+R)(1-T_{W})]^N$"
   ]
  },
  {
   "cell_type": "markdown",
   "metadata": {},
   "source": [
    "投资期限N上升：tax drag $上升，\\%上升\n",
    "\n",
    "投资收益率R上升：tax drag $上升，\\%下降（针对本金交税的部分减少了，而对收益部分增多了）"
   ]
  },
  {
   "cell_type": "markdown",
   "metadata": {},
   "source": [
    "### 29.3 Blended Taxing Environments"
   ]
  },
  {
   "cell_type": "markdown",
   "metadata": {},
   "source": [
    "既有股票也有债券时，税制不同：对股票的realized CG是按照Accrual交税的，但是unrealized CG是按Defered交税的；税率也不同  \n",
    "实际交税的部分：$realized－tax－rate = P_IT_I + P_DT_D + P_{CG}T_{CG}$  \n",
    "交税后的收益率 after-realized-tax：$R_{ART} = R_{PT}(1-realized－tax－rate) = R_{PT}[1-(P_IT_I + P_DT_D + P_{CG}T_{CG})]$"
   ]
  },
  {
   "cell_type": "markdown",
   "metadata": {},
   "source": [
    "由于实际交税没有考虑到unrealized CG的部分，所以要计算一个真正有效的税率，先Accrual再Deferred：   \n",
    "等式左边是扣了税后收入再乘上真正的税率effective capital gain，右边是仅剩下unrealized gain的部分要交的税  \n",
    "$T_{ECG}[1-(P_IT_I + P_DT_D + P_{CG}T_{CG})] = T_{CG}[1-(P_I+P_D+P_{CG})]$"
   ]
  },
  {
   "cell_type": "markdown",
   "metadata": {},
   "source": [
    "先accrual再deferred，最后终值扣税收入就是：$FV_{at} = [(1+R_{ART})^N(1-T_{ECG}) + T_{ECG} -(1-B)T_{CG}]$"
   ]
  },
  {
   "cell_type": "markdown",
   "metadata": {},
   "source": [
    "![](./pics/PWM/blend_taxing.png)"
   ]
  },
  {
   "cell_type": "markdown",
   "metadata": {},
   "source": [
    "![](./pics/PWM/blend_taxing_case1_1.png)\n",
    "![](./pics/PWM/blend_taxing_case1_2.png)"
   ]
  },
  {
   "cell_type": "markdown",
   "metadata": {},
   "source": [
    "### 29.4 Accrual equivalent tax rates"
   ]
  },
  {
   "cell_type": "markdown",
   "metadata": {},
   "source": [
    "混合制度下的真实税率：$r(1-T_{AE}) = R_AE => T_{AE} = 1 - \\frac{R_{AE}}{r}$"
   ]
  },
  {
   "cell_type": "markdown",
   "metadata": {},
   "source": [
    "可以看到收益率$R_{AE}$的6.756\\%比$R_{ART}$的7.02\\%更小，是因为多扣了unrealized CG  \n",
    "税率$T_{AE}$的15.55\\%也比只扣realized tax税率12.25\\%更高（TODO：12.25哪来的？）"
   ]
  },
  {
   "cell_type": "markdown",
   "metadata": {},
   "source": [
    "![](./pics/PWM/accrual_equivalent_return.png)"
   ]
  },
  {
   "cell_type": "markdown",
   "metadata": {},
   "source": [
    "### 29.5 Types of investment accounts"
   ]
  },
  {
   "cell_type": "markdown",
   "metadata": {},
   "source": [
    "三类交税账户：\n",
    "- ①taxable accounts，accrule交税，之前和中间交税，之后不用交税，这里已经假设投入的是税后了，考试要注意\n",
    "- ②tax-deffered accounts（TDA），deferred交税，之后交税，之前和中间不交税\n",
    "- ③tax-exempt accounts（TEA），就之前交税"
   ]
  },
  {
   "cell_type": "markdown",
   "metadata": {},
   "source": [
    "交税收益和风险都会下降：$r_{AT} = r(1-t)$，$\\sigma_{AT} = \\sigma(1-t)$"
   ]
  },
  {
   "cell_type": "markdown",
   "metadata": {},
   "source": [
    "![](./pics/PWM/tax_taxes.png)"
   ]
  },
  {
   "cell_type": "markdown",
   "metadata": {},
   "source": [
    "### 29.6 The tax effects of trading behavior"
   ]
  },
  {
   "cell_type": "markdown",
   "metadata": {},
   "source": [
    "合理的税收分配会产生alpha，比如A（收益率10%，税2%）和B（收益率10%，税3%），那么A比B多的1%就是alpha    "
   ]
  },
  {
   "cell_type": "markdown",
   "metadata": {},
   "source": [
    "Tax location 合适的资产要放在合适的账户，和Asset Allocation区分开  \n",
    "比如国债就不要放在TEA账户，因为它不用交税，浪费额度；  \n",
    "而股票赚CG天然递延，应该放在taxable账户，债券因为产生利息应该放在TDA账户"
   ]
  },
  {
   "cell_type": "markdown",
   "metadata": {},
   "source": [
    "Time period management：比如美国国债持有长期的资本利得税率是7%，但是短期是17%"
   ]
  },
  {
   "cell_type": "markdown",
   "metadata": {},
   "source": [
    "### 29.7 Tax loss harvesting and HIFO"
   ]
  },
  {
   "cell_type": "markdown",
   "metadata": {},
   "source": [
    "税基高的先卖掉：sell the highest cost basis lots first (HIFO)"
   ]
  },
  {
   "cell_type": "markdown",
   "metadata": {},
   "source": [
    "用之前的损失来抵扣税收：Tax loss harvesting  \n",
    "realized loss可以抵，unrealized loss不可以，不可抵以前的利息  \n",
    "\n",
    "比如：10元购买，2年后12卖；和10元购买，第1年跌到8元，第2年涨到12元的区别  \n",
    "利用抵扣有两个好处：①deferred tax；②本质上再投资收益α提升了"
   ]
  },
  {
   "cell_type": "markdown",
   "metadata": {},
   "source": [
    "[回到PWM首页](#Private-Wealth-Management)  "
   ]
  },
  {
   "cell_type": "markdown",
   "metadata": {},
   "source": [
    "___"
   ]
  },
  {
   "cell_type": "markdown",
   "metadata": {},
   "source": [
    "## R30 Estate Planning in a Global Context"
   ]
  },
  {
   "cell_type": "markdown",
   "metadata": {},
   "source": [
    "先讲遗产规划，让后计算核心资本，接着解决遗产规划何时给的问题（☆），最后介绍一些策略和工具"
   ]
  },
  {
   "cell_type": "markdown",
   "metadata": {},
   "source": [
    "### 30.1 Estate Planning"
   ]
  },
  {
   "cell_type": "markdown",
   "metadata": {},
   "source": [
    "**probat**：遗产的判定优先看will（意愿）或testament（遗嘱），如果实在不好判定走法定程序Probate  \n",
    "大多数人希望避免Probate，因为：①诉讼成本，court fees；②时间耽误，delay；③家丑不可外扬，public。  \n",
    "可以用4种方法规避：①共同财产所有权，joint ownership；②成立信托，living trusts；③退休计划，retirement plans；④人寿保险，life insurance  \n",
    "这些方法会把财产所有权转给受益人，所以规避了"
   ]
  },
  {
   "cell_type": "markdown",
   "metadata": {},
   "source": [
    "Wealth transfer taxes：财富何时转移？看gift和bequest的tax谁大谁小"
   ]
  },
  {
   "cell_type": "markdown",
   "metadata": {},
   "source": [
    "**Ownership rights**：继承权，三种继承\n",
    "- ①Forced heirship rules，强制/法定继承权，claw-back是后面发现有没分配到的要让已收到的人吐出来一部分  \n",
    "- ②Community property rights，共同收入财产权（各一半，特别注意是婚后收入的部分！不是所有财产！）\n",
    "- ③Separate property rights，独立财产权（各管各的）"
   ]
  },
  {
   "cell_type": "markdown",
   "metadata": {},
   "source": [
    "### 30.2 Core Capital\n"
   ]
  },
  {
   "cell_type": "markdown",
   "metadata": {},
   "source": [
    "核心资本是未来现金流流出的现值，是负债！  \n",
    "surplus = TA - CC = HC + FC - CC  \n",
    "其中FC是账户，HC是未来工资的求和，CC是：未来生活开支、房贷车贷、医疗修房子、捐赠  "
   ]
  },
  {
   "cell_type": "markdown",
   "metadata": {},
   "source": [
    "可用寿命表格法和MCS来计算，在[28.3.2 Retirement Planning](#28.3.2-Retirement-Planning)已经介绍了"
   ]
  },
  {
   "cell_type": "markdown",
   "metadata": {},
   "source": [
    "### 30.3 Relative after-tax values"
   ]
  },
  {
   "cell_type": "markdown",
   "metadata": {},
   "source": [
    "捐赠和遗产交税，投资用Accrual计税，最后导致终值情况：Relative after-tax values  \n",
    "捐赠后按照$RV = \\frac{FV_{Gift}}{FV_{Bequest}} = \\frac{[1+r_g(1-t_{ig})](1-T_g)}{[1+r_e(1-t_{ie})](1-T_e)}$  \n",
    "RT如果大于1就用gift，小于1用bequest"
   ]
  },
  {
   "cell_type": "markdown",
   "metadata": {},
   "source": [
    "根据donator和donee的收税情况，又可以有以下分类，以1元为例：  \n",
    "- ①Tax free gift，表示赠与免税的情况下，则公式记为：$RV = \\frac{FV_{Gift}}{FV_{Bequest}} = \\frac{[1+r_g(1-t_{ig})]^n}{[1+r_e(1-t_{ie})]^n(1-T_e)}$    \n",
    "- ☆②Taxable gift paid by receiver，表示税由被赠与人收到1元后交税，则公式记为：$RV = \\frac{FV_{Gift}}{FV_{Bequest}} = \\frac{[1+r_g(1-t_{ig})]^n(1-T_g)}{[1+r_e(1-t_{ie})]^n(1-T_e)}$    \n",
    "- ☆③在②的情况下，如果假设二人的投资收益率和所得税税率相同，则公式记为$RV = \\frac{FV_{Gift}}{FV_{Bequest}} = \\frac{1-T_g}{1-T_e}$，此时取决于交税的多少\n",
    "- ④Taxable gift paid by donor，表示是donor交税，交完税后donor未来还有钱给donee，所以被赠与人收到$1-T_g$最后剩下的钱还要交$(1-T_g)T_e$，但是如果是一次性给后donee交税，要交$T_e$的税，所以这里就产生了$T_gT_e$的税盾$RV = \\frac{FV_{Gift}}{FV_{Bequest}} = \\frac{[1+r_g(1-t_{ig})]^n(1-T_g+T_eT_g)}{[1+r_e(1-t_{ie})]^n(1-T_e)}$，这里有点怪\n",
    "- ⑤Charitable Gift，慈善机构免税的情况下，donor的工资税也不用交了，可以自己投资利滚利最后给遗产：$\\frac{FV_{Gift}}{FV_{Bequest}} = \\frac{(1+r_g)^n+T_{oi}[1+r_e(1-t_{ie})]^n(1-T_g)}{[1+r_e(1-t_{ie})]^n(1-T_e)}$"
   ]
  },
  {
   "cell_type": "markdown",
   "metadata": {},
   "source": [
    "### 30.4 Estate planning strategy"
   ]
  },
  {
   "cell_type": "markdown",
   "metadata": {},
   "source": [
    "遗产有一些策略：\n",
    "- ①generation skipping，隔代传承，比如爷爷直接给孙子，这样会少交一个税，但是这个也要看税率，很多当局会将这个税率调高  \n",
    "- ②spousal exemptions，配偶的免税额度；\n",
    "- ③valuation discounts，会有一些流动性、无控制权（minority）的折扣"
   ]
  },
  {
   "cell_type": "markdown",
   "metadata": {},
   "source": [
    "### 30.5 Estate planning tools"
   ]
  },
  {
   "cell_type": "markdown",
   "metadata": {},
   "source": [
    "遗产的工具：  \n",
    "\n",
    "[1] Trust\n",
    "信托主要分为2大类型：  \n",
    "- ①revocable trust arrangement，可撤销信托，财产仍属于setter，setter的债权人有索求权，setter破产可以抵债，税是setter交   \n",
    "- ②irrevocable trust，不可撤销信托，财产权属于beneficiar，所以有asset protection，税是beneficiar，但是setter可以确定支付方式   \n",
    "信托有3类支付方式：①fixed，每年固定像年金；②dicretionary，trustee有自主决策权根据情况给；③spendthrift trust，可以在小孩成年后才有自主决策权    \n",
    "\n",
    "[2] Life-insurance  \n",
    "coverage保额是beneficier的，是可以避税的，只要有insured interest就可以保  \n",
    "保险可以和信托结合使用，成立信托来买保险，然后收到赔付后利用信托的支付方式"
   ]
  },
  {
   "cell_type": "markdown",
   "metadata": {},
   "source": [
    "### 30.6 Relief from double taxation"
   ]
  },
  {
   "cell_type": "markdown",
   "metadata": {},
   "source": [
    "会有双重征税的问题，此时有两个原则：  \n",
    "- ①source jurisdiction，属地原则，适用territorial tax system，收入产生地来征税\n",
    "- ②residence jurisdiction，属人原则，适用residential tax system，对国籍征税，大部分国家都是属人原则  "
   ]
  },
  {
   "cell_type": "markdown",
   "metadata": {},
   "source": [
    "这其中有3类冲突：\n",
    "- ①residence-residence conflict（RR），双重国籍问题  \n",
    "- ②source-source conflict（SS），对外贸易，比如生产销售在两个国家  \n",
    "- ③residence-source conflict（RS），一个人去外国投资，这种情况最多"
   ]
  },
  {
   "cell_type": "markdown",
   "metadata": {},
   "source": [
    "解决方式一般采用tax credit provisions（resident对source征税部分补偿优惠）和double taxation treaties（双边贸易条款），下面是案例：\n",
    "- ①针对RR根据4类情况判断优先级：1)永居地permanant home；2)利益中心center of vital interests；3)常住地habitual dwelling；4)国籍citizenship  \n",
    "- ②针对SS冲突用double taxation treaties无法解决；\n",
    "- ③针对RS可以合同约定，比如利息股利不动产按source国来，资本利得按照resident的交"
   ]
  },
  {
   "cell_type": "markdown",
   "metadata": {},
   "source": [
    "☆☆针对tax credit provisions还有3种方法，①和②是full-resoulution完全解决，③是部分解决：  \n",
    "- ①credit method，取二者更高的税计算补交的税，比如R国税30%、S国税20%，那么还要补交10%，但如果R国税20%，S国税30%，就不用补交了   \n",
    "- ②exemption method，免税，就按S国的交，这种情况很少  \n",
    "- ③deduction method，R国税30%、S国税40%，则交(1-40%)x30%"
   ]
  },
  {
   "cell_type": "markdown",
   "metadata": {},
   "source": [
    "[回到PWM首页](#Private-Wealth-Management)  "
   ]
  },
  {
   "cell_type": "markdown",
   "metadata": {},
   "source": [
    "___"
   ]
  },
  {
   "cell_type": "markdown",
   "metadata": {},
   "source": [
    "## R31 Concentrated Single-Asset Positions"
   ]
  },
  {
   "cell_type": "markdown",
   "metadata": {},
   "source": [
    "这种一般是创始人和高管或者标的大的投资性房地产才会过度集中"
   ]
  },
  {
   "cell_type": "markdown",
   "metadata": {},
   "source": [
    "### 31.1 Concentrated Position"
   ]
  },
  {
   "cell_type": "markdown",
   "metadata": {},
   "source": [
    "集中头寸的风险：①systematic risk，上市公司；②company-specific/non-systematic/idiosyncratic risk，非上市公司；③property-specific risk，房子的风险。"
   ]
  },
  {
   "cell_type": "markdown",
   "metadata": {},
   "source": [
    "3个目标： ①risk reduction，要减少风险；②cash flow should be identified，要产生额外的现金流；③maxmize after-tax return，上市公司的资本利得高，税后收益要求多  \n",
    "6个主要限制：\n",
    "- ①mandate to hold shares，法律法规可能强制限售股；\n",
    "- ②maintain effective voting control，要保留控制权；\n",
    "- ③wish to enhance current income，认为公司股票未来会涨；\n",
    "- ④necessary for suceessful operation of a business enterprise，确保公司的正常运营；\n",
    "- ⑤taxable capital gain，税收可能很多；\n",
    "- ⑥illiquid，流动性一般比较差。\n",
    "\n",
    "还有其他法律法规、抵押给银行、内部高管持股、资本市场限制、市场价格波以及行为金融学偏差（经典的是overconfidence）等"
   ]
  },
  {
   "cell_type": "markdown",
   "metadata": {},
   "source": [
    "### 31.2 Goal-based Decision Process"
   ]
  },
  {
   "cell_type": "markdown",
   "metadata": {},
   "source": [
    "像mental accounting分层，详细见[BPT](./BF.ipynb/#7.8.3-Behavioral-Portfolio-Theory)"
   ]
  },
  {
   "cell_type": "markdown",
   "metadata": {},
   "source": [
    "### 31.3 Asset Location and Transfer"
   ]
  },
  {
   "cell_type": "markdown",
   "metadata": {},
   "source": [
    "资产的位置，大原则是有优惠税率的应该放到taxable   \n",
    "\n",
    "对于concentrated的资产，提前gift给孩子可能会丧失投票权，但是晚给随着价格上涨税收又很多，所以可以分为voting-preferred（自己留下）和non-voting common（给小孩，先交税），这种策略又叫做estate tax freeze。这里不考虑上面[relative value](#30.3-Relative-after-tax-values)，因为先赠与要交的税就是少的，只是RV是站在遥远的未来看"
   ]
  },
  {
   "cell_type": "markdown",
   "metadata": {},
   "source": [
    "### 31.4 Techniques to Manage Concentrated Position"
   ]
  },
  {
   "cell_type": "markdown",
   "metadata": {},
   "source": [
    "现在开始真正管理了：\n",
    "- ①outright sale，可以直接卖掉做分散化；\n",
    "- ②monetization strategies，先把资产融资，然后在去配置股债；\n",
    "- ③hedging the value of the concentrated asset，只是保值"
   ]
  },
  {
   "cell_type": "markdown",
   "metadata": {},
   "source": [
    "### 31.5 Managing Concentrated Stock Position  "
   ]
  },
  {
   "cell_type": "markdown",
   "metadata": {},
   "source": [
    "管理上市公司集中股票有3种方法：①equity monetization；②hedging；③yield enhancement"
   ]
  },
  {
   "cell_type": "markdown",
   "metadata": {},
   "source": [
    "#### 31.5.1 Equity Monetization"
   ]
  },
  {
   "cell_type": "markdown",
   "metadata": {},
   "source": [
    "可以股票质押，然后变成无风险组合，有4种工具：\n",
    "- ①short sale against the box，直接做空，但是会产生利息费用，卖股票也有税收  \n",
    "- ②total return equity swap，利用互换降低风险；\n",
    "- ③option，long put + short call；\n",
    "- ④short forward，场外没有保证金成本更小"
   ]
  },
  {
   "cell_type": "markdown",
   "metadata": {},
   "source": [
    "#### 31.5.2 Lock in Unrealized Gains：Hedging"
   ]
  },
  {
   "cell_type": "markdown",
   "metadata": {},
   "source": [
    "锁定收益，有3种方法：\n",
    "- ①purchase of puts，可以做protective put，或者一对put，或者Knock-out put（更便宜）  \n",
    "- ②cashless collars，S+P-C；\n",
    "- ③PVF，prepaid variable forward，预付可变远期，即签订了远期又提前拿到了钱，未来给对方多少股票根据当时的市场价格决定，即Hegde又monetization。"
   ]
  },
  {
   "cell_type": "markdown",
   "metadata": {},
   "source": [
    "#### 31.5.3 Yield Enhancement"
   ]
  },
  {
   "cell_type": "markdown",
   "metadata": {},
   "source": [
    "更多的是为了收益增强，比如用covered call"
   ]
  },
  {
   "cell_type": "markdown",
   "metadata": {},
   "source": [
    "#### 31.5.4 Others"
   ]
  },
  {
   "cell_type": "markdown",
   "metadata": {},
   "source": [
    "①tax-optimization：还有跟踪指数被动管理，增加新股让整体组合分散化；  \n",
    "②cross-hedge，交叉对冲，对冲的标的不同  \n",
    "③exchange fund，让不同公司创始人A、B、C分别把自己的股票放到组合分散化"
   ]
  },
  {
   "cell_type": "markdown",
   "metadata": {},
   "source": [
    "### 31.6 Privately Held Business"
   ]
  },
  {
   "cell_type": "markdown",
   "metadata": {},
   "source": [
    "非上市股的流动性较差、没有非系统性风险，其管理策略主要有：\n",
    "- ①strategic buyers，卖给同行战略投资者，会有更高的价格，因为可能有synergy；\n",
    "- ②private equity firms，卖给PE，根据估值收购，没有溢价了；\n",
    "- ③recapitalization，分步骤退出，一般伴随着对赌协议Gambling agreement，这种获得了流动性但是损失了控制权（废话），PE也能够保证管理层的积极性retain incentive of management\n",
    "- ④sale to other mgt or key employees，卖给高管和重要员工；\n",
    "- ⑤diversititure，剥离，把子公司从母公司中剥离，disposition of non-core business equity；\n",
    "- ⑥sale/gift to family members，家族企业继承；\n",
    "- ⑦line of credit secured by company shares，个人信用担保；\n",
    "- ⑧IPO，最好的方式；\n",
    "- ⑨ESOP，employee stock ownership plan，员工持股计划。"
   ]
  },
  {
   "cell_type": "markdown",
   "metadata": {},
   "source": [
    "### 31.7 Real Estate "
   ]
  },
  {
   "cell_type": "markdown",
   "metadata": {},
   "source": [
    "影响的房地产估值的因素：①当前估值水平current valuation；②tax rate；③市场信贷情况：interest rates和lending condition。"
   ]
  },
  {
   "cell_type": "markdown",
   "metadata": {},
   "source": [
    "三种方法：①房贷，mortgage financing；②捐款，charitably inclined，捐款有税盾，但没什么用；③售后回租，sale and lease back。"
   ]
  },
  {
   "cell_type": "markdown",
   "metadata": {},
   "source": [
    "[回到PWM首页](#Private-Wealth-Management)  "
   ]
  },
  {
   "cell_type": "markdown",
   "metadata": {},
   "source": [
    "___"
   ]
  },
  {
   "cell_type": "markdown",
   "metadata": {},
   "source": [
    "## R32 Risk Management for Individuals"
   ]
  },
  {
   "cell_type": "markdown",
   "metadata": {},
   "source": [
    "个人的风险管理，先介绍HC/FC/Net worth，然后将介绍一些管理策略、风险的特点、保险和年金"
   ]
  },
  {
   "cell_type": "markdown",
   "metadata": {},
   "source": [
    "### 32.1 HC/FC/Net-worth"
   ]
  },
  {
   "cell_type": "markdown",
   "metadata": {},
   "source": [
    "HC、FC、Net worth在之前也有介绍[economic B/S](./AA.ipynb/#12.2-Economic-Balance-Sheet(Holistic-B/S))，需要提一下的是HC的折现率不一定用rf，应该加一点这样更加保守"
   ]
  },
  {
   "cell_type": "markdown",
   "metadata": {},
   "source": [
    "这里介绍一下不同阶段人的特点和需求：\n",
    "- ①小于18岁的教育阶段，依赖于父母，不关注风险管理；\n",
    "- ②18-35岁的事业初期，开始准备小孩的教育基金，但是不会为退休进行储蓄，HC很大所以要买寿险规避\n",
    "- ③35-50岁的事业上升期，准备小孩大学的教育基金，开始研究退休计划\n",
    "- ④51-60岁的事业巅峰期，此时财富达到巅峰，需要失业险保障\n",
    "- ⑤退休前几年，开始降低风险，准备税务规划（工资达到顶峰）  \n",
    "- ⑥退休后10年，钱还很多不想追求风险\n",
    "- ⑦退休后期，小心长寿风险"
   ]
  },
  {
   "cell_type": "markdown",
   "metadata": {},
   "source": [
    "![](./pics/PWM/FC_stage1.png)\n",
    "![](./pics/PWM/FC_stage2.png)"
   ]
  },
  {
   "cell_type": "markdown",
   "metadata": {},
   "source": [
    "### 32.2 Risk Management Strategy for Individuals"
   ]
  },
  {
   "cell_type": "markdown",
   "metadata": {},
   "source": [
    "4个步骤：先确认目标，然后识别风险，开始管理风险，并监控追踪"
   ]
  },
  {
   "cell_type": "markdown",
   "metadata": {},
   "source": [
    "对于风险管理根据损失和频率分成4种情况，其中risk transfer可以买保险"
   ]
  },
  {
   "cell_type": "markdown",
   "metadata": {},
   "source": [
    "![](./pics/PWM/individuals_risk_management_techniques.png)"
   ]
  },
  {
   "cell_type": "markdown",
   "metadata": {},
   "source": [
    "### 32.3 Individual Risk Exposures"
   ]
  },
  {
   "cell_type": "markdown",
   "metadata": {},
   "source": [
    "个人的风险主要有6个：\n",
    "- ①earnings risk，收入风险，可以买是能保险：insure with disablity insurance\n",
    "- ②premature death risk，活太短的风险，insure with life insurance  \n",
    "- ③longevity risk，活太长的风险，insure with annuities\n",
    "- ④property risk，房屋维修的风险，property insurance\n",
    "- ⑤liablity risk，责任险，liablity insurance\n",
    "- ⑥health risk，健康风险，health insurance"
   ]
  },
  {
   "cell_type": "markdown",
   "metadata": {},
   "source": [
    "### 32.4 Life Insurance"
   ]
  },
  {
   "cell_type": "markdown",
   "metadata": {},
   "source": [
    "在机构IPS有介绍[insurer](./PM.ipynb/#33.6-Insuerers)的基本险种  "
   ]
  },
  {
   "cell_type": "markdown",
   "metadata": {},
   "source": [
    "还有一些术语要注意：\n",
    "- ①寿险有participating和non-participating，区别是是否有分红；\n",
    "- ②term保障期间，contestability period调查期，isured被保险人，beneficiary受益人，coverage保额，policy owner投保人\n",
    "- ③eliminating/waiting period 重疾险的等待期，non-forfeiture clause不丧失现金价值，guaranteed insurability可保"
   ]
  },
  {
   "cell_type": "markdown",
   "metadata": {},
   "source": [
    "net premium，直接和理赔挂钩，比如死亡概率1%，300w的保额，保费为3w  \n",
    "gross premium，在net基础上增加了运营和销售费用，还有平滑多交的cash value"
   ]
  },
  {
   "cell_type": "markdown",
   "metadata": {},
   "source": [
    "cash value不是一开始就很高，初期的差额很多用于运营销售费用"
   ]
  },
  {
   "cell_type": "markdown",
   "metadata": {},
   "source": [
    "![](./pics/PWM/cash_value.png)"
   ]
  },
  {
   "cell_type": "markdown",
   "metadata": {},
   "source": [
    "保险的净成本包括没死和没死并退保两种，算出的净成本现值除以（保额/1000）就是成本指数    \n",
    "net prmium coast index（没死）和surrender cost index（没死并退保）"
   ]
  },
  {
   "cell_type": "markdown",
   "metadata": {},
   "source": [
    "![](./pics/PWM/insurance_cost_index.png)"
   ]
  },
  {
   "cell_type": "markdown",
   "metadata": {},
   "source": [
    "### 32.5 Annuities"
   ]
  },
  {
   "cell_type": "markdown",
   "metadata": {},
   "source": [
    "年金和immediate/deferred 和 fixed/variable 组合4种形式  \n",
    "immediate是今年购买就能收到，deferred是明年，fixed是未来的固定，variable是结合经济实际情况  "
   ]
  },
  {
   "cell_type": "markdown",
   "metadata": {},
   "source": [
    "fixed和variable annuities的优缺点对比及其他因素：\n",
    "- ①volatility of benefit amount，fiexed的波动小；\n",
    "- ②flexibility，variable更加灵活；\n",
    "- ③mortality credits，由于死亡产生的好处，保险公司用多个年金来分散化；\n",
    "- ④inflation concerns，variable更好；\n",
    "- ⑤payout method，支付形式上，有joint life（夫妻一个人活就给）、certain（有支付期间）、life annuity period certain（确保最少年份数）、refund（可退款）"
   ]
  },
  {
   "cell_type": "markdown",
   "metadata": {},
   "source": [
    "[回到PWM首页](#Private-Wealth-Management)  "
   ]
  },
  {
   "cell_type": "markdown",
   "metadata": {},
   "source": [
    "___"
   ]
  }
 ],
 "metadata": {
  "kernelspec": {
   "display_name": "Python 3",
   "language": "python",
   "name": "python3"
  },
  "language_info": {
   "codemirror_mode": {
    "name": "ipython",
    "version": 3
   },
   "file_extension": ".py",
   "mimetype": "text/x-python",
   "name": "python",
   "nbconvert_exporter": "python",
   "pygments_lexer": "ipython3",
   "version": "3.7.3"
  }
 },
 "nbformat": 4,
 "nbformat_minor": 4
}
