{
 "cells": [
  {
   "cell_type": "markdown",
   "metadata": {},
   "source": [
    "# Fixed-income Portfolio Management"
   ]
  },
  {
   "cell_type": "markdown",
   "metadata": {},
   "source": [
    "[回到code-for-CFA首页](./README.md)  "
   ]
  },
  {
   "cell_type": "markdown",
   "metadata": {},
   "source": [
    "FI上午题考资产如何配置ALM/AO，下午考交易策略  \n",
    "FI先介绍债券在组合中的作用，然后介绍相关策略"
   ]
  },
  {
   "cell_type": "markdown",
   "metadata": {},
   "source": [
    "[R18 Overview of Fixed-Income Portfolio Management](#R18-Overview-of-Fixed-Income-Portfolio-Management)  \n",
    "[R19 Liability-Driven and Index-Based Strategies](#R19-Liability-Driven-and-Index-Based-Strategies)  \n",
    "[R20 Yield Curve Strategies](#R20-Yield-Curve-Strategies)  \n",
    "[R21 Fixed-Income Active Management: Credit strategies](#R21-Fixed-Income-Active-Management:-Credit-strategies)  "
   ]
  },
  {
   "cell_type": "markdown",
   "metadata": {},
   "source": [
    "## R18 Overview of Fixed-Income Portfolio Management"
   ]
  },
  {
   "cell_type": "markdown",
   "metadata": {},
   "source": [
    "### 18.1 Roles of fixed-income in portfolios"
   ]
  },
  {
   "cell_type": "markdown",
   "metadata": {},
   "source": [
    "债券的核心作用：\n",
    "- ①Diversification benefit，分散化效果好，海外的相关性更低，alternative的分散性是最好的；  \n",
    "并且波动率相对股票较低：less volatile   \n",
    "政府债和股票相关性在萧条时会下降，而高收益债和股票在萧条时相关性会上升（因为违约风险上升，所以这两个都不要，而买政府债）  \n",
    "- ②regular cash flows，稳定的现金流  \n",
    "可以用ladder bond portfolio的策略买一堆不同年份的零息债券去meet future obligation  \n",
    "- ③hedge for inflation，抗通胀  \n",
    "fixed-coupon bond本金和利息都不可以；floating-coupon bond本金不可以利息可以；inflation-linked bond本金和利息都可以"
   ]
  },
  {
   "cell_type": "markdown",
   "metadata": {},
   "source": [
    "### 18.2 Fixed-income mandates"
   ]
  },
  {
   "cell_type": "markdown",
   "metadata": {},
   "source": [
    "在资产配置上更加适合ALM/LDI/Mandate，不是很适合去Asset Only"
   ]
  },
  {
   "cell_type": "markdown",
   "metadata": {},
   "source": [
    "#### 18.2.1 Liability-based mandates"
   ]
  },
  {
   "cell_type": "markdown",
   "metadata": {},
   "source": [
    "面向负债管理的有四方法，①和②最常用：\n",
    "- ①cash flow matching（成本高）\n",
    "- ②duration matching（更加经济）  \n",
    "- ③contingent immunization（不确定的免疫策略），在资产大于负债时可以主动投资，有点像AA中ALM的return seeking   \n",
    "- ④horizon matching，短期用cash flow matching因为利率波动高，长期用duration matching"
   ]
  },
  {
   "cell_type": "markdown",
   "metadata": {},
   "source": [
    "##### 18.2.1.1 Duration Matching"
   ]
  },
  {
   "cell_type": "markdown",
   "metadata": {},
   "source": [
    "**☆免疫策略**：Duration matching经典的策略Immunization，要求两点：①资产负债的久期一致；②资产和负债的金额一致   \n",
    "免疫策略可以cover多笔负债，但是精度低不推荐 ，如果还是想则要增加一个条件：contribution的资产大于负债  \n",
    "最好的免疫策略是duration、key-rate duration和convexity三个完全一致，但最后两个太难了，这也是可以解释无法完美免疫的原因  \n",
    "免疫策略可以让reinvestment risk和price risk相互抵消"
   ]
  },
  {
   "cell_type": "markdown",
   "metadata": {},
   "source": [
    "**免疫策略无法生效的三个原因**：①non-parallel risk，非平行移动；②duration change，时间变化，资产和负债的久期已经不匹配了；③convexity，凸性不匹配。"
   ]
  },
  {
   "cell_type": "markdown",
   "metadata": {},
   "source": [
    "**CFM和DM的对比**：\n",
    "- ①收益率曲线假设：CFM没有假设，DM假设的是收益率曲线平行移动，如果非平行移动则要看key-rate duration matching  \n",
    "- ②基本原则：CFM是可以多笔，而DM只能单笔  \n",
    "- ③rebalancing：CFM不需要但是经常想调，CFM则是要经常调整  \n",
    "- ④complexity：CFM相对比DM不是很复杂\n"
   ]
  },
  {
   "cell_type": "markdown",
   "metadata": {},
   "source": [
    "免疫策略的风险：买barbell（期限在短期和长期）比bullet（期限集中在中期）的dispersion更大，凸性更大，风险更大"
   ]
  },
  {
   "cell_type": "markdown",
   "metadata": {},
   "source": [
    "##### 18.2.1.2 Cash Flow Matching"
   ]
  },
  {
   "cell_type": "markdown",
   "metadata": {},
   "source": [
    "要从后往前cover，比如未来3年，每年有100元的支出：\n",
    "- 第三年：3-year bond A : parA + couponA = 100\n",
    "- 第二年：2-year bond B : parB + couponB + couponA = 100\n",
    "- 第一年：1-year bond C : parC + couponC + couponB + couponA = 100"
   ]
  },
  {
   "cell_type": "markdown",
   "metadata": {},
   "source": [
    "**cash in advance**：由于负债和债券的时间不一定匹配，可能差个几天，所以需要在第一笔负债到期前提前赎回债券，资金成本高带来price risk"
   ]
  },
  {
   "cell_type": "markdown",
   "metadata": {},
   "source": [
    "#### 18.2.2 Total Return Mandates"
   ]
  },
  {
   "cell_type": "markdown",
   "metadata": {},
   "source": [
    "三类benchmark：①pure indexing，和基准完全一样；②enhanced indexing，整体一致，偏差为了收益；③active management，可以有大的偏差。"
   ]
  },
  {
   "cell_type": "markdown",
   "metadata": {},
   "source": [
    "债券有以下经典的风险，其中①②③是比较重要的enhanced indexing需要一致：\n",
    "- ☆①Interest rate risk，特指平滑移动的风险，用duration来计算\n",
    "- ☆②yield curve risk，指斜率变化（twist）和曲度变化（butterfly），可用key-rate duration（用零息债券，但是不一定有）或PV distribution of CF（类似cash flow matching）\n",
    "- ☆③spread risk，息差风险（国债没有），$Y_{corp} = Y_{benchmark} + spread$，可以用spread duration来管理  \n",
    "- ④credit risk，可以用credit rating或者expected loss来管理   \n",
    "- ⑤optionality risk，含权风险"
   ]
  },
  {
   "cell_type": "markdown",
   "metadata": {},
   "source": [
    "### 18.3 Bond Market Liquidity"
   ]
  },
  {
   "cell_type": "markdown",
   "metadata": {},
   "source": [
    "债券市场比股票的流动性弱、透明度低，流动性一般与收益率反相关  \n",
    "投资者权衡yield和Liquidity，如果不持有至到期就买流动性好的  "
   ]
  },
  {
   "cell_type": "markdown",
   "metadata": {},
   "source": [
    "具体来看流动性的影响因素包括：\n",
    "- ①issuer，发行方认可度  \n",
    "- ②credit quality，信用质量  \n",
    "- ③issue frequency，发行频率，如果经常发行知道的人多流动性好\n",
    "- ④issue size，发行规模越大越好\n",
    "- ⑤maturity，到期时间越短越活跃\n",
    "- ⑥new，新发行的流动性高"
   ]
  },
  {
   "cell_type": "markdown",
   "metadata": {},
   "source": [
    "**流动性影响定价**：如过流动性较差可以用matrix pricing，相当于interpolation差补发来定价  "
   ]
  },
  {
   "cell_type": "markdown",
   "metadata": {},
   "source": [
    "### ☆18.4 Decompose Expected Return"
   ]
  },
  {
   "cell_type": "markdown",
   "metadata": {},
   "source": [
    "债券的收益分解，其中①+②又叫做roll yield，相对直观好计算"
   ]
  },
  {
   "cell_type": "markdown",
   "metadata": {},
   "source": [
    "$E(R) = ①yield income + ②rolldown return + ③E(\\Delta y) - ④E(credit loss) + ⑤E(currency G/L)$"
   ]
  },
  {
   "cell_type": "markdown",
   "metadata": {},
   "source": [
    "①yield income 利息收入  \n",
    "yield income = annual coupon payment / current bond price  \n",
    "annual coupon payment = coupon + reinvestment income\n",
    "\n",
    "②rolldown return 移仓收入  \n",
    "rolldown return = $\\frac{P_{end} - P_{begin}}{P_{begin}}$\n",
    "\n",
    "③change in price based on investor's view yields and yield spreads，利率变动导致的收益  \n",
    "$=-duration \\times \\Delta yield + 1/2 \\times convexity \\times (\\Delta yield)^2$\n",
    "\n",
    "④expected credit loss，信用违约损失 = PD x LGD  \n",
    "= probability of default x loss given default\n",
    "\n",
    "⑤currency G/L，汇率变动导致的gain loss"
   ]
  },
  {
   "cell_type": "markdown",
   "metadata": {},
   "source": [
    "### 18.5 Leverage"
   ]
  },
  {
   "cell_type": "markdown",
   "metadata": {},
   "source": [
    "用杠杆后的自有资金收益率：$R_p = \\frac{(V_E+V_B)R_I - V_BR_B}{VE} = R_I + \\frac{V_B}{V_E}(R_I-R_B)$  \n",
    "证明如果投资的收益率能够大于借债的成本，加杠杆能放大收益  "
   ]
  },
  {
   "cell_type": "markdown",
   "metadata": {},
   "source": [
    "用杠杆后的久期：$D_P = D_I + \\frac{V_B}{V_E}(D_I-D_B)$"
   ]
  },
  {
   "cell_type": "markdown",
   "metadata": {},
   "source": [
    "直接借钱买债券放大杠杆并不好，建议用衍生品，因为成本低、流动性好：\n",
    "- ①furture contract，杠杆比率 = （notional value - margin） / margin，比如用10元的保证金买了100元的标的，杠杆就是9倍（注意不是10倍）  \n",
    "- ②swap agreement，都不用付钱，因为固定利率的久期 - 浮动利率久期 > 0，所以加了久期的杠杆  \n",
    "- ③structured financial instruments，结构化票据中的inverse floating-rate note（反向付息票据）  \n",
    "coupon rate = C(固定) - L X R(市场利率)，市场利率越高利息越少 \n",
    "- ④repurchase agreement（repos），回购级借款  \n",
    "- ⑤securities lending，债券做空，相当于借了债券后卖掉，然后再将钱存到broker中赚取collateral的收益  \n",
    "回扣收益rebate rate = collateral earnings rate - security lending rate  \n"
   ]
  },
  {
   "cell_type": "markdown",
   "metadata": {},
   "source": [
    "杠杆的风险：对流动性要求高，有爆仓风险fire sale"
   ]
  },
  {
   "cell_type": "markdown",
   "metadata": {},
   "source": [
    "### 18.6 Fixed-income Portfolio Taxation"
   ]
  },
  {
   "cell_type": "markdown",
   "metadata": {},
   "source": [
    "税收来自于利息（包含再投资部分）和资本利得，资本利得税小于利息税，鼓励交易   \n",
    "持有时间：持有时间越长资本利得税越少    \n",
    "capital loss不能抵利息税，只能抵减未来的capital gain，能抵的那部分叫做carried forward"
   ]
  },
  {
   "cell_type": "markdown",
   "metadata": {},
   "source": [
    "[回到FI首页](#Fixed-income-Portfolio-Management)  "
   ]
  },
  {
   "cell_type": "markdown",
   "metadata": {},
   "source": [
    "___"
   ]
  },
  {
   "cell_type": "markdown",
   "metadata": {},
   "source": [
    "## R19 Liability-Driven and Index-Based Strategies"
   ]
  },
  {
   "cell_type": "markdown",
   "metadata": {},
   "source": [
    "围绕两个策略深入研究"
   ]
  },
  {
   "cell_type": "markdown",
   "metadata": {},
   "source": [
    "### 19.1 LDI"
   ]
  },
  {
   "cell_type": "markdown",
   "metadata": {},
   "source": [
    "#### 19.1.1 Type of Liability"
   ]
  },
  {
   "cell_type": "markdown",
   "metadata": {},
   "source": [
    "ALM其实包括LDI和ADL（Asset-driven Liability），ADL是资产给定用负债去匹配资产"
   ]
  },
  {
   "cell_type": "markdown",
   "metadata": {},
   "source": [
    "负债主要有以下四个类别，CFA主要研究对①的管理所以用LDI，②③④用ADL更好：\n",
    "- ①Type I，知道时间，知道金额，如非含权债券\n",
    "- ②Type II，不知道时间，知道金额，如callable和Putble bond以及term life insurance\n",
    "- ③Type III，知道时间，不知道金额，比如浮动利率债和TIPS  \n",
    "- ④Type IV，不知道时间，不知道金额，比如DB plan和财产保险"
   ]
  },
  {
   "cell_type": "markdown",
   "metadata": {},
   "source": [
    "#### 19.1.2 Managing Single Liability"
   ]
  },
  {
   "cell_type": "markdown",
   "metadata": {},
   "source": [
    "对于1期的就用[免疫策略](#18.2.1.1-Duration-Matching)  \n",
    "最好用零息债券，这样没有再投资的风险（没有coupon）也没有价格风险（持有至到期）"
   ]
  },
  {
   "cell_type": "markdown",
   "metadata": {},
   "source": [
    "记住callable bond的久期是负的，puttable是正的"
   ]
  },
  {
   "cell_type": "markdown",
   "metadata": {},
   "source": [
    "#### 19.1.2 Managing Multiple Liablities"
   ]
  },
  {
   "cell_type": "markdown",
   "metadata": {},
   "source": [
    "对于多期就用[cash flow matching](#18.2.1.2-Cash-Flow-Matching) "
   ]
  },
  {
   "cell_type": "markdown",
   "metadata": {},
   "source": [
    "公司不buy back负债的原因：①回购困难有成本；②公司债的流动性差；③**到期偿付能够提升信用等级**"
   ]
  },
  {
   "cell_type": "markdown",
   "metadata": {},
   "source": [
    "#### 19.1.3 Contingent Immunization"
   ]
  },
  {
   "cell_type": "markdown",
   "metadata": {},
   "source": [
    "#### 19.1.4 Derivatives Overlay"
   ]
  },
  {
   "cell_type": "markdown",
   "metadata": {},
   "source": [
    "使用衍生品：\n",
    "- ①期货合约：合约数 = (libility BPV - asset BPV) / futures BPV  \n",
    "如果用国债期货要除以转换因子：futures BPV = $\\frac{BPV_{CTD}}{CF_{CTD}}$  \n",
    "- ②利率互换，也是和期货合约一样的计算方法"
   ]
  },
  {
   "cell_type": "markdown",
   "metadata": {},
   "source": [
    "hedge ratio不一定要达到100%完全匹配的状态，可以更flexibility，比如发现利率未来下跌，资产价格要上升，对未来就不是风险"
   ]
  },
  {
   "cell_type": "markdown",
   "metadata": {},
   "source": [
    "#### 19.1.5 LDI：Example of DB Plan"
   ]
  },
  {
   "cell_type": "markdown",
   "metadata": {},
   "source": [
    "DB plan分为ABO（accumulated banefit obligation）和PBO（projected benefit obligation）  \n",
    "PBO用退休工资算假设员工干到退休，ABO用当前工资算，PBO往往比ABO更大，DC plan的话应该ABO更合适  \n",
    "ABO/PBO考虑的因素包括：①工资增长率；②工资水平；③寿命；④利率水平   \n",
    "一般假设工资水平w = 通胀率+g，一般还会更高一点防止longevity risk"
   ]
  },
  {
   "cell_type": "markdown",
   "metadata": {},
   "source": [
    "![](./pics/FI/db_plan.png)"
   ]
  },
  {
   "cell_type": "markdown",
   "metadata": {},
   "source": [
    "#### 19.1.6 Risk in LDI"
   ]
  },
  {
   "cell_type": "markdown",
   "metadata": {},
   "source": [
    "model risk：假设错误、计算错误    \n",
    "interest risk：没考虑凸性  \n",
    "yield curve risk：非平行移动  \n",
    "spread risk：息差风险  \n",
    "counterparty risk：对手方风险  \n",
    "collateral exhaustion risk：用杠杆保证金耗尽  \n",
    "liquidity risk"
   ]
  },
  {
   "cell_type": "markdown",
   "metadata": {},
   "source": [
    "### 19.2 Matching a FI Portfolio to an Index"
   ]
  },
  {
   "cell_type": "markdown",
   "metadata": {},
   "source": [
    "[18.2.2 Total Return Mandates](#18.2.2-Total-Return-Mandates)已经介绍过了三个benchmark  \n",
    "三类benchmark：①pure indexing，和基准完全一样；②enhanced indexing，整体一致，偏差为了收益；③active management，可以有大的偏差。"
   ]
  },
  {
   "cell_type": "markdown",
   "metadata": {},
   "source": [
    "☆债券跟踪风险因子：因为债券的体量大、种类多、难以像股票那样复制，发行时很多用OTC难以购买，所以要跟踪风险因子"
   ]
  },
  {
   "cell_type": "markdown",
   "metadata": {},
   "source": [
    "#### 19.2.1 Passive Investment"
   ]
  },
  {
   "cell_type": "markdown",
   "metadata": {},
   "source": [
    "被动投资优点是分散化，缺点是难以执行"
   ]
  },
  {
   "cell_type": "markdown",
   "metadata": {},
   "source": [
    "其他被动投资方式：①mutual fund，中小投资者的复制指数方式；②ETF；③total return swap，全部收益互换（成本更低，但是只能带来指数收益，没有标的资产）"
   ]
  },
  {
   "cell_type": "markdown",
   "metadata": {},
   "source": [
    "#### 19.2.2 Enhanced Indexing Strategy"
   ]
  },
  {
   "cell_type": "markdown",
   "metadata": {},
   "source": [
    "**目标**：①让primary risk factors匹配，包括4项：未来现金流现值、interest rate（duration）、spread（spread-duration）、curve（key-rate duration）；  \n",
    "②让持仓匹配，用stratified sampling，将债券按长中短期和政府金融公司债两个维度分列"
   ]
  },
  {
   "cell_type": "markdown",
   "metadata": {},
   "source": [
    "**可能带来的收益**：\n",
    "- ①Lower cost enhancement，低交易成本；\n",
    "- ②Issue selection enhancement，债券估值收益；\n",
    "- ③Yield curve enhancement，会有yield curve的收益；\n",
    "- ④Sector/ quality enhancements，行业板块策略收益\n",
    "- ⑤Call exposure enhancement，含权债的收益。"
   ]
  },
  {
   "cell_type": "markdown",
   "metadata": {},
   "source": [
    "#### 19.2.3 Benchmark Selection"
   ]
  },
  {
   "cell_type": "markdown",
   "metadata": {},
   "source": [
    "基于Strategic asset allocation（SAA）长期战略的考虑和Tactical asset allocation（TAA）短期战术的考虑"
   ]
  },
  {
   "cell_type": "markdown",
   "metadata": {},
   "source": [
    "指数选择要满足SAMURIA的7个原则，详细见[Trading](./Trading.ipynb/#35.2.2-Properties-of-a-Valid-Benchmark)"
   ]
  },
  {
   "cell_type": "markdown",
   "metadata": {},
   "source": [
    "smart-beta就是factor-based方法"
   ]
  },
  {
   "cell_type": "markdown",
   "metadata": {},
   "source": [
    "还有laddered、bullet、barbell三种组合方式，laddered每期都有一段现金流，凸性介于其他两者之间"
   ]
  },
  {
   "cell_type": "markdown",
   "metadata": {},
   "source": [
    "[回到FI首页](#Fixed-income-Portfolio-Management)  "
   ]
  },
  {
   "cell_type": "markdown",
   "metadata": {},
   "source": [
    "___"
   ]
  },
  {
   "cell_type": "markdown",
   "metadata": {},
   "source": [
    "## R20 Yield Curve Strategies"
   ]
  },
  {
   "cell_type": "markdown",
   "metadata": {},
   "source": [
    "### 20.1 Overview of Yield Curve"
   ]
  },
  {
   "cell_type": "markdown",
   "metadata": {},
   "source": [
    "yield curve很难建模把控：\n",
    "- ①unsynchronized，移动是非同步的，比如twist和butterfly；\n",
    "- ②interpolation，不同到期日之间有时候无法获得市场报价，只能用差补法计算；\n",
    "- ③inconsistent、outliers，相邻期限值可能不同，可能因为会计或政策上的设定，比如5年期免税导致大量买入"
   ]
  },
  {
   "cell_type": "markdown",
   "metadata": {},
   "source": [
    "**☆yield curve三类变化**：\n",
    "- ①parallel shift（level），平行移动；\n",
    "- ②change in slope，flattening/steeping（slope），斜率变化，$spread = Y_L - Y_S$  \n",
    "- ③change in curvature（curvature），曲度变化，$spread = 2 \\times Y_M - Y_L - Y_S$    \n",
    "\n",
    "由于短期利率变化一般大于长期，所以会有：  \n",
    "upward shift in level：flatten + less curved  \n",
    "doward shift in level：steepen + more curved"
   ]
  },
  {
   "cell_type": "markdown",
   "metadata": {},
   "source": [
    "**Duration**：久期也有5类，对①②③CFA3级不做区分\n",
    "- ①Macaulay duration，加权平均回收期；\n",
    "- ②Modified duration，债券价格对利率的敏感度；\n",
    "- ③Effective duration，事后观测计算，适用于含权债；  \n",
    "- ④Key rate duration，只研究几个时点的，适用于curve非平行移动；\n",
    "- ⑤money duration，和PVBP/DV01/BPV一个意思，利率波动影响债券的具体金额"
   ]
  },
  {
   "cell_type": "markdown",
   "metadata": {},
   "source": [
    "Convexity：凸性，callable负/puttable正"
   ]
  },
  {
   "cell_type": "markdown",
   "metadata": {},
   "source": [
    "### 20.2 Yield Curve Strategies"
   ]
  },
  {
   "cell_type": "markdown",
   "metadata": {},
   "source": [
    "![](./pics/FI/yield_curve_strategies.png)"
   ]
  },
  {
   "cell_type": "markdown",
   "metadata": {},
   "source": [
    "#### 20.2.1 Strategies for stable yield curve"
   ]
  },
  {
   "cell_type": "markdown",
   "metadata": {},
   "source": [
    "[1] Buy and hold，持有至到期  \n",
    "优点：①赚取coupon和reinvesting收益，获得高的YTM；②不用交易节省成本  \n",
    "注意：持有至到期也是active策略，被动是指跟踪指数"
   ]
  },
  {
   "cell_type": "markdown",
   "metadata": {},
   "source": [
    "[2] riding（roll down）the yield curve，买长期卖短期  \n",
    "如果曲线不变的话，那么随着快要到期，yield会不断下降，债券价格会上升，如果曲线越陡峭，收益越大"
   ]
  },
  {
   "cell_type": "markdown",
   "metadata": {},
   "source": [
    "[3] sell convexity，卖凸性（买低凸性卖高凸性），赚取相同久期的凸性差距，有点像期权费  \n",
    "可以：①买callbale卖puttale；②卖option；③卖barbell买bullet；④买低凸性债卖高凸性。  "
   ]
  },
  {
   "cell_type": "markdown",
   "metadata": {},
   "source": [
    "[4] carry trade，买债融资套利，国内国际市场套利  \n",
    "比如国内市场可以用回购借钱3%，买5%的债券，CT=2%；还可以用互换、债券期货"
   ]
  },
  {
   "cell_type": "markdown",
   "metadata": {},
   "source": [
    "#### 20.2.2 Strategies for yield curve movement"
   ]
  },
  {
   "cell_type": "markdown",
   "metadata": {},
   "source": [
    "duration management，在久期已经匹配的情况下，针对非平行移动用调整凸性可以获得收益  \n",
    "buy convexity（买凸性）的4种策略：①买puttable卖callable；②买option；③买barbell卖bullet；④买高凸性债卖低凸性债。"
   ]
  },
  {
   "cell_type": "markdown",
   "metadata": {},
   "source": [
    "[回到FI首页](#Fixed-income-Portfolio-Management)  "
   ]
  },
  {
   "cell_type": "markdown",
   "metadata": {},
   "source": [
    "___"
   ]
  },
  {
   "cell_type": "markdown",
   "metadata": {},
   "source": [
    "## R21 Fixed-Income Active Management: Credit strategies"
   ]
  },
  {
   "cell_type": "markdown",
   "metadata": {},
   "source": [
    "[回到FI首页](#Fixed-income-Portfolio-Management)  "
   ]
  },
  {
   "cell_type": "markdown",
   "metadata": {},
   "source": [
    "___"
   ]
  }
 ],
 "metadata": {
  "kernelspec": {
   "display_name": "Python 3",
   "language": "python",
   "name": "python3"
  },
  "language_info": {
   "codemirror_mode": {
    "name": "ipython",
    "version": 3
   },
   "file_extension": ".py",
   "mimetype": "text/x-python",
   "name": "python",
   "nbconvert_exporter": "python",
   "pygments_lexer": "ipython3",
   "version": "3.7.3"
  }
 },
 "nbformat": 4,
 "nbformat_minor": 4
}
