{
 "cells": [
  {
   "cell_type": "markdown",
   "metadata": {},
   "source": [
    "# Behavioral Finance "
   ]
  },
  {
   "cell_type": "markdown",
   "metadata": {},
   "source": [
    "[回到code-for-CFA首页](./README.md)  "
   ]
  },
  {
   "cell_type": "markdown",
   "metadata": {},
   "source": [
    "R7中先讲理论，R8讲个体，R9讲市场"
   ]
  },
  {
   "cell_type": "markdown",
   "metadata": {},
   "source": [
    "[R7 The Behavioral Finance Perspective](#R7-The-Behavioral-Finance-Perspective)  \n",
    "[R8 The Behavioral Biases of Individuals](#R8-The-Behavioral-Biases-of-Individuals)  \n",
    "[R9 Behavioral Finance and Investment Process](#R9-Behavioral-Finance-and-Investment-Process)  "
   ]
  },
  {
   "cell_type": "markdown",
   "metadata": {},
   "source": [
    "___"
   ]
  },
  {
   "cell_type": "markdown",
   "metadata": {},
   "source": [
    "## R7 The Behavioral Finance Perspective"
   ]
  },
  {
   "cell_type": "markdown",
   "metadata": {},
   "source": [
    "### 7.1 TF vs BF（传统金融和行为金融）"
   ]
  },
  {
   "cell_type": "markdown",
   "metadata": {},
   "source": [
    "Traditional Finance（传统金融学） 有一些基本假设：①risk-averse（风险厌恶）；②self-interested（自利）；③utility-maximizers（效用最大化）。\n",
    "\n",
    "Behavioral Finance（行为金融学）则包含behavioral economics, investor psychology, behavioral science, experimental economics, and cognitive psychology等多种学科。认为人是normal（普通）的。具体来看其影响又分为behavioral finance micro（BFMI，个体）和behavioral finance macro（BFMA，群体，如Herding羊群效应）两种。"
   ]
  },
  {
   "cell_type": "markdown",
   "metadata": {},
   "source": [
    "补充：REM(rational economic man，理性人)3个Perfect：①perfect rationality（完全理性）；②perfect self-interested（充分自利，可以看成效用最大化和风险厌恶）；③perfect information（获取所有信息）。"
   ]
  },
  {
   "cell_type": "markdown",
   "metadata": {},
   "source": [
    "### 7.2 Decision-Making Process（决策过程）"
   ]
  },
  {
   "cell_type": "markdown",
   "metadata": {},
   "source": [
    "Normative analysis（规范分析法）就是传统金融学的分析方法；\n",
    "\n",
    "Descriptive analysis（描述分析法）就是行为金融学的分析方法，侧重描述，没有是非黑白；\n",
    "\n",
    "Perspective analysis（透视分析法）是行为金融学的具体应用。"
   ]
  },
  {
   "cell_type": "markdown",
   "metadata": {},
   "source": [
    "### 7.3 core conception of Traditional Finance（传统金融学核心概念）"
   ]
  },
  {
   "cell_type": "markdown",
   "metadata": {},
   "source": [
    "传统金融学的核心有：\n",
    "- ①概念非常normative（规范）；\n",
    "- ②决策按照utility theory（效用理论），希望获得效用最大化；\n",
    "- ③用Bayes's formula（贝叶斯公式）来调整期望；\n",
    "- ④假设每个人都是risk-averse，self-interested，并且还能获取perfect informaion，从而做出unbiases way（无偏估计）。"
   ]
  },
  {
   "cell_type": "markdown",
   "metadata": {},
   "source": [
    "#### 7.3.1 utility theory☆"
   ]
  },
  {
   "cell_type": "markdown",
   "metadata": {},
   "source": [
    "效用理论有类似数学的计算法则：\n",
    "- ①completeness：选择和偏好已知，从而能做出排序，即$A > B > C$\n",
    "- ②transitivity：排序是有一致性，满足传导律，即$A>B, B>C => A>C$\n",
    "- ③independence：效用是additive（可加），即$A>B => A+C > B+C$；并且divisible（可分割），即$A>B => A+0.5C > B+0.5C$\n",
    "- ④continuity：Indifference curves（无差异曲线）是smooth和unbroken的，即$Y= W_1X+W_2Z$"
   ]
  },
  {
   "cell_type": "markdown",
   "metadata": {},
   "source": [
    "#### 7.3.2 Bayes's formula"
   ]
  },
  {
   "cell_type": "markdown",
   "metadata": {},
   "source": [
    "$P(A|B) = \\frac{P(B|A)}{P(B)}*P(A)$"
   ]
  },
  {
   "cell_type": "markdown",
   "metadata": {},
   "source": [
    "#### 7.3.3 Risk Averse☆"
   ]
  },
  {
   "cell_type": "markdown",
   "metadata": {},
   "source": [
    "举个例子来理解:有两个选择，A选择是稳赚10W，另一个B选择是赚20W和0W各50%。\n",
    "- 选择了A的，是risk-averse，他更追求certainly gain，传统金融学一般假设是这种人，对于Expected Value<0的项目一般也不会参加\n",
    "- 选择了B的，是risk-seeking\n",
    "- 对A和B都indifferent的，是risk-neutral"
   ]
  },
  {
   "cell_type": "markdown",
   "metadata": {},
   "source": [
    "#### 7.3.4 Utility Function of Wealth☆☆"
   ]
  },
  {
   "cell_type": "markdown",
   "metadata": {},
   "source": [
    "注意下图的横纵坐标，斜率表示获得1点财富的时候取得的效用：\n",
    "- 图1斜率不变，则为risk-neautral\n",
    "- 图2斜率往下走，是concave的，则财富的边际效用在减少，需要更多的财富补偿，表示risk-averse\n",
    "- 图3斜率往上走，是convex的，则财富的边际效用还在增加，表示risk-seeking"
   ]
  },
  {
   "cell_type": "markdown",
   "metadata": {},
   "source": [
    "![](./pics/BF/utility_function.png)"
   ]
  },
  {
   "cell_type": "markdown",
   "metadata": {},
   "source": [
    "### 7.4 Challenges（传统金融学面临的挑战）"
   ]
  },
  {
   "cell_type": "markdown",
   "metadata": {},
   "source": [
    "#### 7.4.1 challenges to TF and REM"
   ]
  },
  {
   "cell_type": "markdown",
   "metadata": {},
   "source": [
    "- ①针对rationality：人是Bounded rationality（有限理性的），比如投资时你不是把市场所有的股票看完再投资，而是Acceptable就可以了；\n",
    "- ②针对self-interested：人是会Prioritizing short-term (spending) goals（追求即时满足）的，所以并不表现的充分自利，比如年轻人超前消费；\n",
    "- ③针对information：人做决定是absense完全信息的；\n",
    "- ④此外对效用曲线：人有时候也会risk-seeking，比如面对收益可能是R-A面对损失的时候是R-S，其实人是loss-averse。"
   ]
  },
  {
   "cell_type": "markdown",
   "metadata": {},
   "source": [
    "#### 7.4.2 Challenges to Utility Maximaization"
   ]
  },
  {
   "cell_type": "markdown",
   "metadata": {},
   "source": [
    "如果两个选项是perfect substitute的，那么indifference curve可能是一条直线  \n",
    "如果两个选项是perfect coomplements，那么indifference curve可能是L形状"
   ]
  },
  {
   "cell_type": "markdown",
   "metadata": {},
   "source": [
    "#### 7.4.3 Challenges to Attitudes Towards Risk"
   ]
  },
  {
   "cell_type": "markdown",
   "metadata": {},
   "source": [
    "人有时候会同时表现R-S和R-A，比如人会同时买lottery和Insurance"
   ]
  },
  {
   "cell_type": "markdown",
   "metadata": {},
   "source": [
    "#### 7.4.4 Friedman-Savage double-inflection utility function（双拐点效用曲线）☆"
   ]
  },
  {
   "cell_type": "markdown",
   "metadata": {},
   "source": [
    "下图表示了人随财富变化后的三个阶段，在人很贫穷的时候是risk averse，在中产时开始risk seeking，在很有钱后又开始risk averse。"
   ]
  },
  {
   "cell_type": "markdown",
   "metadata": {},
   "source": [
    "但反过来可能也比较合理，比如人贫穷的时候开始铤而走险，中产开始风险厌恶，有钱后又开始冒险，所以不同人对财富的态度也不同"
   ]
  },
  {
   "cell_type": "markdown",
   "metadata": {},
   "source": [
    "![](./pics/BF/friedman_savage.png)"
   ]
  },
  {
   "cell_type": "markdown",
   "metadata": {},
   "source": [
    "#### 7.4.5 Neuro-Economics（神经经济学）"
   ]
  },
  {
   "cell_type": "markdown",
   "metadata": {},
   "source": [
    "人大脑的amygdala（杏仁体）会做出最及时的反馈来决定，比如古代打猎时就会看到猎物会立马做出flight or fight的决定，它对经济学的影响还有待观察"
   ]
  },
  {
   "cell_type": "markdown",
   "metadata": {},
   "source": [
    "### 7.5 Development of the Theory"
   ]
  },
  {
   "cell_type": "markdown",
   "metadata": {},
   "source": [
    "#### 7.5.1 Pascal expected（帕斯卡，预期理论）"
   ]
  },
  {
   "cell_type": "markdown",
   "metadata": {},
   "source": [
    "信上帝最好，因为不信的话如果上帝存在就很亏"
   ]
  },
  {
   "cell_type": "markdown",
   "metadata": {},
   "source": [
    "#### 7.5.2 Bernoulli"
   ]
  },
  {
   "cell_type": "markdown",
   "metadata": {},
   "source": [
    "价格相同，效用不同"
   ]
  },
  {
   "cell_type": "markdown",
   "metadata": {},
   "source": [
    "#### 7.5.3 Frank Knight"
   ]
  },
  {
   "cell_type": "markdown",
   "metadata": {},
   "source": [
    "风险可以被衡量，但是不确定性不可以。  \n",
    "Risk can be measurable, Uncertainty can't."
   ]
  },
  {
   "cell_type": "markdown",
   "metadata": {},
   "source": [
    "#### 7.5.4 Neumann & Morgenstern"
   ]
  },
  {
   "cell_type": "markdown",
   "metadata": {},
   "source": [
    "最大化效用"
   ]
  },
  {
   "cell_type": "markdown",
   "metadata": {},
   "source": [
    "#### 7.5.5 Savage"
   ]
  },
  {
   "cell_type": "markdown",
   "metadata": {},
   "source": [
    "Subjective expected utility（主观概率），人经常会高估低概率事件（彩票）和低估高概率事件（酒驾）。"
   ]
  },
  {
   "cell_type": "markdown",
   "metadata": {},
   "source": [
    "#### 7.5.6 Bounded Rationality"
   ]
  },
  {
   "cell_type": "markdown",
   "metadata": {},
   "source": [
    "**relaxs（放松）了对perfect rationality的假设：Satisficing an acceptable solution（人只是找个可接受的方法，不一定要完美）  \n",
    "并且提出要maximize expected utility（最大化期望效应）**"
   ]
  },
  {
   "cell_type": "markdown",
   "metadata": {},
   "source": [
    "#### 7.5.7 Prospect Theory（前景理论）☆☆"
   ]
  },
  {
   "cell_type": "markdown",
   "metadata": {},
   "source": [
    "**放松了risk averse的假设，提出了loss averse**"
   ]
  },
  {
   "cell_type": "markdown",
   "metadata": {},
   "source": [
    "下面是前景理论中的Value Function：\n",
    "- ①人在gain时体现concave（averse），在loss时（seeking），所以是loss aversion的，所以也产生了disposition effect\n",
    "- ②效用曲线是asymmetric的\n",
    "- ③utility不是绝对财富水平，而是财富的变化，比如贫穷的人到百万富翁的效用远比从亿万富翁到百万富翁的要大\n",
    "- ④放松了risk-averse的假设"
   ]
  },
  {
   "cell_type": "markdown",
   "metadata": {},
   "source": [
    "除此之外前景理论还概念化了执行步骤：  \n",
    "第一阶段：Editing Process（处理阶段）\n",
    "- ①Codification：编码，确定reference point来当benchmark，即Value Function的原点，如选择S&P500\n",
    "- ②Combination：组合，将相同类型的G/L的概率合在一起，如30% +10w，10% +10w，则有40% +40w\n",
    "- ③Segregation：分割，将有风险和无风险的G/L分开，如可以将(80%, +300; 20% +200)分割成(100%, +200)和(80%, +100, 20%, 0)\n",
    "- ④Cancellation：在比较两个方案的时候，将相同结果的部分取消，如方案A有（20%, +10），方案B也有（20%, +10），则这个部分可以忽视\n",
    "- ⑤Simplification：rounded off（四舍五入），适当简化，如(0.51, 0.49)的输赢概率可以看成输赢一半\n",
    "- ⑥Detection of dominance：最后再比较到底是方案A好还是B好  \n",
    "\n",
    "第二阶段：Evaluation Process（评估阶段）  \n",
    "$U = w(p_1)v(x_1)+w(p_2)v(x_2)+...$，其中$v$函数里面是结果的值，$w$函数是**subjective概率**，体现人高估低概率，低估高概率"
   ]
  },
  {
   "cell_type": "markdown",
   "metadata": {},
   "source": [
    "![](./pics/BF/prospect_theory.png)"
   ]
  },
  {
   "cell_type": "markdown",
   "metadata": {},
   "source": [
    "### 7.6 Traiditonal Finance vs Behavioral Finance☆"
   ]
  },
  {
   "cell_type": "markdown",
   "metadata": {},
   "source": [
    "|Traditional Finance Assumes: |Behavioral Finance Assumes:|\n",
    "|-|-|\n",
    "|Unlimited perfect knowledge(perfect information)| Capacity limitations on knowledge|\n",
    "|Utility maximization| Satisfice(acceptable)|\n",
    "|Fully rational decision making(perfect rationality) | Bounded rationality. Cognitive limits on decision making|\n",
    "|Risk aversion| Loss averse|"
   ]
  },
  {
   "cell_type": "markdown",
   "metadata": {},
   "source": [
    "### 7.7 EMH（Effecient Market Hypothesis）"
   ]
  },
  {
   "cell_type": "markdown",
   "metadata": {},
   "source": [
    "#### 7.7.1 EMH Theory"
   ]
  },
  {
   "cell_type": "markdown",
   "metadata": {},
   "source": [
    "Weak Form 假设Market info（市场价量信息）充分反映在了价格上，所以Technical Analysis无效  \n",
    "Semi Strong假设Public info（公开的基本面信息）充分反映在价格上，所以Fundamental Analysis无效  \n",
    "Strong Form假设All info都已经被反映了，所以无法获得超额收益"
   ]
  },
  {
   "cell_type": "markdown",
   "metadata": {},
   "source": [
    "#### 7.7.2 EMH Anomalies"
   ]
  },
  {
   "cell_type": "markdown",
   "metadata": {},
   "source": [
    "三大市场异常现象：\n",
    "- ①Fundamental Anomalies（基本面异常）：Size effect（小盘股效应，小盘股比大盘股表现更好的效应）；Value effect（价值效应，低P/E M/B 高Div的股票比成长股表现更好）\n",
    "- ②Technical Anomilies（技术面异常）：如Moving Average和Trading Range Break（Support and Resistance，支撑和阻力）等技术没有给投资者提供任何优势\n",
    "- ③Calender Anomalies（日历异常）：如January effect（国外1月有Tax loss saving，国内则发生在2月）"
   ]
  },
  {
   "cell_type": "markdown",
   "metadata": {},
   "source": [
    "### 7.8 The Behavioral Finance Perspective（BF组合构建方法）☆☆"
   ]
  },
  {
   "cell_type": "markdown",
   "metadata": {},
   "source": [
    "#### 7.8.1 Consumption and Savings☆"
   ]
  },
  {
   "cell_type": "markdown",
   "metadata": {},
   "source": [
    "BF认为人更偏向用消费来构建自己的投资组合（即时满足）"
   ]
  },
  {
   "cell_type": "markdown",
   "metadata": {},
   "source": [
    "有分析师提出了三个观点来支撑这一观点（FSM）：\n",
    "- ①Framing（框架依赖）：同样的事不同的描述方法导致结果不同（如屡败屡战和屡战屡败）\n",
    "- ②Self-control（自我控制）：人无法自控，所以会倾向短期消费，这里与utility theory相冲突\n",
    "- ③Mental accounting（心理账户）：一笔钱在心里的地位不同花的方式不一样，比如可以分为教育/养老/旅游账户来花费"
   ]
  },
  {
   "cell_type": "markdown",
   "metadata": {},
   "source": [
    "**总结：用C&S来构建组合的表现形式：**\n",
    "- ①Bond很多，因为为了当下稳定的coupon\n",
    "- ②Imbalanced，不平衡，因为Bond多\n",
    "- ③Risk Profile上升，因为Bond多，长期的目标可能无法实现\n",
    "- ④Insufficent Saving，储蓄不足\n",
    "- ⑤三大Bias：Framing，Self-control，Mental accounting\n",
    "- ⑥和utility相冲突"
   ]
  },
  {
   "cell_type": "markdown",
   "metadata": {},
   "source": [
    "#### 7.8.2 Behavioral Asset Pricing☆"
   ]
  },
  {
   "cell_type": "markdown",
   "metadata": {},
   "source": [
    "TF资产定价：CAPM：$r_e = r_f + \\beta(r_m - r_f)$  \n",
    "BF加上情感溢价：BPT：$r_e = r_f + \\beta(r_m - r_f) + sentiment premium$"
   ]
  },
  {
   "cell_type": "markdown",
   "metadata": {},
   "source": [
    "#### 7.8.3 Behavioral Portfolio Theory（BPT）☆☆"
   ]
  },
  {
   "cell_type": "markdown",
   "metadata": {},
   "source": [
    "BPT相当于Mental Accounting和Goal based的配置方法。  \n",
    "它将人的目标分成了三层金字塔，从下到上分别是Personal、Market和Aspiration。其中7个点需要注意：\n",
    "- ①每层投资的目的：Personal的是prevent poverty；Market的是Maintain current lifestyle；Aspiration是为了imporve lifestyle；\n",
    "- ②每层投资的资产：Personal的是Bond/CDs/MMF/自住房产；Market是投资Stock和Bond；Aspiration则是一些concentrated portfolio，如大量持有public stock/PE/Investment Property。\n",
    "- ③Asset Allocation方面：BPT相当是每层实现了MVO，每层是efficient，但是没考虑相关性，但总体是inefficient的；\n",
    "- ④Risk-level：MVO是single的，而BPT是multiple多层的；\n",
    "- ⑤由于risk averse的心理，所以可能会更愿意持有cash，并且每层的资产分散化程度更高\n",
    "- ⑥在IPS中，Personal和Market层也被看称谓primary的资产，未来如果有2000w的支出，但是在P和M层有1500w的投资，A层也有1500w的投资，这个时候要从A调出500w到P和M层\n",
    "- ⑦为了避免损失厌恶，可以将担心亏的资产放到P层，不亏自然没有了损失厌恶风险"
   ]
  },
  {
   "cell_type": "markdown",
   "metadata": {},
   "source": [
    "#### 7.8.4 Adaptive Markets Hypothesis（AMH）"
   ]
  },
  {
   "cell_type": "markdown",
   "metadata": {},
   "source": [
    "BF认为正常人不会像TF一样直接用MVO，而是不断学习慢慢适应  \n",
    "survivors will be those who successfully learn and adapt to changes."
   ]
  },
  {
   "cell_type": "markdown",
   "metadata": {},
   "source": [
    "[回到BF首页](#Behavioral-Finance )  "
   ]
  },
  {
   "cell_type": "markdown",
   "metadata": {},
   "source": [
    "___"
   ]
  },
  {
   "cell_type": "markdown",
   "metadata": {},
   "source": [
    "## R8 The Behavioral Biases of Individuals"
   ]
  },
  {
   "cell_type": "markdown",
   "metadata": {},
   "source": [
    "Cognitive errors（认知错误）来自于basic statistical（统计）, information-processiong（信息处理）, or memory errors，它是可以被correct（修正）的。"
   ]
  },
  {
   "cell_type": "markdown",
   "metadata": {},
   "source": [
    "Emotional biases（情感偏差）则来自于impulse（冲动）和intuition（直觉），它只能被adapt（适应）。"
   ]
  },
  {
   "cell_type": "markdown",
   "metadata": {},
   "source": [
    "![](./pics/BF/total_biases.png)"
   ]
  },
  {
   "cell_type": "markdown",
   "metadata": {},
   "source": [
    "### 8.1 Congnitive errors"
   ]
  },
  {
   "cell_type": "markdown",
   "metadata": {},
   "source": [
    "#### 8.1.1 Belief Perserverance（信仰坚持，固执，RICCH）"
   ]
  },
  {
   "cell_type": "markdown",
   "metadata": {},
   "source": [
    "##### 8.1.1.1 Representativeness bias（代表性偏差）"
   ]
  },
  {
   "cell_type": "markdown",
   "metadata": {},
   "source": [
    "过去的经历导致了错误的分类，导致人忽略了base rate（基础概率）和sample-size（小样本）。  \n",
    "people tend to classify new information based on **past experiences and classifications**.  \n",
    "\n",
    "**其有四种衍生体现：**\n",
    "- ①过去好的投将来也会好，所以追涨杀跌\n",
    "- ②好公司的等于好投资，分析师也有这种问题，halo effect（光轮效应）\n",
    "- ③FM过去短期的业绩不错就认为是好的FM（small sample size）  \n",
    "- ④对近期 info的权重上调"
   ]
  },
  {
   "cell_type": "markdown",
   "metadata": {},
   "source": [
    "##### 8.1.1.2 Illusion of control（控制的幻觉）"
   ]
  },
  {
   "cell_type": "markdown",
   "metadata": {},
   "source": [
    "以为自己能控制结果，比如买彩票2元，卖给别人8元，因为认为是自己买的中的概率会大。  \n",
    "people tend to believe that they can **control or influence outcomes** when, in fact, they cannot."
   ]
  },
  {
   "cell_type": "markdown",
   "metadata": {},
   "source": [
    "##### 8.1.1.3 Conservatism bias（保守性偏差）"
   ]
  },
  {
   "cell_type": "markdown",
   "metadata": {},
   "source": [
    "maintain their prior views 先入为主，会给new information更小的权重"
   ]
  },
  {
   "cell_type": "markdown",
   "metadata": {},
   "source": [
    "##### 8.1.1.4 Confirmation bias（确认性偏差）"
   ]
  },
  {
   "cell_type": "markdown",
   "metadata": {},
   "source": [
    "人们只愿意看到和之前结论相同的信息，所以提升supportive的权重，而降低conflict的权重。比如面试的第一印象就很重要  \n",
    "They look for confirming evidence while discounting or even ignoring evidence that contradicts"
   ]
  },
  {
   "cell_type": "markdown",
   "metadata": {},
   "source": [
    "##### 8.1.1.5 Hindsight bias（后见之明）"
   ]
  },
  {
   "cell_type": "markdown",
   "metadata": {},
   "source": [
    "人们总是事后诸葛亮，比如08年房子没买，事后觉得涨是理所应当的  \n",
    "may see past events as having been predictable"
   ]
  },
  {
   "cell_type": "markdown",
   "metadata": {},
   "source": [
    "#### 8.1.2 Information Processing（信息处理的错误，FAMM）"
   ]
  },
  {
   "cell_type": "markdown",
   "metadata": {},
   "source": [
    "##### 8.1.2.1 Framing bias（框架依赖）"
   ]
  },
  {
   "cell_type": "markdown",
   "metadata": {},
   "source": [
    "同样的问题不同的问法带来不同的结果，比如分析师不会说下跌，而是短期承压  \n",
    "answers a question differently based on the way in which it is asked (framed)"
   ]
  },
  {
   "cell_type": "markdown",
   "metadata": {},
   "source": [
    "##### 8.1.2.2 Anchoring and adjustment（锚定效应）"
   ]
  },
  {
   "cell_type": "markdown",
   "metadata": {},
   "source": [
    "生活中有很多上锚的地方，比如上市公司先预测了业绩30%，分析师可能就预测31%；还有抄底就就是心中有之前的锚；奢侈品广告比店里的价格一般贵一点。  \n",
    "generally begin by envisioning some **initial default number** an \"anchor“ which they then adjust up or down"
   ]
  },
  {
   "cell_type": "markdown",
   "metadata": {},
   "source": [
    "##### 8.1.2.3 Availability bias（可得性偏差）"
   ]
  },
  {
   "cell_type": "markdown",
   "metadata": {},
   "source": [
    "人们总是会做Retrievability（最先想到）的决定，还有就是Narrow range of experience（缺乏专业度和视野）。  \n",
    "take a **heuristic approach** to estimating the probability of an outcome based on how easily the outcome comes to mind."
   ]
  },
  {
   "cell_type": "markdown",
   "metadata": {},
   "source": [
    "##### 8.1.2.4 Mental accounting bias（分层账户）"
   ]
  },
  {
   "cell_type": "markdown",
   "metadata": {},
   "source": [
    "和BPT以及Goal based一样，问题在于忽略了correlation导致inefficient  \n",
    "treat one sum of money differently"
   ]
  },
  {
   "cell_type": "markdown",
   "metadata": {},
   "source": [
    "### 8.2 Emotional Biases（记LOSSER）"
   ]
  },
  {
   "cell_type": "markdown",
   "metadata": {},
   "source": [
    "#### 8.2.1 Loss Aversion bias（损失厌恶）☆☆"
   ]
  },
  {
   "cell_type": "markdown",
   "metadata": {},
   "source": [
    "人们总是厌恶损失大于获得收益  \n",
    "tend to strongly prefer avoiding losses as opposed to achieving gains  \n",
    "**其有2+1个核心体现：**\n",
    "- ☆①realize gain但不realize loss，称为disposition effect\n",
    "- ☆②因此，Portfolio中有大量损失的头寸\n",
    "- ③Turnover改变，买到亏交易量就大幅下降，买到赚交易量就大幅上升（但也可能其他因素导致）"
   ]
  },
  {
   "cell_type": "markdown",
   "metadata": {},
   "source": [
    "并且还有一种**Myopic loss aversion**（短视的损失厌恶）：  \n",
    "可能导致如果投资短期的股债，会过度投在债券，因为一年的股票和债券的收益差不多，但是债券的波动率很小；但是看30年就应该投股票了。"
   ]
  },
  {
   "cell_type": "markdown",
   "metadata": {},
   "source": [
    "#### 8.2.2 Overconfidence bias（过度自信）☆"
   ]
  },
  {
   "cell_type": "markdown",
   "metadata": {},
   "source": [
    "人们总是过度自信，分析师有的会说：我太了解这家公司了  \n",
    "比如采访开车没出事的司机都认为自己车技好，但是那些出过事的也有70%认为自己车技不错  \n",
    "people demonstrate unwarranted faith in their own intuitive reasoning"
   ]
  },
  {
   "cell_type": "markdown",
   "metadata": {},
   "source": [
    "**其中还分为两个层次：**\n",
    "- Prediciton overconfidence（预测的过度自信）：和illusion of control有点像，比如预测收益率给了一个精确的值而不是给一个区间\n",
    "- Self-attribution bias（结果的过度自信）：导致self-enhancing bias（好的结果就是归功自己）和self-protecting bias（坏的结果就是别人的锅）  "
   ]
  },
  {
   "cell_type": "markdown",
   "metadata": {},
   "source": [
    "#### 8.2.3 Self-control bias（自我控制偏差）"
   ]
  },
  {
   "cell_type": "markdown",
   "metadata": {},
   "source": [
    "和Consumption&Savings一样，会对utility Theory冲突，会因为追求短期收益，然后储蓄不足并且长期收益不够，所以多配了债券导致组合不平衡  \n",
    "fail to act in pursuit of their long-term, overarching goals because of a lack of self-discipline."
   ]
  },
  {
   "cell_type": "markdown",
   "metadata": {},
   "source": [
    "#### 8.2.4 Status quo bias（维持现状）"
   ]
  },
  {
   "cell_type": "markdown",
   "metadata": {},
   "source": [
    "人比较懒，会维持现状，比如有的投资者一年才check一次portfolio  \n",
    "emotional bias in which people do nothing instead of making a change"
   ]
  },
  {
   "cell_type": "markdown",
   "metadata": {},
   "source": [
    "#### 8.2.5 Endowment bias（禀赋效应） "
   ]
  },
  {
   "cell_type": "markdown",
   "metadata": {},
   "source": [
    "人们会对自己的资产赋予不同的情感，比如对遗产和成功的投资赋予更好的情感   \n",
    "人也会对自己拥有的东西赋予更多的价值  \n",
    "people value an asset more when they hold rights to it than when they do not."
   ]
  },
  {
   "cell_type": "markdown",
   "metadata": {},
   "source": [
    "#### 8.2.6 Regret-aversion bias（后悔）  "
   ]
  },
  {
   "cell_type": "markdown",
   "metadata": {},
   "source": [
    "几乎任何的bias都可以往上面靠，人会后悔commision（做过的）和omission（没做的）事情。  \n",
    "**后悔的结果不是不做某些事，从而保持现状。**  \n",
    "occurs when market participants do nothing out of excess fear that actions could be wrong."
   ]
  },
  {
   "cell_type": "markdown",
   "metadata": {},
   "source": [
    "### 8.3 小结"
   ]
  },
  {
   "cell_type": "markdown",
   "metadata": {},
   "source": [
    "#### 8.3.1 SER可能导致同样结果"
   ]
  },
  {
   "cell_type": "markdown",
   "metadata": {},
   "source": [
    "Status quo, endowment and regret-aversion 都可能导致什么都不做，但是理由不同"
   ]
  },
  {
   "cell_type": "markdown",
   "metadata": {},
   "source": [
    "#### 8.3.2 Confirmation等都可能导致组合集中"
   ]
  },
  {
   "cell_type": "markdown",
   "metadata": {},
   "source": [
    "Confirmation（支持的权重高）、Overfonfidence（自信）、Status-quo（懒）、Ilusion of Control（追求短期）、Avaliablity（缺乏视野）等都可能导致组合集中"
   ]
  },
  {
   "cell_type": "markdown",
   "metadata": {},
   "source": [
    "#### 8.3.3 Suggested Deviation From A Rational Portfolio（和合理组合的偏离情况）☆☆"
   ]
  },
  {
   "cell_type": "markdown",
   "metadata": {},
   "source": [
    "下表中，对于可改正的Cognitive的容忍区间更小，而因为Emotional无法改正，所以区间可以大一点，对于有钱人的容忍区间也比较大"
   ]
  },
  {
   "cell_type": "markdown",
   "metadata": {},
   "source": [
    "![](./pics/BF/deviation.png)"
   ]
  },
  {
   "cell_type": "markdown",
   "metadata": {},
   "source": [
    "[回到BF首页](#Behavioral-Finance )  "
   ]
  },
  {
   "cell_type": "markdown",
   "metadata": {},
   "source": [
    "___"
   ]
  },
  {
   "cell_type": "markdown",
   "metadata": {},
   "source": [
    "## R9 Behavioral Finance and Investment Process"
   ]
  },
  {
   "cell_type": "markdown",
   "metadata": {},
   "source": [
    "### 9.1 Barnewall Two-Way Behavioral Model（二分法）"
   ]
  },
  {
   "cell_type": "markdown",
   "metadata": {},
   "source": [
    "两分法，按赚钱是否承担风险将投资者分为passive和active的：\n",
    "- passive investors：高管，one-time windfall（一次性，如彩票）\n",
    "- acitve investors：企业家，投资者"
   ]
  },
  {
   "cell_type": "markdown",
   "metadata": {},
   "source": [
    "### 9.2 Ballard, Biehl, and BB&K Five-Way Model 1（五分法）"
   ]
  },
  {
   "cell_type": "markdown",
   "metadata": {},
   "source": [
    "按anxious-confident（专业度）和careful-impetuous（性格）分为5类投资者：\n",
    "- ①Individualist，谨慎有能力，独立自信，能听进去建议\n",
    "- ②Adventurer：冲动有能力，集中投资，很自信，**但不愿意听从建议**\n",
    "- ③Guardian：谨慎没能力，愿意听从比自己专业度高的建议\n",
    "- ④Celebrity：冲动没能力，喜欢投流行的股票，愿意听专业建议\n",
    "- ⑤Straight Arrow：都很平均"
   ]
  },
  {
   "cell_type": "markdown",
   "metadata": {},
   "source": [
    "![](./pics/BF/ballard_model.png)"
   ]
  },
  {
   "cell_type": "markdown",
   "metadata": {},
   "source": [
    "### 9.3 Pompian Behavioral Model（四分法）"
   ]
  },
  {
   "cell_type": "markdown",
   "metadata": {},
   "source": [
    "四类人群（PFIA）的画像需要注意：\n",
    "- ①PP：Anxious, concerned, cautious，非常谨慎\n",
    "- ②FF：follow friends, popular investment，从众\n",
    "- ③II：独立分析，show  respect（尊重他们的投资想法）\n",
    "- ④AA：extremly high risk\n",
    "\n",
    "这种模型还有两点需要注意：\n",
    "- ①胆子特别小/大的人容易受到Emotional的影响\n",
    "- ②对PP/AA画大饼，让PP相信你对你放心，对AA做好财富传承；对FF/II用量化方法，体现你的专业性。"
   ]
  },
  {
   "cell_type": "markdown",
   "metadata": {},
   "source": [
    "但是做了四分类可能还是有问题：  \n",
    "- ①both cognitive errors and emotional biases，客户会同时出现两种问题\n",
    "- ②characteristics of multiple investor types，客户可能展现既可能PP又可能AA\n",
    "- ③changes as they age，随年龄变化分类也会改变\n",
    "- ④unique treatment，同类型的客户也要区别对待\n",
    "- ⑤irrationally，个体也会不理性，如PP可能也会很冲动"
   ]
  },
  {
   "cell_type": "markdown",
   "metadata": {},
   "source": [
    "![](./pics/BF/pompian_model.png)"
   ]
  },
  {
   "cell_type": "markdown",
   "metadata": {},
   "source": [
    "### 9.4 DC plan中的现象解释"
   ]
  },
  {
   "cell_type": "markdown",
   "metadata": {},
   "source": [
    "#### 9.4.1 Satus Quo Bias"
   ]
  },
  {
   "cell_type": "markdown",
   "metadata": {},
   "source": [
    "DC是个人承担投资风险，雇主会给一个list让他买，很多人这个时候会stick with default options而不做改变，但是组合早年可能股票的比例更多，随着年龄增长Risk Tolerance在下降。  \n",
    "**解决方法：购买target date funds（目标日期基金），到制定年份就调仓**"
   ]
  },
  {
   "cell_type": "markdown",
   "metadata": {},
   "source": [
    "#### 9.4.2 Naive Diversification☆"
   ]
  },
  {
   "cell_type": "markdown",
   "metadata": {},
   "source": [
    "a conditional 1/n strategy，简单分散化，就是雇主清单上给了20个，就平均持有20个，这其中有regret-aversion bias，因为是怕有一个涨了\n"
   ]
  },
  {
   "cell_type": "markdown",
   "metadata": {},
   "source": [
    "#### 9.4.3 Investing in Company Stock"
   ]
  },
  {
   "cell_type": "markdown",
   "metadata": {},
   "source": [
    "投资自己家的股票不是很好的选择，因为$\\rho(HC, FC)$太高，有几个原因是：\n",
    "- ☆①Familiarity，熟悉；\n",
    "- ②Overconfidence，因为熟悉，所以认为我比谁都了解公司股票的好；\n",
    "- ③Naive extrapolation of past returns，等于representativeness，认为好公司就是好投资；\n",
    "- ④Framing and status quo，因为受情景影响，还有懒；\n",
    "- ☆⑤loyalty effect：忠诚度。"
   ]
  },
  {
   "cell_type": "markdown",
   "metadata": {},
   "source": [
    "### 9.5 Portfolio Management"
   ]
  },
  {
   "cell_type": "markdown",
   "metadata": {},
   "source": [
    "#### 9.5.1 Excess trading"
   ]
  },
  {
   "cell_type": "markdown",
   "metadata": {},
   "source": [
    "过度交易有三个原因：\n",
    "- ①Overconfident：很自信；\n",
    "- ②disposition effect：会持续卖出盈利的股票，持有亏损；\n",
    "- ☆③Home bias，大量投资于国内的股票，和familiarity有点像"
   ]
  },
  {
   "cell_type": "markdown",
   "metadata": {},
   "source": [
    "#### 9.5.2 BPT VS MVO"
   ]
  },
  {
   "cell_type": "markdown",
   "metadata": {},
   "source": [
    "#### 9.5.3 Analyst的BF偏差"
   ]
  },
  {
   "cell_type": "markdown",
   "metadata": {},
   "source": [
    "- ①分析师会过度自信\n",
    "- ②分析师会受到管理层的影响：Framing（管理层传递型号）；Anchoring（管理层给出预测）；Availability（最近研究这个公司别人问就推）\n",
    "- ③分析师做研究会：Confirmation bias（自圆其说）；**The gamblers' fallacy**（赌徒谬误，掷硬币9次正第10次应该就反了）；Representativeness（就爱推某一类的股票）"
   ]
  },
  {
   "cell_type": "markdown",
   "metadata": {},
   "source": [
    "#### 9.5.4 Committee（投委会）"
   ]
  },
  {
   "cell_type": "markdown",
   "metadata": {},
   "source": [
    "Social proof：投委会也会受到BF的影响，比如会随大流以及受到chair等关键人物的影响，如何降低影响呢：\n",
    "- ①diverse backgrounds，来自于不同背景；\n",
    "- ②independent，独立发表意见；\n",
    "- ③chair encourage alternative opinions，主席鼓励其他人发表不同意见。"
   ]
  },
  {
   "cell_type": "markdown",
   "metadata": {},
   "source": [
    "#### 9.5.5 Market"
   ]
  },
  {
   "cell_type": "markdown",
   "metadata": {},
   "source": [
    "市场上会有momentum的表现，原因有：\n",
    "- ①herding，羊群效应；\n",
    "- ②recency effect，近期信息给更高的权重，和representativeness 和 availability很像；\n",
    "- ③regret，不买后悔"
   ]
  },
  {
   "cell_type": "markdown",
   "metadata": {},
   "source": [
    "由于BF的影响，往往会产生泡沫并崩盘，泡沫期间市场的$\\sigma$是往期的2倍，人们在泡沫期间受到：\n",
    "- ①overconfidence，牛市买啥都涨；\n",
    "- ②confirmation bias，牛市无利空；\n",
    "- ③self-attribution bias，我牛逼而不是市场好；\n",
    "- ④illusion of knwledge，由过度自信导致；\n",
    "- ⑤disposition effect，导致过度交易；\n",
    "- ⑥confirmation bias，听顺耳的消息。"
   ]
  },
  {
   "cell_type": "markdown",
   "metadata": {},
   "source": [
    "#### 9.5.6 Value and Growth"
   ]
  },
  {
   "cell_type": "markdown",
   "metadata": {},
   "source": [
    "价值型股票的收益高于成长股，并且小盘股的收益大于大盘股，但是为什么成长股有更高的P/E呢？  \n",
    "**☆halo effect**：因为成长股之前表现好，所以representativeness导致人们只注意收益，而忘记其风险，并且overconfidence可能也是高估的原因。"
   ]
  },
  {
   "cell_type": "markdown",
   "metadata": {},
   "source": [
    "#### 9.5.7 The Client/Adviser"
   ]
  },
  {
   "cell_type": "markdown",
   "metadata": {},
   "source": [
    "Adiviser做IPS时要依赖问卷调查，这里有三个需要注意的：\n",
    "- ①Framing：容易受到怎么问的影响，所以应该问兴趣爱好而不是直接问性格\n",
    "- ②Detect cognitive error：投资的情感不好问，但是投资思路可以\n",
    "- ③机构更好，机构的个人情感更少"
   ]
  },
  {
   "cell_type": "markdown",
   "metadata": {},
   "source": [
    "[回到BF首页](#Behavioral-Finance )  "
   ]
  },
  {
   "cell_type": "code",
   "execution_count": null,
   "metadata": {},
   "outputs": [],
   "source": []
  }
 ],
 "metadata": {
  "kernelspec": {
   "display_name": "Python 3",
   "language": "python",
   "name": "python3"
  },
  "language_info": {
   "codemirror_mode": {
    "name": "ipython",
    "version": 3
   },
   "file_extension": ".py",
   "mimetype": "text/x-python",
   "name": "python",
   "nbconvert_exporter": "python",
   "pygments_lexer": "ipython3",
   "version": "3.7.3"
  }
 },
 "nbformat": 4,
 "nbformat_minor": 4
}
