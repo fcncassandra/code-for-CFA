{
 "cells": [
  {
   "cell_type": "markdown",
   "metadata": {},
   "source": [
    "# Alternative Investment for Portfolio Management"
   ]
  },
  {
   "cell_type": "markdown",
   "metadata": {},
   "source": [
    "AI在CFA3级只剩下了Hedge Fund，大概考1个case"
   ]
  },
  {
   "cell_type": "markdown",
   "metadata": {},
   "source": [
    "[回到code-for-CFA首页](./README.md)  "
   ]
  },
  {
   "cell_type": "markdown",
   "metadata": {},
   "source": [
    "[R26 Hedge Fund Strategies](#R26-Hedge-Fund-Strategies)  \n",
    "[R27 Asset Allocation to Alternative Investments](#R27-Asset-Allocation-to-Alternative-Investments)  "
   ]
  },
  {
   "cell_type": "markdown",
   "metadata": {},
   "source": [
    "___"
   ]
  },
  {
   "cell_type": "markdown",
   "metadata": {},
   "source": [
    "## R26 Hedge Fund Strategies"
   ]
  },
  {
   "cell_type": "markdown",
   "metadata": {},
   "source": [
    "### 26.1 Overview of HF"
   ]
  },
  {
   "cell_type": "markdown",
   "metadata": {},
   "source": [
    "**HF的主要特点**：\n",
    "- ①lower regulatory and legal constrainse, 监管不严，但是带来lack of transparency（透明度差）；\n",
    "- ②flexible mandates，投资限制少，可以做空或者衍生品；\n",
    "- ③larger investment universe，投资范围很广；\n",
    "- ④aggressive investment exposures，很激进的投资敞口；\n",
    "- ⑤comparatively free use of leverage，相对少的杠杆限制；\n",
    "- ⑥liquidity constraints for invsetors，时间长有流动性限制；\n",
    "- ⑦higher cost structure，成本更高。"
   ]
  },
  {
   "cell_type": "markdown",
   "metadata": {},
   "source": [
    "**赎回限制**：liquidity constraints是因为HF设定了一系列的赎回限制：\n",
    "- ①lock-up，锁定期不能赎回；\n",
    "- ②notice period，赎回前先通知；\n",
    "- ③gate，有最大赎回金额；\n",
    "- ④side pockets，有一些很重要的投资放在这里面，赎回时FM不会卖出。\n"
   ]
  },
  {
   "cell_type": "markdown",
   "metadata": {},
   "source": [
    "**HF的主要类型**：①single-manager；②multi-manager，包括MOM（multi-strategy fund）和FOF"
   ]
  },
  {
   "cell_type": "markdown",
   "metadata": {},
   "source": [
    "**HF的主要策略：**"
   ]
  },
  {
   "cell_type": "markdown",
   "metadata": {},
   "source": [
    "这些策略只要1个Long 1个short 基本上leverage都不低"
   ]
  },
  {
   "cell_type": "markdown",
   "metadata": {},
   "source": [
    "![](./pics/AI/hf_strategy.png)"
   ]
  },
  {
   "cell_type": "markdown",
   "metadata": {},
   "source": [
    "### 26.2 Equity Strategies"
   ]
  },
  {
   "cell_type": "markdown",
   "metadata": {},
   "source": [
    "股票策略主要由：①long/short equity，传统多空；②dedicated short bias，专门做空；③equity market neutral，市场中性。"
   ]
  },
  {
   "cell_type": "markdown",
   "metadata": {},
   "source": [
    "HF看策略，但是股票策略的流动性一般都比较好，因为都是上市公司做空做多"
   ]
  },
  {
   "cell_type": "markdown",
   "metadata": {},
   "source": [
    "#### 26.2.1 Long/Short Equity"
   ]
  },
  {
   "cell_type": "markdown",
   "metadata": {},
   "source": [
    "研究股票高估低估决定做多做空，**净头寸是net long即β大于0**，其中细分有：\n",
    "- ①sector-specific focus，专注于某个行业的FM；\n",
    "- ②generalist L/S managers，做多低估的股票同时来做空index降低市场风险。  "
   ]
  },
  {
   "cell_type": "markdown",
   "metadata": {},
   "source": [
    "#### 26.2.2 Dedicated Short Selling and Short-Biased"
   ]
  },
  {
   "cell_type": "markdown",
   "metadata": {},
   "source": [
    "**做空策略又可以分为3类**：\n",
    "- ①Dedicated short-selling funds，专注做空；\n",
    "- ②Short-biased，FM会在做空的同时做多如future，但是总体net short，β还是小于0的；\n",
    "- ③Acitve short selling，先做空再发做空报告，桥水就是这样，只要是真实且公开，就不违反SEC的原则，认为这也是HF一种策略。"
   ]
  },
  {
   "cell_type": "markdown",
   "metadata": {},
   "source": [
    "**策略的实施**：  \n",
    "- ①识别有问题的公司，如用Z/M-score；  \n",
    "- ②然后开始short，可能**cost to borrow（融券成本高）**，并且有**short-squeeze（逼空）**的风险。"
   ]
  },
  {
   "cell_type": "markdown",
   "metadata": {},
   "source": [
    "**☆做空策略的特点**：  \n",
    "- ①lower return（美股长牛），negative correlation（负相关性，β<0降低组合风险），liquid（做空的是上市公司）；\n",
    "- ②more σ，波动大；\n",
    "- ③difficult to consistent α，超额收益不好持续；\n",
    "- ④handled best in a limited partership，合伙制的对冲基金才可以做空，公募肯定不行；\n",
    "- ⑤not need much leverage，空头就比较有风险了，所以一般没有杠杆;  "
   ]
  },
  {
   "cell_type": "markdown",
   "metadata": {},
   "source": [
    "#### ☆☆26.2.3 Equity market-neutral（EMN）"
   ]
  },
  {
   "cell_type": "markdown",
   "metadata": {},
   "source": [
    "EMN是是追求β=0的同时赢得α的市场中性策略 "
   ]
  },
  {
   "cell_type": "markdown",
   "metadata": {},
   "source": [
    "**EMN有三种策略**： \n",
    "- ☆①pair-trading，配对交易，对有相同特性的股票做多做空，国内可以做A/H股的差额交易；  \n",
    "- ②stub trading，从parent母公司和subsidiary子公司间找交易机会；\n",
    "- ③multi-calss trading，同公司不同投票权的股票交易机会。"
   ]
  },
  {
   "cell_type": "markdown",
   "metadata": {},
   "source": [
    "**EMN的特点**：\n",
    "- ①modest return，还不错的收益；\n",
    "- ②diversification（充分分散化，β=0），liquidity，lower σ；\n",
    "- ③shorter horizon（周期短），more active trading（更主动投资）；\n",
    "- ☆④high leverage，先做多再用做多的去做空，如果spread很高可以套娃；\n",
    "- ⑤limited partership，一样合伙制的对冲基金才可以做空。"
   ]
  },
  {
   "cell_type": "markdown",
   "metadata": {},
   "source": [
    "### 26.3 Event-driven Strategies"
   ]
  },
  {
   "cell_type": "markdown",
   "metadata": {},
   "source": [
    "事件驱动的策略主要有：①merger abitrage，合并套利；②distressed securities，问题证券。"
   ]
  },
  {
   "cell_type": "markdown",
   "metadata": {},
   "source": [
    "**事件驱动的方法**主要包括两类：\n",
    "- ①soft-catalyst，软的，anticipation，基于预期；\n",
    "- ②hard-catalyust，硬的，announced，公司发公告了，σ更小。"
   ]
  },
  {
   "cell_type": "markdown",
   "metadata": {},
   "source": [
    "#### 26.3.1 Merger Arbitrage"
   ]
  },
  {
   "cell_type": "markdown",
   "metadata": {},
   "source": [
    "在合并时，收购方叫Acquire（A），被收购方叫Target（T）  \n",
    "实施有两种方法：①cash for stock，A用现金直接收购T；②stock-for-stock acquisition，买T卖A（成功/失败都是双倍）"
   ]
  },
  {
   "cell_type": "markdown",
   "metadata": {},
   "source": [
    "**merger arbitrage相当于卖出了一个合并的保险，会有tail risk**  \n",
    "cross-border M&A（跨境收购）的难度风险会更大"
   ]
  },
  {
   "cell_type": "markdown",
   "metadata": {},
   "source": [
    "**Merger Arbitrage的特点有**：\n",
    "- ①relatively liquid，流动性还行；\n",
    "- ②left-tail risk，尾部风险；\n",
    "- ③write insurance/put option，相当于卖保险和看跌期权；\n",
    "- ④limited partership，合伙制下才有；\n",
    "- ⑤high leverage，杠杆很高一般在300%-500%来获得low-double-digit return（10%出头）。  \n",
    "- ⑥sharp ratio低，因为收益不高，杠杆还不小，具体看策略本身了。"
   ]
  },
  {
   "cell_type": "markdown",
   "metadata": {},
   "source": [
    "#### 26.3.2 Distressed Securities"
   ]
  },
  {
   "cell_type": "markdown",
   "metadata": {},
   "source": [
    "2种策略：①liquidation（破产清算），赌recovery ratio（回收率）；②re-organization（重组），赌成功"
   ]
  },
  {
   "cell_type": "markdown",
   "metadata": {},
   "source": [
    "liquidation（破产清算）偿债顺序（从高到低）：\n",
    "- ①senior secured debt，高级有抵押；\n",
    "- ②junior secured debt，初级有抵押；\n",
    "- ③unsecured debt，无抵押；\n",
    "- ④convertibele debt，可转债；\n",
    "- ⑤preferred stock，优先股；\n",
    "- ⑥common stock，普通股。"
   ]
  },
  {
   "cell_type": "markdown",
   "metadata": {},
   "source": [
    "**Distressed Securities的特点**：\n",
    "- ①high σ，波动高；\n",
    "- ②long-biased，以做多为主；\n",
    "- ③illquid，流动性很差；\n",
    "- ④low leverage，杠杆很低；\n",
    "- ⑤cyclical，受到business cycle的影响，周期好的时候成功率高。"
   ]
  },
  {
   "cell_type": "markdown",
   "metadata": {},
   "source": [
    "### 26.4 Relative Values Strategies"
   ]
  },
  {
   "cell_type": "markdown",
   "metadata": {},
   "source": [
    "一般也是long 1个 short 1个，主要由固收和可转债两种策略"
   ]
  },
  {
   "cell_type": "markdown",
   "metadata": {},
   "source": [
    "#### 26.4.1 Fixed-Income Arbitrage"
   ]
  },
  {
   "cell_type": "markdown",
   "metadata": {},
   "source": [
    "不追求Duration = 0，而是exploit pricing inefficiencies（利用定价的不有效），有点像股票策略中的pair-trading"
   ]
  },
  {
   "cell_type": "markdown",
   "metadata": {},
   "source": [
    "套利的来源于：①duration；②credit quality；③liquidity（on/off run）；④optionality。  \n",
    "还可以做carry trades（long high yield + short low yield）和yield curve（steeper/flatter），这两个在美国市场很流行  \n",
    "表现也像short put option，其实这种类型的套利都是赚有限亏无限，如LTCM加杠杆买OECD债卖美国国债，结果俄罗斯违约OECD跌而美国国债暴涨"
   ]
  },
  {
   "cell_type": "markdown",
   "metadata": {},
   "source": [
    "特点：high leverage，其他都是看策略具体实施了"
   ]
  },
  {
   "cell_type": "markdown",
   "metadata": {},
   "source": [
    "#### 26.4.2 Convertible Bond Arbitrage"
   ]
  },
  {
   "cell_type": "markdown",
   "metadata": {},
   "source": [
    "可转债策略一般是买被低估的可转债，然后卖被高估的股票，将可转债行权换股再卖出  \n",
    "long convertibel bond + short stock（undervalued）  \n",
    "因为CB = pure bond + call option，所以可以配好比例可以实现delta neutral"
   ]
  },
  {
   "cell_type": "markdown",
   "metadata": {},
   "source": [
    "特点： \n",
    "- ①因为可以看成买了call option，所以相当于delta hedging 和 gamma trading的策略；\n",
    "- ②bond less-liquid，可转债流动性可能不好，stock short selling，股票做空也有成本；\n",
    "- ③high leverls of leverage，因为能锁定收益，是无风险的，所以杠杆高。"
   ]
  },
  {
   "cell_type": "markdown",
   "metadata": {},
   "source": [
    "### 26.5 Opportunistic Strategies"
   ]
  },
  {
   "cell_type": "markdown",
   "metadata": {},
   "source": [
    "机会主义策略主要有：①global macro；②managerd futures。"
   ]
  },
  {
   "cell_type": "markdown",
   "metadata": {},
   "source": [
    "#### 26.5.1 Global Macro Strategies"
   ]
  },
  {
   "cell_type": "markdown",
   "metadata": {},
   "source": [
    "一般采用top-down的方法研究不同经济体宏观经济上的关系： global relationships across a wide range of asset classes   \n"
   ]
  },
  {
   "cell_type": "markdown",
   "metadata": {},
   "source": [
    "特点是：①heterogeneity，不同策略区别可能很大；②use levarge，大量使用了衍生品；③分散化并产生α。"
   ]
  },
  {
   "cell_type": "markdown",
   "metadata": {},
   "source": [
    "#### 26.5.2 Managed Futures"
   ]
  },
  {
   "cell_type": "markdown",
   "metadata": {},
   "source": [
    "☆**managed futures和global macro联系和区别**：\n",
    "- ①二者都有周期性，波动度比较大，但是managed futures因为用了杠杆；\n",
    "- ②global：期货现货策略都可以，并且discretionary交易者自己判断；managed：都用衍生品，并且systematic量化一点。\n",
    "- ③positive right tail skewness（收益右偏，看准赚没看准止损），分散性也比较好。"
   ]
  },
  {
   "cell_type": "markdown",
   "metadata": {},
   "source": [
    "**managed futures策略实施**：\n",
    "- ①time-series momentum（TSM），单边趋势追踪；\n",
    "- ②cross-sectional momentum（CSM），跨行业比如上下游期货套利交易，相当于大宗商品的pair trading。"
   ]
  },
  {
   "cell_type": "markdown",
   "metadata": {},
   "source": [
    "### 26.6 Specialist Strategies"
   ]
  },
  {
   "cell_type": "markdown",
   "metadata": {},
   "source": [
    "专家策略主要包括：①volatility trading，波动性交易；②reinsurance/life-settlements，再保险和寿险交易。"
   ]
  },
  {
   "cell_type": "markdown",
   "metadata": {},
   "source": [
    "#### 26.6.1 Volatility Trading"
   ]
  },
  {
   "cell_type": "raw",
   "metadata": {},
   "source": [
    "？？TODO：为什么研究波动率交易：因为σ和return天然负相关"
   ]
  },
  {
   "cell_type": "markdown",
   "metadata": {},
   "source": [
    "如何交易：①VIX futures/option；②option；③OTC的variance swap；④合成/netting σ（买入结构化产品然后short掉其他部分）"
   ]
  },
  {
   "cell_type": "markdown",
   "metadata": {},
   "source": [
    "有两种方式：①time-zone arbitrage（不同时区，比如亚洲交易少σ低，而欧美交易多σ高）；②cross-asset arbitrage（不同市场，比如S&P500和NIKKI option）。"
   ]
  },
  {
   "cell_type": "markdown",
   "metadata": {},
   "source": [
    "波动率交易特点：\n",
    "- ①positive convexity，正的凸性（因为做多了）；\n",
    "- ②市场稳定时short方有稳定的premium；\n",
    "- ③流动性看使用工具情况；\n",
    "- ④outsized gains，前期支付少费用后可能有大额收益；\n",
    "- ⑤alpha的来源。"
   ]
  },
  {
   "cell_type": "markdown",
   "metadata": {},
   "source": [
    "#### 26.6.2 Reinsurance/Life Settlement"
   ]
  },
  {
   "cell_type": "markdown",
   "metadata": {},
   "source": [
    "投保人通过一些方法将收益权转给HF，HF会比较喜欢买以下特点的保单：\n",
    "- ？TODO①surrender value低，退保价值低；\n",
    "- ②premimum payments低，保费低；\n",
    "- ③生效probability高，比如被保险人早点趋去世。"
   ]
  },
  {
   "cell_type": "markdown",
   "metadata": {},
   "source": [
    "特点主要是和市场没有相关性"
   ]
  },
  {
   "cell_type": "markdown",
   "metadata": {},
   "source": [
    "### ☆☆26.7 Multi Manager Strategie"
   ]
  },
  {
   "cell_type": "markdown",
   "metadata": {},
   "source": [
    "FOF相当于一堆LP投资一个HF，然后这个HF投资于一堆不同的HF  \n",
    "MOM（multi-strategy）相当于一堆LP投资一个HF，然后这个HF内部分不同的FM去用不同的策略"
   ]
  },
  {
   "cell_type": "markdown",
   "metadata": {},
   "source": [
    "FOF的特点：  \n",
    "- ①smaller high-net-worth，小客户也能买到；\n",
    "- ②diverse strategy（分散化效果），低σ，低extreme risk exposure；\n",
    "- ③low leverage（其实看策略）；\n",
    "- ④less operational risk（操作风险低，因为分散了）；\n",
    "- ⑤less transparency（两层了透明度低）；\n",
    "- ⑥slower tactical time（两层了所以战术响应慢）。\n",
    "- ☆⑦less single manager tail risk，并且由于不同fund的投资流程都独立所以分散效果更好。"
   ]
  },
  {
   "cell_type": "markdown",
   "metadata": {},
   "source": [
    "MOM的特点：\n",
    "- ①full transparency，透明度更好；\n",
    "- ②high leverage（其实看策略）；\n",
    "- ③faster tactical time（更快）；\n",
    "- ☆④improved fee structure（费率更低）；\n",
    "- ⑤left-tail，困难时刻可能有尾部风险。"
   ]
  },
  {
   "cell_type": "markdown",
   "metadata": {},
   "source": [
    "MOM费率的netting risk更低的原因是因为MOM是一个HF，所以在计算不同策略的盈亏后会有总盈亏  \n",
    "但是FOF是投很多的HF（addtional layer），一个HF如果亏损了也不可以抵消其他HF的收益，所以费率整体比较高"
   ]
  },
  {
   "cell_type": "markdown",
   "metadata": {},
   "source": [
    "[回到AI首页](#Alternative-Investment-for-Portfolio-Management)  "
   ]
  },
  {
   "cell_type": "markdown",
   "metadata": {},
   "source": [
    "___"
   ]
  },
  {
   "cell_type": "markdown",
   "metadata": {},
   "source": [
    "## R27 Asset Allocation to Alternative Investments"
   ]
  },
  {
   "cell_type": "markdown",
   "metadata": {},
   "source": [
    "#### 27.1 Role in AA"
   ]
  },
  {
   "cell_type": "markdown",
   "metadata": {},
   "source": [
    "HF的跨度很大，既可以降低风险，又能够提升收益，AI的分散性也比较好"
   ]
  },
  {
   "cell_type": "markdown",
   "metadata": {},
   "source": [
    "![](./pics/AI/ai_role.png)"
   ]
  },
  {
   "cell_type": "markdown",
   "metadata": {},
   "source": [
    "**每个资产的角色分别是**：\n",
    "- ①PE，分散化效果有限，但是能收益增强；\n",
    "- ②HF，看策略，有的降低风险有的提升收益，和传统资产的相关性比较低；\n",
    "- ③Real assets，可以抗通胀；\n",
    "- ④commercial real asset，抗通胀（房价涨可以加房租）；\n",
    "- ⑤private credit，可以direct lending（直接借钱，像股权），也可以distressed debt（赌清算，像债券）"
   ]
  },
  {
   "cell_type": "markdown",
   "metadata": {},
   "source": [
    "![](./pics/AI/ai_diversification.png)"
   ]
  },
  {
   "cell_type": "markdown",
   "metadata": {},
   "source": [
    "### 27.2 Diversifying Equity Risk"
   ]
  },
  {
   "cell_type": "markdown",
   "metadata": {},
   "source": [
    "对组合权益风险的分散化，短期用bond，长期还是用Alternative（ρ低R高）  \n",
    "短期不用HF的原因是：①期限不匹配；②数据少用appraisal data，所以smooth带来的风险低估；③有很多bias，如survivorship bias和backfill bias。"
   ]
  },
  {
   "cell_type": "markdown",
   "metadata": {},
   "source": [
    "### ☆27.3 Investment Opportunity Set（机会集）"
   ]
  },
  {
   "cell_type": "markdown",
   "metadata": {},
   "source": [
    "#### 27.3.1 Traditional Approach 1 liquidity"
   ]
  },
  {
   "cell_type": "markdown",
   "metadata": {},
   "source": [
    "传统方法之一是将所有可投资的资产集合，按流动性分类"
   ]
  },
  {
   "cell_type": "markdown",
   "metadata": {},
   "source": [
    "![](./pics/AI/liquidity_based.png)"
   ]
  },
  {
   "cell_type": "markdown",
   "metadata": {},
   "source": [
    "#### 27.3.2 Traditional Approach 2 Perform under Scenarios"
   ]
  },
  {
   "cell_type": "markdown",
   "metadata": {},
   "source": [
    "传统方法之二是看在不同场景下的收益表现"
   ]
  },
  {
   "cell_type": "markdown",
   "metadata": {},
   "source": [
    "![](./pics/AI/return_scenario.png)"
   ]
  },
  {
   "cell_type": "markdown",
   "metadata": {},
   "source": [
    "#### ☆☆27.3.3 Risk Factor Based Approach"
   ]
  },
  {
   "cell_type": "markdown",
   "metadata": {},
   "source": [
    "看大类资产和风险因子做回归，看其敏感度，有这些风险因子：equity、size、value、liquidity、duration、inflation、credit spread、currency"
   ]
  },
  {
   "cell_type": "markdown",
   "metadata": {},
   "source": [
    "下图中凡是有值的都是回归结果显著的，其中可以看到债券类的duration的系数都很高，部分债券也有credit spread  \n",
    "HF macro和currency也有关系，HF Distressed则和credit spread正相关  \n",
    "VC由于投资了很多小公司，所以size的系数为正，而value的为负数"
   ]
  },
  {
   "cell_type": "markdown",
   "metadata": {},
   "source": [
    "![](./pics/AI/risk_factor_based1.png)\n",
    "![](./pics/AI/risk_factor_based2.png)"
   ]
  },
  {
   "cell_type": "markdown",
   "metadata": {},
   "source": [
    "#### 27.3.4 Comparison Two Approach"
   ]
  },
  {
   "cell_type": "markdown",
   "metadata": {},
   "source": [
    "**Traditional**：总结来看Traditional的方法更加简单好交流，流动性也比较好区分  \n",
    "但是却过度高估了组合的分散化（因为风险可能overlapping），也对风险的主要来源obscured  "
   ]
  },
  {
   "cell_type": "markdown",
   "metadata": {},
   "source": [
    "**Risk-based**：能够做到risk factor identification，也有integrated risk framework（完整的分析框架）  \n",
    "缺点是：利用回归可能对historical look back period sensitivity，也有implementation hurdles（执行门槛）"
   ]
  },
  {
   "cell_type": "markdown",
   "metadata": {},
   "source": [
    "### 27.4 AI Considerations"
   ]
  },
  {
   "cell_type": "markdown",
   "metadata": {},
   "source": [
    "6个考虑的因素：风险、收益、投资载体（vehicles）、流动性、费用、税收"
   ]
  },
  {
   "cell_type": "markdown",
   "metadata": {},
   "source": [
    "[1] HF的风险：①illiquidity，流动性差；②option-like，收益不对称，可以用sortino  "
   ]
  },
  {
   "cell_type": "markdown",
   "metadata": {},
   "source": [
    "[2] HF的收益：limited validity 自愿披露，所以数据可能无法获得  "
   ]
  },
  {
   "cell_type": "markdown",
   "metadata": {},
   "source": [
    "[3] HF投资载体：limited partnership，可以避免双重征税，缺乏经验的投资者更应该投资FOF（优：可以投到自己本身投不到的；缺：双重征税）   \n",
    "其中还有**separately managed accounts（SMA专户，funds of one，专户投资）**    \n",
    "欧盟还成立了UCITS（undertakings for collective investment in transferable securities，欧盟可转换证券计划）"
   ]
  },
  {
   "cell_type": "markdown",
   "metadata": {},
   "source": [
    "[4] **AI流动性考虑的点**：[overview of HF](#26.1-Overview-of-HF)有介绍HF的几个期限  \n",
    "PE的流动性：时间一般10年，分成几个时间点：\n",
    "- ①vintage year，0时点；\n",
    "- ②calldown period，投资期0-3年；\n",
    "- ③distribution，退出期7-10年；\n",
    "- ④extension year，退不出来可以延长2年，再退不出来去清算\n",
    "\n",
    "**PE的capital call（追加资本）和distribution（获取收益）可能发生在predetermined（calldown period）的任何阶段，而HF的一定再买的时候就要给资本**  \n",
    "在calldown period时：LP可能给了commitment-capital 100亿，但是GP可能只发现了90亿的投资机会，这样就有10亿的机会成本   "
   ]
  },
  {
   "cell_type": "markdown",
   "metadata": {},
   "source": [
    "[5] **HF的费用**：2 and 20，即2%的管理费和20%的incentive fee"
   ]
  },
  {
   "cell_type": "markdown",
   "metadata": {},
   "source": [
    "[6] HF的税收每个策略的情况不同"
   ]
  },
  {
   "cell_type": "markdown",
   "metadata": {},
   "source": [
    "### 27.5 Approches to AA"
   ]
  },
  {
   "cell_type": "markdown",
   "metadata": {},
   "source": [
    "有MCS、MVO、Risk factor based（风险因子MVO），详细可以参考[R13 Principles of Asset Allocation](./AA.ipynb/#R13-Principles-of-Asset-Allocation)"
   ]
  },
  {
   "cell_type": "markdown",
   "metadata": {},
   "source": [
    "Monte Carlo Simulation：就那样"
   ]
  },
  {
   "cell_type": "markdown",
   "metadata": {},
   "source": [
    "MVO：为了考虑HF的downside risk（长尾风险），最好在MVO用mean-CVaR optimization（相当于non-normal改进）  \n",
    "这里有强调了MVO的敏感性，所以要加限制"
   ]
  },
  {
   "cell_type": "markdown",
   "metadata": {},
   "source": [
    "Risk Factor Based：就那样"
   ]
  },
  {
   "cell_type": "markdown",
   "metadata": {},
   "source": [
    "### ☆27.6 Liquidity Planning（流动性管理）"
   ]
  },
  {
   "cell_type": "markdown",
   "metadata": {},
   "source": [
    "有个计算要注意：  \n",
    "[1] 资本投入的钱 = 投LP承诺给GP的投资比例 x （LP开始承诺投资的总额 - 已经给GP的钱）  \n",
    "capital contribution  = rate of contribution x (capital commitment - paid-in-capital)：$C_t = C\\%_t \\times (CC - PIC)$  \n",
    "[2] 年底的分红=分红比率 x 去年的基金净值 x 预测到年底的增长率  \n",
    "$D_t = D\\%_t \\times [NAV_{t-1} \\times (1+g)]$  \n",
    "[3]年底基金的真正的净值 = 去年的基金净值 x 预测到年底的增长率 + 今年的投入 - 年底的分红  \n",
    "$NAV_t = NAV_{t-1} \\times (1+g) + C_t - D_t$"
   ]
  },
  {
   "cell_type": "markdown",
   "metadata": {},
   "source": [
    "![](./pics/AI/NAV.png)"
   ]
  },
  {
   "cell_type": "markdown",
   "metadata": {},
   "source": [
    "### 27.7 Monitoring Programs（项目监督）"
   ]
  },
  {
   "cell_type": "markdown",
   "metadata": {},
   "source": [
    "performance evaluation：IRR来评价业绩会受到CF影响（NPV一样的情况下，CF越早IRR越高）  \n",
    "所以用MOIC（multiple on invested capital）回报倍数，来评价更好  \n",
    "MOIC为没分红的基金净值+已分红再除以已投入资本 = $\\frac{NAV + Distribution}{PIC}$\n",
    "\n",
    "如果初期CF比较大，FM用IRR有利，否则用MOIC"
   ]
  },
  {
   "cell_type": "markdown",
   "metadata": {},
   "source": [
    "[回到AI首页](#Alternative-Investment-for-Portfolio-Management)  "
   ]
  }
 ],
 "metadata": {
  "kernelspec": {
   "display_name": "Python 3",
   "language": "python",
   "name": "python3"
  },
  "language_info": {
   "codemirror_mode": {
    "name": "ipython",
    "version": 3
   },
   "file_extension": ".py",
   "mimetype": "text/x-python",
   "name": "python",
   "nbconvert_exporter": "python",
   "pygments_lexer": "ipython3",
   "version": "3.7.3"
  }
 },
 "nbformat": 4,
 "nbformat_minor": 4
}
