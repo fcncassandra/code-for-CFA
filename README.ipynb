{
 "cells": [
  {
   "cell_type": "markdown",
   "metadata": {},
   "source": [
    "# CFA Level III Notes & Code\n",
    "由于github阅读jupyter文件可能存在markdown格式不兼容的问题，所以建议打开[nbviewer](https://nbviewer.org/)来查看本项目的jupyter文件"
   ]
  },
  {
   "cell_type": "markdown",
   "metadata": {},
   "source": [
    "## 项目目录\n",
    "\n",
    "[Behavioral Finance](./BF.ipynb)\n",
    "\n",
    "[Capital Market Expectations](./CME.ipynb)\n",
    "\n",
    "[Asset Allocation](./AA.ipynb)\n",
    "\n",
    "[Derivatives and Currency Management](./Der&CM.ipynb)"
   ]
  }
 ],
 "metadata": {
  "kernelspec": {
   "display_name": "Python 3",
   "language": "python",
   "name": "python3"
  },
  "language_info": {
   "codemirror_mode": {
    "name": "ipython",
    "version": 3
   },
   "file_extension": ".py",
   "mimetype": "text/x-python",
   "name": "python",
   "nbconvert_exporter": "python",
   "pygments_lexer": "ipython3",
   "version": "3.7.3"
  }
 },
 "nbformat": 4,
 "nbformat_minor": 4
}
