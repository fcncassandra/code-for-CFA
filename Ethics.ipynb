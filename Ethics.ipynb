{
 "cells": [
  {
   "cell_type": "markdown",
   "metadata": {},
   "source": [
    "# Ethics and Professional Standards"
   ]
  },
  {
   "cell_type": "markdown",
   "metadata": {},
   "source": [
    "[回到code-for-CFA首页](./README.md)  "
   ]
  },
  {
   "cell_type": "markdown",
   "metadata": {},
   "source": [
    "Ethics不考写作题，过去12个case现在大概8个  \n",
    "ethics针对会员强制遵守，GIPS针对AMC，最好遵守  "
   ]
  },
  {
   "cell_type": "markdown",
   "metadata": {},
   "source": [
    "[R1 Code of Ethics and Standards of Professional Conduct](#R1-Code-of-Ethics-and-Standards-of-Professional-Conduct)  \n",
    "[R2 Guidance for Standards I–VII](#R2-Guidance-for-Standards-I–VII)  \n",
    "[R3 Application of the Code and Standards: Level III](#R3-Application-of-the-Code-and-Standards:-Level-III)  \n",
    "[R4 Professionalism in the Investment Industry](#R4-Professionalism-in-the-Investment-Industry)  \n",
    "[R5 Asset Manager Code of Professional Conduct](#R5-Asset-Manager-Code-of-Professional-Conduct)  \n",
    "[R6 Overview of the Global Investment Performance Standards](#R6-Overview-of-the-Global-Investment-Performance-Standards)  "
   ]
  },
  {
   "cell_type": "markdown",
   "metadata": {},
   "source": [
    "___"
   ]
  },
  {
   "cell_type": "markdown",
   "metadata": {},
   "source": [
    "## R1 Code of Ethics and Standards of Professional Conduct"
   ]
  },
  {
   "cell_type": "markdown",
   "metadata": {},
   "source": [
    "Professional Conduct Program (PCP)是CFA董事会，是常驻机构  \n",
    "Disciplinary Review Committee (DRC) 是这临时的记录检查工作组，负责具体调查\n"
   ]
  },
  {
   "cell_type": "markdown",
   "metadata": {},
   "source": [
    "CFA的sactions（处分）有：①public censure，公开批评；②suspension暂停会员资格；③revocation开除会员资格。"
   ]
  },
  {
   "cell_type": "markdown",
   "metadata": {},
   "source": [
    "☆协会纲领：  \n",
    "5点要求：Act with integrity, competence, diligence, respect, and in an ethical manner   \n",
    "6类人群：with the public, clients, prospective clients, employers, employees, colleagues   \n",
    "2个工作：in the investment profession, and other participants in the global capital markets.  \n",
    "注意：这句话的顺序不能更换，人群中没有Potential clients，那个范围太大了"
   ]
  },
  {
   "cell_type": "markdown",
   "metadata": {},
   "source": [
    "[回到Ethics首页](#Ethics-and-Professional-Standards)  "
   ]
  },
  {
   "cell_type": "markdown",
   "metadata": {},
   "source": [
    "___"
   ]
  },
  {
   "cell_type": "markdown",
   "metadata": {},
   "source": [
    "## R2 Guidance for Standards I–VII"
   ]
  },
  {
   "cell_type": "markdown",
   "metadata": {},
   "source": [
    "先说Professionalism专业度，然后天（资本市场，诚信）地（客户，立足之本）人（雇主），最后3点讲“我”：投资工作、利益冲突、会员责任  "
   ]
  },
  {
   "cell_type": "markdown",
   "metadata": {},
   "source": [
    "CFA面向FM（买方）和Analyst（卖方），其中卖方还有投行部、经纪部门、AMC、研究部门，其中投行部可以合法拥有内部消息"
   ]
  },
  {
   "cell_type": "markdown",
   "metadata": {},
   "source": [
    "![](./pics/Ethics/standard.png)"
   ]
  },
  {
   "cell_type": "markdown",
   "metadata": {},
   "source": [
    "### 2.1 I：Professionalism"
   ]
  },
  {
   "cell_type": "markdown",
   "metadata": {},
   "source": [
    "#### 2.1.1 IA：Knowledge of the Law"
   ]
  },
  {
   "cell_type": "markdown",
   "metadata": {},
   "source": [
    "Must dissociate from any violation of such laws, rules, or regulations，如果发现现在做的事情真违法就直接脱离/离职"
   ]
  },
  {
   "cell_type": "markdown",
   "metadata": {},
   "source": [
    "**道德准则和当地法律**：  \n",
    "Must know and should know，CFA必须知道当地的法律   \n",
    "CFA必须在公司、工作地、投资品等有法律约束的遵循最most strict  \n",
    "如果CFA月法律冲突，按照法律的要求来"
   ]
  },
  {
   "cell_type": "markdown",
   "metadata": {},
   "source": [
    "**发现其他人可能违法**：CFA不强制要求举报，除非法律要求立刻举报  \n",
    "如果know或者suspect（怀疑）某人违法，去找上司**或**compliance department（合规部门）\n"
   ]
  },
  {
   "cell_type": "markdown",
   "metadata": {},
   "source": [
    "CFA要了解法律，并review procedures（熟悉的公司流程）"
   ]
  },
  {
   "cell_type": "markdown",
   "metadata": {},
   "source": [
    "遵守宗教文化：Laws and Regulations Based on Religious Tenets  \n",
    "比如伊斯兰教不允许利息，所以可以换成手续费，实在不行就换一个更合适的基金"
   ]
  },
  {
   "cell_type": "markdown",
   "metadata": {},
   "source": [
    "#### 2.1.2 IB：Independence and objectivity（客观独立）"
   ]
  },
  {
   "cell_type": "markdown",
   "metadata": {},
   "source": [
    "**基本要求**：\n",
    "Must not offer, solicit, or accept any gift, benefit（门票）, compensation（津贴）, or consideration（找工作安排）   \n",
    "后面用gift广义代替上面最后4类  \n",
    "that reasonably could be expected to compromise their own or another’s independence and objectivity.  \n",
    "只要别人觉得会影响你客观独立，就不能收\n"
   ]
  },
  {
   "cell_type": "markdown",
   "metadata": {},
   "source": [
    "**可以收的**：一般最好拒绝，但是 modest and normal gift 的不影响客观独立性的小礼物可以收取，比如token一个杯子笔记本  \n",
    "如果是公司的礼物，可能在施加影响力的，就不能收取  \n",
    "**对于gift总结来看：对于Analyst是不能收上市公司的任何礼物的，但是对FM，如果是上市公司为拉股价一定不能收，如果是有钱客户的小费可以收**  "
   ]
  },
  {
   "cell_type": "markdown",
   "metadata": {},
   "source": [
    "**礼物披露**：由于是客户送的，所以应当disclosed给雇主  \n",
    "原则上应当prior to acceptance（事先披露给雇主），但是如果事先不知道客户要送礼物，可以事后再披露，不然怕来不及  "
   ]
  },
  {
   "cell_type": "markdown",
   "metadata": {},
   "source": [
    "**礼物关系**：买方FM可能给卖方Analyst礼物让其写好报告，卖方Broker可能也雇佣Analyst迎合买方FM让其开户    \n",
    "还有Custodial Relationships（存托关系）、secondary fund managers（第三方FM）、Crediting等等  "
   ]
  },
  {
   "cell_type": "markdown",
   "metadata": {},
   "source": [
    "**Firewall防火墙**：IBD合法获得内部信息，不能泄露给Research，因为这两个部门可以“双赢”，给其他部门只是单边好处    \n",
    "研究部门的业绩也不要和IBD直接挂钩，和公司挂钩可以：Compensation should not link analyst remuneration directly"
   ]
  },
  {
   "cell_type": "markdown",
   "metadata": {},
   "source": [
    "**写报告**：上市公司请Analyst写报告可以，但是要是flat fee，不和结论建议直接挂钩"
   ]
  },
  {
   "cell_type": "markdown",
   "metadata": {},
   "source": [
    "**差旅费**：一般是FM和Analyst自己出，但是如果商业交通去不了可以接受轻微的招待（比如不可以包机去，但是可以坐直升飞机去看矿）  \n",
    "commercial transportation be unavailable, may accept modestly arranged travel "
   ]
  },
  {
   "cell_type": "markdown",
   "metadata": {},
   "source": [
    "#### 2.1.3 IC：Misrepresentation（胡说抄袭）"
   ]
  },
  {
   "cell_type": "markdown",
   "metadata": {},
   "source": [
    "Misrepresentation是：①打字错误；②不能胡说；③不能抄袭  \n",
    "和IIID（Performance presentation）和VB（Communication with clients）不一样  "
   ]
  },
  {
   "cell_type": "markdown",
   "metadata": {},
   "source": [
    "打字错误发现就改：typographical error  "
   ]
  },
  {
   "cell_type": "markdown",
   "metadata": {},
   "source": [
    "包括口头、非公开等各种各种场合的表述不能有错误表述：untrue statement or omission of a fact，omit（省略）也算胡说  \n",
    "（1）情景分析用了非常乐观的场景算胡说：from very positive scenarios to extremely negative scenarios  \n",
    "（2）模型不靠谱算胡说：rely on models  \n",
    "（3）业绩度量归因有问题：performance measurement and attribution process  \n",
    "（4）挑好的业绩报告：cherry picking  \n",
    "（5）承诺了不能承诺的收益（国债收益可以）：Guaranteeing specific return  \n",
    "（6）对自己的资质乱说：qualifications or credentials  \n",
    "（7）服务不能都提供，只能给清单：provide a list of services available  \n",
    "（8）外部FM和外部信息可以用，但是不能胡说，胡说也算你的问题（VB详细有）  \n",
    "（9）benchmark 选的不对也是胡说：benchmarks that are not comparable to their strategy"
   ]
  },
  {
   "cell_type": "markdown",
   "metadata": {},
   "source": [
    "不能抄袭：Plagiarism\n",
    "（1）引用要说明出处，包括图表、Idea：Plagiarism  \n",
    "（2）不用人名的引用也有问题：“leading analysts” and “investment experts”  \n",
    "（3）用自己的话来复述：如果是客观术语不需引用，但是如果是观点和看法也要引用  \n",
    "（4）建模引用：proprietary computerized spreadsheets or algorithms  \n",
    "（5）同一个公司的同事的东西可以不用引用：within the same firm without committing a violation  \n",
    "（6）权威机构的东西不必引用（如统计局）：recognized financial and statistical reporting services or similar sources"
   ]
  },
  {
   "cell_type": "markdown",
   "metadata": {},
   "source": [
    "#### 2.1.4 ID：Misconduct（不当行为）"
   ]
  },
  {
   "cell_type": "markdown",
   "metadata": {},
   "source": [
    "欺骗隐瞒偷盗都是不当行为：involves lying, cheating, stealing, or other dishonest conduct would violate this standard  \n",
    "**不当行为是专业行为，不是个人行为，比如抗议被抓不算，但是生活中偷盗就算了，因为和钱相关，和专业挂钩**"
   ]
  },
  {
   "cell_type": "markdown",
   "metadata": {},
   "source": [
    "（1）上班喝醉是专业问题，因为会影响到完成专业的责任义务  \n",
    "（2）个人破产看是否是因为欺诈被告到破产，是就是算，如果是自己生活谈判破产就不算不当行为：if the circumstances of the bankruptcy involve fraudulent or deceitful business conduct  "
   ]
  },
  {
   "cell_type": "markdown",
   "metadata": {},
   "source": [
    "### ☆2.2 II：Integrity of Capital Markets"
   ]
  },
  {
   "cell_type": "markdown",
   "metadata": {},
   "source": [
    "资本市场诚信是天，关于非公开消息和市场操纵"
   ]
  },
  {
   "cell_type": "markdown",
   "metadata": {},
   "source": [
    "#### 2.2.1 IIA：Material nonpublic information"
   ]
  },
  {
   "cell_type": "markdown",
   "metadata": {},
   "source": [
    "material：要reliable source（来源可靠）以及clear impact（影响很大）  \n",
    "non-public：要非公开的  "
   ]
  },
  {
   "cell_type": "markdown",
   "metadata": {},
   "source": [
    "哪些是重大的：\n",
    "- ①公司相关信息，如净利润、M&A等  \n",
    "- ②宏观经济数据\n",
    "- ③股票大单，large orders  \n",
    "- ④知名分析师，well known analyst  \n",
    "- ⑤一些牌照，qualitified personnel，如新药批准  \n",
    "\n",
    "注意：Competitor’s estimation（竞争对手的攻击）不算NMI"
   ]
  },
  {
   "cell_type": "markdown",
   "metadata": {},
   "source": [
    "哪些是公开的：选择要在公众，selective disclosure，有选择的向定向人群公开，不算公开"
   ]
  },
  {
   "cell_type": "markdown",
   "metadata": {},
   "source": [
    "**马赛克理论**：mosaic theory，结合了重大/非重大公开与非重大非公开消息得出的结论，体现了分析师的水平"
   ]
  },
  {
   "cell_type": "markdown",
   "metadata": {},
   "source": [
    "**行业专家**：行业常识不算NMI，但是行业人员也不知道的信息就算NMI"
   ]
  },
  {
   "cell_type": "markdown",
   "metadata": {},
   "source": [
    "**Firewall防火墙**：IBD要与Research隔开，并且要有watch、restricted（将得到的NMI信息列在里面不让Trader交易）、rumor（无关的人说的）的list  \n",
    "Inter-department communication跨部门交流时，投行部和其他所有的部门都要隔开  "
   ]
  },
  {
   "cell_type": "markdown",
   "metadata": {},
   "source": [
    "**公司自营**：如果公司是**做市商**，拿到NMI后不要立刻停止操作，不然也向市场传递了信息，而要做一个消极的对手方：Remain passive to market   \n",
    "否则应当停止，**但是如果是赚价差的Risk-arbitrage trading**，并能自证和NMI无关就可以：prove the adequacy of their internal procedures"
   ]
  },
  {
   "cell_type": "markdown",
   "metadata": {},
   "source": [
    "#### 2.2.2 IIB：Market manipulation"
   ]
  },
  {
   "cell_type": "markdown",
   "metadata": {},
   "source": [
    "市场操纵在两个方面：Info-based（基于信息的dissenmination、misleading）和Transaction-based（基于交易的，拉抬股价）  "
   ]
  },
  {
   "cell_type": "markdown",
   "metadata": {},
   "source": [
    "满足3点要求的例外：①exchange members（交易所会员）；②agreement（实现协议）；③increase liquidity（为了提升流动性）。"
   ]
  },
  {
   "cell_type": "markdown",
   "metadata": {},
   "source": [
    "### 2.3 III：Duty To Clients"
   ]
  },
  {
   "cell_type": "markdown",
   "metadata": {},
   "source": [
    "对客户尽责是地，是立足之本"
   ]
  },
  {
   "cell_type": "markdown",
   "metadata": {},
   "source": [
    "#### 2.3.1 IIIA：Loyalty, prudence and care"
   ]
  },
  {
   "cell_type": "markdown",
   "metadata": {},
   "source": [
    "**受托责任**：Fiduciary，所以遵循prudent man rule（更加谨慎）： higher standard of loyalty and extra care  \n",
    "比如自己满仓买股票可以，但是有了fiduciary后应当更加谨慎  "
   ]
  },
  {
   "cell_type": "markdown",
   "metadata": {},
   "source": [
    "要全心全意发挥skill和diligence，要了解type of client（客户的类型），买对客户suitable的投资，有四类客户：  \n",
    "- ①Individual，个人客户，很明确对其个人资产负责；\n",
    "- ②Beneficiary，受益人，受益人和委托人可能不是一个人，要对受益人负责；\n",
    "- ☆③Mandate，强制其复制指数基金，这个时候可以不对客户负责只对mandate负责；\n",
    "- ④Investing public：不确定的公众。"
   ]
  },
  {
   "cell_type": "markdown",
   "metadata": {},
   "source": [
    "投资决定不要只看单个投资，而是整个投资组合的情况：context of the total portfolio"
   ]
  },
  {
   "cell_type": "markdown",
   "metadata": {},
   "source": [
    "可以接受soft dollar/commisions：Broker吸引AMC/FM开户如果给现金，就是hard dollar行贿了，但是如果是其他的比如送分析报告、软件，必须是客户直接受益的就可以"
   ]
  },
  {
   "cell_type": "markdown",
   "metadata": {},
   "source": [
    "**指定开户**：Directed brokerage，客户指定FM去哪边开户，但是FM仍然有义务去找最优的：Obligated to seek “best execution” and “best price”,  \n",
    "然后告诉客户，如果他还是坚持以前的再说：disclose to the client and obtain written consent"
   ]
  },
  {
   "cell_type": "markdown",
   "metadata": {},
   "source": [
    "**委托投票**：FM管理基金，股东名单上可能没有基金公司而没有客户，原则上是必须去投票，可根据性价比原则不投（比如太远了）"
   ]
  },
  {
   "cell_type": "markdown",
   "metadata": {},
   "source": [
    "**报送频率**：至少1个季度1次，并且还有明细！at least quarterly, an itemized statement"
   ]
  },
  {
   "cell_type": "markdown",
   "metadata": {},
   "source": [
    "**分散化**：diversify，原则上必须分散化，除非客户明确不要"
   ]
  },
  {
   "cell_type": "markdown",
   "metadata": {},
   "source": [
    "#### 2.3.2 IIIB：Fair dealing"
   ]
  },
  {
   "cell_type": "markdown",
   "metadata": {},
   "source": [
    "公平交易：fairly != equally，公平不等于平等，而是给较差起点的客户更多帮助让所有客户的水平线一样  "
   ]
  },
  {
   "cell_type": "markdown",
   "metadata": {},
   "source": [
    "**增值服务**：Premium level service是可以的，但是：①不要挑人，not be selective；②不是钱；③不要让别人受害，not disadvantage or negatively affect other clients"
   ]
  },
  {
   "cell_type": "markdown",
   "metadata": {},
   "source": [
    "**交易时**：按订单比例而不是按账户比例：pro rata on order size, not on account size  \n",
    "可以FIFO也可以pro rata on order size，但是需要事先和客户说明"
   ]
  },
  {
   "cell_type": "markdown",
   "metadata": {},
   "source": [
    "**关于通知**：原则上每个人要有fair opportunity to act on every recommendation  \n",
    "重大改变应当一起通知：communicated to all current clients，但是应当特别关照受之前建议影响的客户：particular care who have acted on or been affected by the earlier advice\n",
    "比如FM之前推荐了所有人A股，但是只有30个人买了，这次FM认为要卖，应该只发给这30人而不是所有的，不然会让人误判  "
   ]
  },
  {
   "cell_type": "markdown",
   "metadata": {},
   "source": [
    "**超额认购**：oversubscribed原则上必须按申购比例平分，但是如果有小数点可以不严格：a round-lot basis to avoid odd-lot distributions  \n",
    "比如1000股分3个人，单位是100股，可以是300+300+400，"
   ]
  },
  {
   "cell_type": "markdown",
   "metadata": {},
   "source": [
    "**家庭成员账户**：family-member accounts如果是本人直接受益（一般是父母和夫妻），就视为自己，要最后交易，否则就是formal fee paying普通客户  "
   ]
  },
  {
   "cell_type": "markdown",
   "metadata": {},
   "source": [
    "缩短决策和执行的时间，防止对某些客户不利：Shorten the time frame between decision and dissemination"
   ]
  },
  {
   "cell_type": "markdown",
   "metadata": {},
   "source": [
    "#### 2.3.3 IIIC：Suitability"
   ]
  },
  {
   "cell_type": "markdown",
   "metadata": {},
   "source": [
    "要站在整个组合的角度上考虑是否符合客户的IPS，RRTTLLU。但是指数FM对Mandate负责。"
   ]
  },
  {
   "cell_type": "markdown",
   "metadata": {},
   "source": [
    "IPS每年一变，且先改IPS才能改投资方式：repeated at least annually and also prior to material changes"
   ]
  },
  {
   "cell_type": "markdown",
   "metadata": {},
   "source": [
    "**客户主动做对他不适合的操作**：①如果影响小，就做，a minimum impact；②如果有重大影响，劝他不要做；③如果他一定要买，就在更新IPS后再买；④如果他不愿意更新IPS，那么就把资金拨给他账户让他自己买。"
   ]
  },
  {
   "cell_type": "markdown",
   "metadata": {},
   "source": [
    "#### 2.3.4 IIID：Performance presentation"
   ]
  },
  {
   "cell_type": "markdown",
   "metadata": {},
   "source": [
    "业绩展示应当：公开、准确、完整：fair, accurate, and complete。CFA希望用GIPS，这里都是GIPS核心思想"
   ]
  },
  {
   "cell_type": "markdown",
   "metadata": {},
   "source": [
    "不能用过去的业绩暗示未来可以达成：Not state or imply to obtain what was achieved in the past    \n",
    "可以说过去3年10%，但是“不代表未来”（√）或“不代表未来，未来预计10.2%”（√），但是不能“如果没大意外，未来也能达成”（×）"
   ]
  },
  {
   "cell_type": "markdown",
   "metadata": {},
   "source": [
    "已经结束的组合应当包括在业绩展示当中：Include terminated portfolio as part of performance history   \n",
    "别只报一个业绩而是加权平均：The performance of weighted rate of return rather than a single performance  "
   ]
  },
  {
   "cell_type": "markdown",
   "metadata": {},
   "source": [
    "业绩报告可以很brief，但是要有详细材料： brief presentations include a reference to the limited nature of the information provided"
   ]
  },
  {
   "cell_type": "markdown",
   "metadata": {},
   "source": [
    "模型虚拟业绩：simulated performance可以用，但是不能和真实的在一起计算平均  \n",
    "关于业绩要说清楚是不是已经扣除了management fee、交易费、tax"
   ]
  },
  {
   "cell_type": "markdown",
   "metadata": {},
   "source": [
    "#### 2.3.5 IIIE：Preservation of confidentiality"
   ]
  },
  {
   "cell_type": "markdown",
   "metadata": {},
   "source": [
    "保密，对当前过去和潜在的客户负责 current, former, and prospective  \n",
    "除非：①客户违法了；②法律要求；③客户同意  "
   ]
  },
  {
   "cell_type": "markdown",
   "metadata": {},
   "source": [
    "如果法律也要求即使客户违法也要保密就保（瑞士银行）：If disclosure is required by law or the information concerns illegal activities by the client"
   ]
  },
  {
   "cell_type": "markdown",
   "metadata": {},
   "source": [
    "### 2.4 IV：Duty To Employers\n"
   ]
  },
  {
   "cell_type": "markdown",
   "metadata": {},
   "source": [
    "对雇主的责任，雇主是“人”，衣食父母  "
   ]
  },
  {
   "cell_type": "markdown",
   "metadata": {},
   "source": [
    "#### 2.4.1 IVA：Loyalty"
   ]
  },
  {
   "cell_type": "markdown",
   "metadata": {},
   "source": [
    "要将客户的loyalty和雇主的区分，对客户是fiduciary"
   ]
  },
  {
   "cell_type": "markdown",
   "metadata": {},
   "source": [
    "**☆行为和雇主的竞争**：Independent Practice，广义竞争包括业务、时间、精力   \n",
    "如社区慈善管理基金（业务竞争）、上班做咨询（时间竞争）、业余做教练上班困（精力竞争）   \n",
    "必须要告知并经过雇主同意：①工作类型；②持续时间；③待遇。"
   ]
  },
  {
   "cell_type": "markdown",
   "metadata": {},
   "source": [
    "**☆离职**：不拿雇主的一针一线  \n",
    "不可以打印、背诵（Memorizing）客户清单，知道少数几个不违规"
   ]
  },
  {
   "cell_type": "markdown",
   "metadata": {},
   "source": [
    "吹哨人：Whistleblowing，在职揭发雇主，违反资本市场诚信（天）和客户利益（地）  \n",
    "临时工：Nature of Employment视同有雇佣关系"
   ]
  },
  {
   "cell_type": "markdown",
   "metadata": {},
   "source": [
    "#### 2.4.2 IVB：Additional compensation arrangements"
   ]
  },
  {
   "cell_type": "markdown",
   "metadata": {},
   "source": [
    "额外薪酬，和loyalty中自找的Independent Practice不同，Additional compensation arrangements是客户提出的  \n",
    "包括客户的奖励、标的公司请做董秘、上市公司请吃饭等等都时，都必须经过雇主的书面同意，“Written Consent”"
   ]
  },
  {
   "cell_type": "markdown",
   "metadata": {},
   "source": [
    "#### 2.4.3 IVC：Responsibility of supervisors"
   ]
  },
  {
   "cell_type": "markdown",
   "metadata": {},
   "source": [
    "作为领导的责任，原则上下属违规领导也违规，除非领导定了合规的要求"
   ]
  },
  {
   "cell_type": "markdown",
   "metadata": {},
   "source": [
    "领导对下属必须充分尽责：reasonable efforts  \n",
    "可以把责任给下属，但是需要承担最后责任：Can delegate, but not relieve of supervisory responsibility  \n",
    "确保公司有书面的合规要求：written compliance system，并需要定期的review  "
   ]
  },
  {
   "cell_type": "markdown",
   "metadata": {},
   "source": [
    "如果升职成为了领导，发现Inadequate Procedures没有合规，那么就要先提出合规流程后再做领导，不然就不做"
   ]
  },
  {
   "cell_type": "markdown",
   "metadata": {},
   "source": [
    "如果发现下属违规，则先要investigation彻查，然后再限制行动加强监管：limits on the employee’s activities or increasing the monitoring"
   ]
  },
  {
   "cell_type": "markdown",
   "metadata": {},
   "source": [
    "### 2.5 V：Investment"
   ]
  },
  {
   "cell_type": "markdown",
   "metadata": {},
   "source": [
    "关于我的投资要求"
   ]
  },
  {
   "cell_type": "markdown",
   "metadata": {},
   "source": [
    "#### 2.5.1 VA：Diligence and reasonable basis"
   ]
  },
  {
   "cell_type": "markdown",
   "metadata": {},
   "source": [
    "要从头到尾勤勉尽责独立客观：diligence, independence, and thoroughness"
   ]
  },
  {
   "cell_type": "markdown",
   "metadata": {},
   "source": [
    "**关于投资信息**：top-down approach才算勤勉尽责，要穷尽所有的信息    \n",
    "可以用第三方的信息，但是责任是自己的。rely on others in the firm to determine soundness"
   ]
  },
  {
   "cell_type": "markdown",
   "metadata": {},
   "source": [
    "**量化模型**：Using Quantitatively Oriented Research可以用，但是是必须真懂参数、假设、限制、测试、波动率，别忽悠人    \n",
    "understand the technical aspects ：parameters、assumptions、limitations、test、volatility"
   ]
  },
  {
   "cell_type": "markdown",
   "metadata": {},
   "source": [
    "**报告署名**：如果不同意报告，上面就不要有自己的名字  \n",
    "最低要求是尽管不同以结论但是过程是严谨的，可以放名字：If the consensus opinion has a reasonable and adequate basis"
   ]
  },
  {
   "cell_type": "markdown",
   "metadata": {},
   "source": [
    "#### 2.5.2 VB：Communication with clients"
   ]
  },
  {
   "cell_type": "markdown",
   "metadata": {},
   "source": [
    "和客户沟通交流，区分opinion（may be）和fact（will be）  \n",
    "opinion的表述：副词probably/maybe/possibly；名词it's my opinion；语态should/would/will"
   ]
  },
  {
   "cell_type": "markdown",
   "metadata": {},
   "source": [
    "**关于通知**：投资重大改变如工具、标的范围、团队变动等   \n",
    "以及重要的风险和局限性、杠杆、复杂的金融工具等  \n",
    "☆recommendation可以简单capsule，但是要和客户说客户要就给：notify clients that additional information and analyses are available upon request."
   ]
  },
  {
   "cell_type": "markdown",
   "metadata": {},
   "source": [
    "#### 2.5.3 VC：Record retention "
   ]
  },
  {
   "cell_type": "markdown",
   "metadata": {},
   "source": [
    "离职记录保留，对于Analyst所有材料都要留下来，FM除此之外还要留下来交易记录（很难带走，老东家不认可带走也没用）"
   ]
  },
  {
   "cell_type": "markdown",
   "metadata": {},
   "source": [
    "纸质和电子版的材料都算：hard copy/electronic form    \n",
    "将来可以自己通过公开渠道re-create恢复的没事，不可以re-create将来就不能用"
   ]
  },
  {
   "cell_type": "markdown",
   "metadata": {},
   "source": [
    "**记录保留的时间**：如果有保留时长就按当地来，没有就按最少7年"
   ]
  },
  {
   "cell_type": "markdown",
   "metadata": {},
   "source": [
    "### 2.6 VI：Conflicts of Interest"
   ]
  },
  {
   "cell_type": "markdown",
   "metadata": {},
   "source": [
    "利益冲突"
   ]
  },
  {
   "cell_type": "markdown",
   "metadata": {},
   "source": [
    "#### 2.6.1 VIA：Disclosure of conflicts"
   ]
  },
  {
   "cell_type": "markdown",
   "metadata": {},
   "source": [
    "要用平实的语言披露：in plain language"
   ]
  },
  {
   "cell_type": "markdown",
   "metadata": {},
   "source": [
    "**分析师被要求写报告**：但是持股了怎么办？必须要披露，最好让别人来写  \n",
    "如果非要写，如果股票少量可以写，如果是大量是最近主动获得就不可以，如果是被动获得如继承的就可以（其实也不是很好）  "
   ]
  },
  {
   "cell_type": "markdown",
   "metadata": {},
   "source": [
    "披露给雇主：禁止：personal trading（个人交易）；outside broad membership（标的公司BOD的成员）  \n",
    "披露给客户：IBD在为该股票融资、是其做市商、个人关系（发小朋友没事）  "
   ]
  },
  {
   "cell_type": "markdown",
   "metadata": {},
   "source": [
    "和内部的矛盾：研究部与投行部  \n",
    "和外部的矛盾：和上市公司之间的"
   ]
  },
  {
   "cell_type": "markdown",
   "metadata": {},
   "source": [
    "**激励机制**：激励机制必须与客户利益相同，比如养老金是长期投资但是确是季度发放激励费  \n",
    "需要披露给客户，如果雇主不允许就辞职  "
   ]
  },
  {
   "cell_type": "markdown",
   "metadata": {},
   "source": [
    "#### 2.6.2 VIB：Priority of transaction"
   ]
  },
  {
   "cell_type": "markdown",
   "metadata": {},
   "source": [
    "交易的先后顺序：Client > employer > individual（包括家庭成员账户或自己是受益人的）"
   ]
  },
  {
   "cell_type": "markdown",
   "metadata": {},
   "source": [
    "要留出足够的时间让客户交易：Must have enough time to let clients have opportunities to respond to your recommendation"
   ]
  },
  {
   "cell_type": "markdown",
   "metadata": {},
   "source": [
    "IPO自己可以参加，但是要披露，如果超额限购的不可以参加，优先给客户机会"
   ]
  },
  {
   "cell_type": "markdown",
   "metadata": {},
   "source": [
    "#### 2.6.3 VIC：Referral fees"
   ]
  },
  {
   "cell_type": "markdown",
   "metadata": {},
   "source": [
    "介绍费可以收，但是也应该披露给客户，让其判断是否我有偏见，也能评估真实的成本  \n",
    "any partiality shown in any recommendation of services；the full cost of the service."
   ]
  },
  {
   "cell_type": "markdown",
   "metadata": {},
   "source": [
    "也可以禁止，如果不禁止，雇主统一必须有相关的政策：the appropriate steps for requesting approval."
   ]
  },
  {
   "cell_type": "markdown",
   "metadata": {},
   "source": [
    "### 2.7 VII：Responsibility as Members"
   ]
  },
  {
   "cell_type": "markdown",
   "metadata": {},
   "source": [
    "CFA会员责任"
   ]
  },
  {
   "cell_type": "markdown",
   "metadata": {},
   "source": [
    "#### 2.7.1 VIIA：Conduct as members and candidates"
   ]
  },
  {
   "cell_type": "markdown",
   "metadata": {},
   "source": [
    "关于考试，不要作弊，内容保密，不能滥用协会的关系    \n",
    "肯定和否定的披露都不可以，但expressing an opinion可以，比如久期很重要"
   ]
  },
  {
   "cell_type": "markdown",
   "metadata": {},
   "source": [
    "#### 2.7.2 VIIB：Reference to CFA institute, designation"
   ]
  },
  {
   "cell_type": "markdown",
   "metadata": {},
   "source": [
    "CFA是形容词，要大写，不能特别大到比人的名字还大"
   ]
  },
  {
   "cell_type": "markdown",
   "metadata": {},
   "source": [
    "声明和每年付会费"
   ]
  },
  {
   "cell_type": "markdown",
   "metadata": {},
   "source": [
    "别夸张CFA考试作用，比如对业绩起到影响不行，说比没考CFA的厉害也不行，但可以说知识完善了"
   ]
  },
  {
   "cell_type": "markdown",
   "metadata": {},
   "source": [
    "## R3 Application of the Code and Standards: Level III"
   ]
  },
  {
   "cell_type": "markdown",
   "metadata": {},
   "source": [
    "一些应用案例"
   ]
  },
  {
   "cell_type": "markdown",
   "metadata": {},
   "source": [
    "Marcia Lopez：David Hockett and Team；The Kochanskis  \n",
    "Castle Biotechnology：David Plume, PhD, CFA；Sandra Benning, CFA；Claris Deacon  \n",
    "Lionsgate Limited & Bank of Australia：Tony Hill and Team；Rob Portman, CFA；Kirk Graeme, CFA；The Delaneys；David Milgram  \n",
    "Gabby Sim  "
   ]
  },
  {
   "cell_type": "markdown",
   "metadata": {},
   "source": [
    "[回到Ethics首页](#Ethics-and-Professional-Standards)  "
   ]
  },
  {
   "cell_type": "markdown",
   "metadata": {},
   "source": [
    "___"
   ]
  },
  {
   "cell_type": "markdown",
   "metadata": {},
   "source": [
    "## R4 Professionalism in the Investment Industry"
   ]
  },
  {
   "cell_type": "markdown",
   "metadata": {},
   "source": [
    "职业精神相关：对客户特别教育、建立信任"
   ]
  },
  {
   "cell_type": "markdown",
   "metadata": {},
   "source": [
    "道德决策框架：①Identify；②Consider；③Decide and act；④Reflect"
   ]
  },
  {
   "cell_type": "markdown",
   "metadata": {},
   "source": [
    "[回到Ethics首页](#Ethics-and-Professional-Standards)  "
   ]
  },
  {
   "cell_type": "markdown",
   "metadata": {},
   "source": [
    "___"
   ]
  },
  {
   "cell_type": "markdown",
   "metadata": {},
   "source": [
    "## R5 Asset Manager Code of Professional Conduct"
   ]
  },
  {
   "cell_type": "markdown",
   "metadata": {},
   "source": [
    "前面都是个人如何，现在是公司怎么做，包括：  \n",
    "①Loyalty to Clients；②Investment Process and Actions；③Trading；④Risk Management, Compliance, and Support；⑤Performance and Valuation；⑥Disclosures"
   ]
  },
  {
   "cell_type": "markdown",
   "metadata": {},
   "source": [
    "公司的所有员工都要遵守，不可以部分遵守，并且结尾增加CFA没有验证过的说明：  \n",
    "“[Insert name of Firm] claims compliance with the CFA Institute Asset Manager Code of Professional Conduct. This claim has not been verified by CFA Institute.”"
   ]
  },
  {
   "cell_type": "markdown",
   "metadata": {},
   "source": [
    "### 5.1 Loyalty to Clients"
   ]
  },
  {
   "cell_type": "markdown",
   "metadata": {},
   "source": [
    "对于礼物要更细：确定minimum value，公司明确一个供应商多久能收多少礼物，并拒绝所有的现金礼物"
   ]
  },
  {
   "cell_type": "markdown",
   "metadata": {},
   "source": [
    "### 5.2 Investment Process and Actions"
   ]
  },
  {
   "cell_type": "markdown",
   "metadata": {},
   "source": [
    "FM可以跟secondary investment opportunities，可以节约成本sidecar，只要是公平和合适的fairly、suitable"
   ]
  },
  {
   "cell_type": "markdown",
   "metadata": {},
   "source": [
    "投资的风格要和策略保持一致，但是可以有一些弹性，但必须让人理解：Flexibility is not improper"
   ]
  },
  {
   "cell_type": "markdown",
   "metadata": {},
   "source": [
    "### 5.3 Trading"
   ]
  },
  {
   "cell_type": "markdown",
   "metadata": {},
   "source": [
    "组织架构要有合规流程，FM可以将自己的钱和客户一起投，但必须劣后"
   ]
  },
  {
   "cell_type": "markdown",
   "metadata": {},
   "source": [
    "### 5.4 Risk Management, Compliance, and Support"
   ]
  },
  {
   "cell_type": "markdown",
   "metadata": {},
   "source": [
    "**合规总监/部门**：要有合规总监compliance officer，也可以给第三方audit或review（更好，看成是风险管理工具）    \n",
    "合规可以外包，但最后责任必须自己承担  \n",
    "合规总监必须很有能力：competent, knowledgeable, and credible and is empowered   \n",
    "可以是现有的员工，也可以是单独的人，也可以重新构建整个合规部门  \n",
    "级别要比较高，能直接汇报BOD和CEO，必须独立投资和运营的人：independent from the investment and operations personnel "
   ]
  },
  {
   "cell_type": "markdown",
   "metadata": {},
   "source": [
    "**公司支持**：要有充分的人力资源和技术支持：Employ qualified staff and sufficient human and technological resources     \n",
    "所以不仅仅是合规，还需要行政、后台等支持形成合适的内控系统：adequate internal controls  \n",
    "全公司的合规流程：firm-wide risk management process  \n",
    "合规流程可以根据公司的size因地制宜   "
   ]
  },
  {
   "cell_type": "markdown",
   "metadata": {},
   "source": [
    "**灾后重建**：有预备方案保证公司持续运营：business-continuity plan，如灾后重建：disaster-recovery planning  \n",
    "灾后重建计划需要员工经过培训，并在firm-wide basis经过测试    \n",
    "灾后重建最低要求：**一天备份两次**，异地备份所有账户信息adequate backup, preferably off-site, for all account information  \n",
    "如果出问题了如何重大供应商和员工沟通；持续业务中断下和客户沟通：extended disruption  \n",
    "要有后台和运营部门，还要做好关键员工离职死亡预案\n",
    "\n"
   ]
  },
  {
   "cell_type": "markdown",
   "metadata": {},
   "source": [
    "**风控**：风险管理要充分：market risk, credit risk, liquidity risk, counterparty risk, concentration risk, and various types of operational risk.    \n",
    "风控可以外包，技术上要充分风控： stress tests, scenario tests, and back-tests"
   ]
  },
  {
   "cell_type": "markdown",
   "metadata": {},
   "source": [
    "### 5.5 Performance and Valuation"
   ]
  },
  {
   "cell_type": "markdown",
   "metadata": {},
   "source": [
    "虚拟业绩可以展示，但是不要和真实的混在一起  \n",
    "AMC要有合适的估值方法  "
   ]
  },
  {
   "cell_type": "markdown",
   "metadata": {},
   "source": [
    "### 5.6 Disclosures"
   ]
  },
  {
   "cell_type": "markdown",
   "metadata": {},
   "source": [
    "沟通介质可以很广，但是要持续沟通：ongoing  \n"
   ]
  },
  {
   "cell_type": "markdown",
   "metadata": {},
   "source": [
    "要披露管理费用（个人Ethics部分没有强调），打包收费的数额也要披露  \n",
    "full and fair要完全一致持续披露，最少要提供net/gross-of-fee，以及所有不寻常的开支unusual  \n",
    "确定的和不确定（比如未来赚的20%）的也要披露：determining all fixed and contingent fees and costs"
   ]
  },
  {
   "cell_type": "markdown",
   "metadata": {},
   "source": [
    "对老客户要追溯披露，实际明细的佣金等费用：retrospectively disclose to each client the actual fees and other costs   \n",
    "对潜在新客户要估计费用大概多少：disclose to prospective clients the average or expected expenses or fees"
   ]
  },
  {
   "cell_type": "markdown",
   "metadata": {},
   "source": [
    "**报送周期**：每季度，最迟季度结束后30天内披露"
   ]
  },
  {
   "cell_type": "markdown",
   "metadata": {},
   "source": [
    "估值方法：可以用收盘、第三方、内部、其他方法"
   ]
  },
  {
   "cell_type": "markdown",
   "metadata": {},
   "source": [
    "组织架构和风控流程改变也及时告诉客户"
   ]
  },
  {
   "cell_type": "markdown",
   "metadata": {},
   "source": [
    "[回到Ethics首页](#Ethics-and-Professional-Standards)  "
   ]
  },
  {
   "cell_type": "markdown",
   "metadata": {},
   "source": [
    "___"
   ]
  },
  {
   "cell_type": "markdown",
   "metadata": {},
   "source": [
    "## R6 Overview of the Global Investment Performance Standards"
   ]
  },
  {
   "cell_type": "markdown",
   "metadata": {},
   "source": [
    "GIPS是公司自愿遵循的最低要求  \n",
    "GIPS第一版是2002年，对2000年有效；2006年出了第二版；2010年出了第三版，2012年的加了注释"
   ]
  },
  {
   "cell_type": "markdown",
   "metadata": {},
   "source": [
    "### 6.1 GIPS Glossary"
   ]
  },
  {
   "cell_type": "markdown",
   "metadata": {},
   "source": [
    "关于GIPS的一些术语"
   ]
  },
  {
   "cell_type": "markdown",
   "metadata": {},
   "source": [
    "**TWRR和MWRR的选择**：TWRR(TIME-WEIGHTED RATE OF RETURN)和MWRR(MONEY-WEIGHTED RATE OF RETURN)  \n",
    "- TWRR，FM不能控制External CF（外部现金流）时，推荐使用TWRR，但是一般都无法控制，所以**GIPS推荐使用TWRR**  \n",
    "- MWRR，也就是IRR，可以用于房地产和PE投资，因为时间长外部现金流可控，否则上涨前增加CF在指标上可以提升收益，下跌前撤出CF可以降低亏损"
   ]
  },
  {
   "cell_type": "markdown",
   "metadata": {},
   "source": [
    "会计准则上：应当用Acrrual Accounting（全责发生制），不能用cash-basis，比如债券应当用full price而不应当用clean price"
   ]
  },
  {
   "cell_type": "markdown",
   "metadata": {},
   "source": [
    "**Carve-out**：如果FM有股债混合的策略，能否单独展示纯股票/债券的收益？  \n",
    "可以，但是必须有独立的资金账户，股归股，债归债：must be managed separately with its own cash balance."
   ]
  },
  {
   "cell_type": "markdown",
   "metadata": {},
   "source": [
    "Composite里面的portfolio应当有相似的mandate/objective/strategy"
   ]
  },
  {
   "cell_type": "markdown",
   "metadata": {},
   "source": [
    "**Firm的定义**：必须全firm遵守GIPS才可以说使用了GIPS，但是对于公司可以定义  \n",
    "只要组织功能可以独立：organizationally and functionally segregated   \n",
    "并且由自己规范的投资流程：investment decision-making process"
   ]
  },
  {
   "cell_type": "markdown",
   "metadata": {},
   "source": [
    "**关于LINK**：有数学上的Linking（TWRR），也有展示时的Linking（比如2个信息放在一起）  "
   ]
  },
  {
   "cell_type": "markdown",
   "metadata": {},
   "source": [
    "**费用展示**：gross-of-fee没有扣除管理费用，更能够体现FM的水平；net-of-fee则更能展示投资者的实际收益  \n",
    "GIPS推荐两个都展示，并且一般不去扣除行政管理费（custody, accounting, auditing, consulting, performance measurement, and legal fees, among others. ）  \n",
    "如果交易费用和其他费用打包在一起，就一起扣除bundled fees"
   ]
  },
  {
   "cell_type": "markdown",
   "metadata": {},
   "source": [
    "**交易日和结算日**：要用TRADE DATE（交易日）的进行会计计算，而不是SETTLEMENT DATE（结算日），这样更呢能够满足经济实质，哪怕交易日是T+1/T+2..."
   ]
  },
  {
   "cell_type": "markdown",
   "metadata": {},
   "source": [
    "[回到Ethics首页](#Ethics-and-Professional-Standards)  "
   ]
  },
  {
   "cell_type": "markdown",
   "metadata": {},
   "source": [
    "___"
   ]
  },
  {
   "cell_type": "code",
   "execution_count": null,
   "metadata": {},
   "outputs": [],
   "source": []
  },
  {
   "cell_type": "code",
   "execution_count": null,
   "metadata": {},
   "outputs": [],
   "source": []
  },
  {
   "cell_type": "code",
   "execution_count": null,
   "metadata": {},
   "outputs": [],
   "source": []
  }
 ],
 "metadata": {
  "kernelspec": {
   "display_name": "Python 3",
   "language": "python",
   "name": "python3"
  },
  "language_info": {
   "codemirror_mode": {
    "name": "ipython",
    "version": 3
   },
   "file_extension": ".py",
   "mimetype": "text/x-python",
   "name": "python",
   "nbconvert_exporter": "python",
   "pygments_lexer": "ipython3",
   "version": "3.7.3"
  }
 },
 "nbformat": 4,
 "nbformat_minor": 4
}
