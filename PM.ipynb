{
 "cells": [
  {
   "cell_type": "markdown",
   "metadata": {},
   "source": [
    "# Portfolio Management for Institutional Investor"
   ]
  },
  {
   "cell_type": "markdown",
   "metadata": {},
   "source": [
    "[回到code-for-CFA首页](./README.md)  "
   ]
  },
  {
   "cell_type": "markdown",
   "metadata": {},
   "source": [
    "PM相当于机构的IPS，如果上午考不是很难，下午考更简单，首先介绍4个资产的特点，然后介绍6个机构投资者  \n",
    "6个机构投资者又可以分为4类：①pension；②SWF；③E&F；④Bank and insurers（ALM）。主要关注Pension和E&F。"
   ]
  },
  {
   "cell_type": "markdown",
   "metadata": {},
   "source": [
    "老考纲是LLTTRRU，现在换成了SLLERIA，增加了利益相关方和资产配置"
   ]
  },
  {
   "cell_type": "markdown",
   "metadata": {},
   "source": [
    "其中R（risk）仅仅DB和DC养老金关注"
   ]
  },
  {
   "cell_type": "markdown",
   "metadata": {},
   "source": [
    "![](./pics/PM/SLLERIA.png)"
   ]
  },
  {
   "cell_type": "markdown",
   "metadata": {},
   "source": [
    "[R33 Portfolio Management for Institutional Investors](#R33-Portfolio-Management-for-Institutional-Investors)  "
   ]
  },
  {
   "cell_type": "markdown",
   "metadata": {},
   "source": [
    "___"
   ]
  },
  {
   "cell_type": "markdown",
   "metadata": {},
   "source": [
    "## R33 Portfolio Management for Institutional Investors"
   ]
  },
  {
   "cell_type": "markdown",
   "metadata": {},
   "source": [
    "### 33.1 Overview"
   ]
  },
  {
   "cell_type": "markdown",
   "metadata": {},
   "source": [
    "#### 33.1.1 Institutional Investors: Common Characteristics"
   ]
  },
  {
   "cell_type": "markdown",
   "metadata": {},
   "source": [
    "机构投资者有以下共同点：\n",
    "\n",
    "[1] size，规模都很大  \n",
    "好处是：①分散化效果好；②professional，专业定制  \n",
    "缺点是：①market impact，市场影响大；②arbitrage，持续的α很难；③dieconomic of scale，规模可能不经济（PE和HF容易碰到，好项目就那么多）  \n",
    "应用有：bank/insurer因为有专业的人都用inhouse/insourcing的方式，而DB/F&E/SWF则outsourcing\n",
    "\n",
    "[2] long-term，时间都很长  \n",
    "时间更长，liquidity-needs越小，risk-tolerance更高。    \n",
    "其中DB/F&E/SWF的期限很长，而bank/insurer的期限较短。    \n",
    "\n",
    "[3] Governance framework，投资治理更好，不容易受BF bias影响  \n",
    "board 或者 investment committee（投委会）决定：①strategy guideline；②performance evaluation；③copensation policy。  \n",
    "投委会下面才是CIO和invesetment staff，也会需求外部的管理。\n",
    "\n",
    "[4] Regulatory frameworks，监管  \n",
    "监管趋势从次贷危机后就很tightened，要求：①lower leverage； ②increase centralized clearing，增加中央结算；③improve reporting transparency。\n",
    "\n",
    "[5] Principal–Agent issues，代理人成本  \n",
    "利益冲突：internal是BOD/IC和staff；external是来源于outsourced FM  \n"
   ]
  },
  {
   "cell_type": "markdown",
   "metadata": {},
   "source": [
    "#### 33.1.2 Overview of IPS"
   ]
  },
  {
   "cell_type": "markdown",
   "metadata": {},
   "source": [
    "除了SELLERIA外还有feedback（rebalancing policy再平衡、reporting requirements业绩汇报）"
   ]
  },
  {
   "cell_type": "markdown",
   "metadata": {},
   "source": [
    "#### 33.1.3 Investment Approaches"
   ]
  },
  {
   "cell_type": "markdown",
   "metadata": {},
   "source": [
    "##### 33.1.3.1 Norway Model"
   ]
  },
  {
   "cell_type": "markdown",
   "metadata": {},
   "source": [
    "特点：①traditional style，传统投资风格，60/40的股/债；②large passive，被动投资跟踪误差；  \n",
    "优点：成本低、透明度高、容易理解、很多机构在用  \n",
    "缺点：α比较低 "
   ]
  },
  {
   "cell_type": "markdown",
   "metadata": {},
   "source": [
    "##### 33.1.3.2 Endowment Model（Yale）"
   ]
  },
  {
   "cell_type": "markdown",
   "metadata": {},
   "source": [
    "特点：①另类投资很多；②主动管理   \n",
    "优点：α比较高   \n",
    "缺点：①专业化能力要求高；②总体成本大。 "
   ]
  },
  {
   "cell_type": "markdown",
   "metadata": {},
   "source": [
    "创新：①Acitve+Alternative，整体α很高；②站在整个组合的角度管理风险，PE和Equity的风险对冲了，所以整体组合收益提升的同时风险不变"
   ]
  },
  {
   "cell_type": "markdown",
   "metadata": {},
   "source": [
    "##### 33.1.3.3 Canada Model"
   ]
  },
  {
   "cell_type": "markdown",
   "metadata": {},
   "source": [
    "加拿大养老金CPPIB，和Yale Model一样，只是Canada是in house，Yale是outsourcing"
   ]
  },
  {
   "cell_type": "markdown",
   "metadata": {},
   "source": [
    "##### 33.1.3.4 LDI Model"
   ]
  },
  {
   "cell_type": "markdown",
   "metadata": {},
   "source": [
    "银行和保险都在用，包括美国DB和欧洲部分pension"
   ]
  },
  {
   "cell_type": "markdown",
   "metadata": {},
   "source": [
    "优点：考虑了资产负债；缺点：longevity、inflation risk（长寿和通胀风险）没有被对冲，只对冲了利率信用风险"
   ]
  },
  {
   "cell_type": "markdown",
   "metadata": {},
   "source": [
    "### 33.2 Pension Funds    "
   ]
  },
  {
   "cell_type": "markdown",
   "metadata": {},
   "source": [
    "DB（Defined Benefit，收益确定性）是机构承担风险  \n",
    "DC（Defined Contribution，缴费确定性）是个人承担风险"
   ]
  },
  {
   "cell_type": "markdown",
   "metadata": {},
   "source": [
    "DB和DC的区别：  \n",
    "- ①Benefit payments，DB是雇员和养老金contract约定的，DC是看投资水平；\n",
    "- ②Contributions，DB雇主是primary contributor，DC则雇员是；\n",
    "- ③Investment decision making，DB是养老金决定，DC是雇员自己决定；\n",
    "- ④Investment risk，谁决策谁承担风险，DB是雇主承担风险，DC是雇员自行承担；\n",
    "- ⑤Mortality/Logevity risk，DB是pooled（集中）管理，而DC是雇员根据自己的目标去承担风险。"
   ]
  },
  {
   "cell_type": "markdown",
   "metadata": {},
   "source": [
    "#### 33.2.1 DB"
   ]
  },
  {
   "cell_type": "markdown",
   "metadata": {},
   "source": [
    "S：stakeholders：   \n",
    "- ①plan sponsors（employer），雇主投入CF；\n",
    "- ②plan beneficiaries，受益人拿CF，**但员工有违约风险**；\n",
    "- ③investment staff/committee，投委会和基金经理；\n",
    "- ④government，政府有税收、还要兜底（face the costs of providing welfare）；\n",
    "- ⑤shareholders，股东。"
   ]
  },
  {
   "cell_type": "markdown",
   "metadata": {},
   "source": [
    "L：liquidity needs：有5种因素：\n",
    "- ①retired lives（退休人员）比例，比例越高LN越高；\n",
    "- ②frozen plans（冻结的计划）LN越高，因为都是老员工，没有新人流入；\n",
    "- ③workforce of employer older，员工年龄越大LN越高；\n",
    "- ④funded status = FVA - PBO，如果越高LN越大；\n",
    "- ⑤switch or withdraw，参与者更换或者一次性取出LN很大。 \n",
    "\n",
    "其中funded status中的FVA由contribution（雇主打款）和return组成，如果FS很高，则意味着未来雇主不太想打太多款了，流动性需求自然要求更高了；  \n",
    "如果FS很高但是return没变，意味着一下子打了很多款，可能是雇主担心未来的支出增加，也可以看成流动性需求增加"
   ]
  },
  {
   "cell_type": "markdown",
   "metadata": {},
   "source": [
    "L（T）：liabilities and investment horizon\n",
    "\n",
    "funded status中的PBO是主要负债，是未来养老金支出和的折现   \n",
    "如果一个人40岁，60岁退休，预计能活到90岁，则t岁时的养老金支出要考虑存活概率PS（probability of survival）：$E(B_t) = PS \\times B_t$    \n",
    "而$B_t$和工资、工作年限也有关系，进一步可以看成工资每年稳定以g增长：$B_t = 1\\% \\times w_T \\times T = 1\\% \\times w_0(1+g)^T \\times T$\n",
    "\n",
    "其中vesting就是达到一定工作年限才有资格拿退休金的时间，如果已经获得资格就是vested  \n",
    "funded ratio = FVA / PBO \n",
    "\n",
    "负债受到以下4多3少的影响：\n",
    "- ①service/tenure，工龄越长，负债越大；\n",
    "- ②salary，工资水平越高，负债越大；\n",
    "- ③longevity，越长寿，负债越大；\n",
    "- ④additinal contributions，额外打款，证明公司整体状况变差或未来的负债多；\n",
    "- ☆⑤employee turnover，员工离职率越高vseted机会越少则负债越小；\n",
    "- ⑥expected invsetment return，投资收益越高负债越小；\n",
    "- ⑦discount rate，折现率越高负债越小。\n",
    "\n",
    "资产端的期限：\n",
    "- ①ability to tolerate volatility of contribution rates，打款的波动率越高，RT越高（因为可以一下打很多进来）；\n",
    "- ②more mature，计划中的年龄越大，RT越低；\n",
    "- ③frozen，RT越低；  \n",
    "\n"
   ]
  },
  {
   "cell_type": "markdown",
   "metadata": {},
   "source": [
    "E：external legal/tax/unique"
   ]
  },
  {
   "cell_type": "markdown",
   "metadata": {},
   "source": [
    "R：risk 机构投资者一般不研究willingness，而只关注risk tolerance（RT），RT和LN恰好相反，主要有：\n",
    "- ①plan status，越surplus，RT越高；\n",
    "- ②sponsor financial status and profitability：发起人低债务率和高盈利能力越好RT越好；\n",
    "- ③sponsor and pension fund common risk exposures：发起人的业务和养老金计划相关性越低RT越好；\n",
    "- ④plan features：如果有early retirement（提前退休）和lump sum distribution（一次性取款）的条款，RT会比较低\n",
    "- ⑤age of workforce，员工越年轻，RT越大。"
   ]
  },
  {
   "cell_type": "markdown",
   "metadata": {},
   "source": [
    "I（R）：Invertment Objective 收益  \n",
    "定性：①primary：匹配pension liablity；②secodary：minimize contribution（投入越低越好）    \n",
    "定量：  \n",
    "①overfunded（FS>0），$R_A = R_L$；  \n",
    "②under：$R_A = R_L + excess return$，但是要权衡，不能承担风险还想要超额收益；  \n",
    "③over：$R_A = R_L + R_p$，risk-premium，希望contribution少\n"
   ]
  },
  {
   "cell_type": "markdown",
   "metadata": {},
   "source": [
    "A：Asset Allocation"
   ]
  },
  {
   "cell_type": "markdown",
   "metadata": {},
   "source": [
    "#### 33.2.2 DC"
   ]
  },
  {
   "cell_type": "markdown",
   "metadata": {},
   "source": [
    "S：stakeholders，和DB一样，只是sponsor不承担投资和长寿风险，但是要有contribution，并且给出investment options"
   ]
  },
  {
   "cell_type": "markdown",
   "metadata": {},
   "source": [
    "L：liquidity needs：DC的LN只有员工的年龄和switch/withdrawl的难易程度"
   ]
  },
  {
   "cell_type": "markdown",
   "metadata": {},
   "source": [
    "L（T）：liabilities and investment horizon  \n",
    "对DC可能有life-cycle option（生命周期慢慢变）和target-date option（时点突然变）的选项，能够给出glide path（缓冲带）  \n",
    "对于life-cycle还包含：①Participant-switching options，员工自己调整；②Participant/cohort option，除员工外公司也管  "
   ]
  },
  {
   "cell_type": "markdown",
   "metadata": {},
   "source": [
    "E：external legal/tax/unique"
   ]
  },
  {
   "cell_type": "markdown",
   "metadata": {},
   "source": [
    "R：risk RT和LN相反"
   ]
  },
  {
   "cell_type": "markdown",
   "metadata": {},
   "source": [
    "I（R）：Invertment Objective 收益  \n",
    "- ①support spending needs in retirement，首要目标是满足退休需求；\n",
    "- ②如果用主动投投资，那么第二目标就是收益要比长期的benchmark高；\n",
    "- ③DC plan要比其他plan表现要好，因为涉及到switch。"
   ]
  },
  {
   "cell_type": "markdown",
   "metadata": {},
   "source": [
    "A：Asset Allocation"
   ]
  },
  {
   "cell_type": "markdown",
   "metadata": {},
   "source": [
    "#### 33.2.3 DB&DC E&A"
   ]
  },
  {
   "cell_type": "markdown",
   "metadata": {},
   "source": [
    "E：external legal/tax/unique  \n",
    "- ①regulations：监管很严，无论是内部还是外部，养老金满足监管的成本很高；\n",
    "- ②tax：有税收优惠；\n",
    "- ③accounting rule：每个国家不同。"
   ]
  },
  {
   "cell_type": "markdown",
   "metadata": {},
   "source": [
    "A：Asset Allocation 大原则：\n",
    "- ①A + CF 匹配 L - CF；\n",
    "- ②time horizon越长，收益要求越高，contribution要求占比越少（多配股）；\n",
    "- ③inlfation=-indexed，抗通胀，如果RT低可以买TIPS，RT高可以买RE/Commodities"
   ]
  },
  {
   "cell_type": "markdown",
   "metadata": {},
   "source": [
    "### 33.3 Sovereign Wealth Funds (SWFs)"
   ]
  },
  {
   "cell_type": "markdown",
   "metadata": {},
   "source": [
    "IMF定义了5种常见的主权基金：\n",
    "- ①Budget stabilization funds，平准基金，主要目的是平抑物价，通胀时能抗通胀、萧条时能补充赤字，比如俄罗斯石油基金、东帝汶石油基金；\n",
    "- ②Development funds，发展基金，和infrastructure基建项目相关，如穆巴达拉、伊朗国家发展基金、爱尔兰战略投资基金；\n",
    "- ③Savings funds，储蓄基金,将不可再生的资产分散化（留给下一代），如阿布达比投资局、科威特投资管理局、卡塔尔投资局、俄罗斯国家财富基金；\n",
    "- ④Reserve funds，外汇投资基金，中国投资公司、韩国投资公司、GIC私人有限公司；\n",
    "- ⑤Pension reserve funds，养老基金，中国社保基金、新西兰退休金基金、澳大利亚未来基金。"
   ]
  },
  {
   "cell_type": "markdown",
   "metadata": {},
   "source": [
    "S：stakeholders：利益相关方多了公民  \n",
    "- ①current and future citizens，公民；\n",
    "- ②investment staff / board，投委会和董事会；\n",
    "- ④government，政府有税收、还要兜底（face the costs of providing welfare）；"
   ]
  },
  {
   "cell_type": "markdown",
   "metadata": {},
   "source": [
    "L：liquidity needs：各类基金情况不一样  \n",
    "L（T）：liabilities and investment horizon   \n",
    "\n",
    "综合来看，按时间从长到短/RT从高到低/LN从低到高的排序为：\n",
    "①savings funds；②development；③reserve；④stablization。  \n",
    "而pension reserve分阶段：如果是accumulation的阶段则LN需求小、时间和RT更高；如果是decummulation阶段则相反。"
   ]
  },
  {
   "cell_type": "markdown",
   "metadata": {},
   "source": [
    "E：external legal/tax/unique"
   ]
  },
  {
   "cell_type": "markdown",
   "metadata": {},
   "source": [
    "R：risk RT和LN相反"
   ]
  },
  {
   "cell_type": "markdown",
   "metadata": {},
   "source": [
    "I（R）：Invertment Objective 收益  \n",
    "- ①平准基金的目标是：1）capital preservation保值；2）returns above inflation抗通胀；3）和政府收入的相关性低\n",
    "- ②发展基金的目标是：1）long-run economic growth长期收益；2）赢得比GDP的实际增长率要高的收益。\n",
    "- ③储蓄基金的目标是：maintain purchasing power，保持购买力；\n",
    "- ④外汇投资基金的目标是：获得超过国债的excess yield；\n",
    "- ⑤养老金的目标是：应对未来的养老开支以及政府的social care。"
   ]
  },
  {
   "cell_type": "markdown",
   "metadata": {},
   "source": [
    "A：Asset Allocation：\n",
    "- ①平准基金的因为LN要求高，所以投债券和现金；\n",
    "- ②发展基金的因为LN要求比较低，所以可以投长期一点的建设项目，如local infrastructure projects；\n",
    "- ③储蓄基金的因为LN要求最低，可以投股票和另类投资；\n",
    "- ④外汇投资基金因为LN要求比较高，但是为了收益可以配置股票、公司债和另类投资；\n",
    "- ⑤养老金分阶段，如果LN比较低的accumulation阶段可以投股票和另类投资。"
   ]
  },
  {
   "cell_type": "markdown",
   "metadata": {},
   "source": [
    "### 33.4 Endowments & Foundation"
   ]
  },
  {
   "cell_type": "markdown",
   "metadata": {},
   "source": [
    "Endowment面向不特定人群，捐支是谁都不确定；Fondation则是亲朋好友，捐支确定  \n",
    "**免税方面**：E&F可以免税，F因为是私人的，所以免税政策可能要求每年开支超过5%，防止偷税漏税，E不强制设置开支比例，但很多也设置，为了：①防止shortfall，为了maintain PP；smoothing payments平滑开支  \n",
    "**收入来源**：E的收入来源众多，可以是政府、公司、资本市场借等等，依赖于spending不是那么强，但是F只围绕在亲朋好友和受益人中，所以RT更低。  "
   ]
  },
  {
   "cell_type": "markdown",
   "metadata": {},
   "source": [
    "#### 33.4.1 Endowments"
   ]
  },
  {
   "cell_type": "markdown",
   "metadata": {},
   "source": [
    "S：stakeholders：利益相关方围绕学校，政府和其关系不大，因为免税也不用兜底  \n",
    "- ①students、alumni，学生校友；\n",
    "- ②university employee，教师员工；\n",
    "- ④invsetment committee、board。"
   ]
  },
  {
   "cell_type": "markdown",
   "metadata": {},
   "source": [
    "L：liquidity needs，Endowment是perpetual永续存在的，因此投资期限长所以LN比较低，RT比较高\n",
    "\n",
    "L（T）：liabilities and investment horizon   \n",
    "\n",
    "会计上没有负债，主要是满足official spending policy开支政策  \n",
    "开支政策需要确保intergenerational equtiy（代际公平）和smoothing payouts（平滑支出），避免市场波动  \n",
    "\n",
    "\n",
    "**开支计算上**：开支一方面难免为了抵抗通胀，一方面是按比例开支：(AUM：Asset Under Management）：   \n",
    "$spending_{t+1} = w \\times spending_t \\times(1+Inflation) \\times + (1-w)\\times(spending·rate \\times Average AUM)$  \n",
    "constant growth rule：w=1，则完全为了抵抗通胀维持购买力  \n",
    "market value rule：w=0，则按事先的比例可投资，防止shortfall risk  \n",
    "hybrid rule：0<w<1,  \n",
    "\n",
    "**负债因素**：  \n",
    "- ①Fundraising from donors，捐款，两个角度：如果捐款越多LN就下降，但是depending依赖性也上升了，可能导致RT下降；\n",
    "- ②Reliance of the university on the spending from the endowment，大学的开支依赖性，如果spending / budget > 50%，则依赖性很高，小于10%不怎么依赖；\n",
    "- ③Capability of the endowment or university to issue debt，借债能力，两个角度：借债能力越强，现金流来源多，RT越高，但是如果债越来越多，偿债压力大了RT又会低"
   ]
  },
  {
   "cell_type": "markdown",
   "metadata": {},
   "source": [
    "E：external legal/tax/unique  免税   \n"
   ]
  },
  {
   "cell_type": "markdown",
   "metadata": {},
   "source": [
    "R：risk RT和LN相反"
   ]
  },
  {
   "cell_type": "markdown",
   "metadata": {},
   "source": [
    "I（R）：Invertment Objective 收益/投资目标和开支的计算公式一样    \n",
    "- ①preseverve the purchasing power，维持购买力；\n",
    "- ②maintain the level of spending，有钱花；\n",
    "- ③outperforming a passive benchamark，要比benchmark越高越好。"
   ]
  },
  {
   "cell_type": "markdown",
   "metadata": {},
   "source": [
    "A：Asset Allocation：\n",
    "- ①大学校RT比较高，投50%到另类投资（如Yale model）；\n",
    "- ②小学校RT比较低，会投固守和股票，可能会有home bias。"
   ]
  },
  {
   "cell_type": "markdown",
   "metadata": {},
   "source": [
    "#### 33.4.2 Pivate Foundations"
   ]
  },
  {
   "cell_type": "markdown",
   "metadata": {},
   "source": [
    "Foundation可以细分为：①independence/private（私人）；②company-sponsored；③operating；④community。  \n",
    "其中①和②的慈善行较弱，监管更严，③和④是公众慈善，偏向endowment。"
   ]
  },
  {
   "cell_type": "markdown",
   "metadata": {},
   "source": [
    "S：stakeholders：利益相关方围绕私人目标     \n",
    "- ①founding family、donors、recipients、wider community，基金的创建家族、捐赠者、受益人，这也是捐赠收入的来源；\n",
    "- ②investment staff / board，投委会和董事会，会没有endowments的那么专业；\n",
    "- ③mission-related investing，会帮助一些有利于自身目标的项目（如微软投资计算机天才毕业后来上班）。"
   ]
  },
  {
   "cell_type": "markdown",
   "metadata": {},
   "source": [
    "L：liquidity needs，Endowment是perpetual永续存在的，因此投资期限长所以LN比较低，RT比较高\n",
    "\n",
    "L（T）：liabilities and investment horizon   \n",
    "有perpetual的也有limited-life foundations（founder死了就没了）  \n",
    "最低要每年开支5%才免税  \n",
    "收入的来源基本都是认识的人，由于比E少，所以RT比E低\n",
    "\n",
    "ERIA都和E差不多"
   ]
  },
  {
   "cell_type": "markdown",
   "metadata": {},
   "source": [
    "#### ☆33.4.3 Comparison"
   ]
  },
  {
   "cell_type": "markdown",
   "metadata": {},
   "source": [
    "总的来看E和F的最大区别是：\n",
    "- ①purpose，目标方面E是support institution（维持机构运行），而F是grant-making（慈善）；\n",
    "- ②stakeholders，利益相关方面E更加广，可以是校友还有资本市场，F围绕亲朋好友和受益人；\n",
    "- ③liabilities/spending：E更加flexible，但也会设置让开支平滑，F则强制要求设置5%的最低开支和捐赠的一定比例；   \n",
    "- ④investment horizon：E更永续的，F有limited的；\n",
    "- ⑤risk tolerance和liquiditi needs：E的RT更高LN更低，F相反，会有短期支出的需要。  "
   ]
  },
  {
   "cell_type": "markdown",
   "metadata": {},
   "source": [
    "### 33.5 Banks"
   ]
  },
  {
   "cell_type": "markdown",
   "metadata": {},
   "source": [
    "S：stakeholders：利益相关方围绕学校，政府和其关系不大，因为免税也不用兜底  \n",
    "bank吸收存款发放贷款，B/S上应该是：\n",
    "- ①资产：cash、Loan、market securities，自己管是金融市场部，也可以给外部FM；\n",
    "- ②负债：deposite、debt、理财产品；\n",
    "- ③权益：contributed capital、retained earnings。\n",
    "\n",
    "所以利益相关方按是否直接参与银行运营分为外部和内部，内部直接参与运营：  \n",
    "- ①外部：shareholders、customers、borrowers，还包括creditors、credit rating agencies、regulators、operate community；\n",
    "- ②内部：employees、managers、directors。"
   ]
  },
  {
   "cell_type": "markdown",
   "metadata": {},
   "source": [
    "L：liquidity needs，银行整体RT比较低LN要求比较高，防止挤兑  \n",
    "次贷危机后有了LCRs（liquidity coverage ratios，流动性覆盖率）和NSFRs（net stable funding ratios，资金固定净值比率）  \n",
    "bank可以分为commercial和retail，商业银行的流动性更差，给客户优惠更多，LN要求更高；零售银行则面向中小企业，这些议价能力弱，所以LN要求低\n",
    "\n",
    "L（T）：liabilities and investment horizon，存款的期限比较短   \n",
    "银行的资产端是loan贷款，负债端是deposite存款，而贷款的久期大于存款，所以会有mismatch，当利率上升，资产的下降速度快于负债，产生shortfall risk  \n",
    "如何让资产的久期降下来：cash和loan都不好动，那么就是market securities商业票据  "
   ]
  },
  {
   "cell_type": "markdown",
   "metadata": {},
   "source": [
    "E：external legal/tax/unique  监管更严，systemically important financial institutions (SIFIs)，系统性重要机构大而不倒   \n",
    "银行会有三张报表：①Standard financial reporting标，对股东的财务报表；②Statutory accounting，对监管的监管报表，会更加保守；③economic accounting，对市场的经济报表。"
   ]
  },
  {
   "cell_type": "markdown",
   "metadata": {},
   "source": [
    "R：risk RT和LN相反"
   ]
  },
  {
   "cell_type": "markdown",
   "metadata": {},
   "source": [
    "☆I（R）：Invertment Objective 收益/投资目标  \n",
    "- ①manage liquidity，管理流动性是首要目标；\n",
    "- ②reduce risk mismatches，降低期限错配风险；\n",
    "- ③max shareholder value，最后才是股东价值最大化。"
   ]
  },
  {
   "cell_type": "markdown",
   "metadata": {},
   "source": [
    "A：Asset Allocation：..."
   ]
  },
  {
   "cell_type": "markdown",
   "metadata": {},
   "source": [
    "### 33.6 Insuerers"
   ]
  },
  {
   "cell_type": "markdown",
   "metadata": {},
   "source": [
    "保险可以分为life（寿险）和non-life（P&C，property and casualty，财产险），最大的区别是是否可以重复投保  \n",
    "财产险如果买了太保10w，平安20w，但是损失只有20w的话不会超出，而是按1:2分配  \n",
    "    \n",
    "其中寿险分为：\n",
    "- ①死亡险，包括whole（一定赔，premium更高），term（比如20年内死亡才赔付）；\n",
    "- ②annuity年金，按支付方式有fixed和variable，按时间分为即期和递延，所以组合起来有4种；\n",
    "- ③universal万能险，更加灵活，分为death benefit和saving两个账户，年轻的时候saving多投，反之则反；\n",
    "- ④health健康险，也可以算是财产险。  \n",
    "\n",
    "财产险包括车险、房产险、巨灾险（Catastrophe）"
   ]
  },
  {
   "cell_type": "markdown",
   "metadata": {},
   "source": [
    "S：stakeholders  \n",
    "分成两种类型：①publicly listed companies，是股东；②Mutual companies，互助公司是policyholders（几百家企业成立后自己打钱运营）  \n",
    "其他外部的利益相关者：derivatives counterparties, creditors, regulators, and rating agencies.  \n",
    "内部的利益相关者：insurer’s employees, management, and board of director.\n",
    "\n",
    "general account：insuerer自己管；seprate account，独立账户，policyholder承担风险，如万能险的saving账户是投保人自己买。"
   ]
  },
  {
   "cell_type": "markdown",
   "metadata": {},
   "source": [
    "I（R）：Invertment Objective 收益/投资目标中定性目标和银行的一样，都是管理流动性、降低期限错配  \n",
    "定量方面最低收益 = 折现率+投保人分红+股东收益，其中折现率+投保人分红是首先给投保人的cash value（现金价值）税前扣除属于COGS，而股东收益是NI要调整成税前  "
   ]
  },
  {
   "cell_type": "markdown",
   "metadata": {},
   "source": [
    "**其他部分看life和non-life的异同点**：  \n",
    "- ①time horizon，寿险长，非寿险短，所以利率敏感性，寿险高，因为久期高；\n",
    "- ②巨灾险需要联合承保，其loss很大，也有长尾风险，理赔周期较长；\n",
    "- ③replacement cost coverage，重置成本覆盖条款，车险1年赔付10w，几年后车价涨了可能赔付20w，寿险也有但是没有抗通胀的好处；\n",
    "- ④underwriting cycle，寿险和经济周期无关，甚至反周期，非寿险呈现周期性，经济好的时候可能要退保；\n",
    "- ⑤LN非寿险高，理赔不稳定，寿险低；\n",
    "- ⑥AA，年金的支出稳定所以应当投债券，寿险支出一次性开支大所以应当投股票，非寿险流动性要求高，保留一定的cash然后其他买股票；"
   ]
  },
  {
   "cell_type": "markdown",
   "metadata": {},
   "source": [
    "**surrender 退保方面**：如果利率上升，退保可能性增加（因为嫌之前收益率定的低），导致负债端减少  \n",
    "如果不处理，那么资产的久期大于负债的久期，则利率上升产生shortfall risk  \n",
    "如果处理，就是降低资产端的久期，通过卖债券可以降低久期，但是也有额外的交易成本  "
   ]
  },
  {
   "cell_type": "markdown",
   "metadata": {},
   "source": [
    "### 33.7 Banks & Insurers: Balance Sheet Management"
   ]
  },
  {
   "cell_type": "markdown",
   "metadata": {},
   "source": [
    "银行和保险公司都要做资产负债表管理，即LDI/ALM管理Equity/surplus：  \n",
    "有三个目标：①re max，权益的收益率最大化；②权益受到利率的波动影响小，即E的久期尽可能少；③权益的波动率尽可能小。"
   ]
  },
  {
   "cell_type": "markdown",
   "metadata": {},
   "source": [
    "#### 33.7.1 Formula（3大公式）"
   ]
  },
  {
   "cell_type": "markdown",
   "metadata": {},
   "source": [
    "公式一：权益变动应当是资产变动-负债变动，以此计算权益收益率：\n",
    "$\\frac{\\Delta E}{E} = \\frac{\\Delta A}{A}(\\frac{A}{E}) - \\frac{\\Delta L}{L}(\\frac{A}{E}-1)$  \n",
    "其中资产收益率越大、负债收益率越低，权益收益率越高；A/E杠杆率越高能够放大收益"
   ]
  },
  {
   "cell_type": "markdown",
   "metadata": {},
   "source": [
    "公式二：权益的久期应当是资产久期和负债久期的加权：$D_E = (\\frac{A}{E})D_A - (\\frac{A}{E}-1)D_L$  \n",
    "而久期公式：$D = \\frac{\\Delta P}{P\\Delta y}$，则推出：$D_E = (\\frac{A}{E})\\frac{\\Delta A}{A\\Delta y} - (\\frac{A}{E}-1)\\frac{\\Delta L}{L\\Delta y}$    \n",
    "但是负债端利率可能是单独变化，所以要调整：$D_L = \\frac{\\Delta L}{L\\Delta i}\\frac{\\Delta i}{\\Delta y}$  \n",
    "最后得出公式：$D_E = (\\frac{A}{E})\\frac{\\Delta A}{A\\Delta y} - (\\frac{A}{E}-1)\\frac{\\Delta L}{L\\Delta i}\\frac{\\Delta i}{\\Delta y}$    "
   ]
  },
  {
   "cell_type": "markdown",
   "metadata": {},
   "source": [
    "![](./pics/PM/bank_insurer_formula2_case.png)"
   ]
  },
  {
   "cell_type": "markdown",
   "metadata": {},
   "source": [
    "公式三：权益的波动率公式，这个不用记忆了，其实就是刚才计算收益的展开\n",
    "$\\sigma^2_{\\Delta E/E} = (\\frac{A}{E})^2\\sigma^2_{\\Delta A/A} + (\\frac{A}{E}-1)^2\\sigma^2_{\\Delta L/L} - 2(\\frac{A}{E})(\\frac{A}{E}-1)\\rho\\sigma_{\\Delta A/A}\\sigma_{\\Delta L/L}$  \n",
    "可以看出A和L的相关性越高，即A越匹配L时风险最低"
   ]
  },
  {
   "cell_type": "markdown",
   "metadata": {},
   "source": [
    "### 33.7.2 Factors"
   ]
  },
  {
   "cell_type": "markdown",
   "metadata": {},
   "source": [
    "##### 33.7.2.1 Bank Factors"
   ]
  },
  {
   "cell_type": "markdown",
   "metadata": {},
   "source": [
    "分散化投资、高评级债、资产和负债相关性、A持有普通股、对冲、持有流动性资产"
   ]
  },
  {
   "cell_type": "markdown",
   "metadata": {},
   "source": [
    "![](./pics/PM/bank_factors.png)"
   ]
  },
  {
   "cell_type": "markdown",
   "metadata": {},
   "source": [
    "##### 33.7.2.2 Insurers Factors"
   ]
  },
  {
   "cell_type": "markdown",
   "metadata": {},
   "source": [
    "惩罚退保人、提前还款惩罚（稳定A能匹配L）、巨灾风险、未来损失预估准、不同保单理赔分散、可变年金（投保人去投资产承担风险）"
   ]
  },
  {
   "cell_type": "markdown",
   "metadata": {},
   "source": [
    "![](./pics/PM/insuerer_factors.png)"
   ]
  },
  {
   "cell_type": "markdown",
   "metadata": {},
   "source": [
    "[回到PM首页](#Portfolio-Management-for-Institutional-Investors)  "
   ]
  },
  {
   "cell_type": "markdown",
   "metadata": {},
   "source": [
    "___"
   ]
  },
  {
   "cell_type": "code",
   "execution_count": null,
   "metadata": {},
   "outputs": [],
   "source": []
  }
 ],
 "metadata": {
  "kernelspec": {
   "display_name": "Python 3",
   "language": "python",
   "name": "python3"
  },
  "language_info": {
   "codemirror_mode": {
    "name": "ipython",
    "version": 3
   },
   "file_extension": ".py",
   "mimetype": "text/x-python",
   "name": "python",
   "nbconvert_exporter": "python",
   "pygments_lexer": "ipython3",
   "version": "3.7.3"
  }
 },
 "nbformat": 4,
 "nbformat_minor": 4
}
