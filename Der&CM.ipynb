{
 "cells": [
  {
   "cell_type": "markdown",
   "metadata": {},
   "source": [
    "# Derivatives and Currency Management"
   ]
  },
  {
   "cell_type": "markdown",
   "metadata": {},
   "source": [
    "[回到code-for-CFA首页](./README.md)  "
   ]
  },
  {
   "cell_type": "markdown",
   "metadata": {},
   "source": [
    "[R15 Option Strategies](#R15-Option-Strategies)  \n",
    "[R16 Swaps Forwards Futures Strategies](#R16-Swaps-Forwards-Futures-Strategies)  \n",
    "[R17 Currency Management](#R17-Currency-Management)"
   ]
  },
  {
   "cell_type": "markdown",
   "metadata": {},
   "source": [
    "___"
   ]
  },
  {
   "cell_type": "markdown",
   "metadata": {},
   "source": [
    "## R15 Option Strategies"
   ]
  },
  {
   "cell_type": "markdown",
   "metadata": {},
   "source": [
    "可以对期权策略分成4类：\n",
    "- ①标的核心策略：covered call、protective put、collar；\n",
    "- ②vertical策略（日期相同行权价不同）：bull spread，bear spread；\n",
    "- ③straddle策略\n",
    "- ④horizontal策略（行权价相同日期不同）：calender"
   ]
  },
  {
   "cell_type": "markdown",
   "metadata": {},
   "source": [
    "### 15.1 Option fundamentals"
   ]
  },
  {
   "cell_type": "markdown",
   "metadata": {},
   "source": [
    "![](./pics/Der&CM/option_moneyess.png)"
   ]
  },
  {
   "cell_type": "markdown",
   "metadata": {},
   "source": [
    "**期权价值**：option value = intrinsinc value（内在价值，主动行权收益） + time value    \n",
    "（忽略：真实情况IV应当比option value还高，因为到期要行权交易，为了避免行权会提前卖掉）  \n",
    "例：S=13.5 X=12.5 C=1.5 => IV=1，TV=0.5"
   ]
  },
  {
   "cell_type": "markdown",
   "metadata": {},
   "source": [
    "**期权价格影响因素**：见下表"
   ]
  },
  {
   "cell_type": "markdown",
   "metadata": {},
   "source": [
    "risk-free rate可以理解成用call的杠杆可以节省资金成本；carrying cost可以看成是反向分红。  \n",
    "特例：time to expiration中对深度OTM的欧式看跌期权期权影响为负，因为已经跌无可跌；  \n",
    "（忽略：真实情况是分红后交易所会调整期权的行权价，所以其实没什么影响，CFA这里认为不调整）"
   ]
  },
  {
   "cell_type": "markdown",
   "metadata": {},
   "source": [
    "![](./pics/Der&CM/option_factors.png)"
   ]
  },
  {
   "cell_type": "markdown",
   "metadata": {},
   "source": [
    "**BSM模型**：可以简单记为f(S, X, rf, T, σ)  \n",
    "$C_0 = [ S_0 \\times N(D_1)] - [X \\times e^{-R_f^c \\times T} \\times N(d_2)]$  \n",
    "其中历史波动率是通过历史数据计算的，而Implied volatility是通过BSM公式反推的"
   ]
  },
  {
   "cell_type": "markdown",
   "metadata": {},
   "source": [
    "**payoff & profits**：下两个图是payoff（忽略期权费）和profits（包含期权费）"
   ]
  },
  {
   "cell_type": "markdown",
   "metadata": {},
   "source": [
    "![](./pics/Der&CM/option_payoff.png)"
   ]
  },
  {
   "cell_type": "markdown",
   "metadata": {},
   "source": [
    "![](./pics/Der&CM/option_GL.png)"
   ]
  },
  {
   "cell_type": "markdown",
   "metadata": {},
   "source": [
    "### ☆☆ 15.2 synthetic asset"
   ]
  },
  {
   "cell_type": "markdown",
   "metadata": {},
   "source": [
    "**synthetic asset**：利用期权来合成资产，依靠put call parity：$ c + \\frac{X}{(1+R_f)^T} = S + p$  \n",
    "其中最经典的是合成forward和call/put:  \n",
    "- ①long forward = long call + short put；short forward = long put + short call\n",
    "- ②long call = long asset + long put；long put = short asset + long call  \n",
    "\n",
    "（忽略：现实中short put 会有保证金，即使认为一定会expire也要让你去加保证金，并且股票跌到很低时put很贵，而且根本不可能被行权，所以要关注投资机会）"
   ]
  },
  {
   "cell_type": "markdown",
   "metadata": {},
   "source": [
    "### 15.3 Option Strategies"
   ]
  },
  {
   "cell_type": "markdown",
   "metadata": {},
   "source": [
    "#### 15.3.1 Covered Call"
   ]
  },
  {
   "cell_type": "markdown",
   "metadata": {},
   "source": [
    "covered call三个优点：  \n",
    "- ①yield enhancement，对OTM call更不可能行权；\n",
    "- ②reducing a position，能够通过卖一定会行权的ITM call来减仓；\n",
    "- ③target price realization，锁定价格，前面两个的综合。"
   ]
  },
  {
   "cell_type": "markdown",
   "metadata": {},
   "source": [
    "![](./pics/Der&CM/covered_call.png)"
   ]
  },
  {
   "cell_type": "markdown",
   "metadata": {},
   "source": [
    "#### 15.3.2 Protective Put"
   ]
  },
  {
   "cell_type": "markdown",
   "metadata": {},
   "source": [
    "protective put的成本很高  \n",
    "（忽略：实战中不是很推荐，因为波动应当自己考虑，而不是自己买期权，如果要买要买OTM put）"
   ]
  },
  {
   "cell_type": "markdown",
   "metadata": {},
   "source": [
    "![](./pics/Der&CM/protective_put.png)"
   ]
  },
  {
   "cell_type": "markdown",
   "metadata": {},
   "source": [
    "#### 15.3.3 Delta of Strategy"
   ]
  },
  {
   "cell_type": "markdown",
   "metadata": {},
   "source": [
    "call的△ ：ITM > 0.5；ATM = 0.5； OTM < 0.5   \n",
    "put的△ ： ITM < -0.5；ATM = -0.5；OTM > -0.5"
   ]
  },
  {
   "cell_type": "markdown",
   "metadata": {},
   "source": [
    "由此可以推出前两个策略都不是delta neutral的，需要注意的是有可能△=0，因为Deep ITM/OTM可能趋向0/1/-1"
   ]
  },
  {
   "cell_type": "markdown",
   "metadata": {},
   "source": [
    "covered call △ = stock △ - call △ >= 0  \n",
    "protective put △ = stock △ + put △ >= 0 "
   ]
  },
  {
   "cell_type": "markdown",
   "metadata": {},
   "source": [
    "记住一个概念：cash secured put，即卖出期权的时候存入了保证金"
   ]
  },
  {
   "cell_type": "markdown",
   "metadata": {},
   "source": [
    "#### 15.3.4 Collar"
   ]
  },
  {
   "cell_type": "markdown",
   "metadata": {},
   "source": [
    "collar = long stock + long put + short call，可以看成covered call 和 protective put的合成，其中put的行权价一般比call的低，这样省期权费"
   ]
  },
  {
   "cell_type": "markdown",
   "metadata": {},
   "source": [
    "collar策略综合了做空做多的情况，做多可以单边收益但是要付期权费，做空可以赚期权费但是有exposre，所以两个都用"
   ]
  },
  {
   "cell_type": "markdown",
   "metadata": {},
   "source": [
    "![](./pics/Der&CM/collar.png)"
   ]
  },
  {
   "cell_type": "markdown",
   "metadata": {},
   "source": [
    "#### 15.3.5 Bull Spread"
   ]
  },
  {
   "cell_type": "markdown",
   "metadata": {},
   "source": [
    "$bull call = long C_L + short C_H$  \n",
    "$bull put = long P_L + short P_H$ 因为赌价格上涨，所以卖高执行价的put能赚期权费"
   ]
  },
  {
   "cell_type": "markdown",
   "metadata": {},
   "source": [
    "上下封顶的（collar/bull/bear）其实都可以这么评价，减少下行风险的代价是牺牲了上行收益：  \n",
    "A bull spread limit the downside risk at a cost of giving up the upside return."
   ]
  },
  {
   "cell_type": "markdown",
   "metadata": {},
   "source": [
    "![](./pics/Der&CM/bull_spread.png)"
   ]
  },
  {
   "cell_type": "markdown",
   "metadata": {},
   "source": [
    "#### 15.3.6 Bear Spread"
   ]
  },
  {
   "cell_type": "markdown",
   "metadata": {},
   "source": [
    "$bear call = long C_H + short C_L$ 因为赌价格上涨，所以卖低执行价的call能赚期权费  \n",
    "$bear put = long P_H + short P_L$ "
   ]
  },
  {
   "cell_type": "markdown",
   "metadata": {},
   "source": [
    "![](./pics/Der&CM/bear_spread.png)"
   ]
  },
  {
   "cell_type": "markdown",
   "metadata": {},
   "source": [
    "#### 15.3.7 Straddle（跨式期权）"
   ]
  },
  {
   "cell_type": "markdown",
   "metadata": {},
   "source": [
    "相同执行价格，赚波动率，还有strangle是宽跨式期权"
   ]
  },
  {
   "cell_type": "markdown",
   "metadata": {},
   "source": [
    "![](./pics/Der&CM/straddle.png)"
   ]
  },
  {
   "cell_type": "markdown",
   "metadata": {},
   "source": [
    "#### 15.3.7 Straddle（跨式期权）"
   ]
  },
  {
   "cell_type": "markdown",
   "metadata": {},
   "source": [
    "相同执行价格，赚波动率，还有strangle是宽跨式期权"
   ]
  },
  {
   "cell_type": "markdown",
   "metadata": {},
   "source": [
    "![](./pics/Der&CM/straddle.png)"
   ]
  },
  {
   "cell_type": "markdown",
   "metadata": {},
   "source": [
    "#### 15.3.8 Calender"
   ]
  },
  {
   "cell_type": "markdown",
   "metadata": {},
   "source": [
    "calender的策略本质上在赚time decay，并且越是短期的期权time decay越快"
   ]
  },
  {
   "cell_type": "markdown",
   "metadata": {},
   "source": [
    "long 做多时间：long call长 + short call短  \n",
    "short 做空时间：long call短 + short call长"
   ]
  },
  {
   "cell_type": "markdown",
   "metadata": {},
   "source": [
    "#### ☆☆15.3.9 Investment Objectives and Strategy Selection（策略选择）"
   ]
  },
  {
   "cell_type": "markdown",
   "metadata": {},
   "source": [
    "期权策略需要考虑方向性和波动率两个因素"
   ]
  },
  {
   "cell_type": "markdown",
   "metadata": {},
   "source": [
    "![](./pics/Der&CM/strategy_selection.png)"
   ]
  },
  {
   "cell_type": "markdown",
   "metadata": {},
   "source": [
    "### 15.4 Option Greeks"
   ]
  },
  {
   "cell_type": "markdown",
   "metadata": {},
   "source": [
    "![](./pics/Der&CM/option_greeks.png)"
   ]
  },
  {
   "cell_type": "markdown",
   "metadata": {},
   "source": [
    "#### 15.4.1 Option Delta"
   ]
  },
  {
   "cell_type": "markdown",
   "metadata": {},
   "source": [
    "在[15.3.3 Delta of Strategy](#15.3.3-Delta-of-Strategy)已经介绍过，ITM OTM ATM的delta  \n",
    "**需要补充的是call option delta就是BSM中的N(d1)，而put option delta就是N(d1)-1**"
   ]
  },
  {
   "cell_type": "markdown",
   "metadata": {},
   "source": [
    "**Delta Hedge**：分为static hedge（就是用标的直接对冲）和dynamic hedge（期权中就是 1 / △）  \n",
    "期货中：实施上是可以构建现货和期货的回归方程：$y = b_0 + b_1x + \\varepsilon$ ，其中MVHR（minimum variance hedge ratio）就是b1  \n",
    "dynamic hedge缺点是：只适用于微小变动，并且任意变量动△都要动，并且f(S, X, rf, T, σ)的时间也是基本变量，所以必然要变"
   ]
  },
  {
   "cell_type": "markdown",
   "metadata": {},
   "source": [
    "#### 15.4.2 Option Gamma"
   ]
  },
  {
   "cell_type": "markdown",
   "metadata": {},
   "source": [
    "gamma可以用来监督△来hedge的难易程度，gamma越高越难hedge，gamma = △delta / △S  \n",
    "相同股票、相同T、相同X有相同的gamma  \n",
    "**当ATM时gamma最大，Deep ITM/OTM gamma都趋近0，临近到期gamma也会很大**"
   ]
  },
  {
   "cell_type": "markdown",
   "metadata": {},
   "source": [
    "#### 15.4.3 Vega, Theta and Rho"
   ]
  },
  {
   "cell_type": "markdown",
   "metadata": {},
   "source": [
    "Rho的影响小于Veg"
   ]
  },
  {
   "cell_type": "markdown",
   "metadata": {},
   "source": [
    "### 15.5 Volatility Smile"
   ]
  },
  {
   "cell_type": "markdown",
   "metadata": {},
   "source": [
    "BSM中假设σ不变，但是其实一直会变，下面基于BSM和资产实际情况推出implied σ"
   ]
  },
  {
   "cell_type": "markdown",
   "metadata": {},
   "source": [
    "**Foreign Currency Options**：外汇期权呈现volatility smile  \n",
    "这是因为：①volatility of the asset is constant（资产总体稳定）；②change smoothly with no jumps（不会跳跃变化）。"
   ]
  },
  {
   "cell_type": "markdown",
   "metadata": {},
   "source": [
    "![](./pics/Der&CM/volatility_smile.png)"
   ]
  },
  {
   "cell_type": "markdown",
   "metadata": {},
   "source": [
    "**Equity Options**：股票期权呈现volatility smirk，股票下跌时波动率更大   \n",
    "这是因为：①leverage，股价下跌杠杆上升；②volatility feedback effect，波动率上升投资者要求更高的回报，所以股价进一步下跌波动上升；③crashophobia，担心崩盘。"
   ]
  },
  {
   "cell_type": "markdown",
   "metadata": {},
   "source": [
    "![](./pics/Der&CM/volatility_smirk.png)"
   ]
  },
  {
   "cell_type": "markdown",
   "metadata": {},
   "source": [
    "[回到Der&CM首页](#Derivatives-and-Currency-Management)  "
   ]
  },
  {
   "cell_type": "markdown",
   "metadata": {},
   "source": [
    "___"
   ]
  },
  {
   "cell_type": "markdown",
   "metadata": {},
   "source": [
    "## R16 Swaps Forwards Futures Strategies"
   ]
  },
  {
   "cell_type": "markdown",
   "metadata": {},
   "source": [
    "### ☆16.1 Managing Interest Rate Risk"
   ]
  },
  {
   "cell_type": "markdown",
   "metadata": {},
   "source": [
    "可以用：①Interest rate swap；②Forward Rate Agreements(FRAs)；③Short-dated interest rate(STIR) futures；④Longer-dated fixed-income(bond) futures"
   ]
  },
  {
   "cell_type": "markdown",
   "metadata": {},
   "source": [
    "#### 16.1.1 Interest Rate Swap"
   ]
  },
  {
   "cell_type": "markdown",
   "metadata": {},
   "source": [
    "支出固定利率，收到浮动利率，不会有固定换固定，但是实务有期限不同的浮动换浮动  \n",
    "\n",
    "**IRS可以调整duration**（fixed duration > float duration）      \n",
    "float的久期每到coupon reset day付息完后就为0.5，然后逐渐归为0  \n",
    "fixed的久期可以简单看成0.75 * T  "
   ]
  },
  {
   "cell_type": "markdown",
   "metadata": {},
   "source": [
    "☆**IRS还可以用来调整exposure**，下表是用IRS来调整资产和负债敞口，IRS中payer一方就是支付固定的一方：    \n",
    "IRS的双方分别面临着market value risk（市场价格风险，收固付浮）和cash flow risk（现金流风险，付固收浮），需要trade-off"
   ]
  },
  {
   "cell_type": "markdown",
   "metadata": {},
   "source": [
    "![](./pics/Der&CM/irs_converting.png)"
   ]
  },
  {
   "cell_type": "markdown",
   "metadata": {},
   "source": [
    "**利用IRS来调整久期**：  \n",
    "portfolio + derivatives = target，用衍生品时target头寸和原portfolio一致  \n",
    "当i变动时：$\\Delta P + \\Delta swap = \\Delta target$  \n",
    "而按照久期公式：$\\Delta P = -Mod.D \\times P \\times \\Delta y$，并且假设变动的$\\Delta y$相同  \n",
    "因此可以得到：$D_p \\times MV_p + D_s \\times NP_s = D_T \\times MV_p $  \n",
    "最后推出：$NP_s = (\\frac{D_T-D_p}{D_s}) \\times MV_p$  \n",
    "\n",
    "应用时当利率上升，组合价格下降时，我们希望下降的小一点，所以要降duration，就应该付固支浮；如果利率下降我们希望组合价格升的多一点，就要升duration，应该收固支浮。"
   ]
  },
  {
   "cell_type": "markdown",
   "metadata": {},
   "source": [
    "#### 16.1.2 Forward Rate Agreements（FRAs）"
   ]
  },
  {
   "cell_type": "markdown",
   "metadata": {},
   "source": [
    "可以将FRA直接看成用forward来锁定利率，borrower方当心利率上涨，所以Long FRA锁定成本；lender方担心利率下跌，所以要short FRA来锁定收益  "
   ]
  },
  {
   "cell_type": "markdown",
   "metadata": {},
   "source": [
    "注意FRA的表达方式：3x9FRA表示3个月后的持续6个月的合约（180-day xxx, 90 days from now）  \n",
    "2级考定价，3级直接计算盈亏，计算时先算原组合的盈亏（结合市场最新利率考虑），再算FRA的盈亏，最后算总盈亏（不用折现，因为已经到未来了）  "
   ]
  },
  {
   "cell_type": "markdown",
   "metadata": {},
   "source": [
    "![](./pics/Der&CM/fra.png)"
   ]
  },
  {
   "cell_type": "markdown",
   "metadata": {},
   "source": [
    "#### 16.1.3 Short-dated Interest Rats（STIR） futures"
   ]
  },
  {
   "cell_type": "markdown",
   "metadata": {},
   "source": [
    "STIR是利率市场的短期期货，期货比合约更加标准化，但因此没有各类时间的产品  \n",
    "\n",
    "**STIR的报价方式**：STIR 期货又叫Eurodollar futures（欧洲美元期货），**标的价格是1 million**  \n",
    "并且使用IMM Index（International Monetary Market，国际货币市场）报价，要用 **（100 - 报价）**，即如果报95则利率为5%   \n",
    "此外，由于报价是按**季度**的，所以1bp的变化意味着合约价格变动1m x 0.0001 x 90/360 = $25\n",
    "\n",
    "STIR因为利率和期货价格反向变动，应用上会和FRA相反：  \n",
    "borrower担心利率上升，即期货价格会下降，就应该short futures / long FRA  \n",
    "lender担心利率下降，即期货价格会上升，就应该long futures / short FRA"
   ]
  },
  {
   "cell_type": "markdown",
   "metadata": {},
   "source": [
    "#### 16.1.4 Longer-dated fixed-income（bond） futures"
   ]
  },
  {
   "cell_type": "markdown",
   "metadata": {},
   "source": [
    "Treasury futures适用于T-bills/notes/bonds，主要交易在CBOT、CME，是利率市场的长期期货   \n",
    "\n",
    "**国债期货的报价方式**：**30年6%coupon的国债**  \n",
    "deliverable（实物交割）：可以用**面值10w、存续时间还有15年以上**的任意国债进行实物交割\n",
    "报价单位：它的报价方式是**32nds**：95-18意味着95+18/32   \n",
    "conversion factor（CF）：short（卖）方拥有**CTD**（cheapest to deliver最便宜可交割债）的权利，可以决定用什么bond来交割，交易所会给转换因子  \n",
    "$FP_f = FP_A \\times \\frac{1}{CF_A}$"
   ]
  },
  {
   "cell_type": "markdown",
   "metadata": {},
   "source": [
    "**国债期货对冲：**basis point value（BPV）是1个bp变化时价值的变动，也可以写作PVBP/DV01  \n",
    "因为：$BPV_T =BPV_P + BPV_f \\times BPVHR$，以及$BPV_f = BPV_{CTD} \\times \\frac{1}{CF_{CTD}}$  \n",
    "最后推出：$BPVHR = \\frac{BPV_T - BPV_P}{BPV_{CTD} 　/ CF_{CTD}}$ ，也可以用DD和MD久期来：$\\frac{DD_T - DD_P}{DD_{CTD} 　/CF_{CTD}}$ = $\\frac{MV_P(D_T-D_P)}{D_f \\times P_f / CF_{CTD}}$"
   ]
  },
  {
   "cell_type": "markdown",
   "metadata": {},
   "source": [
    "计算题先写公式，然后代入过程，最后下结论"
   ]
  },
  {
   "cell_type": "markdown",
   "metadata": {},
   "source": [
    "### 16.2 Managing Equity Risk"
   ]
  },
  {
   "cell_type": "markdown",
   "metadata": {},
   "source": [
    "管理权益风险可以用Equity Swap和Equity futures/forwards    "
   ]
  },
  {
   "cell_type": "markdown",
   "metadata": {},
   "source": [
    "#### 16.2.1 Equity Swap"
   ]
  },
  {
   "cell_type": "markdown",
   "metadata": {},
   "source": [
    "Equity Swap有三种形式：①付固定利率，收equity；②付浮动利率，收equity；③付equity，收equity。  \n",
    "IRS是收一个付一个，一个盈利一个亏损，但Equity swap因为交换股票指数可能会是双支双收  "
   ]
  },
  {
   "cell_type": "markdown",
   "metadata": {},
   "source": [
    "#### 16.2.2 Equity Futures/Forward"
   ]
  },
  {
   "cell_type": "markdown",
   "metadata": {},
   "source": [
    "几大著名股指期货的Multipliers（可以看成杠杆）：S&P500是250，NASDAQ100是100，DJIA是10，IH300是300  "
   ]
  },
  {
   "cell_type": "markdown",
   "metadata": {},
   "source": [
    "**股指期货的对冲：**和国债对冲的Duration思想一样，只是久期换成了β  \n",
    "$N_f = (\\frac{\\beta_T - \\beta_P}{\\beta_f})(\\frac{MV_P}{F}) = (\\frac{\\beta_T - \\beta_P}{\\beta_f})(\\frac{MV_P}{f \\times multiplier})$"
   ]
  },
  {
   "cell_type": "markdown",
   "metadata": {},
   "source": [
    "**Cash Equitization**：又叫做cash securitization/overrlay，将现金转为股票，本质上是让组合的对冲掉  \n",
    "①synthetic risk-free asset = long stock - stock index futures  \n",
    "这种策略是目标组合完全对冲β为0，就像现金一样：$N_f = (\\frac{0 - \\beta_P}{\\beta_f})(\\frac{MV_P}{F}) = (\\frac{\\beta_P}{\\beta_f})(\\frac{MV_P}{f \\times multiplier})$  \n",
    "②synthetic equity = long risk-free asset + stock index futures  \n",
    "这种策略是利用期货和现金构建股票，初始组合的β为0：$N_f = (\\frac{\\beta_T - 0 }{\\beta_f})(\\frac{MV_P}{F}) = (\\frac{\\beta_T}{\\beta_f})(\\frac{MV_P}{f \\times multiplier})$  "
   ]
  },
  {
   "cell_type": "markdown",
   "metadata": {},
   "source": [
    "**对冲不能imperfection的原因是**：①交易费用；②rounding小数点；③portfolio与期货价格变动与β不符（β是过去数据算出的）"
   ]
  },
  {
   "cell_type": "markdown",
   "metadata": {},
   "source": [
    "### 16.3 Altering Asset Allocation"
   ]
  },
  {
   "cell_type": "markdown",
   "metadata": {},
   "source": [
    "**Altering Asset Allocation的核心**是：无论用股票还是债券来synthetic或改变组合，中间都要以cash为中介  \n",
    "如本身持有stock，想变成债券，就要先把stock变成cash（卖股指期货），再购买国债期货  "
   ]
  },
  {
   "cell_type": "markdown",
   "metadata": {},
   "source": [
    "![](./pics/Der&CM/altering_AA.png)"
   ]
  },
  {
   "cell_type": "markdown",
   "metadata": {},
   "source": [
    "### 16.4 Managing Currency Risk  "
   ]
  },
  {
   "cell_type": "markdown",
   "metadata": {},
   "source": [
    "可以用currency swap/forwards/fututes来管理货币风险，外汇市场的option不活跃"
   ]
  },
  {
   "cell_type": "markdown",
   "metadata": {},
   "source": [
    "#### 16.4.1 Currency Swap "
   ]
  },
  {
   "cell_type": "markdown",
   "metadata": {},
   "source": [
    "CS初期可以换本金也可以不换，cross-currency-swap是principals（本金）初期就换的，如果有定期换汇的需要，本金初期也可以不换，而用synthetic borrowing（相当于签订了一系列的swap）   "
   ]
  },
  {
   "cell_type": "markdown",
   "metadata": {},
   "source": [
    "CS中间会有Dealer，Dealer的收益来自于某一方的成本，一般来说货币越难借到或者其他风险的一方成本更高"
   ]
  },
  {
   "cell_type": "markdown",
   "metadata": {},
   "source": [
    "![](./pics/Der&CM/currency_swap.png)"
   ]
  },
  {
   "cell_type": "markdown",
   "metadata": {},
   "source": [
    "#### 16.4.2 Currency Forwards/Futures"
   ]
  },
  {
   "cell_type": "markdown",
   "metadata": {},
   "source": [
    "HR = 想要换汇的资产 / 期货合约价格"
   ]
  },
  {
   "cell_type": "markdown",
   "metadata": {},
   "source": [
    "HR本质上也是N，即购买多少张期货，Duration和β才是资产间变动的影响比例"
   ]
  },
  {
   "cell_type": "markdown",
   "metadata": {},
   "source": [
    "### 16.5 Managing Volatility Risk"
   ]
  },
  {
   "cell_type": "markdown",
   "metadata": {},
   "source": [
    "可以用VIX futures/options/indexes（volatility derivativees）以及Variance swap来管理VIX风险"
   ]
  },
  {
   "cell_type": "markdown",
   "metadata": {},
   "source": [
    "#### 16.5.1 Volatility Derivatives"
   ]
  },
  {
   "cell_type": "markdown",
   "metadata": {},
   "source": [
    "**VIX index**：又称fear index/gauge（恐慌指数），是S&P500在过去平均30天到期的put/call加权平均计算的年化隐含波动率  "
   ]
  },
  {
   "cell_type": "markdown",
   "metadata": {},
   "source": [
    "因无法无具体实物资产，所以都是现金交割，买了VIX futures/options就认为是long σ"
   ]
  },
  {
   "cell_type": "markdown",
   "metadata": {},
   "source": [
    "#### 16.5.2 Variance Swap"
   ]
  },
  {
   "cell_type": "markdown",
   "metadata": {},
   "source": [
    "VS是**隐含波动率的平方**，相当于约定了variance strike（方差执行价格），realized variance是当前的“市场价格”  \n",
    "用方差名义本金：settlement amount(long) = variance notional x （$\\sigma^2 - K^2$）  \n",
    "用标准差名义本金：settlement amount(long) = vega notional x （$\\frac{\\sigma^2 - K^2}{2K}$）  "
   ]
  },
  {
   "cell_type": "markdown",
   "metadata": {},
   "source": [
    "用vega notional是指波动率变1%的盈亏，vega notional = variance notional x 2K = $\\frac{\\sigma^2 - K^2}{2K} = \\frac{(\\sigma - K)(\\sigma + K)}{2K} \\approx (\\sigma - K)$"
   ]
  },
  {
   "cell_type": "markdown",
   "metadata": {},
   "source": [
    "**Mark-to-Market（盯市）**：VS需要在t时刻valuation一下，根据历史和未来预计的方差来加权计算预期的variance  \n",
    "expected variance to maturity =$ (\\sigma_t^2 \\times \\frac{t}{T}) + (K^2_{T-t} \\times \\frac{T-t}{T}$)"
   ]
  },
  {
   "cell_type": "markdown",
   "metadata": {},
   "source": [
    "![](./pics/Der&CM/variance_swap.png)"
   ]
  },
  {
   "cell_type": "markdown",
   "metadata": {},
   "source": [
    "### 16.6 Infering Market Expectation"
   ]
  },
  {
   "cell_type": "markdown",
   "metadata": {},
   "source": [
    "可以用一些特殊的期货来倒推市场的预期：  \n",
    "\n",
    "CPI swaps可以用来推断通胀的预期  \n",
    "VIX futures/options可以用来推断市场的波动率预期\n",
    "\n",
    "Fed Funds Futures = 100 - expected FFE rate（像eurodollar futures）  \n",
    "可以用来预测FOMC（Federal Open Market Committee）的区间价格，计算加息降息的概率  \n",
    "FOMC的每次加息降息的是25个bp，并且会给一个区间，所以比如上次开会是(2.5%,2.75%)，当前市场计算的是2.825%  \n",
    "则下次加息的概率是：(2.825 - 2.625) / (2.875 - 2.625) = 80%"
   ]
  },
  {
   "cell_type": "markdown",
   "metadata": {},
   "source": [
    "![](./pics/Der&CM/infering_market.png)"
   ]
  },
  {
   "cell_type": "code",
   "execution_count": null,
   "metadata": {},
   "outputs": [],
   "source": []
  },
  {
   "cell_type": "markdown",
   "metadata": {},
   "source": [
    "[回到Der&CM首页](#Derivatives-and-Currency-Management)  "
   ]
  },
  {
   "cell_type": "markdown",
   "metadata": {},
   "source": [
    "___"
   ]
  },
  {
   "cell_type": "markdown",
   "metadata": {},
   "source": [
    "## R17 Currency Management"
   ]
  },
  {
   "cell_type": "markdown",
   "metadata": {},
   "source": [
    "[回到Der&CM首页](#Derivatives-and-Currency-Management)  "
   ]
  },
  {
   "cell_type": "markdown",
   "metadata": {},
   "source": [
    "___"
   ]
  }
 ],
 "metadata": {
  "kernelspec": {
   "display_name": "Python 3",
   "language": "python",
   "name": "python3"
  },
  "language_info": {
   "codemirror_mode": {
    "name": "ipython",
    "version": 3
   },
   "file_extension": ".py",
   "mimetype": "text/x-python",
   "name": "python",
   "nbconvert_exporter": "python",
   "pygments_lexer": "ipython3",
   "version": "3.7.3"
  }
 },
 "nbformat": 4,
 "nbformat_minor": 4
}
