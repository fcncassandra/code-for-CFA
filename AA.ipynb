{
 "cells": [
  {
   "cell_type": "markdown",
   "metadata": {},
   "source": [
    "# Asset Allocation "
   ]
  },
  {
   "cell_type": "markdown",
   "metadata": {},
   "source": [
    "[回到code-for-CFA首页](./README.md)  "
   ]
  },
  {
   "cell_type": "markdown",
   "metadata": {},
   "source": [
    "☆[R12 Overview of Asset Allocation](#R12-Overview-of-Asset-Allocation)  \n",
    "☆☆[R13 Principles of Asset Allocation](#R13-Principles-of-Asset-Allocation)  \n",
    "[R14 Asset Allocation with RealWorld Constraints](#R14-Asset-Allocation-with-RealWorld-Constraints)"
   ]
  },
  {
   "cell_type": "markdown",
   "metadata": {},
   "source": [
    "___"
   ]
  },
  {
   "cell_type": "markdown",
   "metadata": {},
   "source": [
    "## R12 Overview of Asset Allocation"
   ]
  },
  {
   "cell_type": "markdown",
   "metadata": {},
   "source": [
    "### 12.1 Investment Governance（投资治理）"
   ]
  },
  {
   "cell_type": "markdown",
   "metadata": {},
   "source": [
    "投资治理三个责任：①decision-making，投资决定；②oversight，过程控制；③capacity，确保决策有效执行。"
   ]
  },
  {
   "cell_type": "markdown",
   "metadata": {},
   "source": [
    "**治理层级**：governance hierarchy，①+②是内部：\n",
    "- ①Governing investment committee，投委会；\n",
    "- ②Investment staff，投资人员；\n",
    "- ③Third-party resources，包括governance audit。"
   ]
  },
  {
   "cell_type": "markdown",
   "metadata": {},
   "source": [
    "**好的治理**：\n",
    "- ①Avoid decision-reversal risk，避免卖在最低点；\n",
    "- ②Durability，考虑到人员变动对项目的影响；\n",
    "- ③Prevent key person risk，避免关键人风险。\n",
    "- ④Assures accountability，问责制。"
   ]
  },
  {
   "cell_type": "markdown",
   "metadata": {},
   "source": [
    "### 12.2 Economic Balance Sheet（Holistic B/S）"
   ]
  },
  {
   "cell_type": "markdown",
   "metadata": {},
   "source": [
    "Economic B/S考虑了扩展的资产负债，对一个人的资产情况有了更全面的补充：  \n",
    "Economic net worth = \n",
    "- + PV of future earnings (Financial Asset)；\n",
    "- + PV of unvested Benefits (Extended Asset)，对个人包括unvested Benefits、Human Capitatl、expected inheritances；\n",
    "- - PV of future spendings (Financial Liability)；\n",
    "- - PV of future Bequest (Extended Liability)，对个人包括未来的消费、子女教育开支、Endowment；"
   ]
  },
  {
   "cell_type": "markdown",
   "metadata": {},
   "source": [
    "其中unvested benefits是指尚未工作未授予养老金的部分（EA），vested benefits是已经工作算在养老金的部分（已经算在FA）"
   ]
  },
  {
   "cell_type": "markdown",
   "metadata": {},
   "source": [
    "**HC和FC**：下图展示了人的财富随年龄变化的构成情况，所以要让$\\rho(HC,FC)$尽可能的低，不然会和公司一荣俱荣一损俱损，在**生病**的情况下两者都会下降"
   ]
  },
  {
   "cell_type": "markdown",
   "metadata": {},
   "source": [
    "![](./pics/AA/hc_fc.png)"
   ]
  },
  {
   "cell_type": "markdown",
   "metadata": {},
   "source": [
    "### 12.3 Approaches to Asset Allocation"
   ]
  },
  {
   "cell_type": "markdown",
   "metadata": {},
   "source": [
    "#### 12.3.1 Overview of Approaches"
   ]
  },
  {
   "cell_type": "markdown",
   "metadata": {},
   "source": [
    "一共有3+1个主要方法，分别面向资产、负债、目标和风险\n",
    "- ①Asset-only（MVO）：等价于MVO（Mean-variance optimization），只考虑相同风险收益高、相同收益风险低的组合\n",
    "- ②Liablity-relative：资产管理是为了匹配负债，所以有Liability-driven investing（LDI）又可以称之为ALM（Asset Liability Management），养老金、保险、银行等机构都在用，因为他们负债类型比较统一\n",
    "- ③Goal-based：基于目标的管理，目标是提升实现目标的成功率，GBI（Goal-based investing），分层来对不同目标进行投资管理，可以等同于mental accouting 和 BPT\n",
    "- ④Risk-based：桥水基金的方法"
   ]
  },
  {
   "cell_type": "markdown",
   "metadata": {},
   "source": [
    "![](./pics/AA/AA_objectives.png)"
   ]
  },
  {
   "cell_type": "markdown",
   "metadata": {},
   "source": [
    "#### 12.3.2 Distinctions Between Liabilities"
   ]
  },
  {
   "cell_type": "markdown",
   "metadata": {},
   "source": [
    "机构的负债来源于legal obligations or debts（contract，合同），相对uniform in nature（更加统一），并且由于量大可以预测出来（大数定律）  \n",
    "个人的负债则因为每个人的goal不同而many and varied，所以也会无法预测"
   ]
  },
  {
   "cell_type": "markdown",
   "metadata": {},
   "source": [
    "#### 12.3.3 Risk Concept"
   ]
  },
  {
   "cell_type": "markdown",
   "metadata": {},
   "source": [
    "三种方法里面的风险情况：\n",
    "- ①Asset-only：首选用volatility来计量，但是也可以用tracking risk（error）和downside risk来衡量，其中downside risk包括semi-variance、maximum drawback、VaR（window、confidence、frequecy）\n",
    "- ②Liability-relative：要minimize shortfall risk，所以要考虑volatility of contributions needed to fund liabilities\n",
    "- ③Goal-based：提升达成目标的概率"
   ]
  },
  {
   "cell_type": "markdown",
   "metadata": {},
   "source": [
    "#### ☆☆12.3.4 Asset Class"
   ]
  },
  {
   "cell_type": "markdown",
   "metadata": {},
   "source": [
    "大类资产的划分标准有：\n",
    "- ①客观上3点：同类资产应当homogeneous（很像），不同资产需要mutually exclusive（互斥），不同资产要diversifying（相关性要低）；\n",
    "- ②主观上2点：资产总类别最好能preponderance of world investable wealth（占到可投资财富的大部分比例，从而让每个资产都能找到自己的类别），还要meaningful proportion of an investor's portfolio（占到投资者投资组合中更多的比重）"
   ]
  },
  {
   "cell_type": "markdown",
   "metadata": {},
   "source": [
    "#### ☆12.3.5 Risk Factor"
   ]
  },
  {
   "cell_type": "markdown",
   "metadata": {},
   "source": [
    "可以拿因子去做MVO，这是为了防止**overlapping risk factors**（传统大类资产划分下的风险因子堆砌）  \n",
    "比如如果分成equity、debt和commodity，那么可能美元利率对三者都有影响，risk exposure其实很大"
   ]
  },
  {
   "cell_type": "markdown",
   "metadata": {},
   "source": [
    "用多因子的管理模型又叫做factor-based asset allocation，步骤和MVO一样，只是不拿资产而是拿因子，因子最后一定要mapping回资产"
   ]
  },
  {
   "cell_type": "markdown",
   "metadata": {},
   "source": [
    "**因子合成**方式可以学习一下：\n",
    "- ①inflation：买nominal treasuries，卖inflation-linked-bonds；\n",
    "- ②credit spread：买高spread的债券（如公司债），卖国债；\n",
    "- ③duration：买10年以上的国债，卖1-3年的国债；\n",
    "- ④real interest rates：直接用inflation-linked bonds；\n",
    "- ⑤us volatility：用VIX的期货代替隐含波动率。\n",
    "- ⑥small-cap factor：买小盘股，卖大盘股；\n",
    "- ⑦value factor：买价值型股，卖成长型股。"
   ]
  },
  {
   "cell_type": "markdown",
   "metadata": {},
   "source": [
    "#### ☆12.3.6 Global Market Portfolio"
   ]
  },
  {
   "cell_type": "markdown",
   "metadata": {},
   "source": [
    "全球市场组合的好处：\n",
    "- ①minimize non-diversifiable risk，非系统性风险最小，因为投资全球了；\n",
    "- ②highly diversified portfolio，高度分散化；\n",
    "- ③efficient use of the risk budget，风险预算花的少；\n",
    "- ☆☆④能够消除home-country bias。"
   ]
  },
  {
   "cell_type": "markdown",
   "metadata": {},
   "source": [
    "**应当成为AA的baseline**：Global market-value weighted portfolio should be considered as a baseline asset allocation."
   ]
  },
  {
   "cell_type": "markdown",
   "metadata": {},
   "source": [
    "### 12.4 Strategic Asset Allocation（战略型的资产配置）"
   ]
  },
  {
   "cell_type": "markdown",
   "metadata": {},
   "source": [
    "**mean-variance的效用函数**：$U = E(r_p) - \\frac{1}{2}\\lambda \\sigma _p^2$  \n",
    "因为效用=好-坏，好的来自于收益，坏的来自于风险，并且我们这里只考虑亏损的风险，所以乘上1/2，其中λ表示风险厌恶系数"
   ]
  },
  {
   "cell_type": "markdown",
   "metadata": {},
   "source": [
    "**风险资产的最优权重**：optimal allocation to the risky assets，$w^* = \\frac{1}{\\lambda}(\\frac{r_i - r_f}{\\sigma^2})$  \n",
    "\n",
    "推导过程如下：首先组合的总收益来自于风险资产$r_i$和无风险资产$r_f$的收益：$E(R_p) = w_i * r_i + (1-w_i)*r_f$  \n",
    "但是组合的总风险仅仅来自于风险资产：$\\sigma_p = w_i * r_i$\n",
    "而效用函数为$U = E(r_p) - \\frac{1}{2}\\lambda \\sigma _p^2$  \n",
    "所以可以带入推出$U = (r_i - r_f)*w_i + r_f - \\frac{1}{2}\\lambda w_i^2\\sigma _i^2$  \n",
    "为了让U最大化，可以对权重$w_i$求导，让求导的后的等式为0：$r_i - r_f - \\lambda w_i\\sigma_i^2 = 0$"
   ]
  },
  {
   "cell_type": "markdown",
   "metadata": {},
   "source": [
    "### 12.5 Strategic Implementation Choices（战略的实施选择）"
   ]
  },
  {
   "cell_type": "markdown",
   "metadata": {},
   "source": [
    "有两种维度的实施：Acitve/Passive，区别在于Active要主动响应CME的变化及时调整头寸  \n",
    "？？Active中又有两种方式：Tactical AA和Dynamic AA，TAA是短期的，改完后回到SAA，而DAA是长期的，改完后不回到SAA"
   ]
  },
  {
   "cell_type": "markdown",
   "metadata": {},
   "source": [
    "**影响因素**：有6个因素影响主动和被动的SAA：\n",
    "- ①available investments，投资品要可得，比如被动投资可以买ETF，否则只能主动；\n",
    "- ②scalability of active strategies，主动策略的容量是多少，比如一个策略超过5亿投资就失效了；\n",
    "- ③feasibility passive/client constrants，被动投资的可行性，比如有的投资者不投白酒或者符合ESG，那么就不能直接买ETF了；\n",
    "- ④market informational efficiency，市场信息的有效性，越有效越消极；\n",
    "- ⑤acitve trade-off，主动投资权衡下收益和带来的成本和风险；\n",
    "- ⑥tax status，主动投资的税收高。"
   ]
  },
  {
   "cell_type": "markdown",
   "metadata": {},
   "source": [
    "### ☆☆12.6 Strategic Considerations in Rebalancing"
   ]
  },
  {
   "cell_type": "markdown",
   "metadata": {},
   "source": [
    "rebalance可的好处是可以重新回到SAA，但是坏处是增加了成本，一般有两种再平衡方式：\n",
    "- ①calender rebalancing，日历再平衡，缺点是期间如果资产价格变动大可能会大幅偏离SAA\n",
    "- ②percentage-range rebalancing，百分比范围再平衡（corridor，走廊）， 超过预先给定范围就平衡，不同大类资产不同range"
   ]
  },
  {
   "cell_type": "markdown",
   "metadata": {},
   "source": [
    "对②中的range是wider还是narrower有很多因素都会有所影响：\n",
    "- ①transaction caosts，交易费用正相关，越多越宽；\n",
    "- ②risk-aversion，风险厌恶负相关，风险承受力正相关；\n",
    "- ③asset class correlations，正相关，越集中越宽；  \n",
    "- ④belief，信momentum就是涨了还不卖，要宽；信mean reversion就是回调就走，要窄；\n",
    "- ⑤liquidity，流动性负相关，流动性越高交易成本越小，所以越窄；\n",
    "- ⑥volatility，书上是正相关，要分情况，波动性导致交易成本上升所以要宽，但是偏离SAA的可能性也多了，所以要观察。\n",
    "- ⑦taxes，税收正相关，鼓励asymmetric的range，涨可以多交税，但是跌可以少交。"
   ]
  },
  {
   "cell_type": "markdown",
   "metadata": {},
   "source": [
    "如果配置权重的range是(40%, 60%)，则target weights是50%，如果超过了range比如70%去correct时有两个考量：\n",
    "- ①直接到target weights的50%，交易成本会增加；\n",
    "- ②到near range edge的60%，容易很快再超出range；  \n",
    "\n",
    "所以两个结合考虑吧：half way between target and range-edge。"
   ]
  },
  {
   "cell_type": "markdown",
   "metadata": {},
   "source": [
    "rebalancing有三个好处：①align with SAA；②获取分散化收益；③可以用衍生品short，做空波动率来获取收益。"
   ]
  },
  {
   "cell_type": "markdown",
   "metadata": {},
   "source": [
    "[回到AA首页](#Asset-Allocation )  "
   ]
  },
  {
   "cell_type": "markdown",
   "metadata": {},
   "source": [
    "___"
   ]
  },
  {
   "cell_type": "markdown",
   "metadata": {},
   "source": [
    "## R13 Principles of Asset Allocation"
   ]
  },
  {
   "cell_type": "markdown",
   "metadata": {},
   "source": [
    "### 13.1 Developing Asset-Only AA"
   ]
  },
  {
   "cell_type": "markdown",
   "metadata": {},
   "source": [
    "#### 13.1.1 MVO"
   ]
  },
  {
   "cell_type": "markdown",
   "metadata": {},
   "source": [
    "构建MVO的步骤本质就是先构建有限前沿，再画CML（资本市场线），最后用效用曲线和其相切。"
   ]
  },
  {
   "cell_type": "markdown",
   "metadata": {},
   "source": [
    "**有效前沿**：构建有效前沿的三个条件是：①权重和为1；②目标是最小化$\\sigma p$；③各资产权重大于0（如果限制做空的话），具体步骤是：\n",
    "- ①先预测各资产的收益（历史、CAPM）、标准差（历史）、Cov；\n",
    "- ②然后计算整体组合的收益和标准差；\n",
    "- ③随机按任意权重配比各资产，以组合的收益为纵轴、风险为横轴画出所有可能的组合；\n",
    "- ④然后获取点堆积形状的左外侧轮廓曲线，这就是global minimum variance portfolio（全球最小方差组合）；\n",
    "- ⑤取曲线的上半部分，因为相同风险的情况下要收益更大的，这就是efficient frontier（有效前沿）。"
   ]
  },
  {
   "cell_type": "markdown",
   "metadata": {},
   "source": [
    "corner portfolio：有效前沿构建时其实没有限制做空，所以这里限制了权重都要大于0的组合，这样就变成断断续续的点；  \n",
    "adjacent corner portfolio：如果没有恰好达到目标收益率和标准差的组合，可以用两个最近的corner portfolio来合成。"
   ]
  },
  {
   "cell_type": "markdown",
   "metadata": {},
   "source": [
    "**资本市场线**：用无风险收益率来和有效前沿相切的目的是找到sharp ratio最大的组合！"
   ]
  },
  {
   "cell_type": "markdown",
   "metadata": {},
   "source": [
    "**效用曲线**：$U = E(r_p) - \\frac{1}{2}\\lambda \\sigma _p^2$  ，有时候λ前可能还要除以100"
   ]
  },
  {
   "cell_type": "markdown",
   "metadata": {},
   "source": [
    "# todo "
   ]
  },
  {
   "cell_type": "markdown",
   "metadata": {},
   "source": [
    "**优缺点**：\n",
    "MVO的优点是most common and widely used（用的多）；sophisticated approaches basis（一切复杂方法的基础）。  \n",
    "MVO的缺点有6个，所以要让其进行改进：\n",
    "- ①highly sensitive to small changes in the inputs，对输入很敏感，所以要用增加constraints；\n",
    "- ②highly concentrated，结果会高度集中在高收益低风险的资产，所以要resampled；\n",
    "- ③skewness and kurtosis，分布有偏，所以用non-normal的最优化；\n",
    "- ④risk may not be diversified，可能导致overlapping，所以要用facter-based方法；\n",
    "- ⑤no direct connections to liability or consumption streams，和资产负债无直接关系，所以要用ALM方法；\n",
    "- ⑥a single-period framework，MVO只是1期的方法，所以要用MCS。"
   ]
  },
  {
   "cell_type": "markdown",
   "metadata": {},
   "source": [
    "学会看面积图，横轴是收益率，纵轴是资产权重"
   ]
  },
  {
   "cell_type": "markdown",
   "metadata": {},
   "source": [
    "![](./pics/AA/area_graph.png)"
   ]
  },
  {
   "cell_type": "markdown",
   "metadata": {},
   "source": [
    "#### 13.1.2 Criticisim（批评和改进）"
   ]
  },
  {
   "cell_type": "markdown",
   "metadata": {},
   "source": [
    "##### 13.1.2.1 Adding Constraints（加限制）"
   ]
  },
  {
   "cell_type": "markdown",
   "metadata": {},
   "source": [
    "针对输入sensetivity的情况，还有真实世界的限制情况增加限制    \n",
    "缺点是：一旦增加了限制就不是最优化了！"
   ]
  },
  {
   "cell_type": "markdown",
   "metadata": {},
   "source": [
    "##### 13.1.2.2 Resampled MVO（重采样）"
   ]
  },
  {
   "cell_type": "markdown",
   "metadata": {},
   "source": [
    "用蒙特卡洛模拟来摸拟上万次资产不集中时的各种EF，然后取平均，缺点是：\n",
    "- ①可能模拟出不符合常规的情况，出现concave bumps（凹面凸起），即收益下降还风险上升；\n",
    "- ②over diversified，过于分散化了；\n",
    "- ③estimation errors in inputs，模型估机本身可能也有问题，模型的通病；\n",
    "- ④lacks a foundation in theory，缺少理论基础，只是用了统计学但是金融未必有道理。"
   ]
  },
  {
   "cell_type": "markdown",
   "metadata": {},
   "source": [
    "![](./pics/AA/resampled_mvo.png)"
   ]
  },
  {
   "cell_type": "markdown",
   "metadata": {},
   "source": [
    "##### 13.1.2.3 Reverse Optimization（反优化）"
   ]
  },
  {
   "cell_type": "markdown",
   "metadata": {},
   "source": [
    "做MVO的时候输入收益率、标准差和协方差，担心GIGO，所以不用历史的收益率，而是用implied return来代替  \n",
    "隐含收益率来自于global market portfolio，先求出隐含的权重，再用这个权重来计算每个资产的的隐含收益率，最后再用正向MVO"
   ]
  },
  {
   "cell_type": "markdown",
   "metadata": {},
   "source": [
    "**CAPM反优化方法**：也可以用CAPM来算出这个收益率，再去正向MVO，本质上没有用反优化，只是简化了计算的，但是考试也认为可以"
   ]
  },
  {
   "cell_type": "markdown",
   "metadata": {},
   "source": [
    "##### 13.1.2.4 BL Model"
   ]
  },
  {
   "cell_type": "markdown",
   "metadata": {},
   "source": [
    "在反优化的基础上带入了分析师的观点：Ajusted Return = w x implied return + (1-w) x forcasted return"
   ]
  },
  {
   "cell_type": "markdown",
   "metadata": {},
   "source": [
    "##### 13.1.2.5 Non-Normal Optimization（非正态）"
   ]
  },
  {
   "cell_type": "markdown",
   "metadata": {},
   "source": [
    "可以在构建EF时将minimize组合的标准差风险换成以下几个：\n",
    "- ①mean-semivariance\n",
    "- ②mean-conditional VaR\n",
    "- ③mean-variance-skewness\n",
    "- ④mean-variance-skewness-kurtosis  \n",
    "\n",
    "还可以加drawback等等"
   ]
  },
  {
   "cell_type": "markdown",
   "metadata": {},
   "source": [
    "##### 13.1.2.6 Factor-Baed Model（因子模型法）"
   ]
  },
  {
   "cell_type": "markdown",
   "metadata": {},
   "source": [
    "使用factro-based要求输入是也是收益、风险和因子的相关性（要求因子的相关性要比较低）"
   ]
  },
  {
   "cell_type": "markdown",
   "metadata": {},
   "source": [
    "用因子可以non-overlapping，但是记得最后的时候要mapping回真正的资产，因为因子不可能直接投资"
   ]
  },
  {
   "cell_type": "markdown",
   "metadata": {},
   "source": [
    "常见的因子包括：size、valuation、momentum（买过去涨最的最好的）、duration（term）、credit、volatility"
   ]
  },
  {
   "cell_type": "markdown",
   "metadata": {},
   "source": [
    "##### 13.1.2.7 MCS（蒙特卡洛模拟）"
   ]
  },
  {
   "cell_type": "markdown",
   "metadata": {},
   "source": [
    "MCS的步骤是：①先确定资产大类的收益分布；②再去随机模拟，获得最后的收益分布  \n",
    "用MCS的好处是：\n",
    "- ①multiperiod/dynamic；\n",
    "- ②path dependent，路径依赖；\n",
    "- ③paint a realistic picture of potential future outcomes，大致知道未来的潜在收益；\n"
   ]
  },
  {
   "cell_type": "markdown",
   "metadata": {},
   "source": [
    "#### 13.1.3 其他"
   ]
  },
  {
   "cell_type": "markdown",
   "metadata": {},
   "source": [
    "流动性考虑：\n",
    "- ①Exclude less liquid asset classes，直接剔除流动性不好的资产；\n",
    "- ②model the inputs to represent the specific risk characteristics，大类资产的流动性不好的话，就找特性类似可以代替的其他资产，如RE不好投资就买REITs；\n",
    "- ③highly diversified，流动性不好的资产可以起到分散化作用。"
   ]
  },
  {
   "cell_type": "markdown",
   "metadata": {},
   "source": [
    "### 13.2 Developing Liability-relative AA "
   ]
  },
  {
   "cell_type": "markdown",
   "metadata": {},
   "source": [
    "#### 13.2.1 Surplus Optimization（A-L的最优化）"
   ]
  },
  {
   "cell_type": "markdown",
   "metadata": {},
   "source": [
    "A-L的最优化本质上是对Suplus进行MVO"
   ]
  },
  {
   "cell_type": "markdown",
   "metadata": {},
   "source": [
    "**Liability-relative的效用曲线**：$U = E(surplus) - \\frac{1}{2}\\lambda \\sigma _{surplus}^2$  ，有时候λ前可能还要除以100  \n",
    "然后构建**Suplus/ALM的EF**，然后去计算minimum surplus variance portfolio（MSVP）  \n",
    "需要注意的是考虑了L，但是A不一定能cover L，所以在surplus风险很低时surplus的期望可能还是为负，所以 surplus的EF会在0坐标轴之下  "
   ]
  },
  {
   "cell_type": "markdown",
   "metadata": {},
   "source": [
    "![](./pics/AA/alm_ef.png)"
   ]
  },
  {
   "cell_type": "markdown",
   "metadata": {},
   "source": [
    "**ALM的无风险利率**：AO/MVO的无风险利率是国债，但是ALM的无风险利率要让其A的回报像L，所以一般使用公司债 "
   ]
  },
  {
   "cell_type": "markdown",
   "metadata": {},
   "source": [
    "![](./pics/AA/ao_vs_alm.png)"
   ]
  },
  {
   "cell_type": "code",
   "execution_count": null,
   "metadata": {},
   "outputs": [],
   "source": [
    "Minimum"
   ]
  },
  {
   "cell_type": "code",
   "execution_count": null,
   "metadata": {},
   "outputs": [],
   "source": []
  },
  {
   "cell_type": "code",
   "execution_count": null,
   "metadata": {},
   "outputs": [],
   "source": []
  },
  {
   "cell_type": "code",
   "execution_count": null,
   "metadata": {},
   "outputs": [],
   "source": []
  },
  {
   "cell_type": "markdown",
   "metadata": {},
   "source": [
    "[回到AA首页](#Asset-Allocation )  "
   ]
  },
  {
   "cell_type": "markdown",
   "metadata": {},
   "source": [
    "___"
   ]
  },
  {
   "cell_type": "markdown",
   "metadata": {},
   "source": [
    "## R14 Asset Allocation with RealWorld Constraints"
   ]
  },
  {
   "cell_type": "code",
   "execution_count": null,
   "metadata": {},
   "outputs": [],
   "source": []
  },
  {
   "cell_type": "markdown",
   "metadata": {},
   "source": [
    "[回到AA首页](#Asset-Allocation )  "
   ]
  },
  {
   "cell_type": "markdown",
   "metadata": {},
   "source": [
    "___"
   ]
  }
 ],
 "metadata": {
  "kernelspec": {
   "display_name": "Python 3",
   "language": "python",
   "name": "python3"
  },
  "language_info": {
   "codemirror_mode": {
    "name": "ipython",
    "version": 3
   },
   "file_extension": ".py",
   "mimetype": "text/x-python",
   "name": "python",
   "nbconvert_exporter": "python",
   "pygments_lexer": "ipython3",
   "version": "3.7.3"
  }
 },
 "nbformat": 4,
 "nbformat_minor": 4
}
