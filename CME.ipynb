{
 "cells": [
  {
   "cell_type": "markdown",
   "metadata": {},
   "source": [
    "# Capital Market Expectations"
   ]
  },
  {
   "cell_type": "markdown",
   "metadata": {},
   "source": [
    "相当于CFA3级的Economics，用top-down的方法介绍宏观经济分析，大概有1-2个case"
   ]
  },
  {
   "cell_type": "markdown",
   "metadata": {},
   "source": [
    "[R10 Framework and Macro Considerations](R10-Framework-and-Macro-Considerations)  \n",
    "[R11 Forecasting Asset Class Returns](R11-Forecasting-Asset-Class-Returns)"
   ]
  },
  {
   "cell_type": "markdown",
   "metadata": {},
   "source": [
    "## R10 Framework and Macro Considerations"
   ]
  },
  {
   "cell_type": "markdown",
   "metadata": {},
   "source": [
    "### 10.1 Challenges when formulating CME"
   ]
  },
  {
   "cell_type": "markdown",
   "metadata": {},
   "source": [
    "#### 10.1.1 CME的原则"
   ]
  },
  {
   "cell_type": "markdown",
   "metadata": {},
   "source": [
    "投资者制定IPS时要基于long-term的expectations，也可以基于short-term的预期进行主动投资，但是这里有两个原则：\n",
    "- ①Cross-sectional consistency，不同资产类别的收益风险一致性；\n",
    "- ②Intertemporal consistency，跨期限的一致性。  "
   ]
  },
  {
   "cell_type": "markdown",
   "metadata": {},
   "source": [
    "#### 10.1.2 CME的步骤（不考）"
   ]
  },
  {
   "cell_type": "markdown",
   "metadata": {},
   "source": [
    "- ①time horizon，时间长度；\n",
    "- ②historical record，历史数据；\n",
    "- ③methods，确定方法；\n",
    "- ④sources for information，找到方法所需的信息；\n",
    "- ⑤applying experience and judgment，把数据输入到模型，并结合经验来判断；\n",
    "- ⑥expectations needed，得到结果\n",
    "- ⑦monitor，监控，根据变化及时调整"
   ]
  },
  {
   "cell_type": "markdown",
   "metadata": {},
   "source": [
    "#### 10.1.3 Challenges in Forecasting（预测的挑战）"
   ]
  },
  {
   "cell_type": "markdown",
   "metadata": {},
   "source": [
    "##### 10.1.3.1 Limitations to using economic data（经济数据本身的短板）"
   ]
  },
  {
   "cell_type": "markdown",
   "metadata": {},
   "source": [
    "- ①time lag，经济数据有时滞，现在市场的环境可能已经改变了；\n",
    "- ②revised，数据和统计方法被频繁修正，比如美国公布3月的非农数据，4月上旬会公布initial，5月会公布revision；\n",
    "- ③data indexes rebase，基数在调整，但not substantial（不是实质问题），因为可以人为调对；"
   ]
  },
  {
   "cell_type": "markdown",
   "metadata": {},
   "source": [
    "##### 10.1.3.2 Data measurement errors and biases（计算错误）"
   ]
  },
  {
   "cell_type": "markdown",
   "metadata": {},
   "source": [
    "- ①Transcriptions errors，录入错误；\n",
    "- ②Survivorship bias，幸存者偏差，可能会高估收益；\n",
    "- ③Appraisal data，对流动性较差的数据估值虽然可以让收益smoother（平滑），但是会downward（低估）风险，比如房地产数据1季度公布一次，两点间的波动就被忽略了"
   ]
  },
  {
   "cell_type": "markdown",
   "metadata": {},
   "source": [
    "##### 10.1.3.3 Limitations of historical estimates（历史数据估计的问题）"
   ]
  },
  {
   "cell_type": "markdown",
   "metadata": {},
   "source": [
    "由于regime changes（重大事件），可能会导致nonstationary data（不平稳数据），这种数据会有不同的统计条件，不能简单计算。\n",
    "\n",
    "尽管时间越长regime changes越多，但还是希望用长时间的数据，理由如下：\n",
    "- ①statistically required，统计学的需要，比如要超过一定的数据才能计算；\n",
    "- ②larger data more precise estimates，数据越多估计越精确；\n",
    "- ③asynchronous data，能够避免异步性，比如如果不用50年的月度数据，而用10年的周度数据，房价在这10年可能正好是一个上升窗口，过了10年后房价就回调了，这就产生了异步性，导致预测不准"
   ]
  },
  {
   "cell_type": "markdown",
   "metadata": {},
   "source": [
    "##### 10.1.3.4 Ex post risk as a biased risk measure of Ex Ante risk（事后来预测事前的风险）"
   ]
  },
  {
   "cell_type": "markdown",
   "metadata": {},
   "source": [
    "事后来预测事前，会underestimate risk并且overestimate return，比如现在就认为2010年买房没有风险"
   ]
  },
  {
   "cell_type": "markdown",
   "metadata": {},
   "source": [
    "##### 10.1.3.5 Biases in Analysts' Methods（分析师的错误）"
   ]
  },
  {
   "cell_type": "markdown",
   "metadata": {},
   "source": [
    "- ①Data-mining，过度挖掘寻找相关性了，可能会过拟合；\n",
    "- ②Time-period bias，那段时间的样本不能代表总体，比如次贷危机导致黄金和美元都上涨，因为市场那时有风险，又会买入美元避险，所以都上涨了。\n",
    "\n",
    "有三种方式来规避：\n",
    "- ①economic basis，分析师需要确保用这些变量来解释收益有经济基础，比如黄金和美元同时上涨就会很奇怪；\n",
    "- ②scrutinize，要反复审查，确认建模过程是否usceptbility to bias（容易产生偏差）；\n",
    "- ③out-of-sample data，再用样本以外的数据进行测试。"
   ]
  },
  {
   "cell_type": "markdown",
   "metadata": {},
   "source": [
    "##### 10.1.3.6 failure to account for conditioning information（特殊情况未考虑）"
   ]
  },
  {
   "cell_type": "markdown",
   "metadata": {},
   "source": [
    "如欧债危机"
   ]
  },
  {
   "cell_type": "markdown",
   "metadata": {},
   "source": [
    "##### 10.1.3.7 Misinterpretation of Correlations（无法捕捉非线性关系）"
   ]
  },
  {
   "cell_type": "markdown",
   "metadata": {},
   "source": [
    "需要人去investigating the underlying linkages（调查底层资产）再去计算相关性  \n",
    "有些很强的nonlinear relationship可能会被negligible（忽视）"
   ]
  },
  {
   "cell_type": "markdown",
   "metadata": {},
   "source": [
    "##### 10.1.3.8 Psychological biases（心理偏差）"
   ]
  },
  {
   "cell_type": "markdown",
   "metadata": {},
   "source": [
    "见行为金融学"
   ]
  },
  {
   "cell_type": "markdown",
   "metadata": {},
   "source": [
    "##### 10.1.3.9 Model uncertainty（模型错误）"
   ]
  },
  {
   "cell_type": "markdown",
   "metadata": {},
   "source": [
    "Model/Parameter/Input（模型、参数和输入）都可能uncertainty"
   ]
  },
  {
   "cell_type": "markdown",
   "metadata": {},
   "source": [
    "### 10.2 The Trend Rate of Growth（GDP增速趋势）"
   ]
  },
  {
   "cell_type": "markdown",
   "metadata": {},
   "source": [
    "Economic Trend（长期趋势，30-50年）和Business Cycle（经济周期，8-10年）的预测相互独立"
   ]
  },
  {
   "cell_type": "markdown",
   "metadata": {},
   "source": [
    "#### 10.2.1 Exogenous shocks（外部冲击的影响）"
   ]
  },
  {
   "cell_type": "markdown",
   "metadata": {},
   "source": [
    "中间可能会有很多shocks，这会导致数据有偏差，并且未来也无法预测shock，这些shock也会导致statistical regime"
   ]
  },
  {
   "cell_type": "markdown",
   "metadata": {},
   "source": [
    "exogenous shocks（外生冲击）可能有以下因素产生：\n",
    "- ①Changes in government policies，政策改变；\n",
    "- ②Political events，政治事件；\n",
    "- ③Technological progress，科技进步；\n",
    "- ④Natural disasters，自然灾害；\n",
    "- ⑤Discovery of natural resources，发现自然资源；\n",
    "- ⑥Financial crisis，金融危机。"
   ]
  },
  {
   "cell_type": "markdown",
   "metadata": {},
   "source": [
    "#### 10.2.2 Application of Growth Analysis to CME（宏观经济预测时几个注意点）"
   ]
  },
  {
   "cell_type": "markdown",
   "metadata": {},
   "source": [
    "- ①用DCF预测时的g（trend growth rate，趋势/永续增长率）要和GDP增长率未来趋同；\n",
    "- ②高的g会导致高的股票估值；\n",
    "- ③高的g的意思是在不发生恶性通胀的情况下高增长；\n",
    "- ④高的g会导致政府债券利率上升，债券价格下降。"
   ]
  },
  {
   "cell_type": "markdown",
   "metadata": {},
   "source": [
    "#### 10.2.3 Decomposition of GDP Growth（GDP增长的拆解）"
   ]
  },
  {
   "cell_type": "markdown",
   "metadata": {},
   "source": [
    "GDP的增长主要来自于以下四点，长期来看主要是①②③点。\n",
    "- ①labor force，劳动力；\n",
    "- ②capital inputs，资本投入；\n",
    "- ③total factor productivity（TFP，看成technology，技术进步）；\n",
    "- ④resources，资源。"
   ]
  },
  {
   "cell_type": "markdown",
   "metadata": {},
   "source": [
    "#### 10.2.4 Anchoring Assets Returns to Trend Growth（用GDP来预测资产回报）"
   ]
  },
  {
   "cell_type": "markdown",
   "metadata": {},
   "source": [
    "股票的收益应该等于股利和资本利得：$E(R) = Div.yield + \\Delta p$  \n",
    "其中，资本利得有可以拆解成三项：①GDP的增长；②公司对GDP的贡献提升；③市场的估值水平提升。  \n",
    "从而形成：$\\Delta p = \\Delta GDP + \\Delta\\frac{E}{GDP} + \\Delta P/E$  \n",
    "所以最后的股票的收益可以写为$E(R) = Div.yield +\\Delta GDP + \\Delta\\frac{E}{GDP} + \\Delta P/E$"
   ]
  },
  {
   "cell_type": "markdown",
   "metadata": {},
   "source": [
    "长期来看$\\Delta\\frac{E}{GDP}$对GDP的贡献不会一直增加，并且$\\Delta P/E$估值水平也不会一直上涨  \n",
    "所以股票的长期收益（30-50年）其实还是来自于$Div.yield +\\Delta GDP$"
   ]
  },
  {
   "cell_type": "code",
   "execution_count": null,
   "metadata": {},
   "outputs": [],
   "source": []
  }
 ],
 "metadata": {
  "kernelspec": {
   "display_name": "Python 3",
   "language": "python",
   "name": "python3"
  },
  "language_info": {
   "codemirror_mode": {
    "name": "ipython",
    "version": 3
   },
   "file_extension": ".py",
   "mimetype": "text/x-python",
   "name": "python",
   "nbconvert_exporter": "python",
   "pygments_lexer": "ipython3",
   "version": "3.7.3"
  }
 },
 "nbformat": 4,
 "nbformat_minor": 4
}
