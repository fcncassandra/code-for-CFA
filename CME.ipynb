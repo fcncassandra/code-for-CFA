{
 "cells": [
  {
   "cell_type": "markdown",
   "metadata": {},
   "source": [
    "# Capital Market Expectations"
   ]
  },
  {
   "cell_type": "markdown",
   "metadata": {},
   "source": [
    "相当于CFA3级的Economics，用top-down的方法介绍宏观经济分析，大概有1-2个case  \n",
    "其中R10是介绍宏观经济长期和周期的预测，R11是介绍各资产大类的收益预测"
   ]
  },
  {
   "cell_type": "markdown",
   "metadata": {},
   "source": [
    "[R10 Framework and Macro Considerations](#R10-Framework-and-Macro-Considerations)  \n",
    "[R11 Forecasting Asset Class Returns](#R11-Forecasting-Asset-Class-Returns)"
   ]
  },
  {
   "cell_type": "markdown",
   "metadata": {},
   "source": [
    "___"
   ]
  },
  {
   "cell_type": "markdown",
   "metadata": {},
   "source": [
    "## R10 Framework and Macro Considerations"
   ]
  },
  {
   "cell_type": "markdown",
   "metadata": {},
   "source": [
    "### 10.1 Challenges when formulating CME"
   ]
  },
  {
   "cell_type": "markdown",
   "metadata": {},
   "source": [
    "#### 10.1.1 CME的原则"
   ]
  },
  {
   "cell_type": "markdown",
   "metadata": {},
   "source": [
    "投资者制定IPS时要基于long-term的expectations，也可以基于short-term的预期进行主动投资，但是这里有两个原则：\n",
    "- ①Cross-sectional consistency，不同资产类别的收益风险一致性；\n",
    "- ②Intertemporal consistency，跨期限的一致性。  "
   ]
  },
  {
   "cell_type": "markdown",
   "metadata": {},
   "source": [
    "#### 10.1.2 CME的步骤（不考）"
   ]
  },
  {
   "cell_type": "markdown",
   "metadata": {},
   "source": [
    "- ①time horizon，时间长度；\n",
    "- ②historical record，历史数据；\n",
    "- ③methods，确定方法；\n",
    "- ④sources for information，找到方法所需的信息；\n",
    "- ⑤applying experience and judgment，把数据输入到模型，并结合经验来判断；\n",
    "- ⑥expectations needed，得到结果\n",
    "- ⑦monitor，监控，根据变化及时调整"
   ]
  },
  {
   "cell_type": "markdown",
   "metadata": {},
   "source": [
    "#### 10.1.3 Challenges in Forecasting（预测的挑战）"
   ]
  },
  {
   "cell_type": "markdown",
   "metadata": {},
   "source": [
    "##### 10.1.3.1 Limitations to using economic data（经济数据本身的短板）"
   ]
  },
  {
   "cell_type": "markdown",
   "metadata": {},
   "source": [
    "- ①time lag，经济数据有时滞，现在市场的环境可能已经改变了；\n",
    "- ②revised，数据和统计方法被频繁修正，比如美国公布3月的非农数据，4月上旬会公布initial，5月会公布revision；\n",
    "- ③data indexes rebase，基数在调整，但not substantial（不是实质问题），因为可以人为调对；"
   ]
  },
  {
   "cell_type": "markdown",
   "metadata": {},
   "source": [
    "##### 10.1.3.2 Data measurement errors and biases（计算错误）"
   ]
  },
  {
   "cell_type": "markdown",
   "metadata": {},
   "source": [
    "- ①Transcriptions errors，录入错误；\n",
    "- ②Survivorship bias，幸存者偏差，可能会高估收益；\n",
    "- ③Appraisal data，对流动性较差的数据估值虽然可以让收益smoother（平滑），但是会downward（低估）风险，比如房地产数据1季度公布一次，两点间的波动就被忽略了"
   ]
  },
  {
   "cell_type": "markdown",
   "metadata": {},
   "source": [
    "##### 10.1.3.3 Limitations of historical estimates（历史数据估计的问题）"
   ]
  },
  {
   "cell_type": "markdown",
   "metadata": {},
   "source": [
    "由于regime changes（重大事件），可能会导致nonstationary data（不平稳数据），这种数据会有不同的统计条件，不能简单计算。\n",
    "\n",
    "尽管时间越长regime changes越多，但还是希望用长时间的数据，理由如下：\n",
    "- ①statistically required，统计学的需要，比如要超过一定的数据才能计算；\n",
    "- ②larger data more precise estimates，数据越多估计越精确；\n",
    "- ③asynchronous data，能够避免异步性，比如如果不用50年的月度数据，而用10年的周度数据，房价在这10年可能正好是一个上升窗口，过了10年后房价就回调了，这就产生了异步性，导致预测不准"
   ]
  },
  {
   "cell_type": "markdown",
   "metadata": {},
   "source": [
    "##### 10.1.3.4 Ex post risk as a biased risk measure of Ex Ante risk（事后来预测事前的风险）"
   ]
  },
  {
   "cell_type": "markdown",
   "metadata": {},
   "source": [
    "事后来预测事前，会underestimate risk并且overestimate return，比如现在就认为2010年买房没有风险"
   ]
  },
  {
   "cell_type": "markdown",
   "metadata": {},
   "source": [
    "##### 10.1.3.5 Biases in Analysts' Methods（分析师的错误）"
   ]
  },
  {
   "cell_type": "markdown",
   "metadata": {},
   "source": [
    "- ①Data-mining，过度挖掘寻找相关性了，可能会过拟合；\n",
    "- ②Time-period bias，那段时间的样本不能代表总体，比如次贷危机导致黄金和美元都上涨，因为市场那时有风险，又会买入美元避险，所以都上涨了。\n",
    "\n",
    "有三种方式来规避：\n",
    "- ①economic basis，分析师需要确保用这些变量来解释收益有经济基础，比如黄金和美元同时上涨就会很奇怪；\n",
    "- ②scrutinize，要反复审查，确认建模过程是否usceptbility to bias（容易产生偏差）；\n",
    "- ③out-of-sample data，再用样本以外的数据进行测试。"
   ]
  },
  {
   "cell_type": "markdown",
   "metadata": {},
   "source": [
    "##### 10.1.3.6 failure to account for conditioning information（特殊情况未考虑）"
   ]
  },
  {
   "cell_type": "markdown",
   "metadata": {},
   "source": [
    "如欧债危机"
   ]
  },
  {
   "cell_type": "markdown",
   "metadata": {},
   "source": [
    "##### 10.1.3.7 Misinterpretation of Correlations（无法捕捉非线性关系）"
   ]
  },
  {
   "cell_type": "markdown",
   "metadata": {},
   "source": [
    "需要人去investigating the underlying linkages（调查底层资产）再去计算相关性  \n",
    "有些很强的nonlinear relationship可能会被negligible（忽视）"
   ]
  },
  {
   "cell_type": "markdown",
   "metadata": {},
   "source": [
    "##### 10.1.3.8 Psychological biases（心理偏差）"
   ]
  },
  {
   "cell_type": "markdown",
   "metadata": {},
   "source": [
    "见行为金融学"
   ]
  },
  {
   "cell_type": "markdown",
   "metadata": {},
   "source": [
    "##### 10.1.3.9 Model uncertainty（模型错误）"
   ]
  },
  {
   "cell_type": "markdown",
   "metadata": {},
   "source": [
    "Model/Parameter/Input（模型、参数和输入）都可能uncertainty"
   ]
  },
  {
   "cell_type": "markdown",
   "metadata": {},
   "source": [
    "### 10.2 The Trend Rate of Growth（GDP增速趋势）"
   ]
  },
  {
   "cell_type": "markdown",
   "metadata": {},
   "source": [
    "Economic Trend（长期趋势，30-50年）和Business Cycle（经济周期，8-10年）的预测相互独立"
   ]
  },
  {
   "cell_type": "markdown",
   "metadata": {},
   "source": [
    "#### 10.2.1 Exogenous shocks（外部冲击的影响）"
   ]
  },
  {
   "cell_type": "markdown",
   "metadata": {},
   "source": [
    "中间可能会有很多shocks，这会导致数据有偏差，并且未来也无法预测shock，这些shock也会导致statistical regime"
   ]
  },
  {
   "cell_type": "markdown",
   "metadata": {},
   "source": [
    "exogenous shocks（外生冲击）可能有以下因素产生：\n",
    "- ①Changes in government policies，政策改变；\n",
    "- ②Political events，政治事件；\n",
    "- ③Technological progress，科技进步；\n",
    "- ④Natural disasters，自然灾害；\n",
    "- ⑤Discovery of natural resources，发现自然资源；\n",
    "- ⑥Financial crisis，金融危机。"
   ]
  },
  {
   "cell_type": "markdown",
   "metadata": {},
   "source": [
    "#### 10.2.2 Application of Growth Analysis to CME（宏观经济预测时几个注意点）"
   ]
  },
  {
   "cell_type": "markdown",
   "metadata": {},
   "source": [
    "- ①用DCF预测时的g（trend growth rate，趋势/永续增长率）要和GDP增长率未来趋同；\n",
    "- ②高的g会导致高的股票估值；\n",
    "- ③高的g的意思是在不发生恶性通胀的情况下高增长；\n",
    "- ④高的g会导致政府债券利率上升，债券价格下降。"
   ]
  },
  {
   "cell_type": "markdown",
   "metadata": {},
   "source": [
    "#### 10.2.3 Decomposition of GDP Growth（GDP增长的拆解）"
   ]
  },
  {
   "cell_type": "markdown",
   "metadata": {},
   "source": [
    "GDP的增长主要来自于以下四点，长期来看主要是①②③点。\n",
    "- ①labor force，劳动力；\n",
    "- ②capital inputs，资本投入；\n",
    "- ③total factor productivity（TFP，看成technology，技术进步）；\n",
    "- ④resources，资源。"
   ]
  },
  {
   "cell_type": "markdown",
   "metadata": {},
   "source": [
    "#### 10.2.4 Anchoring Assets Returns to Trend Growth（用GDP来预测资产回报）"
   ]
  },
  {
   "cell_type": "markdown",
   "metadata": {},
   "source": [
    "股票的收益应该等于股利和资本利得：$E(R) = Div.yield + \\Delta p$  \n",
    "其中，资本利得有可以拆解成三项：①GDP的增长；②公司对GDP的贡献提升；③市场的估值水平提升。  \n",
    "从而形成：$\\Delta p = \\Delta GDP + \\Delta\\frac{E}{GDP} + \\Delta P/E$  \n",
    "所以最后的股票的收益可以写为$E(R) = Div.yield +\\Delta GDP + \\Delta\\frac{E}{GDP} + \\Delta P/E$"
   ]
  },
  {
   "cell_type": "markdown",
   "metadata": {},
   "source": [
    "长期来看$\\Delta\\frac{E}{GDP}$对GDP的贡献不会一直增加，并且$\\Delta P/E$估值水平也不会一直上涨  \n",
    "所以股票的长期收益（30-50年）其实还是来自于$Div.yield +\\Delta GDP$"
   ]
  },
  {
   "cell_type": "markdown",
   "metadata": {},
   "source": [
    "### 10.3 Approaches to Economic Forecasting（宏观经济预测方法）"
   ]
  },
  {
   "cell_type": "markdown",
   "metadata": {},
   "source": [
    "#### 10.3.1 Econometric analysis（计量分析法）"
   ]
  },
  {
   "cell_type": "markdown",
   "metadata": {},
   "source": [
    "有两个常用模型：\n",
    "- ①Structural models（可以看成empirical model，经验模型）；\n",
    "- ②Reduced-form models（可以看成线性回归模型）"
   ]
  },
  {
   "cell_type": "markdown",
   "metadata": {},
   "source": [
    "优点是：\n",
    "- ①模型考虑了很多variables（变量）；\n",
    "- ②一旦建立好可以reused（反复使用）；\n",
    "- ③quantified（量化）结果很精确。"
   ]
  },
  {
   "cell_type": "markdown",
   "metadata": {},
   "source": [
    "缺点是：\n",
    "- ①complex，模型建立很复杂；\n",
    "- ②relationship change，历史无法预测将来会改变的关系；\n",
    "- ③unrealistic，可能没有现实意义；（要有economic basis）；\n",
    "- ④not work to turning points，不能预测转折点。"
   ]
  },
  {
   "cell_type": "markdown",
   "metadata": {},
   "source": [
    "#### 10.3.2 Economic Indicators（经济指标法）"
   ]
  },
  {
   "cell_type": "markdown",
   "metadata": {},
   "source": [
    "有三类经济指标：\n",
    "- ①leading indicators，先行指标，如M2、平均工作时间、工业/社会发用电量、裁员数、工商业订单、住宅开发/土地拍卖火热度、住宅销售情况、贷款利差；\n",
    "- ②coincident，同步指标，如GDP、工业总产值、社会商品零售额、失业率、收入；\n",
    "- ③lagging，滞后指标，如CPI、失业时间、库存周转率、银行坏账率。"
   ]
  },
  {
   "cell_type": "markdown",
   "metadata": {},
   "source": [
    "优点是：\n",
    "- ①easy to interpret，比较好理解；\n",
    "- ②available from third parities，第三方好获得；\n",
    "- ③can be tailored，可以定制；"
   ]
  },
  {
   "cell_type": "markdown",
   "metadata": {},
   "source": [
    "缺点是：\n",
    "- ①inconsistent，不同指标得出的结论可能不一致；\n",
    "- ②false signals，可能给出错误的信号；\n",
    "- ③revised frequently，可能修正比较频繁。"
   ]
  },
  {
   "cell_type": "markdown",
   "metadata": {},
   "source": [
    "#### 10.3.3 Checklist approach（调查问卷法）"
   ]
  },
  {
   "cell_type": "markdown",
   "metadata": {},
   "source": [
    "不考  \n",
    "优点：\n",
    "- ①less complex，简单；\n",
    "- ②flexible，灵活；"
   ]
  },
  {
   "cell_type": "markdown",
   "metadata": {},
   "source": [
    "缺点：\n",
    "- ①subjective，主观；\n",
    "- ②time-consuming，耗时；\n",
    "- ③limited due to manual process，人工操作会受限。"
   ]
  },
  {
   "cell_type": "markdown",
   "metadata": {},
   "source": [
    "### 10.4 Business Cycle Analysis（经济周期分析，8-10年）"
   ]
  },
  {
   "cell_type": "markdown",
   "metadata": {},
   "source": [
    "#### 10.4.1 Base Concept（基本概念）"
   ]
  },
  {
   "cell_type": "markdown",
   "metadata": {},
   "source": [
    "为什么会有经济周期：为了资源配置效率最大化，但是信息有时滞，大量资本被配置到见顶资产，泡沫破灭。  \n",
    "Decision makers allocate resources to what they believe are their highest valued uses, but can only do so with imperfect information.  \n",
    "Adjustments to unexpected events take time to implement and reversing incorrect decisions can be costly."
   ]
  },
  {
   "cell_type": "markdown",
   "metadata": {},
   "source": [
    "还有其他三点要注意：\n",
    "- ①经济周期是预测趋势，但是turning points还是比较难预测的；\n",
    "- ②资产价格的上涨既可能是Business Cycle（短期）处于上升期，也有可能是Economic Growth（长期）向好；\n",
    "- ③经济周期研究的是实体经济，资本市场的表现可能和实体经济背离，需要区别开。"
   ]
  },
  {
   "cell_type": "markdown",
   "metadata": {},
   "source": [
    "#### 10.4.2 Business Cycle Phase（经济周期阶段）"
   ]
  },
  {
   "cell_type": "markdown",
   "metadata": {},
   "source": [
    "建议持续时间、outputgap单独记忆，然后interest rate和bond yields是同步变化的，inflating会比利率滞后一个阶段，economic policy、business confident和stock prices也是同步变化的，总体来看利率又比股价滞后一个阶段。"
   ]
  },
  {
   "cell_type": "markdown",
   "metadata": {},
   "source": [
    "其中有output gap概念补充一下：  \n",
    "output gap = actual GDP - potential GDP  \n",
    "其中actual是实际的GDP情况，而potential是潜理论上资源不浪费的最优配置的GDP  \n",
    "所以gap一般都是小于0的，gap越大意味着经济越不好"
   ]
  },
  {
   "cell_type": "markdown",
   "metadata": {},
   "source": [
    "|                              | initial recovery<br />复苏期                                 | early expansion<br />增长期              | late expansinon<br />见顶期        | slowdown<br />衰退期                       | contraction<br />萧条期                |\n",
    "| ---------------------------- | ------------------------------------------------------------ | ---------------------------------------- | ---------------------------------- | ------------------------------------------ | -------------------------------------- |\n",
    "| duration<br />持续时间       | few months<br />短期                                         | several years<br />很长                  | 比较短应该                         | a year<br />中短                           | 12m-18m<br />中长                      |\n",
    "| output gap                   | large                                                        | narrowing                                | eliminated（=0）                   | 有                                         | 有                                     |\n",
    "| inflation<br />通胀          | falling<br />因为是滞后指标                                  | low<br />物价开始上涨                    | increasing<br />物价不断上涨       | still rising<br />物价持续走高，因为滞后   | topping out<br />见顶回落              |\n",
    "| interestr rate<br />利率情况 | low / falling ST<br />宽松的货币政策                         | rising ST<br />rising/bottoming LT <br />政策适当收紧              | rising ST<br />政策继续收紧        | peak ST<br />利率达到峰值                  | falling ST<br />开始宽松               |\n",
    "| bond yields                  | bottoming out<br />底部回升                                  | stable / rising<br />y上升，债券价格下降 | rising<br />y持续上升              | peaking<br />达到顶峰，债券价格开始上升    | falling<br />y下降，债券价格开始上升       |\n",
    "| economic policy              | stimulative                                                  | less stimulative                         | restrictive                        | less restrictive                           | easing                                 |\n",
    "| businness confident          | rising                                                       | rising                                   | high                               | declining                                  | declining                              |\n",
    "| stock prices                 | rising                                                       | rising                                   | rising / peaking<br />波动率也上升 | falling                                    | increasing later<br />小部分投资者买入 |\n",
    "| 其他                         | 宽松货币和财政政策导致赤字扩大<br /><br />周期性、小盘股、高收益债券表现很好 |                                          | 央行开始控制货币供给               | 可能出现inverting yield curve，因为ST > LT |                                        |"
   ]
  },
  {
   "cell_type": "markdown",
   "metadata": {},
   "source": [
    "#### 10.4.3 Inflation"
   ]
  },
  {
   "cell_type": "markdown",
   "metadata": {},
   "source": [
    "##### 10.4.3.1 Classification and Drawbacks of Deflation（分类和通缩缺点）"
   ]
  },
  {
   "cell_type": "markdown",
   "metadata": {},
   "source": [
    "通胀分为三类：\n",
    "- ①inflation，正常的通胀，比如CPI从100上升到105；  \n",
    "- ②disinflation，反向通胀，物价上升但是CPI增速下降，比如从5%下降到3%；\n",
    "- ③deflation，通缩，CPI开始下降。\n",
    "\n",
    "通缩的后果更加严重，因为会导致债务违约（资产价格下降，借款人违约）  \n",
    "通胀更好治理，只要提升利率就可以了，但是通缩要用更激进的QE（Quantitative easing）"
   ]
  },
  {
   "cell_type": "markdown",
   "metadata": {},
   "source": [
    "##### 10.4.3.2 Inflation Expectations（通胀的预期影响）"
   ]
  },
  {
   "cell_type": "markdown",
   "metadata": {},
   "source": [
    "|                  | within expectations                                          | above/below expectations                                     | deflation                            |\n",
    "| ---------------- | ------------------------------------------------------------ | ------------------------------------------------------------ | ------------------------------------ |\n",
    "| cash equivalents | earn the real rate of interest<br />只能拿到剔除通胀的低收益 | negative/positive<br />负向或正向的影响                      | positive <br />钱更值钱              |\n",
    "| bonds            | yield中的ST波动率大于ST<br />因为短期的投资活动更多          | yields中的LT波动率大于ST<br />因为央行有政策出台，短期投资活动下降，长期波动性上升 | positve<br />债券价格上升negative    |\n",
    "| equity           | no impact<br />正常的通胀正常                                | negative impact<br />股价会下降，因为风险厌恶                | negative<br />股价下降，因为经济衰退 |\n",
    "| real estate      | neutral impact<br />抗通胀                                   | positive impact<br />影响正向，抗通胀                      | negative<br />房价下跌               |"
   ]
  },
  {
   "cell_type": "markdown",
   "metadata": {},
   "source": [
    "### 10.5 Monetary and Fiscal Policy"
   ]
  },
  {
   "cell_type": "markdown",
   "metadata": {},
   "source": [
    "#### 10.5.1 Monetary Policy"
   ]
  },
  {
   "cell_type": "markdown",
   "metadata": {},
   "source": [
    "##### 10.5.1.1 Neutral Rate（均衡利率）"
   ]
  },
  {
   "cell_type": "markdown",
   "metadata": {},
   "source": [
    "neutral rate是央行在追求的均衡利率，本质上是均衡资金价格，一般认为其是由通胀和真实GDP增长率组成"
   ]
  },
  {
   "cell_type": "markdown",
   "metadata": {},
   "source": [
    "但是在经济不正常的时候，目标利率可能和真实利率偏离，这个时候就需要进行调整"
   ]
  },
  {
   "cell_type": "markdown",
   "metadata": {},
   "source": [
    "使用Taylor rule（泰勒公式）进行定义：$i^* = r_{neutral} + \\pi_e + 0.5(\\hat y_e - \\hat y_{trend}) + 0.5(\\pi_e - \\pi_{target})$，其中：\n",
    "- ①$i^*$是target nominal policy rate（政策的目标利率）；\n",
    "- ②$r_{neutral} + \\pi_e$是名义目标利率，只在有效市场时最优，现实不是最优；\n",
    "- ③$0.5(\\hat y_e - \\hat y_{trend})$是经济短期增速-长期，如果大于0则证明经济过于繁荣，需要提升目标利率来调整；\n",
    "- ④$0.5(\\pi_e - \\pi_{target})$是预期的通胀率-目标的通胀率，如果大于0则证明物价过高，需要提升目标利率来调整。"
   ]
  },
  {
   "cell_type": "markdown",
   "metadata": {},
   "source": [
    "将$\\pi_e$移动到左边形成$i^* - \\pi_e$，这个又称real inflation-adjusted target rate（通胀调整后的实际目标利率）"
   ]
  },
  {
   "cell_type": "markdown",
   "metadata": {},
   "source": [
    "##### 10.5.1.2 Negative Interest Rates（负利率影响估值）"
   ]
  },
  {
   "cell_type": "markdown",
   "metadata": {},
   "source": [
    "- ①负利率不可能维持很长时间，所以不要用来估值，这个时候可以用泰格公式来计算利率价格，但是计算的结果可能not fully risk free（有少量的风险溢价），可以移除；\n",
    "- ②可以先计算long-run sustainable（长期可持续）的无风险利率，然后每年调整负利率让其向长期利率coverage to（不断靠近）；\n",
    "- ③也可以用这个来估值，因为央行也会用激进的手段调整，但是基于历史数据来算也会导致没有什么可比的数据。"
   ]
  },
  {
   "cell_type": "markdown",
   "metadata": {},
   "source": [
    "#### 10.5.2 Fiscal Policy"
   ]
  },
  {
   "cell_type": "markdown",
   "metadata": {},
   "source": [
    "政府要刺激经济，就会decresing taxes和incrising spending，这样就会带来budget deficit。  \n",
    "看财政赤字不要看绝对值，而是看change in deficit才知道现在是宽松还是紧缩的财政政策。  \n",
    "此外财政赤字可能也和business cycle有关，不一定就是政府改变了财政赤字，比如经济好的时候企业的收入好，政府的赤字就低"
   ]
  },
  {
   "cell_type": "markdown",
   "metadata": {},
   "source": [
    "#### 10.5.3 Monetary and Fiscal Mix"
   ]
  },
  {
   "cell_type": "markdown",
   "metadata": {},
   "source": [
    "货币政策影响短期的利率，以及通胀率；财政政策影响长期的利率，因为金额大频率小。下表中所有的rates都是指长期的利率。  \n",
    "其中宽松的财政政策因为国家公共开支增加，为了弥补财政赤字所以政府要发长期债来融资，长期债利率上升。  "
   ]
  },
  {
   "cell_type": "markdown",
   "metadata": {},
   "source": [
    "![](./pics/CME/policy_mix.png)"
   ]
  },
  {
   "cell_type": "markdown",
   "metadata": {},
   "source": [
    "因此也会影响yield curve：\n",
    "- ①财宽货宽（both stimulative）：steeper；\n",
    "- ②财紧货紧（both restrictive）：flat，**甚至inverted（倒挂）**；\n",
    "- ③财宽货紧：整体下移，由于短的降的比长期多，所以会更steep；\n",
    "- ④财紧货宽：整体上移，由于短的涨的比长期多，所以会更flat。"
   ]
  },
  {
   "cell_type": "markdown",
   "metadata": {},
   "source": [
    "#### 10.5.4 International Considerations（国际考虑）"
   ]
  },
  {
   "cell_type": "markdown",
   "metadata": {},
   "source": [
    "宏观经济还和国际市场相关：International Trade（国际贸易）；International Capital Flows（国际资本）。  "
   ]
  },
  {
   "cell_type": "markdown",
   "metadata": {},
   "source": [
    "对贸易：net exports（净出口） = net privave saving + government surplus （X-M = S-I + T-G）\n",
    "\n",
    "I + G + M = S + T + X  \n",
    "X - M = S - I + T - G"
   ]
  },
  {
   "cell_type": "markdown",
   "metadata": {},
   "source": [
    "对资本：小国的经济要unilateral pegs（单方面钉住）大国的货币，小国的经济周期和政策会受到美国的影响，所以bussiness linkage会增加"
   ]
  },
  {
   "cell_type": "markdown",
   "metadata": {},
   "source": [
    "如果不采取钉住汇率制，利率会有以下影响：\n",
    "- ①如果国家货币被高估，则为了补偿风险利率会上升，吸引资本流入；\n",
    "- ②经济如果更好，投融资活动增加，利率上升；\n",
    "- ③储蓄和投资也对利率有影响。"
   ]
  },
  {
   "cell_type": "markdown",
   "metadata": {},
   "source": [
    "___"
   ]
  },
  {
   "cell_type": "markdown",
   "metadata": {},
   "source": [
    "## R11 Forecasting Asset Class Returns"
   ]
  },
  {
   "cell_type": "markdown",
   "metadata": {},
   "source": [
    "Forecasting CME有3种方法：\n",
    "- ①Formal tools（理论支撑的工具），包含Statistical methods、DCF models和Risk premium approaches（CAPM）；\n",
    "- ②surveys，调查问卷；\n",
    "- ③Judgement，主观判断。"
   ]
  },
  {
   "cell_type": "markdown",
   "metadata": {},
   "source": [
    "### 11.1 Forecasting Fixed Income Returns"
   ]
  },
  {
   "cell_type": "markdown",
   "metadata": {},
   "source": [
    "DCF和RP两种方法，以及新兴市场"
   ]
  },
  {
   "cell_type": "markdown",
   "metadata": {},
   "source": [
    "#### 11.1.1 DCF Method"
   ]
  },
  {
   "cell_type": "markdown",
   "metadata": {},
   "source": [
    "假设：①reinvseted at the YTM（中间收益以YTM再投资）；②held to maturity（持有至到期）。"
   ]
  },
  {
   "cell_type": "markdown",
   "metadata": {},
   "source": [
    "债券的收益来自于coupon、△principal、reinvestment，所以其中会有2个风险，：\n",
    "- ①sell prior to maturity，提前卖会受到利率波动的影响，用Macaulay duration来计量；\n",
    "- ②reinvestment returns，再投资风险受到投资期限的影响，用Investment horizon来计量。"
   ]
  },
  {
   "cell_type": "markdown",
   "metadata": {},
   "source": [
    "#### 11.1.2 Risk Premium（building block 方块累加）Approach"
   ]
  },
  {
   "cell_type": "markdown",
   "metadata": {},
   "source": [
    "由四部分组成：default-free rate，term premium，credit premium，liquidity premium"
   ]
  },
  {
   "cell_type": "markdown",
   "metadata": {},
   "source": [
    "##### 11.1.2.1 Default-free Rate"
   ]
  },
  {
   "cell_type": "markdown",
   "metadata": {},
   "source": [
    "短期无风险利率一般从流动性最强的工具中计算得出，一般用government zero-coupon yield  \n",
    "长期无风险利率的话，因为美国国债只有10个期限，所以可以用Future contract rate（国债期货利率）来代替"
   ]
  },
  {
   "cell_type": "markdown",
   "metadata": {},
   "source": [
    "##### 11.1.2.2 Term Premium（期限溢价）"
   ]
  },
  {
   "cell_type": "markdown",
   "metadata": {},
   "source": [
    "期限溢价主要受到4个因素的影响：\n",
    "- ①期限溢价和duration正相关；\n",
    "- ②高通胀也会提升期限溢价，细分来看，strong aggregate demand（需求拉动型）通胀对期限溢价的影响小于strong aggregate supply（供给推动型）的通胀；\n",
    "- ③supply and demand，供需的波动；\n",
    "- ④business cycle，经济周期的变动比较大"
   ]
  },
  {
   "cell_type": "markdown",
   "metadata": {},
   "source": [
    "##### 11.1.2.3 Credit Premium（信用风险溢价）"
   ]
  },
  {
   "cell_type": "markdown",
   "metadata": {},
   "source": [
    "信用风险溢价主要受到3个因素的影响：\n",
    "- ①定性用信用评级来看；\n",
    "- ②定量用expected losses来看；\n",
    "- ③也可以用yield spread的变化来看。"
   ]
  },
  {
   "cell_type": "markdown",
   "metadata": {},
   "source": [
    "##### 11.1.2.4 Liquidity Premium（流动性溢价）"
   ]
  },
  {
   "cell_type": "markdown",
   "metadata": {},
   "source": [
    "流动性溢价主要受到6个因素的影响：\n",
    "- ①issued at close to par or market rate，发行价接近面值（平价）更好；\n",
    "- ②new，新发行的更好；\n",
    "- ③frequent and well-known，经常发并且名气大的更好；\n",
    "- ④large in size，规模越大越好；\n",
    "- ⑤simple in structure，结构简单好；\n",
    "- ⑥high credit quality，信用质量高。"
   ]
  },
  {
   "cell_type": "markdown",
   "metadata": {},
   "source": [
    "#### 11.1.3 Emerging Market Bond Risk"
   ]
  },
  {
   "cell_type": "markdown",
   "metadata": {},
   "source": [
    "不是很重要，基本就是说教育科技水平不行、资本管制、央行水平低、政府借外债财政赤字、金融市场不发达，还有cyclical industries dominate（周期性行业多）"
   ]
  },
  {
   "cell_type": "markdown",
   "metadata": {},
   "source": [
    "有5个比率需要注意，新兴市场经常有问题：\n",
    "- ①deficit-to-GDP：赤字/GDP > 4%可能有substantial credit resk；\n",
    "- ②debt-to-GDP：债务/GDP，如果超过70%-80%就有问题；\n",
    "- ③current account deficit：经常账户如果赤字超过GDP的4%也要注意。  \n",
    "- ④foreign debt：外债如果超过GDP50%可能杠杆用的多了；\n",
    "- ⑤foreign exchange reserves：外汇储备/短期债务<100%，也要问题。\n",
    "此外还有structual reforms、property rights、privatization of stated-own：改革开放、产权保护、私有化都是好事。"
   ]
  },
  {
   "cell_type": "markdown",
   "metadata": {},
   "source": [
    "### 11.2 Forecasting Equity Returns（股票收益率计算）"
   ]
  },
  {
   "cell_type": "markdown",
   "metadata": {},
   "source": [
    "#### 11.2.1 DCF Models"
   ]
  },
  {
   "cell_type": "markdown",
   "metadata": {},
   "source": [
    "传统的GGM模型可以推出股票价格为：$P_0 = \\frac{D_1}{r-g}$   \n",
    "进而我们可以推出股票的收益率 => $r = \\frac{D_1}{P_0} + g$，可以看成为股利和股价组成了股票的收益"
   ]
  },
  {
   "cell_type": "markdown",
   "metadata": {},
   "source": [
    "而GK（Grinold and Kroner）model更进一步，增加了股票回购和市场估值水平：  \n",
    "$E(R_e) = \\frac{D}{P} + (\\%\\Delta E - \\%\\Delta S) + \\%\\Delta P/E$"
   ]
  },
  {
   "cell_type": "markdown",
   "metadata": {},
   "source": [
    "下面①就是股利收益，②+③是资本利得的收益：\n",
    "- ①expected cash flow returns（income return，修正后的股利收益率）为股利-回购：$\\frac{D}{P} - \\%\\Delta S$\n",
    "- ②expected nominal earnings growht（业绩增长）和GGM的g一样，还是$\\%\\Delta E$\n",
    "- ③expected repricing return（估值水平）带来的收益提升就是$\\%\\Delta P/E$"
   ]
  },
  {
   "cell_type": "markdown",
   "metadata": {},
   "source": [
    "GK模型的缺点是：infinite time horizon（假设股票永远持有），优点是：pulished statistical data（数据公开可得）"
   ]
  },
  {
   "cell_type": "markdown",
   "metadata": {},
   "source": [
    "#### 11.2.2 Risk Premium Approach"
   ]
  },
  {
   "cell_type": "markdown",
   "metadata": {},
   "source": [
    "CAPM模型：$r_e = r_f + \\beta (r_M - r_f)$ 考虑风险溢价将$r_f$左移=> $RP_i = \\beta_{i,M} * RP_M$"
   ]
  },
  {
   "cell_type": "markdown",
   "metadata": {},
   "source": [
    "而ST（Singer-Terhaar）模型更进一步，考虑了全球资本市场配置的问题"
   ]
  },
  {
   "cell_type": "markdown",
   "metadata": {},
   "source": [
    "##### 11.2.2.1 Intergrated Market（统一市场）"
   ]
  },
  {
   "cell_type": "markdown",
   "metadata": {},
   "source": [
    "对于统一市场，因为有能力做资本市场配置，所以可以进行公式推导：  \n",
    "由于投资国内市场时，$\\beta$表示个股和大盘的系统性风险相关度：$\\beta_{i,M} = \\frac{Cov(R_i, R_M)}{Var(RM)} = \\rho_{i,M}\\frac{\\sigma_i}{\\sigma_M}$  \n",
    "所以如果投资全球市场，G表示global，$RP^{GM}_i = \\beta_{i,GM}RP_{GM} = \\rho_{i,GM} * \\sigma_i * (\\frac{RP_{GM}}{\\sigma_{GM}})$\n",
    "可以将$\\frac{RP_{GM}}{\\sigma_{GM}}$看成sharp ratio，所以最后就推出：  "
   ]
  },
  {
   "cell_type": "markdown",
   "metadata": {},
   "source": [
    "$RP^{GM}_i = \\rho_{i,GM} * \\sigma_i * Sharp Ratio$"
   ]
  },
  {
   "cell_type": "markdown",
   "metadata": {},
   "source": [
    "##### 11.2.2.2 Segmental Market（封闭市场）"
   ]
  },
  {
   "cell_type": "markdown",
   "metadata": {},
   "source": [
    "封闭市场在综合市场的基础上，考虑到相关性很强，所以$\\rho = 1$，进一步推出："
   ]
  },
  {
   "cell_type": "markdown",
   "metadata": {},
   "source": [
    "$RP^{SM}_i = 1 * \\sigma_i * Sharp Ratio$"
   ]
  },
  {
   "cell_type": "markdown",
   "metadata": {},
   "source": [
    "##### 11.2.2.3 ST model "
   ]
  },
  {
   "cell_type": "markdown",
   "metadata": {},
   "source": [
    "因为不可能市场全开放也不可能全封闭，所以可以综合得到："
   ]
  },
  {
   "cell_type": "markdown",
   "metadata": {},
   "source": [
    "$RP_i = \\varphi * RP^{GM}_i + (1 - \\varphi)*RP^{SM}_i$"
   ]
  },
  {
   "cell_type": "markdown",
   "metadata": {},
   "source": [
    "其中$\\varphi$就表示统一市场的开放程度"
   ]
  },
  {
   "cell_type": "markdown",
   "metadata": {},
   "source": [
    "#### 11.2.3 Risk in Emerging Market Equities"
   ]
  },
  {
   "cell_type": "markdown",
   "metadata": {},
   "source": [
    "发展中国家公司治理水平低、会计准则不健全、信息披露要求弱、立法执行弱"
   ]
  },
  {
   "cell_type": "markdown",
   "metadata": {},
   "source": [
    "### 11.3 Forecasting Real Estate Returns"
   ]
  },
  {
   "cell_type": "markdown",
   "metadata": {},
   "source": [
    "房地产有immobile、illiquid等特性，并且每个房子都有一定程度的heterogeneous（异质性）  \n",
    "计算其收益经常使用appraisals（评估法），但是这个有时滞并且会在平滑收益的同时低估波动率"
   ]
  },
  {
   "cell_type": "markdown",
   "metadata": {},
   "source": [
    "房地产周期：High quality（豪宅）更不容易受经济波动影响，而low quality会有更多的cyclicality。  \n",
    "房地产也推动经济周期：Boom时期需求上升=>建造房屋=>GDP进一步上升；Bust时期需求下降=>产能过程=>拿不出资金GDP下降。"
   ]
  },
  {
   "cell_type": "markdown",
   "metadata": {},
   "source": [
    "#### 11.3.1 NOI Method"
   ]
  },
  {
   "cell_type": "markdown",
   "metadata": {},
   "source": [
    "NOI(net operating income)，用房地产出租的净收益来做DCF：$V_0 = \\frac{NOI_1}{r-g}$   \n",
    "所以假设前提也是投资者永远持有这个房子，其中${NOI / V}$可以看成cap rate（资本回报率），进一步得到：  \n",
    "$E(R_{re}) = cap－rate + NOI－growth－rate $"
   ]
  },
  {
   "cell_type": "markdown",
   "metadata": {},
   "source": [
    "如果是提前卖出，则会有资本的损失：  \n",
    "$E(R_{re}) = cap－rate + NOI－growth－rate - \\%\\Delta cap－rate$"
   ]
  },
  {
   "cell_type": "markdown",
   "metadata": {},
   "source": [
    "cap rate会受到利率和信贷的影响：  \n",
    "- ①利率正相关：利率上升，可以看成房价下降，cap rate上升；\n",
    "- ②信贷负相关：信贷好=>买房人上升=>估值上升=>cap rate下降。"
   ]
  },
  {
   "cell_type": "markdown",
   "metadata": {},
   "source": [
    "#### 11.3.2 Risk Premium"
   ]
  },
  {
   "cell_type": "markdown",
   "metadata": {},
   "source": [
    "这里没有具体的公式了，而是有4个溢价：\n",
    "- ①Term premium，时间溢价；\n",
    "- ②Credit premium，租金可能违约；\n",
    "- ③Equity risk premium：房价变动的风险；\n",
    "- ④liquidity premium：估值有smoothing的情况。"
   ]
  },
  {
   "cell_type": "markdown",
   "metadata": {},
   "source": [
    "#### 11.3.3 REITs"
   ]
  },
  {
   "cell_type": "markdown",
   "metadata": {},
   "source": [
    "**分散化**：机构投资者资金多可以做好分散化，普通投资者则可以投资于REITs  "
   ]
  },
  {
   "cell_type": "markdown",
   "metadata": {},
   "source": [
    "**相关性：**REITs短期和股票市场相关（都是二级），并且由于数据每天都有，和房地产数据口径不一致，所以和房地产市场影响不大；但是长期还是和房地产高度相关。"
   ]
  },
  {
   "cell_type": "markdown",
   "metadata": {},
   "source": [
    "**杠杆性：**REITs本身就有significant leverage，剔除杠杆后和直接投资房地产比收益率会更高，波动率会更低。"
   ]
  },
  {
   "cell_type": "markdown",
   "metadata": {},
   "source": [
    "REITs在美国有75%投Residential（住宅），中国2021年6月21日有公募REITs，但是只能投工业地产"
   ]
  },
  {
   "cell_type": "markdown",
   "metadata": {},
   "source": [
    "### 11.4 Forecasting Exchange Rate"
   ]
  },
  {
   "cell_type": "markdown",
   "metadata": {},
   "source": [
    "汇率波动难以预测，所以只能：①fully hedged；②accept volatility。"
   ]
  },
  {
   "cell_type": "markdown",
   "metadata": {},
   "source": [
    "**影响因素**：①Trade flows，贸易影响；②PPP，购买力平价；③Current account，经常账户不平衡导致汇率波动加剧。"
   ]
  },
  {
   "cell_type": "markdown",
   "metadata": {},
   "source": [
    "**其他因素：**还有4个小因素能让货币升值：\n",
    "- ①hot money，境外短期热钱流入；\n",
    "- ②home country bias，投资者喜欢买本币资产；\n",
    "- ③productivity gains，本国生产力提升，本币升值；\n",
    "- ④high trend rates to smaller markets，小国升值更快。"
   ]
  },
  {
   "cell_type": "markdown",
   "metadata": {},
   "source": [
    "汇率不能用DCF来估值，只能用RP方法"
   ]
  },
  {
   "cell_type": "markdown",
   "metadata": {},
   "source": [
    "#### 11.4.1 Capital Mobility（RP Method）"
   ]
  },
  {
   "cell_type": "markdown",
   "metadata": {},
   "source": [
    "用两个国家货币的无风险利率加上Term、Credit、Equity和Liquid四个风险溢价，和房地产的RP一样"
   ]
  },
  {
   "cell_type": "markdown",
   "metadata": {},
   "source": [
    "$E(\\%\\Delta S_{d/f}) = (r_d - r_f) + (Term_d - Term_f) + (Credit_d - Credit_f) + (Equity_d - Equity_f) + (Liquid_d - Liquid_f)$"
   ]
  },
  {
   "cell_type": "markdown",
   "metadata": {},
   "source": [
    "#### 11.4.2 UIP（Uncovered Interest Rate Parity）"
   ]
  },
  {
   "cell_type": "markdown",
   "metadata": {},
   "source": [
    "用利率平价公式来计算：$\\frac{F}{S} = \\frac{(1+r_d)^T}{(1+r_f)^T}$，如果F>S，外币升值，F<S外币贬值"
   ]
  },
  {
   "cell_type": "markdown",
   "metadata": {},
   "source": [
    "### 11.5 Volatility Forecasting"
   ]
  },
  {
   "cell_type": "markdown",
   "metadata": {},
   "source": [
    "#### 11.5.1 VCV类方法"
   ]
  },
  {
   "cell_type": "markdown",
   "metadata": {},
   "source": [
    "variance-covariance matrix方法，有n个sigma和n(n-1)个cov"
   ]
  },
  {
   "cell_type": "markdown",
   "metadata": {},
   "source": [
    "改良后形成Factor-Based VCV☆：$r_i = \\alpha_i + \\sum_{k=1}^K\\beta{i,k}F_K + \\varepsilon_i$"
   ]
  },
  {
   "cell_type": "markdown",
   "metadata": {},
   "source": [
    "优点：简化了VCV计算，不再两两算协方差了，而是找出共性的因子：  \n",
    "缺点：①matrix is biased，模型可能本身有偏差；②matrix is inconsistent，过去不一定能代表将来。"
   ]
  },
  {
   "cell_type": "markdown",
   "metadata": {},
   "source": [
    "#### 11.5.2 Shrinkage Estimate（缩量估计）"
   ]
  },
  {
   "cell_type": "markdown",
   "metadata": {},
   "source": [
    "和BL-moddel一样融入了分析师的观点"
   ]
  },
  {
   "cell_type": "markdown",
   "metadata": {},
   "source": [
    "#### 11.5.3 Smoothed Returns to Estimate Volatility（平滑调整）"
   ]
  },
  {
   "cell_type": "markdown",
   "metadata": {},
   "source": [
    "对于流动性差的资产估计时可能会低估风险，所以这里还要做调整："
   ]
  },
  {
   "cell_type": "markdown",
   "metadata": {},
   "source": [
    "$R_t = (1-\\lambda)r_t + \\lambda R_{t-1}$，其中$r_t$是当前的不可观察的收益率，$R_{t-1}$ 是上一期的"
   ]
  },
  {
   "cell_type": "markdown",
   "metadata": {},
   "source": [
    "$var(r) = \\frac{1+\\lambda}{1-\\lambda}var(R)$，其中由于$\\lambda$大于1小于0，所以$\\frac{1+\\lambda}{1-\\lambda}$也会大于1"
   ]
  },
  {
   "cell_type": "markdown",
   "metadata": {},
   "source": [
    "模型的缺点是真实的回报率不可直接观察，所以用代理的"
   ]
  },
  {
   "cell_type": "markdown",
   "metadata": {},
   "source": [
    "#### 11.5.4 ARCH"
   ]
  },
  {
   "cell_type": "markdown",
   "metadata": {},
   "source": [
    "autoregressive conditional heteroskedasticity自回归条件异方差，之前只是假设波动率和上一期有关  \n",
    "但是后来因为发现波动率有volatility clustering（集群出现）的现象，这种现象就是异方差性  \n",
    "$𝜎_𝑡^2 = 𝛾 + 𝛼𝜎_{𝑡−1}^2 + 𝛽η_𝑡^2$  \n",
    "其中𝛾、𝛼、𝛽非负数，且𝛼+𝛽<1，最后的$𝛽η_𝑡^2$代表异方差导致的额外的波动率"
   ]
  },
  {
   "cell_type": "markdown",
   "metadata": {},
   "source": [
    "### 11.6 Global Portfolio Ajustments（资产组合调整）"
   ]
  },
  {
   "cell_type": "markdown",
   "metadata": {},
   "source": [
    "ST 模型要考虑到市场开放度的问题    \n",
    "要针对组合内的每个国家资产的情况来决定处理，比如经济处于底部时买股卖债  \n",
    "要考虑到政府的财政货币政策和经常账户的情况"
   ]
  }
 ],
 "metadata": {
  "kernelspec": {
   "display_name": "Python 3",
   "language": "python",
   "name": "python3"
  },
  "language_info": {
   "codemirror_mode": {
    "name": "ipython",
    "version": 3
   },
   "file_extension": ".py",
   "mimetype": "text/x-python",
   "name": "python",
   "nbconvert_exporter": "python",
   "pygments_lexer": "ipython3",
   "version": "3.7.3"
  }
 },
 "nbformat": 4,
 "nbformat_minor": 4
}
